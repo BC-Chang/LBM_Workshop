{
  "nbformat": 4,
  "nbformat_minor": 0,
  "metadata": {
    "colab": {
      "provenance": []
    },
    "kernelspec": {
      "name": "python3",
      "display_name": "Python 3"
    },
    "language_info": {
      "name": "python"
    },
    "widgets": {
      "application/vnd.jupyter.widget-state+json": {
        "e9a4c3f9a2994877b7313dd2b26d1db6": {
          "model_module": "@jupyter-widgets/controls",
          "model_name": "VBoxModel",
          "model_module_version": "1.5.0",
          "state": {
            "_dom_classes": [
              "widget-interact"
            ],
            "_model_module": "@jupyter-widgets/controls",
            "_model_module_version": "1.5.0",
            "_model_name": "VBoxModel",
            "_view_count": null,
            "_view_module": "@jupyter-widgets/controls",
            "_view_module_version": "1.5.0",
            "_view_name": "VBoxView",
            "box_style": "",
            "children": [
              "IPY_MODEL_765e149da1444f88b827a36d7f18413a",
              "IPY_MODEL_190dc357b43143e8af2e5b3139dbb613"
            ],
            "layout": "IPY_MODEL_d097c4786c094097b16e5ac262d2e5b6"
          }
        },
        "765e149da1444f88b827a36d7f18413a": {
          "model_module": "@jupyter-widgets/controls",
          "model_name": "DropdownModel",
          "model_module_version": "1.5.0",
          "state": {
            "_dom_classes": [],
            "_model_module": "@jupyter-widgets/controls",
            "_model_module_version": "1.5.0",
            "_model_name": "DropdownModel",
            "_options_labels": [
              "micromodel.tif",
              "bevo.tif",
              "beads.tif"
            ],
            "_view_count": null,
            "_view_module": "@jupyter-widgets/controls",
            "_view_module_version": "1.5.0",
            "_view_name": "DropdownView",
            "description": "dropdown",
            "description_tooltip": null,
            "disabled": false,
            "index": 0,
            "layout": "IPY_MODEL_4d4b55132fed471d8971c6f0d8f35b48",
            "style": "IPY_MODEL_fdf2ce0937e74a6c9845dad3abb28902"
          }
        },
        "190dc357b43143e8af2e5b3139dbb613": {
          "model_module": "@jupyter-widgets/output",
          "model_name": "OutputModel",
          "model_module_version": "1.0.0",
          "state": {
            "_dom_classes": [],
            "_model_module": "@jupyter-widgets/output",
            "_model_module_version": "1.0.0",
            "_model_name": "OutputModel",
            "_view_count": null,
            "_view_module": "@jupyter-widgets/output",
            "_view_module_version": "1.0.0",
            "_view_name": "OutputView",
            "layout": "IPY_MODEL_f68237347bce4da9b72be06a241a0383",
            "msg_id": "",
            "outputs": [
              {
                "output_type": "display_data",
                "data": {
                  "text/plain": "'micromodel.tif'",
                  "application/vnd.google.colaboratory.intrinsic+json": {
                    "type": "string"
                  }
                },
                "metadata": {}
              },
              {
                "output_type": "display_data",
                "data": {
                  "text/plain": "<Figure size 432x288 with 2 Axes>",
                  "image/png": "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\n"
                },
                "metadata": {
                  "needs_background": "light"
                }
              }
            ]
          }
        },
        "d097c4786c094097b16e5ac262d2e5b6": {
          "model_module": "@jupyter-widgets/base",
          "model_name": "LayoutModel",
          "model_module_version": "1.2.0",
          "state": {
            "_model_module": "@jupyter-widgets/base",
            "_model_module_version": "1.2.0",
            "_model_name": "LayoutModel",
            "_view_count": null,
            "_view_module": "@jupyter-widgets/base",
            "_view_module_version": "1.2.0",
            "_view_name": "LayoutView",
            "align_content": null,
            "align_items": null,
            "align_self": null,
            "border": null,
            "bottom": null,
            "display": null,
            "flex": null,
            "flex_flow": null,
            "grid_area": null,
            "grid_auto_columns": null,
            "grid_auto_flow": null,
            "grid_auto_rows": null,
            "grid_column": null,
            "grid_gap": null,
            "grid_row": null,
            "grid_template_areas": null,
            "grid_template_columns": null,
            "grid_template_rows": null,
            "height": null,
            "justify_content": null,
            "justify_items": null,
            "left": null,
            "margin": null,
            "max_height": null,
            "max_width": null,
            "min_height": null,
            "min_width": null,
            "object_fit": null,
            "object_position": null,
            "order": null,
            "overflow": null,
            "overflow_x": null,
            "overflow_y": null,
            "padding": null,
            "right": null,
            "top": null,
            "visibility": null,
            "width": null
          }
        },
        "4d4b55132fed471d8971c6f0d8f35b48": {
          "model_module": "@jupyter-widgets/base",
          "model_name": "LayoutModel",
          "model_module_version": "1.2.0",
          "state": {
            "_model_module": "@jupyter-widgets/base",
            "_model_module_version": "1.2.0",
            "_model_name": "LayoutModel",
            "_view_count": null,
            "_view_module": "@jupyter-widgets/base",
            "_view_module_version": "1.2.0",
            "_view_name": "LayoutView",
            "align_content": null,
            "align_items": null,
            "align_self": null,
            "border": null,
            "bottom": null,
            "display": null,
            "flex": null,
            "flex_flow": null,
            "grid_area": null,
            "grid_auto_columns": null,
            "grid_auto_flow": null,
            "grid_auto_rows": null,
            "grid_column": null,
            "grid_gap": null,
            "grid_row": null,
            "grid_template_areas": null,
            "grid_template_columns": null,
            "grid_template_rows": null,
            "height": null,
            "justify_content": null,
            "justify_items": null,
            "left": null,
            "margin": null,
            "max_height": null,
            "max_width": null,
            "min_height": null,
            "min_width": null,
            "object_fit": null,
            "object_position": null,
            "order": null,
            "overflow": null,
            "overflow_x": null,
            "overflow_y": null,
            "padding": null,
            "right": null,
            "top": null,
            "visibility": null,
            "width": null
          }
        },
        "fdf2ce0937e74a6c9845dad3abb28902": {
          "model_module": "@jupyter-widgets/controls",
          "model_name": "DescriptionStyleModel",
          "model_module_version": "1.5.0",
          "state": {
            "_model_module": "@jupyter-widgets/controls",
            "_model_module_version": "1.5.0",
            "_model_name": "DescriptionStyleModel",
            "_view_count": null,
            "_view_module": "@jupyter-widgets/base",
            "_view_module_version": "1.2.0",
            "_view_name": "StyleView",
            "description_width": ""
          }
        },
        "f68237347bce4da9b72be06a241a0383": {
          "model_module": "@jupyter-widgets/base",
          "model_name": "LayoutModel",
          "model_module_version": "1.2.0",
          "state": {
            "_model_module": "@jupyter-widgets/base",
            "_model_module_version": "1.2.0",
            "_model_name": "LayoutModel",
            "_view_count": null,
            "_view_module": "@jupyter-widgets/base",
            "_view_module_version": "1.2.0",
            "_view_name": "LayoutView",
            "align_content": null,
            "align_items": null,
            "align_self": null,
            "border": null,
            "bottom": null,
            "display": null,
            "flex": null,
            "flex_flow": null,
            "grid_area": null,
            "grid_auto_columns": null,
            "grid_auto_flow": null,
            "grid_auto_rows": null,
            "grid_column": null,
            "grid_gap": null,
            "grid_row": null,
            "grid_template_areas": null,
            "grid_template_columns": null,
            "grid_template_rows": null,
            "height": null,
            "justify_content": null,
            "justify_items": null,
            "left": null,
            "margin": null,
            "max_height": null,
            "max_width": null,
            "min_height": null,
            "min_width": null,
            "object_fit": null,
            "object_position": null,
            "order": null,
            "overflow": null,
            "overflow_x": null,
            "overflow_y": null,
            "padding": null,
            "right": null,
            "top": null,
            "visibility": null,
            "width": null
          }
        },
        "2fb66fb2f649445889bc1c20685e1ea2": {
          "model_module": "@jupyter-widgets/controls",
          "model_name": "VBoxModel",
          "model_module_version": "1.5.0",
          "state": {
            "_dom_classes": [
              "widget-interact"
            ],
            "_model_module": "@jupyter-widgets/controls",
            "_model_module_version": "1.5.0",
            "_model_name": "VBoxModel",
            "_view_count": null,
            "_view_module": "@jupyter-widgets/controls",
            "_view_module_version": "1.5.0",
            "_view_name": "VBoxView",
            "box_style": "",
            "children": [
              "IPY_MODEL_c7472170a74b48b78ee2b8802a8fd4eb",
              "IPY_MODEL_6f27b1a65ec14fdda72b9dd3751cdf1d",
              "IPY_MODEL_dc51a144c3ae4218977b3a1369f5bfaf"
            ],
            "layout": "IPY_MODEL_513b6bb76fd34d1c8050c4ba2d7e036c"
          }
        },
        "c7472170a74b48b78ee2b8802a8fd4eb": {
          "model_module": "@jupyter-widgets/controls",
          "model_name": "FloatSliderModel",
          "model_module_version": "1.5.0",
          "state": {
            "_dom_classes": [],
            "_model_module": "@jupyter-widgets/controls",
            "_model_module_version": "1.5.0",
            "_model_name": "FloatSliderModel",
            "_view_count": null,
            "_view_module": "@jupyter-widgets/controls",
            "_view_module_version": "1.5.0",
            "_view_name": "FloatSliderView",
            "continuous_update": false,
            "description": "Porosity",
            "description_tooltip": null,
            "disabled": false,
            "layout": "IPY_MODEL_2256a55d07df40378f677f7765a01e53",
            "max": 0.86,
            "min": 0.5,
            "orientation": "horizontal",
            "readout": true,
            "readout_format": ".2f",
            "step": 0.01,
            "style": "IPY_MODEL_a8e7563ff0384641a4a6a0b92d1c0874",
            "value": 0.61
          }
        },
        "6f27b1a65ec14fdda72b9dd3751cdf1d": {
          "model_module": "@jupyter-widgets/controls",
          "model_name": "ButtonModel",
          "model_module_version": "1.5.0",
          "state": {
            "_dom_classes": [],
            "_model_module": "@jupyter-widgets/controls",
            "_model_module_version": "1.5.0",
            "_model_name": "ButtonModel",
            "_view_count": null,
            "_view_module": "@jupyter-widgets/controls",
            "_view_module_version": "1.5.0",
            "_view_name": "ButtonView",
            "button_style": "",
            "description": "Run Interact",
            "disabled": false,
            "icon": "",
            "layout": "IPY_MODEL_82aee2998e1849b29f61ca79e50abe8c",
            "style": "IPY_MODEL_3f82d0e809f64737b3b5e611c0173587",
            "tooltip": ""
          }
        },
        "dc51a144c3ae4218977b3a1369f5bfaf": {
          "model_module": "@jupyter-widgets/output",
          "model_name": "OutputModel",
          "model_module_version": "1.0.0",
          "state": {
            "_dom_classes": [],
            "_model_module": "@jupyter-widgets/output",
            "_model_module_version": "1.0.0",
            "_model_name": "OutputModel",
            "_view_count": null,
            "_view_module": "@jupyter-widgets/output",
            "_view_module_version": "1.0.0",
            "_view_name": "OutputView",
            "layout": "IPY_MODEL_f0ecfe24ea4243869885b8fe5896f254",
            "msg_id": "",
            "outputs": [
              {
                "output_type": "display_data",
                "data": {
                  "text/plain": "<Figure size 432x288 with 2 Axes>",
                  "image/png": "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\n"
                },
                "metadata": {
                  "needs_background": "light"
                }
              }
            ]
          }
        },
        "513b6bb76fd34d1c8050c4ba2d7e036c": {
          "model_module": "@jupyter-widgets/base",
          "model_name": "LayoutModel",
          "model_module_version": "1.2.0",
          "state": {
            "_model_module": "@jupyter-widgets/base",
            "_model_module_version": "1.2.0",
            "_model_name": "LayoutModel",
            "_view_count": null,
            "_view_module": "@jupyter-widgets/base",
            "_view_module_version": "1.2.0",
            "_view_name": "LayoutView",
            "align_content": null,
            "align_items": null,
            "align_self": null,
            "border": null,
            "bottom": null,
            "display": null,
            "flex": null,
            "flex_flow": null,
            "grid_area": null,
            "grid_auto_columns": null,
            "grid_auto_flow": null,
            "grid_auto_rows": null,
            "grid_column": null,
            "grid_gap": null,
            "grid_row": null,
            "grid_template_areas": null,
            "grid_template_columns": null,
            "grid_template_rows": null,
            "height": null,
            "justify_content": null,
            "justify_items": null,
            "left": null,
            "margin": null,
            "max_height": null,
            "max_width": null,
            "min_height": null,
            "min_width": null,
            "object_fit": null,
            "object_position": null,
            "order": null,
            "overflow": null,
            "overflow_x": null,
            "overflow_y": null,
            "padding": null,
            "right": null,
            "top": null,
            "visibility": null,
            "width": null
          }
        },
        "2256a55d07df40378f677f7765a01e53": {
          "model_module": "@jupyter-widgets/base",
          "model_name": "LayoutModel",
          "model_module_version": "1.2.0",
          "state": {
            "_model_module": "@jupyter-widgets/base",
            "_model_module_version": "1.2.0",
            "_model_name": "LayoutModel",
            "_view_count": null,
            "_view_module": "@jupyter-widgets/base",
            "_view_module_version": "1.2.0",
            "_view_name": "LayoutView",
            "align_content": null,
            "align_items": null,
            "align_self": null,
            "border": null,
            "bottom": null,
            "display": null,
            "flex": null,
            "flex_flow": null,
            "grid_area": null,
            "grid_auto_columns": null,
            "grid_auto_flow": null,
            "grid_auto_rows": null,
            "grid_column": null,
            "grid_gap": null,
            "grid_row": null,
            "grid_template_areas": null,
            "grid_template_columns": null,
            "grid_template_rows": null,
            "height": null,
            "justify_content": null,
            "justify_items": null,
            "left": null,
            "margin": null,
            "max_height": null,
            "max_width": null,
            "min_height": null,
            "min_width": null,
            "object_fit": null,
            "object_position": null,
            "order": null,
            "overflow": null,
            "overflow_x": null,
            "overflow_y": null,
            "padding": null,
            "right": null,
            "top": null,
            "visibility": null,
            "width": null
          }
        },
        "a8e7563ff0384641a4a6a0b92d1c0874": {
          "model_module": "@jupyter-widgets/controls",
          "model_name": "SliderStyleModel",
          "model_module_version": "1.5.0",
          "state": {
            "_model_module": "@jupyter-widgets/controls",
            "_model_module_version": "1.5.0",
            "_model_name": "SliderStyleModel",
            "_view_count": null,
            "_view_module": "@jupyter-widgets/base",
            "_view_module_version": "1.2.0",
            "_view_name": "StyleView",
            "description_width": "",
            "handle_color": null
          }
        },
        "82aee2998e1849b29f61ca79e50abe8c": {
          "model_module": "@jupyter-widgets/base",
          "model_name": "LayoutModel",
          "model_module_version": "1.2.0",
          "state": {
            "_model_module": "@jupyter-widgets/base",
            "_model_module_version": "1.2.0",
            "_model_name": "LayoutModel",
            "_view_count": null,
            "_view_module": "@jupyter-widgets/base",
            "_view_module_version": "1.2.0",
            "_view_name": "LayoutView",
            "align_content": null,
            "align_items": null,
            "align_self": null,
            "border": null,
            "bottom": null,
            "display": null,
            "flex": null,
            "flex_flow": null,
            "grid_area": null,
            "grid_auto_columns": null,
            "grid_auto_flow": null,
            "grid_auto_rows": null,
            "grid_column": null,
            "grid_gap": null,
            "grid_row": null,
            "grid_template_areas": null,
            "grid_template_columns": null,
            "grid_template_rows": null,
            "height": null,
            "justify_content": null,
            "justify_items": null,
            "left": null,
            "margin": null,
            "max_height": null,
            "max_width": null,
            "min_height": null,
            "min_width": null,
            "object_fit": null,
            "object_position": null,
            "order": null,
            "overflow": null,
            "overflow_x": null,
            "overflow_y": null,
            "padding": null,
            "right": null,
            "top": null,
            "visibility": null,
            "width": null
          }
        },
        "3f82d0e809f64737b3b5e611c0173587": {
          "model_module": "@jupyter-widgets/controls",
          "model_name": "ButtonStyleModel",
          "model_module_version": "1.5.0",
          "state": {
            "_model_module": "@jupyter-widgets/controls",
            "_model_module_version": "1.5.0",
            "_model_name": "ButtonStyleModel",
            "_view_count": null,
            "_view_module": "@jupyter-widgets/base",
            "_view_module_version": "1.2.0",
            "_view_name": "StyleView",
            "button_color": null,
            "font_weight": ""
          }
        },
        "f0ecfe24ea4243869885b8fe5896f254": {
          "model_module": "@jupyter-widgets/base",
          "model_name": "LayoutModel",
          "model_module_version": "1.2.0",
          "state": {
            "_model_module": "@jupyter-widgets/base",
            "_model_module_version": "1.2.0",
            "_model_name": "LayoutModel",
            "_view_count": null,
            "_view_module": "@jupyter-widgets/base",
            "_view_module_version": "1.2.0",
            "_view_name": "LayoutView",
            "align_content": null,
            "align_items": null,
            "align_self": null,
            "border": null,
            "bottom": null,
            "display": null,
            "flex": null,
            "flex_flow": null,
            "grid_area": null,
            "grid_auto_columns": null,
            "grid_auto_flow": null,
            "grid_auto_rows": null,
            "grid_column": null,
            "grid_gap": null,
            "grid_row": null,
            "grid_template_areas": null,
            "grid_template_columns": null,
            "grid_template_rows": null,
            "height": null,
            "justify_content": null,
            "justify_items": null,
            "left": null,
            "margin": null,
            "max_height": null,
            "max_width": null,
            "min_height": null,
            "min_width": null,
            "object_fit": null,
            "object_position": null,
            "order": null,
            "overflow": null,
            "overflow_x": null,
            "overflow_y": null,
            "padding": null,
            "right": null,
            "top": null,
            "visibility": null,
            "width": null
          }
        },
        "f4d7dd06d0a04141841a42aa55016b07": {
          "model_module": "@jupyter-widgets/controls",
          "model_name": "VBoxModel",
          "model_module_version": "1.5.0",
          "state": {
            "_dom_classes": [
              "widget-interact"
            ],
            "_model_module": "@jupyter-widgets/controls",
            "_model_module_version": "1.5.0",
            "_model_name": "VBoxModel",
            "_view_count": null,
            "_view_module": "@jupyter-widgets/controls",
            "_view_module_version": "1.5.0",
            "_view_name": "VBoxView",
            "box_style": "",
            "children": [
              "IPY_MODEL_86b8b401a0df4038a59b9119136ab817",
              "IPY_MODEL_78a9f2b843d147fdbdc92318435e41ef",
              "IPY_MODEL_30982182cb324286a0e15564d76f40f1",
              "IPY_MODEL_9409448420fd486d9553c0f8e318a24d"
            ],
            "layout": "IPY_MODEL_7df4099d6f3f42ad95e99523dbfc2660"
          }
        },
        "86b8b401a0df4038a59b9119136ab817": {
          "model_module": "@jupyter-widgets/controls",
          "model_name": "IntSliderModel",
          "model_module_version": "1.5.0",
          "state": {
            "_dom_classes": [],
            "_model_module": "@jupyter-widgets/controls",
            "_model_module_version": "1.5.0",
            "_model_name": "IntSliderModel",
            "_view_count": null,
            "_view_module": "@jupyter-widgets/controls",
            "_view_module_version": "1.5.0",
            "_view_name": "IntSliderView",
            "continuous_update": true,
            "description": "roll_x_dir",
            "description_tooltip": null,
            "disabled": false,
            "layout": "IPY_MODEL_d44b676ab04049eab666188464899efe",
            "max": 1,
            "min": -1,
            "orientation": "horizontal",
            "readout": true,
            "readout_format": "d",
            "step": 1,
            "style": "IPY_MODEL_73f837942f1f489e910d93e913064605",
            "value": 1
          }
        },
        "78a9f2b843d147fdbdc92318435e41ef": {
          "model_module": "@jupyter-widgets/controls",
          "model_name": "IntSliderModel",
          "model_module_version": "1.5.0",
          "state": {
            "_dom_classes": [],
            "_model_module": "@jupyter-widgets/controls",
            "_model_module_version": "1.5.0",
            "_model_name": "IntSliderModel",
            "_view_count": null,
            "_view_module": "@jupyter-widgets/controls",
            "_view_module_version": "1.5.0",
            "_view_name": "IntSliderView",
            "continuous_update": true,
            "description": "roll_y_dir",
            "description_tooltip": null,
            "disabled": false,
            "layout": "IPY_MODEL_e218a417fc5547cfb403a46e079ef98d",
            "max": 1,
            "min": -1,
            "orientation": "horizontal",
            "readout": true,
            "readout_format": "d",
            "step": 1,
            "style": "IPY_MODEL_047cffeb1a9247df9c93acfacde6d6fe",
            "value": 1
          }
        },
        "30982182cb324286a0e15564d76f40f1": {
          "model_module": "@jupyter-widgets/controls",
          "model_name": "ButtonModel",
          "model_module_version": "1.5.0",
          "state": {
            "_dom_classes": [],
            "_model_module": "@jupyter-widgets/controls",
            "_model_module_version": "1.5.0",
            "_model_name": "ButtonModel",
            "_view_count": null,
            "_view_module": "@jupyter-widgets/controls",
            "_view_module_version": "1.5.0",
            "_view_name": "ButtonView",
            "button_style": "",
            "description": "Run Interact",
            "disabled": false,
            "icon": "",
            "layout": "IPY_MODEL_4b2a253a160e4a73aba583f2635bba97",
            "style": "IPY_MODEL_b24dec1cf2f747c28e004b2e26f6f300",
            "tooltip": ""
          }
        },
        "9409448420fd486d9553c0f8e318a24d": {
          "model_module": "@jupyter-widgets/output",
          "model_name": "OutputModel",
          "model_module_version": "1.0.0",
          "state": {
            "_dom_classes": [],
            "_model_module": "@jupyter-widgets/output",
            "_model_module_version": "1.0.0",
            "_model_name": "OutputModel",
            "_view_count": null,
            "_view_module": "@jupyter-widgets/output",
            "_view_module_version": "1.0.0",
            "_view_name": "OutputView",
            "layout": "IPY_MODEL_b8b59827964c48ebb0c2b4fee25337ac",
            "msg_id": "",
            "outputs": [
              {
                "output_type": "display_data",
                "data": {
                  "text/plain": "<Figure size 640x480 with 1 Axes>",
                  "image/png": "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\n"
                },
                "metadata": {}
              }
            ]
          }
        },
        "7df4099d6f3f42ad95e99523dbfc2660": {
          "model_module": "@jupyter-widgets/base",
          "model_name": "LayoutModel",
          "model_module_version": "1.2.0",
          "state": {
            "_model_module": "@jupyter-widgets/base",
            "_model_module_version": "1.2.0",
            "_model_name": "LayoutModel",
            "_view_count": null,
            "_view_module": "@jupyter-widgets/base",
            "_view_module_version": "1.2.0",
            "_view_name": "LayoutView",
            "align_content": null,
            "align_items": null,
            "align_self": null,
            "border": null,
            "bottom": null,
            "display": null,
            "flex": null,
            "flex_flow": null,
            "grid_area": null,
            "grid_auto_columns": null,
            "grid_auto_flow": null,
            "grid_auto_rows": null,
            "grid_column": null,
            "grid_gap": null,
            "grid_row": null,
            "grid_template_areas": null,
            "grid_template_columns": null,
            "grid_template_rows": null,
            "height": null,
            "justify_content": null,
            "justify_items": null,
            "left": null,
            "margin": null,
            "max_height": null,
            "max_width": null,
            "min_height": null,
            "min_width": null,
            "object_fit": null,
            "object_position": null,
            "order": null,
            "overflow": null,
            "overflow_x": null,
            "overflow_y": null,
            "padding": null,
            "right": null,
            "top": null,
            "visibility": null,
            "width": null
          }
        },
        "d44b676ab04049eab666188464899efe": {
          "model_module": "@jupyter-widgets/base",
          "model_name": "LayoutModel",
          "model_module_version": "1.2.0",
          "state": {
            "_model_module": "@jupyter-widgets/base",
            "_model_module_version": "1.2.0",
            "_model_name": "LayoutModel",
            "_view_count": null,
            "_view_module": "@jupyter-widgets/base",
            "_view_module_version": "1.2.0",
            "_view_name": "LayoutView",
            "align_content": null,
            "align_items": null,
            "align_self": null,
            "border": null,
            "bottom": null,
            "display": null,
            "flex": null,
            "flex_flow": null,
            "grid_area": null,
            "grid_auto_columns": null,
            "grid_auto_flow": null,
            "grid_auto_rows": null,
            "grid_column": null,
            "grid_gap": null,
            "grid_row": null,
            "grid_template_areas": null,
            "grid_template_columns": null,
            "grid_template_rows": null,
            "height": null,
            "justify_content": null,
            "justify_items": null,
            "left": null,
            "margin": null,
            "max_height": null,
            "max_width": null,
            "min_height": null,
            "min_width": null,
            "object_fit": null,
            "object_position": null,
            "order": null,
            "overflow": null,
            "overflow_x": null,
            "overflow_y": null,
            "padding": null,
            "right": null,
            "top": null,
            "visibility": null,
            "width": null
          }
        },
        "73f837942f1f489e910d93e913064605": {
          "model_module": "@jupyter-widgets/controls",
          "model_name": "SliderStyleModel",
          "model_module_version": "1.5.0",
          "state": {
            "_model_module": "@jupyter-widgets/controls",
            "_model_module_version": "1.5.0",
            "_model_name": "SliderStyleModel",
            "_view_count": null,
            "_view_module": "@jupyter-widgets/base",
            "_view_module_version": "1.2.0",
            "_view_name": "StyleView",
            "description_width": "",
            "handle_color": null
          }
        },
        "e218a417fc5547cfb403a46e079ef98d": {
          "model_module": "@jupyter-widgets/base",
          "model_name": "LayoutModel",
          "model_module_version": "1.2.0",
          "state": {
            "_model_module": "@jupyter-widgets/base",
            "_model_module_version": "1.2.0",
            "_model_name": "LayoutModel",
            "_view_count": null,
            "_view_module": "@jupyter-widgets/base",
            "_view_module_version": "1.2.0",
            "_view_name": "LayoutView",
            "align_content": null,
            "align_items": null,
            "align_self": null,
            "border": null,
            "bottom": null,
            "display": null,
            "flex": null,
            "flex_flow": null,
            "grid_area": null,
            "grid_auto_columns": null,
            "grid_auto_flow": null,
            "grid_auto_rows": null,
            "grid_column": null,
            "grid_gap": null,
            "grid_row": null,
            "grid_template_areas": null,
            "grid_template_columns": null,
            "grid_template_rows": null,
            "height": null,
            "justify_content": null,
            "justify_items": null,
            "left": null,
            "margin": null,
            "max_height": null,
            "max_width": null,
            "min_height": null,
            "min_width": null,
            "object_fit": null,
            "object_position": null,
            "order": null,
            "overflow": null,
            "overflow_x": null,
            "overflow_y": null,
            "padding": null,
            "right": null,
            "top": null,
            "visibility": null,
            "width": null
          }
        },
        "047cffeb1a9247df9c93acfacde6d6fe": {
          "model_module": "@jupyter-widgets/controls",
          "model_name": "SliderStyleModel",
          "model_module_version": "1.5.0",
          "state": {
            "_model_module": "@jupyter-widgets/controls",
            "_model_module_version": "1.5.0",
            "_model_name": "SliderStyleModel",
            "_view_count": null,
            "_view_module": "@jupyter-widgets/base",
            "_view_module_version": "1.2.0",
            "_view_name": "StyleView",
            "description_width": "",
            "handle_color": null
          }
        },
        "4b2a253a160e4a73aba583f2635bba97": {
          "model_module": "@jupyter-widgets/base",
          "model_name": "LayoutModel",
          "model_module_version": "1.2.0",
          "state": {
            "_model_module": "@jupyter-widgets/base",
            "_model_module_version": "1.2.0",
            "_model_name": "LayoutModel",
            "_view_count": null,
            "_view_module": "@jupyter-widgets/base",
            "_view_module_version": "1.2.0",
            "_view_name": "LayoutView",
            "align_content": null,
            "align_items": null,
            "align_self": null,
            "border": null,
            "bottom": null,
            "display": null,
            "flex": null,
            "flex_flow": null,
            "grid_area": null,
            "grid_auto_columns": null,
            "grid_auto_flow": null,
            "grid_auto_rows": null,
            "grid_column": null,
            "grid_gap": null,
            "grid_row": null,
            "grid_template_areas": null,
            "grid_template_columns": null,
            "grid_template_rows": null,
            "height": null,
            "justify_content": null,
            "justify_items": null,
            "left": null,
            "margin": null,
            "max_height": null,
            "max_width": null,
            "min_height": null,
            "min_width": null,
            "object_fit": null,
            "object_position": null,
            "order": null,
            "overflow": null,
            "overflow_x": null,
            "overflow_y": null,
            "padding": null,
            "right": null,
            "top": null,
            "visibility": null,
            "width": null
          }
        },
        "b24dec1cf2f747c28e004b2e26f6f300": {
          "model_module": "@jupyter-widgets/controls",
          "model_name": "ButtonStyleModel",
          "model_module_version": "1.5.0",
          "state": {
            "_model_module": "@jupyter-widgets/controls",
            "_model_module_version": "1.5.0",
            "_model_name": "ButtonStyleModel",
            "_view_count": null,
            "_view_module": "@jupyter-widgets/base",
            "_view_module_version": "1.2.0",
            "_view_name": "StyleView",
            "button_color": null,
            "font_weight": ""
          }
        },
        "b8b59827964c48ebb0c2b4fee25337ac": {
          "model_module": "@jupyter-widgets/base",
          "model_name": "LayoutModel",
          "model_module_version": "1.2.0",
          "state": {
            "_model_module": "@jupyter-widgets/base",
            "_model_module_version": "1.2.0",
            "_model_name": "LayoutModel",
            "_view_count": null,
            "_view_module": "@jupyter-widgets/base",
            "_view_module_version": "1.2.0",
            "_view_name": "LayoutView",
            "align_content": null,
            "align_items": null,
            "align_self": null,
            "border": null,
            "bottom": null,
            "display": null,
            "flex": null,
            "flex_flow": null,
            "grid_area": null,
            "grid_auto_columns": null,
            "grid_auto_flow": null,
            "grid_auto_rows": null,
            "grid_column": null,
            "grid_gap": null,
            "grid_row": null,
            "grid_template_areas": null,
            "grid_template_columns": null,
            "grid_template_rows": null,
            "height": "350px",
            "justify_content": null,
            "justify_items": null,
            "left": null,
            "margin": null,
            "max_height": null,
            "max_width": null,
            "min_height": null,
            "min_width": null,
            "object_fit": null,
            "object_position": null,
            "order": null,
            "overflow": null,
            "overflow_x": null,
            "overflow_y": null,
            "padding": null,
            "right": null,
            "top": null,
            "visibility": null,
            "width": null
          }
        }
      }
    },
    "gpuClass": "standard",
    "accelerator": "GPU"
  },
  "cells": [
    {
      "cell_type": "markdown",
      "source": [
        "# 2D LBM Workshop\n",
        "### Dr. Masa Prodanovic and Bernard Chang\n",
        "\n",
        "\n",
        "In this first hands-on activity, we will demonstrate the general algorithm used to perform single phase lattice Boltzmann simulations. The ultimate goal of this exercise is to calculate the velocity field through a given medium. From there, we will demonstrate some visualizations of the velocity field and obtain a value for the permeability through this domain. This example is performed on a 2-dimensional lattice with 9 discrete velocities (D2Q9).\n",
        "\n",
        "Before we get started, let's import some packages\n"
      ],
      "metadata": {
        "id": "N-k4vBB36_sw",
        "pycharm": {
          "name": "#%% md\n"
        }
      }
    },
    {
      "cell_type": "code",
      "execution_count": null,
      "metadata": {
        "id": "t7Wpd3A46qjp",
        "pycharm": {
          "name": "#%%\n"
        }
      },
      "outputs": [],
      "source": [
        "#@title Import Packages\n",
        "%%capture\n",
        "import numpy as np\n",
        "import matplotlib.pyplot as plt\n",
        "import scipy as sc\n",
        "import tifffile\n",
        "\n",
        "# Porespy for generating domains\n",
        "try:\n",
        "  import porespy as ps\n",
        "except:\n",
        "  !pip install -q porespy==2.2.2\n",
        "  import porespy as ps\n",
        "\n",
        "from skimage.measure import regionprops,label\n",
        "\n",
        "import sys\n",
        "import os\n",
        "from tqdm import tqdm\n",
        "\n",
        "try:\n",
        "  os.chdir(\"./LBM_Workshop\")\n",
        "  # sys.path.append(\"./LBM_Workshop/\")\n",
        "except:\n",
        "  !git clone https://github.com/BC-Chang/LBM_Workshop.git\n",
        "  os.chdir(\"./LBM_Workshop\")\n",
        "\n",
        "from plotting_utils import plot_profile, plot_quiver, plot_streamlines\n",
        "\n",
        "# Import a timer\n",
        "from time import perf_counter_ns, sleep\n",
        "\n",
        "# Import ipywidgets\n",
        "import ipywidgets as widgets\n",
        "from ipywidgets import interact, interact_manual, interactive\n",
        "from IPython.display import display, clear_output\n",
        "\n",
        "import torch\n"
      ]
    },
    {
      "cell_type": "markdown",
      "source": [
        "## A Step-by-Step Introduction to the Lattice Boltzmann Method\n",
        "\n",
        "### Background\n",
        "The fundamental variable in **kinetic theory**, on which LBM is based, is the particle distribution function $f$. LBM tracks the distribution of molecules using $f$ in the Boltzmann equation.\n",
        "\n",
        "Conceptually, LBM models the probability of molecules having a certain position and velocity (or momentum) over time subject to molecular diffusion, external forces, and molecular collisions.\n",
        "\n",
        "The distribution function, $f$, is also related to macroscopic variables such as density, $\\rho$ and fluid velocity, $u$ through its **moments**. These moments are integrals of $f$, weighted with some function of particale velocity, $\\xi$.\n",
        "\n",
        "For example, the macroscopic mass density can be found as:\n",
        "$$\\rho(x, t) = \\int f(x,\\xi,t)d^3\\xi.$$\n",
        "\n",
        "Similarly, the momentum density is,\n",
        "$$\\rho(x, t)u(x,t) = \\int \\xi f(x, \\xi, t)d^3\\xi.$$\n",
        "\n",
        "\n",
        "In LBM, we deal with the *discrete-velocity distribution function, $f_i(x, t)$*. The mass density, $\\rho$, and the momentum density, $u$, are found through the weighted sums (moments) of $f_i$:\n",
        "$$\\rho = \\sum f_i(x, t),$$\n",
        "and\n",
        "$$\\rho u(x,t) = \\sum c_i f_i(x, t),$$\n",
        "\n",
        "where $c_i$ is a discrete set of velocities discussed below."
      ],
      "metadata": {
        "id": "AhhZnkWEmaef"
      }
    },
    {
      "cell_type": "markdown",
      "source": [
        "### Defining our Lattice\n",
        "\n",
        "For this exercise, we will use a 2-dimensional lattice with 9 discrete velocities (D2Q9). This means, that in every grid space, there are 9 possible connections — North, South, East, West, 4 diagonal connections and 1 connection from the node itself, representing zero velocity.\n",
        "\n",
        "Each lattice direction also has a weight, $w_i$ associated with it. For D2Q9 LBM, these will be:\n",
        "\n",
        "<img src='https://github.com/BC-Chang/LBM_Workshop/blob/master/figures/d2q9.png?raw=true' height=\"400\">\n",
        "\n",
        "\n",
        "In the following cell, we will initialize these velocity directions and their weights.\n"
      ],
      "metadata": {
        "id": "Jmz6WdbHvCxN"
      }
    },
    {
      "cell_type": "code",
      "source": [
        "def initialize_weights():\n",
        "\n",
        "  # Define lattice velocity vectors\n",
        "  ex = np.array([0, 1, 0, -1, 0, 1, -1, -1, 1], dtype=np.double)\n",
        "  ey = np.array([0, 0, 1, 0, -1, 1, 1, -1, -1], dtype=np.double)\n",
        "\n",
        "\n",
        "  # Define weights\n",
        "  w_i = np.array([4./9.,\n",
        "                  1./9.,\n",
        "                  1./9.,\n",
        "                  1./9.,\n",
        "                  1./9.,\n",
        "                  1./36.,\n",
        "                  1./36.,\n",
        "                  1./36.,\n",
        "                  1./36.], dtype=np.double)\n",
        "\n",
        "  return ex, ey, w_i"
      ],
      "metadata": {
        "id": "Kkk4fy-dAVR4"
      },
      "execution_count": null,
      "outputs": []
    },
    {
      "cell_type": "markdown",
      "source": [
        "<!-- The fundamental variable in **kinetic theory**, on which LBM is based, is the particle distribution function $f(x, \\xi, t)$. It simultaneously represents mass density in physical space and in velocity space. In other words, $f$ represents the density of particles with particle velocity, $\\xi$, at position $x$ and time $t$\n",
        "\n",
        "The distribution function, $f$, is also related to macroscopic variables such as density, $\\rho$ and fluid velocity, $u$ through its **moments**. These moments are integrals of $f$, weighted with some function of $\\xi$. For example, the macroscopic mass density can be found as:\n",
        "$$\\rho(x, t) = \\int f(x,\\xi,t)d^3\\xi.$$\n",
        "\n",
        "Similarly, the momentum density is,\n",
        "$$\\rho(x, t)u(x,t) = \\int \\xi f(x, \\xi, t)d^3\\xi.$$ -->\n",
        "\n",
        "### Obtaining Macroscopic Properties\n",
        "\n",
        "Recall  that macroscopic properties, such as mass and momentum density can be can be obtained from the weighted sum (moments) of the *discrete-velocity distribution function, $f_i(x, t)$*\n",
        "<!-- In LBM, we deal with the *discrete-velocity distribution function, $f_i(x, t)$*. The mass density, $\\rho$, and the momentum density, $u$, are found through the weighted sums (moments) of $f_i$: -->\n",
        "$$\\rho = \\sum f_i(x, t),$$\n",
        "and\n",
        "$$\\rho u(x,t) = \\sum c_i f_i(x, t),$$\n",
        "\n",
        "where $c_i$ is a discrete set of particle velocities.\n"
      ],
      "metadata": {
        "id": "yLwoKN28CEPv"
      }
    },
    {
      "cell_type": "code",
      "source": [
        "def macroscopic(f, fx, fy, ex, ey, nx, ny):\n",
        "\n",
        "  device = torch.device('cuda' if torch.cuda.is_available() else 'cpu')\n",
        "\n",
        "  # Initialize outputs to 0s\n",
        "  u_x = torch.zeros((nx, ny), dtype=torch.float64).to(device)\n",
        "  u_y = torch.zeros((nx, ny), dtype=torch.float64).to(device)\n",
        "  rho = torch.zeros((nx, ny), dtype=torch.float64).to(device)\n",
        "\n",
        "  # Calculate macroscopic properties from moments. Only calculate where there are fluid nodes\n",
        "  # Density\n",
        "  rho[fx, fy] += torch.sum(f[:, fx, fy], axis=0)\n",
        "\n",
        "  # Velocity\n",
        "  u_x[fx, fy] += torch.sum(ex[:, None] * f[:, fx, fy], axis=0)\n",
        "  u_y[fx, fy] += torch.sum(ey[:, None] * f[:, fx, fy], axis=0)\n",
        "  u_x[fx, fy] = u_x[fx, fy] / rho[fx, fy]\n",
        "  u_y[fx, fy] = u_y[fx, fy] / rho[fx, fy]\n",
        "\n",
        "  return rho, u_x, u_y\n"
      ],
      "metadata": {
        "id": "Ga7pdr-oehnh"
      },
      "execution_count": null,
      "outputs": []
    },
    {
      "cell_type": "markdown",
      "source": [
        "### Equilibrium Calculation\n",
        "\n",
        "Recall the *lattice Boltzmann equation* from the discretization of the Boltzmann equation:\n",
        "$$f_i(x + c_i\\Delta t, t + \\Delta t) = f_i(x, t) + \\Omega_i(x, t)$$\n",
        "\n",
        "This shows that the particles $f_i(x,t)$ move with velocity $c_i$ to a neighboring node. At the same time, the movement of particles is affected by the collision operator, $\\Omega_i$.\n",
        "\n",
        "After particles collide, we may assume that $f_i$ will reach an equilibrium distribution, $f^{eq}$. This equilibrium is given by:\n",
        "\n",
        "$$ f_i^{eq}(x, t) = w_i \\rho \\left(1 + \\frac{u \\cdot c_i}{c_s^2} + \\frac{(u \\cdot c_i)^2}{2c_s^4} - \\frac{u \\cdot u}{2c_s^2} \\right).$$\n",
        "\n",
        "In the isothermal lattice Boltzmann equation, $c_s$ determines the relationship between pressure and density as $p = c_s^2 \\rho$. It can be shown that $c_s$ represents the model's *speed of sound*. In all velocity sets that we will deal with today, $$c_s^2 = (1/3)\\Delta x^2 / \\Delta t^2.$$\n",
        "\n",
        "We typically operate in lattice units where $\\Delta x = \\Delta t = 1$. Therefore, the equilibrium distribution function can be simplified to\n",
        "\n",
        "$$ f_i^{eq}(x, t) = w_i \\rho \\left(1 + 3(u \\cdot c_i) + \\frac{9}{2}(u \\cdot c_i)^2 - \\frac{3}{2} (u \\cdot u) \\right).$$\n",
        "\n"
      ],
      "metadata": {
        "id": "rC4_zbUP4ibV"
      }
    },
    {
      "cell_type": "code",
      "source": [
        "def equilibrium(rho, ux, uy, ex, ey, w_i, nx, ny, fx, fy, tau, g):\n",
        "  device = torch.device('cuda' if torch.cuda.is_available() else 'cpu')\n",
        "\n",
        "  # Extract only fluid nodes and add forcing to velocity\n",
        "  ux = ux[fx, fy] + tau*g\n",
        "  uy = uy[fx, fy]\n",
        "\n",
        "  feq = torch.zeros((9, nx, ny), dtype=torch.float64).to(device)\n",
        "\n",
        "  for i in range(9):\n",
        "    # Compute 2nd term in parenthesis of feq equation above\n",
        "    uc = ex[i]*ux + ey[i]*uy\n",
        "    feq[i, fx, fy] = rho[fx, fy] * w_i[i] * (1 + 3*uc + (9./2.)*uc**2 - (3./2.)*(ux**2 + uy**2))\n",
        "\n",
        "  return feq"
      ],
      "metadata": {
        "id": "G2wlwj-ffyKS"
      },
      "execution_count": null,
      "outputs": []
    },
    {
      "cell_type": "markdown",
      "source": [
        "### Collision Step\n",
        "\n",
        "LBM simulations can be boiled down to two main steps: **collision** and **streaming**.\n",
        "\n",
        "A simple, and widely-used collision operator, and the one we will use for this exercise, is the Bhatnagar-Gross-Krook (BGK) operator:\n",
        "\n",
        "$$\\Omega_i(f) = -\\frac{f_i - f_i^{eq}}{\\tau} \\Delta t.$$\n",
        "\n",
        "This operator describes how the molecular collisions relax $f_i$ toward equilibrium ($f_i^{eq}$) at a rate determined by the characteristic relaxation time $\\tau$.\n",
        "\n",
        "#### Bounceback Boundary Condition\n",
        "\n",
        "In this exercise, we assume no slip boundary conditions at solid node boundaries. We implement this using the bounceback method.\n",
        "\n",
        "<img src='https://www.researchgate.net/profile/Robert-Bialik/publication/258843003/figure/fig1/AS:392599690072074@1470614468708/No-slip-boundary-condition-bounce-back-boundary-condition-for-the-collision-with-the.png' height='300'>"
      ],
      "metadata": {
        "id": "dypCm0NNumzO"
      }
    },
    {
      "cell_type": "code",
      "source": [
        "def collision(f, feq, tau, sx, sy, fx, fy):\n",
        "    # Standard Bounceback for Solid Nodes\n",
        "    # Left-Right\n",
        "    f[1, sx, sy], f[3, sx, sy] = f[3, sx, sy], f[1, sx, sy]\n",
        "\n",
        "    # Up-Down\n",
        "    f[2, sx, sy], f[4, sx, sy] = f[4, sx, sy], f[2, sx, sy]\n",
        "\n",
        "    # Top Right - Bottom Left\n",
        "    f[5, sx, sy], f[7, sx, sy] = f[7, sx, sy], f[5, sx, sy]\n",
        "\n",
        "    # Top Left - Bottom Right\n",
        "    f[6, sx, sy], f[8, sx, sy]  = f[8, sx, sy], f[6, sx, sy]\n",
        "\n",
        "    # Regular collision in fluid nodes\n",
        "    f[:, fx, fy] -= (f[:, fx, fy] - feq[:, fx, fy]) / tau\n",
        "\n",
        "    return f"
      ],
      "metadata": {
        "id": "ejZYOzB11hGS"
      },
      "execution_count": null,
      "outputs": []
    },
    {
      "cell_type": "markdown",
      "source": [
        "### Streaming Step\n",
        "\n",
        "The other main step in simulations is the streaming step. This simply means that particles will move to a neighboring node with velocity $c_i$.\n",
        "\n",
        "In practice, we just need to ensure that we implement the streaming step in such a way that we do not overwrite data that we will need later. In Python, we can use the function ```numpy.roll()```.\n",
        "\n",
        "In the following cell, we visualize how the ```numpy.roll()``` function operates:"
      ],
      "metadata": {
        "id": "QlSB01xhum7a"
      }
    },
    {
      "cell_type": "code",
      "source": [
        "def roll_visualization(roll_x_dir, roll_y_dir):\n",
        "\n",
        "  field_x = np.ones((100, 100))\n",
        "  linear = np.linspace(0, 99, 100)\n",
        "  field_x *= linear\n",
        "\n",
        "  field_y = field_x.copy().T\n",
        "\n",
        "  field = field_x + field_y\n",
        "  plt.imshow(field)\n",
        "  plt.gca().invert_yaxis()\n",
        "  plt.show()\n",
        "\n",
        "  for i in range(201):\n",
        "    field = np.roll(field, (roll_x_dir, roll_y_dir), axis=(1, 0))\n",
        "    if i % 5 == 0:\n",
        "      sleep(0.005)\n",
        "      clear_output(wait=True)\n",
        "      plt.imshow(field)\n",
        "      plt.gca().invert_yaxis()\n",
        "      plt.show()\n",
        "\n",
        "  # display(roll_x, roll_y)\n",
        "\n",
        "roll_x = widgets.IntSlider(value=0, min=-1, max=1, description='x_direction', continuous_update=False)\n",
        "roll_y = widgets.IntSlider(value=0, min=-1, max=1, description='y_direction', continuous_update=False)\n",
        "\n",
        "interactive_plot = widgets.interactive(roll_visualization, {'manual': True},\n",
        "                                       roll_x_dir=widgets.IntSlider(min=-1, max=1),\n",
        "                                       roll_y_dir=widgets.IntSlider(min=-1, max=1))\n",
        "output = interactive_plot.children[-1]\n",
        "output.layout.height = '350px'\n",
        "interactive_plot"
      ],
      "metadata": {
        "id": "tuR-uCq64d3I",
        "outputId": "e4bc98f7-dbe3-4ded-ed6c-bad60f1261bc",
        "colab": {
          "base_uri": "https://localhost:8080/",
          "height": 463,
          "referenced_widgets": [
            "f4d7dd06d0a04141841a42aa55016b07",
            "86b8b401a0df4038a59b9119136ab817",
            "78a9f2b843d147fdbdc92318435e41ef",
            "30982182cb324286a0e15564d76f40f1",
            "9409448420fd486d9553c0f8e318a24d",
            "7df4099d6f3f42ad95e99523dbfc2660",
            "d44b676ab04049eab666188464899efe",
            "73f837942f1f489e910d93e913064605",
            "e218a417fc5547cfb403a46e079ef98d",
            "047cffeb1a9247df9c93acfacde6d6fe",
            "4b2a253a160e4a73aba583f2635bba97",
            "b24dec1cf2f747c28e004b2e26f6f300",
            "b8b59827964c48ebb0c2b4fee25337ac"
          ]
        }
      },
      "execution_count": null,
      "outputs": [
        {
          "output_type": "display_data",
          "data": {
            "text/plain": [
              "interactive(children=(IntSlider(value=0, description='roll_x_dir', max=1, min=-1), IntSlider(value=0, descript…"
            ],
            "application/vnd.jupyter.widget-view+json": {
              "version_major": 2,
              "version_minor": 0,
              "model_id": "f4d7dd06d0a04141841a42aa55016b07"
            }
          },
          "metadata": {}
        }
      ]
    },
    {
      "cell_type": "markdown",
      "source": [
        "### Putting it all together\n",
        "\n",
        "Putting the above steps into a time loop will give us our first simulator!\n",
        "\n",
        "Our first example will be simulating the flow around a cylinder, known as the Karman vortex street — considered a \"Hello, World!\" of LBM simulations.\n",
        "\n",
        "We first setup our simulation by initializing:\n",
        "1. Parameters, including:\n",
        "  - Relaxation Time\n",
        "  - Force\n",
        "  - Average density\n",
        "  - Convergence metrics\n",
        "\n",
        "2. Velocity vectors and weights\n",
        "3. Domain to keep track of fluid and solid nodes\n",
        "\n",
        "Our time loop then contains the following steps:\n",
        "\n",
        "<center><img src='https://github.com/BC-Chang/LBM_Workshop/blob/master/figures/lbm_diagram.png?raw=true' height='750'></center>\n"
      ],
      "metadata": {
        "id": "x0rO3TeyzzJd"
      }
    },
    {
      "cell_type": "code",
      "execution_count": null,
      "outputs": [],
      "source": [
        "def run_lbm(data):\n",
        "\n",
        "    # Initialization\n",
        "    tau = 1.0  # Relaxation time\n",
        "    g = 0.00001  # Gravity or other force\n",
        "    density = 1.\n",
        "    tf = 10001  # Maximum number of iteration steps\n",
        "    precision = 1.E-5  # Convergence criterion\n",
        "    vold = 1000\n",
        "    eps = 1E-6\n",
        "\n",
        "    device = torch.device('cuda' if torch.cuda.is_available() else 'cpu')\n",
        "    data = torch.tensor(data).to(device)\n",
        "    check_convergence = 30  # Check convergence every [check_convergence] time steps\n",
        "\n",
        "    # Define lattice velocity vectors\n",
        "    ex, ey, w_i = initialize_weights()\n",
        "    ex = torch.tensor(ex).to(device)\n",
        "    ey = torch.tensor(ey).to(device)\n",
        "    w_i = torch.tensor(w_i).to(device)\n",
        "\n",
        "    # Indices of fluid nodes\n",
        "    fluid_id = torch.argwhere(data == 0).to(device)\n",
        "    fx = fluid_id[:, 0]\n",
        "    fy = fluid_id[:, 1]\n",
        "\n",
        "    # Indices of solid nodes\n",
        "    solid_id = torch.argwhere(data == 1).to(device)\n",
        "    sx = solid_id[:, 0]\n",
        "    sy = solid_id[:, 1]\n",
        "\n",
        "    # Solid nodes are labeled 1, fluid nodes are labeled 0\n",
        "    is_solid_node = data\n",
        "\n",
        "    nx, ny = data.shape\n",
        "\n",
        "    # Initialize distribution functions\n",
        "    f = w_i * density\n",
        "    # Broadcast to 3D array with each slice corresponding to a direction's weights\n",
        "    f = torch.tile(f[:, None, None], (nx, ny)).type(torch.float64).to(device)\n",
        "\n",
        "    # Allocate memory to equilibrium functions\n",
        "    feq = torch.empty_like(f, dtype=torch.float64).to(device)\n",
        "\n",
        "    # Each point has x-component ex, and y-component ey\n",
        "    u_x = torch.empty((nx, ny), dtype=torch.float64).to(device)\n",
        "    u_y = torch.empty((nx, ny), dtype=torch.float64).to(device)\n",
        "\n",
        "    # Node density\n",
        "    rho = torch.zeros((nx, ny), dtype=torch.float64)\n",
        "\n",
        "    # # Begin time loop\n",
        "    tic = perf_counter_ns()\n",
        "    for ts in tqdm(range(tf)):\n",
        "        # print(f\"{ts = }\")  # Print timestep\n",
        "\n",
        "        # Compute macroscopic density, rho and velocity.\n",
        "        rho, u_x, u_y = macroscopic(f, fx, fy, ex, ey, nx, ny)\n",
        "\n",
        "        # Add forcing to velocity and compute equilibrium function\n",
        "        feq = equilibrium(rho, u_x, u_y, ex, ey, w_i, nx, ny, fx, fy, tau, g)\n",
        "\n",
        "        # Collision Step\n",
        "        f = collision(f, feq, tau, sx, sy, fx, fy)\n",
        "\n",
        "        # Streaming Step\n",
        "        f[1] = torch.roll(f[1], 1, dims=1)\n",
        "        f[2] = torch.roll(f[2], 1, dims=0)\n",
        "        f[3] = torch.roll(f[3], -1, dims=1)\n",
        "        f[4] = torch.roll(f[4], -1, dims=0)\n",
        "\n",
        "        f[5] = torch.roll(f[5], (1, 1), dims=(0,1))\n",
        "        f[6] = torch.roll(f[6], (-1, 1), dims=(1,0))\n",
        "        f[7] = torch.roll(f[7], (-1, -1), dims=(0,1))\n",
        "        f[8] = torch.roll(f[8], (1, -1), dims=(1,0))\n",
        "\n",
        "        # Calculate velocity\n",
        "        u = torch.sqrt(u_x**2 + u_y**2)\n",
        "\n",
        "        # Check convergence every check_convergence time step\n",
        "        if ts % check_convergence == 0:\n",
        "\n",
        "            vnew = torch.mean(u)\n",
        "            error = torch.abs(vold - vnew) / (vold+eps)\n",
        "            vold = vnew\n",
        "\n",
        "            if error < precision:\n",
        "                print(f'Simulation has converged in {ts} time steps')\n",
        "                break\n",
        "\n",
        "        if ts == tf:\n",
        "            print('Reached maximum iterations')\n",
        "\n",
        "    toc = perf_counter_ns()\n",
        "    print(f\"Elapsed Time: {(toc - tic)*1E-9}s\")\n",
        "\n",
        "    u_x = u_x.to('cpu')\n",
        "    u_y = u_y.to('cpu')\n",
        "    u = u.to('cpu')\n",
        "\n",
        "    return u_x, u_y, u"
      ],
      "metadata": {
        "pycharm": {
          "name": "#%%\n"
        },
        "id": "aSzLl5X_E6XS"
      }
    },
    {
      "cell_type": "markdown",
      "source": [
        "###  Read in the geometry\n",
        "Before we get into the flow simulation, let's first read in our geometry. For this exercise, we assume a 2D binary image with:\n",
        "- 0 indicating fluid space\n",
        "- 1 indicating solid space\n",
        "\n",
        "For this workshop, we select an image from the data folder. You can also load in your own image or create one yourself if you'd like.\n"
      ],
      "metadata": {
        "id": "LMryrTiS9e43",
        "pycharm": {
          "name": "#%% md\n"
        }
      }
    },
    {
      "cell_type": "code",
      "source": [
        "Nx = 150\n",
        "Ny = 150\n",
        "X, Y = np.meshgrid(range(Nx), range(Ny))\n",
        "data = (X - Nx/4)**2 + (Y - Ny/2)**2 < (Ny/8)**2\n",
        "\n",
        "plt.imshow(data, cmap='binary')\n",
        "plt.colorbar()\n"
      ],
      "metadata": {
        "id": "j9Kpdu9TFdCz",
        "outputId": "85b9f4c6-90a4-4e81-9281-278d7c31812e",
        "colab": {
          "base_uri": "https://localhost:8080/",
          "height": 453
        }
      },
      "execution_count": null,
      "outputs": [
        {
          "output_type": "execute_result",
          "data": {
            "text/plain": [
              "<matplotlib.colorbar.Colorbar at 0x7f15266b2290>"
            ]
          },
          "metadata": {},
          "execution_count": 12
        },
        {
          "output_type": "display_data",
          "data": {
            "text/plain": [
              "<Figure size 640x480 with 2 Axes>"
            ],
            "image/png": "[encoded data removed]"
          },
          "metadata": {}
        }
      ]
    },
    {
      "cell_type": "markdown",
      "source": [
        "Let's run our LBM simulation! This simulation does not fully converge in the default number of iterations, but it gets the point across. This should take about one minute to run."
      ],
      "metadata": {
        "id": "jfvHC6vmVdvO"
      }
    },
    {
      "cell_type": "code",
      "source": [
        "u_x, u_y, u = run_lbm(data)"
      ],
      "metadata": {
        "id": "-gepay57g4gq",
        "outputId": "ab7bcff6-e7c8-40aa-cd31-f6d410c0275e",
        "colab": {
          "base_uri": "https://localhost:8080/"
        }
      },
      "execution_count": null,
      "outputs": [
        {
          "output_type": "stream",
          "name": "stderr",
          "text": [
            "100%|██████████| 10001/10001 [00:41<00:00, 239.01it/s]"
          ]
        },
        {
          "output_type": "stream",
          "name": "stdout",
          "text": [
            "Elapsed Time: 41.850325685s\n"
          ]
        },
        {
          "output_type": "stream",
          "name": "stderr",
          "text": [
            "\n"
          ]
        }
      ]
    },
    {
      "cell_type": "code",
      "source": [
        "_ = plot_profile(u, cmap='jet')"
      ],
      "metadata": {
        "id": "ix0EcEw-s9AW",
        "outputId": "181510a1-1064-4194-d957-cb7ed7816bbe",
        "colab": {
          "base_uri": "https://localhost:8080/",
          "height": 890
        }
      },
      "execution_count": null,
      "outputs": [
        {
          "output_type": "display_data",
          "data": {
            "text/plain": [
              "<Figure size 1500x900 with 2 Axes>"
            ],
            "image/png": "[encoded data removed]"
          },
          "metadata": {
            "needs_background": "light"
          }
        }
      ]
    },
    {
      "cell_type": "code",
      "execution_count": null,
      "outputs": [
        {
          "output_type": "display_data",
          "data": {
            "text/plain": [
              "interactive(children=(Dropdown(description='dropdown', options=('micromodel.tif', 'bevo.tif', 'beads.tif'), va…"
            ],
            "application/vnd.jupyter.widget-view+json": {
              "version_major": 2,
              "version_minor": 0,
              "model_id": "e9a4c3f9a2994877b7313dd2b26d1db6"
            }
          },
          "metadata": {}
        }
      ],
      "source": [
        "#@title Read in data\n",
        "geom_options = os.listdir(\"./data/\")\n",
        "\n",
        "# TODO create catalog of images, read in from drop down, and plot.\n",
        "data_dropdown = widgets.Dropdown(\n",
        "    concise=False,\n",
        "    options=geom_options,\n",
        "    value='beads.tif',\n",
        "    description='Select a file to read in'\n",
        ")\n",
        "\n",
        "# select_button = widgets.Button(description='I want this one!')\n",
        "# output = widgets.Output()\n",
        "def read_in_and_plot(dropdown):\n",
        "  display(dropdown)\n",
        "  data = tifffile.imread(os.path.join(\"./data/\", dropdown))\n",
        "  clear_output(wait=True)\n",
        "  display(dropdown)\n",
        "  plt.imshow(data, cmap='binary')\n",
        "  plt.colorbar()\n",
        "  plt.show()\n",
        "\n",
        "  return data\n",
        "\n",
        "widget = widgets.interactive(read_in_and_plot, dropdown=geom_options)\n",
        "display(widget)\n"
      ],
      "metadata": {
        "pycharm": {
          "name": "#%%\n"
        },
        "id": "vlaq-NNtE6XR",
        "outputId": "cbc76995-00c1-46d4-df3f-bc519d07cdc4",
        "colab": {
          "base_uri": "https://localhost:8080/",
          "height": 311,
          "referenced_widgets": [
            "e9a4c3f9a2994877b7313dd2b26d1db6",
            "765e149da1444f88b827a36d7f18413a",
            "190dc357b43143e8af2e5b3139dbb613",
            "d097c4786c094097b16e5ac262d2e5b6",
            "4d4b55132fed471d8971c6f0d8f35b48",
            "fdf2ce0937e74a6c9845dad3abb28902",
            "f68237347bce4da9b72be06a241a0383"
          ]
        }
      }
    },
    {
      "cell_type": "code",
      "execution_count": null,
      "outputs": [
        {
          "output_type": "stream",
          "name": "stderr",
          "text": [
            " 27%|██▋       | 2700/10001 [00:11<00:30, 242.25it/s]"
          ]
        },
        {
          "output_type": "stream",
          "name": "stdout",
          "text": [
            "Simulation has converged in 2700 time steps\n",
            "Elapsed Time: 11.154991344s\n"
          ]
        },
        {
          "output_type": "stream",
          "name": "stderr",
          "text": [
            "\n"
          ]
        }
      ],
      "source": [
        "data = widget.result\n",
        "u_x, u_y, u = run_lbm(data)\n"
      ],
      "metadata": {
        "pycharm": {
          "name": "#%%\n"
        },
        "id": "0de-8FRwE6XT",
        "outputId": "adb6aca2-74a1-4933-d630-d13921f1b950",
        "colab": {
          "base_uri": "https://localhost:8080/"
        }
      }
    },
    {
      "cell_type": "code",
      "execution_count": null,
      "outputs": [
        {
          "output_type": "display_data",
          "data": {
            "text/plain": [
              "<Figure size 1500x900 with 2 Axes>"
            ],
            "image/png": "[encoded data removed]"
          },
          "metadata": {
            "needs_background": "light"
          }
        }
      ],
      "source": [
        "# from plotting_utils import plot_quiver\n",
        "profile_fig = plot_profile(u, cmap='jet')"
      ],
      "metadata": {
        "pycharm": {
          "name": "#%%\n"
        },
        "id": "hVhA_5wjE6XT",
        "outputId": "e5572748-e8c6-4125-8a05-e96fbe08c657",
        "colab": {
          "base_uri": "https://localhost:8080/",
          "height": 890
        }
      }
    },
    {
      "cell_type": "markdown",
      "source": [
        "## Calculate Permeability\n",
        "\n",
        "Once we have the velocity field, we can compute the absolute permeability using Darcy's law:\n",
        "\n",
        "$$k = \\frac{\\bar{u} \\mu L}{\\Delta P}$$\n",
        "\n",
        "\n",
        "Keep in mind that the calculated permeability will be in lattice units ($lu^2$) To convert to the true permeability, we would need to know the physical size of our grid sizes.\n",
        "\n",
        "For sake of simplicity, we can calculate the mean velocity of the flow-direction-component."
      ],
      "metadata": {
        "id": "r1Hf99NLeQjL"
      }
    },
    {
      "cell_type": "code",
      "source": [
        "def vel_avg(ux):\n",
        "  u_mean = torch.mean(ux[ux != 0])\n",
        "  print(f\"Average Velocity = {u_mean}\")\n",
        "  return\n",
        "\n",
        "# Calculate the average velocity for our image\n",
        "vel_avg(u_x)"
      ],
      "metadata": {
        "id": "exx1IjAfeny2",
        "outputId": "574fe9a9-6dac-4d52-9b4d-2873fd31e038",
        "colab": {
          "base_uri": "https://localhost:8080/"
        }
      },
      "execution_count": null,
      "outputs": [
        {
          "output_type": "stream",
          "name": "stdout",
          "text": [
            "Average Velocity = 0.0001143512389055344\n"
          ]
        }
      ]
    },
    {
      "cell_type": "markdown",
      "source": [
        "Let's use the Porespy library to generate some blobs. Make sure you get a geometry that percolates!"
      ],
      "metadata": {
        "id": "98-avyuxeibA"
      }
    },
    {
      "cell_type": "code",
      "source": [
        "def generate_blobs(phi):\n",
        "  device = torch.device('cuda' if torch.cuda.is_available() else 'cpu')\n",
        "  obstacle = torch.tensor(~ps.generators.blobs(shape=[200, 200], porosity=phi)).to(device)\n",
        "  #obstacle = torch.tensor(fromfunction(obstacle_fun(cx,cy,r),(nx, ny)))\n",
        "  plt.imshow(obstacle.cpu(), cmap='binary')\n",
        "  plt.colorbar()\n",
        "  return obstacle\n",
        "\n",
        "phi_widget = widgets.FloatSlider(value=0.5, min=0.5, max=0.86, description='Porosity',\n",
        "                                 continuous_update=False, step=0.01)\n",
        "\n",
        "blobs = widgets.interactive(generate_blobs, {'manual': True},\n",
        "                                       phi=phi_widget)\n",
        "\n",
        "blobs\n"
      ],
      "metadata": {
        "id": "a0kx4YuDF-2f",
        "outputId": "ce1eb268-4e1c-4a6f-afce-4b0aa7d11c97",
        "colab": {
          "base_uri": "https://localhost:8080/",
          "height": 333,
          "referenced_widgets": [
            "2fb66fb2f649445889bc1c20685e1ea2",
            "c7472170a74b48b78ee2b8802a8fd4eb",
            "6f27b1a65ec14fdda72b9dd3751cdf1d",
            "dc51a144c3ae4218977b3a1369f5bfaf",
            "513b6bb76fd34d1c8050c4ba2d7e036c",
            "2256a55d07df40378f677f7765a01e53",
            "a8e7563ff0384641a4a6a0b92d1c0874",
            "82aee2998e1849b29f61ca79e50abe8c",
            "3f82d0e809f64737b3b5e611c0173587",
            "f0ecfe24ea4243869885b8fe5896f254"
          ]
        }
      },
      "execution_count": null,
      "outputs": [
        {
          "output_type": "display_data",
          "data": {
            "text/plain": [
              "interactive(children=(FloatSlider(value=0.5, continuous_update=False, description='Porosity', max=0.86, min=0.…"
            ],
            "application/vnd.jupyter.widget-view+json": {
              "version_major": 2,
              "version_minor": 0,
              "model_id": "2fb66fb2f649445889bc1c20685e1ea2"
            }
          },
          "metadata": {}
        }
      ]
    },
    {
      "cell_type": "code",
      "source": [
        "u_x, u_y, u = run_lbm(blobs.result)"
      ],
      "metadata": {
        "id": "PGbIDDT3e90B",
        "outputId": "2ef99e65-c926-4ba5-c87f-6ebb2c8e3b88",
        "colab": {
          "base_uri": "https://localhost:8080/"
        }
      },
      "execution_count": null,
      "outputs": [
        {
          "output_type": "stream",
          "name": "stderr",
          "text": [
            "<ipython-input-19-772177bc7268>:13: UserWarning: To copy construct from a tensor, it is recommended to use sourceTensor.clone().detach() or sourceTensor.clone().detach().requires_grad_(True), rather than torch.tensor(sourceTensor).\n",
            "  data = torch.tensor(data).to(device)\n",
            " 36%|███▌      | 3570/10001 [00:17<00:32, 199.53it/s]"
          ]
        },
        {
          "output_type": "stream",
          "name": "stdout",
          "text": [
            "Simulation has converged in 3570 time steps\n",
            "Elapsed Time: 17.897081642s\n"
          ]
        },
        {
          "output_type": "stream",
          "name": "stderr",
          "text": [
            "\n"
          ]
        }
      ]
    },
    {
      "cell_type": "code",
      "source": [
        "profile_fig = plot_profile(u_x, cmap='jet')"
      ],
      "metadata": {
        "id": "vSxy2VF_f312",
        "colab": {
          "base_uri": "https://localhost:8080/",
          "height": 890
        },
        "outputId": "538893f0-60c7-4220-e1b8-645e9ed102af"
      },
      "execution_count": null,
      "outputs": [
        {
          "output_type": "display_data",
          "data": {
            "text/plain": [
              "<Figure size 1500x900 with 2 Axes>"
            ],
            "image/png": "[encoded data removed]"
          },
          "metadata": {
            "needs_background": "light"
          }
        }
      ]
    },
    {
      "cell_type": "code",
      "source": [
        "# Average velocity\n",
        "vel_avg(u_x)"
      ],
      "metadata": {
        "id": "yNPRusCYf_xN",
        "outputId": "9983261e-9357-4ccf-bdeb-fbab86dd28f2",
        "colab": {
          "base_uri": "https://localhost:8080/"
        }
      },
      "execution_count": null,
      "outputs": [
        {
          "output_type": "stream",
          "name": "stdout",
          "text": [
            "Average Velocity = 9.323197179134588e-05\n"
          ]
        }
      ]
    },
    {
      "cell_type": "markdown",
      "source": [
        "# Multiphase Lattice Boltzmann Method\n",
        "\n",
        "Today, we will use the Shan-Chen model, where multiple lattices are superimposed and particle distributions interact via pseudo-potential interparticle forces controlled by $G_c$. Selection of $G_c$ induces interfacial tension and can determine wettability.\n",
        "\n",
        "Other models include:\n",
        "* Color Model\n",
        "* Free Energy Based models\n",
        "\n",
        "\n",
        "The Shan-Chen model is implmented in our in-house code — [MPLBM-UT](https://doi.org/10.1016/j.softx.2022.101097).\n",
        "\n",
        "The MPLBM Workflow\n",
        "\n",
        "<img src='https://ars.els-cdn.com/content/image/1-s2.0-S2352711022000668-gr1.jpg'>\n",
        "\n",
        "\n",
        "### Let's move on to MPLBM-UT on TACC!\n",
        "\n"
      ],
      "metadata": {
        "id": "P2Ub8TXiYx3t"
      }
    }
  ]
}