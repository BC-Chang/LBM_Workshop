{
  "nbformat": 4,
  "nbformat_minor": 0,
  "metadata": {
    "colab": {
      "provenance": [],
      "include_colab_link": true
    },
    "kernelspec": {
      "name": "python3",
      "display_name": "Python 3"
    },
    "language_info": {
      "name": "python"
    },
    "widgets": {
      "application/vnd.jupyter.widget-state+json": {
        "6fcdec73212e47e7aab44d6ef0416664": {
          "model_module": "@jupyter-widgets/controls",
          "model_name": "VBoxModel",
          "model_module_version": "1.5.0",
          "state": {
            "_dom_classes": [
              "widget-interact"
            ],
            "_model_module": "@jupyter-widgets/controls",
            "_model_module_version": "1.5.0",
            "_model_name": "VBoxModel",
            "_view_count": null,
            "_view_module": "@jupyter-widgets/controls",
            "_view_module_version": "1.5.0",
            "_view_name": "VBoxView",
            "box_style": "",
            "children": [
              "IPY_MODEL_ddcb5b073e4f490e8a6abe5bd5696876",
              "IPY_MODEL_9ef7c320c07d4a9ebed480f1fb3522ee",
              "IPY_MODEL_cb6eaf675feb429ead7935559c13a744",
              "IPY_MODEL_a3ab00cbbf9a4c9e9ff6008a512b3e27"
            ],
            "layout": "IPY_MODEL_26065be96c2644038d9ec70c35b5d59a"
          }
        },
        "ddcb5b073e4f490e8a6abe5bd5696876": {
          "model_module": "@jupyter-widgets/controls",
          "model_name": "IntSliderModel",
          "model_module_version": "1.5.0",
          "state": {
            "_dom_classes": [],
            "_model_module": "@jupyter-widgets/controls",
            "_model_module_version": "1.5.0",
            "_model_name": "IntSliderModel",
            "_view_count": null,
            "_view_module": "@jupyter-widgets/controls",
            "_view_module_version": "1.5.0",
            "_view_name": "IntSliderView",
            "continuous_update": true,
            "description": "roll_x_dir",
            "description_tooltip": null,
            "disabled": false,
            "layout": "IPY_MODEL_15dc3f3080fc4e5499bc935f21abcd7e",
            "max": 1,
            "min": -1,
            "orientation": "horizontal",
            "readout": true,
            "readout_format": "d",
            "step": 1,
            "style": "IPY_MODEL_f431868e4b8843dab4e2e5939b56427e",
            "value": 0
          }
        },
        "9ef7c320c07d4a9ebed480f1fb3522ee": {
          "model_module": "@jupyter-widgets/controls",
          "model_name": "IntSliderModel",
          "model_module_version": "1.5.0",
          "state": {
            "_dom_classes": [],
            "_model_module": "@jupyter-widgets/controls",
            "_model_module_version": "1.5.0",
            "_model_name": "IntSliderModel",
            "_view_count": null,
            "_view_module": "@jupyter-widgets/controls",
            "_view_module_version": "1.5.0",
            "_view_name": "IntSliderView",
            "continuous_update": true,
            "description": "roll_y_dir",
            "description_tooltip": null,
            "disabled": false,
            "layout": "IPY_MODEL_99f6e047853847388f31d6296234d1c9",
            "max": 1,
            "min": -1,
            "orientation": "horizontal",
            "readout": true,
            "readout_format": "d",
            "step": 1,
            "style": "IPY_MODEL_5cc13c4973a34db5ad089dfef87edd05",
            "value": 0
          }
        },
        "cb6eaf675feb429ead7935559c13a744": {
          "model_module": "@jupyter-widgets/controls",
          "model_name": "ButtonModel",
          "model_module_version": "1.5.0",
          "state": {
            "_dom_classes": [],
            "_model_module": "@jupyter-widgets/controls",
            "_model_module_version": "1.5.0",
            "_model_name": "ButtonModel",
            "_view_count": null,
            "_view_module": "@jupyter-widgets/controls",
            "_view_module_version": "1.5.0",
            "_view_name": "ButtonView",
            "button_style": "",
            "description": "Run Interact",
            "disabled": false,
            "icon": "",
            "layout": "IPY_MODEL_be2c4874c9e647069a58d7fdfd4b7cba",
            "style": "IPY_MODEL_0824decc97f0475bb071b33321a40dc0",
            "tooltip": ""
          }
        },
        "a3ab00cbbf9a4c9e9ff6008a512b3e27": {
          "model_module": "@jupyter-widgets/output",
          "model_name": "OutputModel",
          "model_module_version": "1.0.0",
          "state": {
            "_dom_classes": [],
            "_model_module": "@jupyter-widgets/output",
            "_model_module_version": "1.0.0",
            "_model_name": "OutputModel",
            "_view_count": null,
            "_view_module": "@jupyter-widgets/output",
            "_view_module_version": "1.0.0",
            "_view_name": "OutputView",
            "layout": "IPY_MODEL_bdc7ffb0f6534e4ca0624d92e4e19424",
            "msg_id": "",
            "outputs": []
          }
        },
        "26065be96c2644038d9ec70c35b5d59a": {
          "model_module": "@jupyter-widgets/base",
          "model_name": "LayoutModel",
          "model_module_version": "1.2.0",
          "state": {
            "_model_module": "@jupyter-widgets/base",
            "_model_module_version": "1.2.0",
            "_model_name": "LayoutModel",
            "_view_count": null,
            "_view_module": "@jupyter-widgets/base",
            "_view_module_version": "1.2.0",
            "_view_name": "LayoutView",
            "align_content": null,
            "align_items": null,
            "align_self": null,
            "border": null,
            "bottom": null,
            "display": null,
            "flex": null,
            "flex_flow": null,
            "grid_area": null,
            "grid_auto_columns": null,
            "grid_auto_flow": null,
            "grid_auto_rows": null,
            "grid_column": null,
            "grid_gap": null,
            "grid_row": null,
            "grid_template_areas": null,
            "grid_template_columns": null,
            "grid_template_rows": null,
            "height": null,
            "justify_content": null,
            "justify_items": null,
            "left": null,
            "margin": null,
            "max_height": null,
            "max_width": null,
            "min_height": null,
            "min_width": null,
            "object_fit": null,
            "object_position": null,
            "order": null,
            "overflow": null,
            "overflow_x": null,
            "overflow_y": null,
            "padding": null,
            "right": null,
            "top": null,
            "visibility": null,
            "width": null
          }
        },
        "15dc3f3080fc4e5499bc935f21abcd7e": {
          "model_module": "@jupyter-widgets/base",
          "model_name": "LayoutModel",
          "model_module_version": "1.2.0",
          "state": {
            "_model_module": "@jupyter-widgets/base",
            "_model_module_version": "1.2.0",
            "_model_name": "LayoutModel",
            "_view_count": null,
            "_view_module": "@jupyter-widgets/base",
            "_view_module_version": "1.2.0",
            "_view_name": "LayoutView",
            "align_content": null,
            "align_items": null,
            "align_self": null,
            "border": null,
            "bottom": null,
            "display": null,
            "flex": null,
            "flex_flow": null,
            "grid_area": null,
            "grid_auto_columns": null,
            "grid_auto_flow": null,
            "grid_auto_rows": null,
            "grid_column": null,
            "grid_gap": null,
            "grid_row": null,
            "grid_template_areas": null,
            "grid_template_columns": null,
            "grid_template_rows": null,
            "height": null,
            "justify_content": null,
            "justify_items": null,
            "left": null,
            "margin": null,
            "max_height": null,
            "max_width": null,
            "min_height": null,
            "min_width": null,
            "object_fit": null,
            "object_position": null,
            "order": null,
            "overflow": null,
            "overflow_x": null,
            "overflow_y": null,
            "padding": null,
            "right": null,
            "top": null,
            "visibility": null,
            "width": null
          }
        },
        "f431868e4b8843dab4e2e5939b56427e": {
          "model_module": "@jupyter-widgets/controls",
          "model_name": "SliderStyleModel",
          "model_module_version": "1.5.0",
          "state": {
            "_model_module": "@jupyter-widgets/controls",
            "_model_module_version": "1.5.0",
            "_model_name": "SliderStyleModel",
            "_view_count": null,
            "_view_module": "@jupyter-widgets/base",
            "_view_module_version": "1.2.0",
            "_view_name": "StyleView",
            "description_width": "",
            "handle_color": null
          }
        },
        "99f6e047853847388f31d6296234d1c9": {
          "model_module": "@jupyter-widgets/base",
          "model_name": "LayoutModel",
          "model_module_version": "1.2.0",
          "state": {
            "_model_module": "@jupyter-widgets/base",
            "_model_module_version": "1.2.0",
            "_model_name": "LayoutModel",
            "_view_count": null,
            "_view_module": "@jupyter-widgets/base",
            "_view_module_version": "1.2.0",
            "_view_name": "LayoutView",
            "align_content": null,
            "align_items": null,
            "align_self": null,
            "border": null,
            "bottom": null,
            "display": null,
            "flex": null,
            "flex_flow": null,
            "grid_area": null,
            "grid_auto_columns": null,
            "grid_auto_flow": null,
            "grid_auto_rows": null,
            "grid_column": null,
            "grid_gap": null,
            "grid_row": null,
            "grid_template_areas": null,
            "grid_template_columns": null,
            "grid_template_rows": null,
            "height": null,
            "justify_content": null,
            "justify_items": null,
            "left": null,
            "margin": null,
            "max_height": null,
            "max_width": null,
            "min_height": null,
            "min_width": null,
            "object_fit": null,
            "object_position": null,
            "order": null,
            "overflow": null,
            "overflow_x": null,
            "overflow_y": null,
            "padding": null,
            "right": null,
            "top": null,
            "visibility": null,
            "width": null
          }
        },
        "5cc13c4973a34db5ad089dfef87edd05": {
          "model_module": "@jupyter-widgets/controls",
          "model_name": "SliderStyleModel",
          "model_module_version": "1.5.0",
          "state": {
            "_model_module": "@jupyter-widgets/controls",
            "_model_module_version": "1.5.0",
            "_model_name": "SliderStyleModel",
            "_view_count": null,
            "_view_module": "@jupyter-widgets/base",
            "_view_module_version": "1.2.0",
            "_view_name": "StyleView",
            "description_width": "",
            "handle_color": null
          }
        },
        "be2c4874c9e647069a58d7fdfd4b7cba": {
          "model_module": "@jupyter-widgets/base",
          "model_name": "LayoutModel",
          "model_module_version": "1.2.0",
          "state": {
            "_model_module": "@jupyter-widgets/base",
            "_model_module_version": "1.2.0",
            "_model_name": "LayoutModel",
            "_view_count": null,
            "_view_module": "@jupyter-widgets/base",
            "_view_module_version": "1.2.0",
            "_view_name": "LayoutView",
            "align_content": null,
            "align_items": null,
            "align_self": null,
            "border": null,
            "bottom": null,
            "display": null,
            "flex": null,
            "flex_flow": null,
            "grid_area": null,
            "grid_auto_columns": null,
            "grid_auto_flow": null,
            "grid_auto_rows": null,
            "grid_column": null,
            "grid_gap": null,
            "grid_row": null,
            "grid_template_areas": null,
            "grid_template_columns": null,
            "grid_template_rows": null,
            "height": null,
            "justify_content": null,
            "justify_items": null,
            "left": null,
            "margin": null,
            "max_height": null,
            "max_width": null,
            "min_height": null,
            "min_width": null,
            "object_fit": null,
            "object_position": null,
            "order": null,
            "overflow": null,
            "overflow_x": null,
            "overflow_y": null,
            "padding": null,
            "right": null,
            "top": null,
            "visibility": null,
            "width": null
          }
        },
        "0824decc97f0475bb071b33321a40dc0": {
          "model_module": "@jupyter-widgets/controls",
          "model_name": "ButtonStyleModel",
          "model_module_version": "1.5.0",
          "state": {
            "_model_module": "@jupyter-widgets/controls",
            "_model_module_version": "1.5.0",
            "_model_name": "ButtonStyleModel",
            "_view_count": null,
            "_view_module": "@jupyter-widgets/base",
            "_view_module_version": "1.2.0",
            "_view_name": "StyleView",
            "button_color": null,
            "font_weight": ""
          }
        },
        "bdc7ffb0f6534e4ca0624d92e4e19424": {
          "model_module": "@jupyter-widgets/base",
          "model_name": "LayoutModel",
          "model_module_version": "1.2.0",
          "state": {
            "_model_module": "@jupyter-widgets/base",
            "_model_module_version": "1.2.0",
            "_model_name": "LayoutModel",
            "_view_count": null,
            "_view_module": "@jupyter-widgets/base",
            "_view_module_version": "1.2.0",
            "_view_name": "LayoutView",
            "align_content": null,
            "align_items": null,
            "align_self": null,
            "border": null,
            "bottom": null,
            "display": null,
            "flex": null,
            "flex_flow": null,
            "grid_area": null,
            "grid_auto_columns": null,
            "grid_auto_flow": null,
            "grid_auto_rows": null,
            "grid_column": null,
            "grid_gap": null,
            "grid_row": null,
            "grid_template_areas": null,
            "grid_template_columns": null,
            "grid_template_rows": null,
            "height": "350px",
            "justify_content": null,
            "justify_items": null,
            "left": null,
            "margin": null,
            "max_height": null,
            "max_width": null,
            "min_height": null,
            "min_width": null,
            "object_fit": null,
            "object_position": null,
            "order": null,
            "overflow": null,
            "overflow_x": null,
            "overflow_y": null,
            "padding": null,
            "right": null,
            "top": null,
            "visibility": null,
            "width": null
          }
        },
        "a5aefba9559a458192cdea2afa7347d5": {
          "model_module": "@jupyter-widgets/controls",
          "model_name": "VBoxModel",
          "model_module_version": "1.5.0",
          "state": {
            "_dom_classes": [
              "widget-interact"
            ],
            "_model_module": "@jupyter-widgets/controls",
            "_model_module_version": "1.5.0",
            "_model_name": "VBoxModel",
            "_view_count": null,
            "_view_module": "@jupyter-widgets/controls",
            "_view_module_version": "1.5.0",
            "_view_name": "VBoxView",
            "box_style": "",
            "children": [
              "IPY_MODEL_102db44360734da9aed7e3062e79c4ac",
              "IPY_MODEL_65dc8a4582f0490695e641bec24f46ba"
            ],
            "layout": "IPY_MODEL_fdf782bc18174581bd943617fbba2d62"
          }
        },
        "102db44360734da9aed7e3062e79c4ac": {
          "model_module": "@jupyter-widgets/controls",
          "model_name": "DropdownModel",
          "model_module_version": "1.5.0",
          "state": {
            "_dom_classes": [],
            "_model_module": "@jupyter-widgets/controls",
            "_model_module_version": "1.5.0",
            "_model_name": "DropdownModel",
            "_options_labels": [
              "bevo.tif",
              "beads.tif"
            ],
            "_view_count": null,
            "_view_module": "@jupyter-widgets/controls",
            "_view_module_version": "1.5.0",
            "_view_name": "DropdownView",
            "description": "dropdown",
            "description_tooltip": null,
            "disabled": false,
            "index": 0,
            "layout": "IPY_MODEL_0fa6c22cea064509bf81ce8cfb4f24ba",
            "style": "IPY_MODEL_6a60e8aec6e449d6a9463c7bc394b744"
          }
        },
        "65dc8a4582f0490695e641bec24f46ba": {
          "model_module": "@jupyter-widgets/output",
          "model_name": "OutputModel",
          "model_module_version": "1.0.0",
          "state": {
            "_dom_classes": [],
            "_model_module": "@jupyter-widgets/output",
            "_model_module_version": "1.0.0",
            "_model_name": "OutputModel",
            "_view_count": null,
            "_view_module": "@jupyter-widgets/output",
            "_view_module_version": "1.0.0",
            "_view_name": "OutputView",
            "layout": "IPY_MODEL_e02827f6f2a64ec68bae2e62b4045e1c",
            "msg_id": "",
            "outputs": [
              {
                "output_type": "display_data",
                "data": {
                  "text/plain": "'bevo.tif'",
                  "application/vnd.google.colaboratory.intrinsic+json": {
                    "type": "string"
                  }
                },
                "metadata": {}
              },
              {
                "output_type": "display_data",
                "data": {
                  "text/plain": "<Figure size 432x288 with 2 Axes>",
                  "image/png": "iVBORw0KGgoAAAANSUhEUgAAAS0AAAD8CAYAAAAi9vLQAAAABHNCSVQICAgIfAhkiAAAAAlwSFlzAAALEgAACxIB0t1+/AAAADh0RVh0U29mdHdhcmUAbWF0cGxvdGxpYiB2ZXJzaW9uMy4yLjIsIGh0dHA6Ly9tYXRwbG90bGliLm9yZy+WH4yJAAAgAElEQVR4nO29a2xk6Xnf+XvqTlaRLF77RrIv6h7NNCTL1o4lS7JjrRQHY8eQDKwhSE68Y6+w8yUy7LWTWM4ubMObBexdbBwFEJzMWoongdeyosSrQVaxYuhirwVbmh7NaEY9Mz3NafaF1yLrfi9W1bsfqt53DtkkuzhNsk9VPz+AIKt46lzqnPM/z/u8z0WMMSiKovQLgQe9A4qiKAdBRUtRlL5CRUtRlL5CRUtRlL5CRUtRlL5CRUtRlL5CRUtRlCNDRD4vIikR+f4e/xcR+VcisiAiL4nIu++1ThUtRVGOkj8Cntjn/z8JXOr+PAX8wb1WeF+iJSJPiMi1rkp++n7WpSjK4GGM+Ssgs88iHwX+nenwt0BSRE7tt87QW90ZEQkCnwV+AlgCnhORZ40xr+zzGQ2/V5Qjxhgj9/P5J554wmxubva07PPPP38VqHneetoY8/QBNncGuON5vdR9b3WvD7xl0QLeAywYY24AiMgX6KjmnqKlKIr/2dzc5MqVKz0tKyI1Y8zjR7xL27gf0dpNId+7cyEReYrOWFVRlD7hGHOSl4E5z+vZ7nt7cuSOeGPM08aYx49bjRVFeeu02+2efg6BZ4H/vjuL+CNA3hiz59AQ7s/SOrBCKorif4wxh2ZpicifAB8EpkRkCfgtINzdzr8GvgL8FLAAVIBfvNc670e0ngMuich5OmL1ceDn7mN9iqL4hMMSLWPMJ+7xfwP8o4Os8y2LljGmKSKfAr4KBIHPG2OuvtX1KYriH/xcZ+9+LC2MMV+hY94pijJADKxoKYoymKhoKYrSNxhjDmtm8EhQ0VIU5S7U0lIUpa9Q0VIUpa9Q0VIUpW84zODSo0BFS1GUu1BHvKIofYVaWoqi9A06PFQUpe9Q0VIUpa9Q0VIUpa9Q0VIUpW/QNB5FUfoOtbQURekrVLQURekrVLQURekrVLQURekb1BGvKErfoZaWoih9hZ9F657NWkXk8yKSEpHve96bEJG/EJHr3d/jR7ubiqIcJzb/8F4/D4JeOkz/EfDEjvc+DXzNGHMJ+Fr3taIoA0CvguVb0TLG/BWQ2fH2R4Fnun8/A/zMIe+XoigPED+L1lv1aZ0wxqx2/14DTuy1oIg8BTz1FrejKMoDYKBnD40xRkT2lFxjzNPA0wD7Lacoin/oa0f8HqyLyCmA7u/U4e2SoigPkr73ae3Bs8CT3b+fBL58OLujKIof8LNo3XN4KCJ/AnwQmBKRJeC3gN8FviginwRuAR87yp1UFOV48fPw8J6iZYz5xB7/+vAh74uiKD6hr0VLUZSHC809VBSl71BLS1GUvkJFS1GUvsLPovVWQx4URRlgDjPkQUSeEJFrIrIgInflKYvIvIh8Q0ReEJGXROSn9lufWlqKomzjMB3xIhIEPgv8BLAEPCcizxpjXvEs9r8AXzTG/IGIXAa+Apzba51qaSmKcheHaGm9B1gwxtwwxjSAL9ApuLBtc8Bo9+8xYGW/FaqlpSjKXRzApzUlIlc8r5/u5htbzgB3PK+XgPfuWMdvA/9VRH4JiAN/d78NqmgpinIXBxCtTWPM4/e5uU8Af2SM+T9F5H3AvxeRdxhjdh2jqmgpirKNQ84rXAbmPK9nu+95+STdQqPGmL8RkRgwxR6FGNSnpSjKXRyiT+s54JKInBeRCPBxOgUXvNymmxYoIo8BMWBjrxWqpaUoyl0c1uyhMaYpIp8CvgoEgc8bY66KyO8AV4wxzwK/BvxfIvI/0XHK/4LZRxFVtBRFuYvDDC41xnyFThiD973f9Pz9CvCBXtenoqUoyjYeZK2sXlDRUhTlLlS0PASDQcLhMMPDw4RCIQKBAMFgEBHp6fPtdpt2u40xhlarRbPZxBhDs9lka2vLRfPaMbmfv3xl8LHXdSAQIBAIICKEw+Ft1769/u0yvWCv8Xa7zdbWFtVqla2tLVqt1qHst5/vm2MVLREhEokwPj7O/Pw8IyMjRCIRhoaGCIV625V6vU6j0aDValGtVimXyzSbTYrFIvl8nlar5ZaxAubnE6AMLlaIRIRoNEokEiEYDDI2NsbIyAihUIhEIkEsFiMYDBKJRIhGoz2tu9lsUq1WaTQaFItFbt26RS6Xo1arHcq++/meOXbRCoVCDA0NMTU1xfj4OLFYjEQiQTgc7mkdtVqNSqVCq9WiVCpRKBScQNVqNZrNprPA2u02IuLrE6AMLiLihMuKUigUYmRkhPHxcSKRCKOjoyQSCXdfxGKxnta9tbVFsVikXq8TiURIpVKUSqWeRyz7oUUAPUQiEebm5jh9+jSXLl1ienqaSCTihoq9sJultbW1RaFQIJfLsbW1RT6fJ5/P02w2qVQqVKtVWq0WtVqNer1Ou92m1Wr5+sQo/UMwGHRDu2g06iynoaEhd22PjY0xNjZGOBwmmUwyOjpKOBwmHo8zNDT0liytSqVCo9FgY2ODWq1GLBbjxo0bh3JMfn7QH6toJRIJ3v/+93P27Fne//73c+rUKYLBoBvf94IVHK8fq91uU6/X3bh+aWmJpaUlqtUqa2trrK2tUa/XWV1dJZ1OO9O6Xq8D/j5Bin+xVk04HHYujunpaU6cOEE0GuXkyZOcOnWKWCzG3NwcZ86cccvGYrFt/i0RceLXC+12240qVlZWGB8f5/bt26RSh9PNz8/3RC/deOaAf0eni7ShkxD5GRGZAP6UTgmJm8DHjDHZ/dYVDoc5deoUs7OznD9/njNnzmxzUPaCdzrW+quMMWxtbbmf0dFRYrEYlUqFYDBIu92mUqlQLpcpFouICI1GQ4eOyn1jxSYcDhMOhxkZGWFqaoqhoSFmZ2c5e/Ys8XicCxcucP78ebdcOBzeNny06zrIfWAd8dFolNu3b7O1tdWzm6WX9fuVXiytJvBrxpjvisgI8LyI/AXwC8DXjDG/2y3s9Wng1/dbkRWParV611DNio8VonA47HwA9mTaE7rbbzu8FBGSySSnT5924/1kMkmtVmN6epq5uTlqtRrr6+tks1mazSblcplarUa73abRaNBsNt/Kd6kMMPYaC4fDBAIBYrEY8XiccDjMxMQEMzMzRKNRZmZmOH36NENDQ87qisViJJNJotHoriML78PX+xD2jih2ujKsWIoIpVKJcrlMpVI5zEj2Q1nPUdBLC7FVYLX7d1FEXqVTbuKjdPohAjwDfJN7iFar1SKXy5HP5ykWi5RKJWq1GsVi0Z0k61S3Tyw742LFy144O59S9mlnjGF2dpbp6Wna7Ta1Ws056NPpNNlslnK5zKuvvsri4iKVSoU7d+6QSqWcP6xSqfg+wE45HrwPzFgs5nxRJ06cYG5ujuHhYc6fP89jjz3G8PAw4+PjTE5OEgqFiMVixGKxbb4u78PXhu1Ycdra2qLZbLrZcDvhZGcJvfsUDAYZGRkhGo2ysbFBJpMhl8sdSsjDQDniReQc8EPAt4ETXUEDWKMzfNwXKyLWmd5oNKjVapRKJer1Os1m01lf0PGBAdusKO/Yf6cFZkkkEu6z1oRutVpMTExQKBTcBWEFs1AouH0ol8vb1qfCpdhrzApRNBplbGyM6elpRkZGOHv2LI888giJRILR0VGSyeQ25/xu2OvKCtdOF0elUqFUKtFsNt216d2fSCQC4ETNPpzV0vIgIgngPwK/Yowp7LixjYjsepQi8hTwFEA0GmV5eZl2u+3CHur1OqVSyVlaNkA0kUgwMTFBJBIhHA4TjUYJBALE4/FtU8TxeJxgMMjw8LBzhlrLzLMP7mmXSCQIBoPMz88TDAapVCokk0nOnTvnrK7NzU3q9TrZbNaZ3LuZ6MpgEggE3BAukUgwOTlJNBplcnKS2dlZN/Szf8/OzjI2NsbQ0JC7Tr3WlDGGRqPhrnHrItna2iKXy1EsFre5KaxQeWe9vZYW4GYeo9EomUyGhYUFNjY27lrurdL3oiUiYTqC9cfGmP/UfXtdRE4ZY1ZF5BR71L7pVjF8GiAUCpmXX36Z69ev89JLLxGNRl1M1U6/ViQScUPDWCzmBGlycpKZmRlisRgzMzOcOnWKaDTKqVOnOH36tAuhGB4edhePfeIlEgmGh4dptVqMjY3x6KOP0mw2yefzlMtlCoUCL730EouLi+TzeV555RWWl5e3TS8rg42d0bPX27lz53jnO9/JxMQE8/PzXL58mUQiQTweZ3R0dFtog7WugsEg8OYwq9VqueDnRqPBysoKa2tr1Go1bty4wZ07d2g0GmQyGQqFgvOt2qGjN8PD4hVWb8xWtVo9lO+hr0VLOo+MzwGvGmP+hedfzwJPAr/b/f3le62r1WqRzWYJBoNkMhkCgcBdUetWuLzpDdbpGQqFXNRvLBaj2Wxus7gmJiYwxhCJRNxJ9s7MeK2vWCzmTPPx8XFqtRq5XI5MJkO1WiUSiZBIJIhEItucnnYflcHD6ye1E0EjIyOcPHmSyclJ5ubmuHDhAqOjoy6Tw14Xu836eVNtrKDY62xzc5NSqcTt27dZXFykVquxublJLpdz1+VOB/3OfbUPZW/c4WGMBvzuz+3F0voA8PPAyyLyYve9f0ZHrL4oIp8EbgEf62WD3qeP96TY/+38LSJuPG8vEDu7WCwW2dzcJBaLsby8zK1bt4jFYpw4cYKZmRkikQhjY2PuiWhjYizeCxRgZGSE+fl5IpEI+XyeSCTC/Py8GzZmMhkajQaFQoFaraZpQn2O98a3TvZIJMLExARzc3MkEgnm5ua4fPkyyWSSmZkZEokE0WjUWTk7/Z/WV9tsNslms2QyGWq1Gmtra6yurlKr1UilUmxublKr1VhaWmJzc5NGo0GlUtmWP7vzQb5z3+39cRTXoZ+v6V5mD/8a2Ct45MMH3aD3KbLfMt7/b21tuZyqQqHA+vr6tqehzeeamJggFovxyCOPcOnSJRKJBBcvXuTChQtu2BiPx7c9Ge3wMxqNOovtkUceoVar8c53vtM9Fb/97W9z8+ZNCoUCb7zxBul02pnxfj7Byt7YoWAgEGBiYsJZURcuXOA973kPU1NTJJNJFyBqrSuv28Fir9lKpeJGA9euXeOVV16hVCqxsLDAjRs3qNfrzqdlJ6bsNeT1m+68pnYTrf3+f7/42X/7wErT3OtL9v7fju2hI2AWr7+qXC5TKpXcUHJsbIxqtcrMzIyziqLRqMtH9ArXbmETjUaDUChEMpl06RH5fB7oTCiEw2GazaYb4qpw9RfenEA7Kzg6Osr4+Lhzsp84ccI54u1s3W7DQG+gp33AVioVstksa2trFAoF7ty5w61bt5wlZi2qt3rtHPX15ufrue/radkLxs5C1ut17ty5Q7vdZnh4mHw+z8rKipvlOXnyJNFolGQyycjIyF0R+V4LzD5V2+0273jHO5iamiKXyzExMcHGxgbFYpGVlRUKhQJbW1suD9LPJ/xhxZtyY4NCR0dHOXPmDIlEgpmZGR555BFnWc3MzLjMCq9f1OIVqnw+TzabpV6vs7S0xK1btyiXy9y4cYPr169TqVTccNAbl+XXh51f98vS16Ll/XJtLqGIUCwWWVxcdLlgk5OTJBIJfuAHfoDLly8zMjLCpUuXXMR9OBx2Mz7wptN+dHSUdrvN2NgYk5OT1Ot1CoUCCwsLbG5usrKywpUrV1heXqZYLLK6uuouSD+b1w8j1rIeGhpyFtTs7Cw//MM/zMmTJ5menuZtb3ubEyo78bNXmpm1qprNJqurq7z22msUi0W+//3v89JLL1Eul9nc3CSTydBsNp2FBf4XBVBL61jwzpzYEAWbd1ir1UgkEpw+fZpsNutiZWy6zm4Xpp0xtMOHcDhMu90mFotRKpUIh8MudMJWlLDit3OCQXmweAOSbQHKRCLB2NiYC5uxoTSjo6P3LExp/bI2Yd/6sfL5PJubm6yurroQmkKhcGiF+Y4TP1+7AyNaXrwJ1bVajUAgQKPR4PXXX6darTIyMkKhUGBtbY14PM78/DwzMzPbah552TnLND09zdDQEENDQzSbTd72trexubnJ66+/TjabdZMFNjjQVldVjg9vHFM8HufUqVPOZ3Xx4kUmJiaYnp7m4sWLzhK3JWX2CmGwFlOr1WJ9fZ3bt29TqVRYWFjg6tWrlEol7ty5Qy6X21aIsh/x834PpGjBm0/DcrlMtVolEAiQz+d57bXXGBoaYnFxkbNnzzIxMcGP/diPucqStqLkTqxfY3h4mNOnT9Nut5mdnWV+fp5arcbKygovvPACqVSKO3fu8MILL7CxseFK5/Tj07ZfsQ+ZWCxGOBxmenqad7/73czNzTEzM8M73/lOl8hsC1FaK2y/tJtGo0GpVKLRaPDaa6/xrW99i2w2y+LiIq+//rpLDatWq9t8Xv2G390bAytaFu+F483T2tjYYGhoiHa7TaFQcOk6dmp7r7xGmw4EuCe5nQ2amppyFVVtWpGNWAb/Xwz9jvechUIhotGoS90aHx9namqKqakppqentxWg3K+cizcGytZir9frLkYwnU4735XX0d7vqKXlE6z1Va/X2dzcpNVqkU6nGRoaIpVKMTIywsWLF5mdnXWlcOPxOLD7VHcgEHBxYpOTk7z97W/n1KlTnDx5kkQiQTabJZ1Oc/v2bReSkc1mj8X62kt0d34fNkBxr2Pc63P2d6/bOMqbwPqrbP+BeDzOyMgI58+fZ2pqiomJCS5fvsyJEycYGRlhYmLCRbPvZ1kZYyiXy25mcGVlhTfeeINSqcT169d5/fXXKRQKLujYTsIMAn4+jodKtKyV0263WV1dJZVKEY1GSaVSfPe732Vqaoof//Efp16vk0gkOHv2LENDQ3ve1DYw1caAJZNJWq0W+XyeRx55hHK5zOLiIleuXHEO2q2tLZe9f1TR9LtVwdwtGNFuf696ZTvZGaFtP7vbJIZXqLw10w4ba1XZJhFnz55lZmaGkydP8r73vY/z588Tj8edYEm3ycR+vivvd5PP51lcXKRYLHL16lX++q//mkwmQyaTcRVxvYn+g4Kfj+WhEi2L9U+IiBMZSy6Xo1AoYIxx0crW37HbBe7NV/OGTdRqNYaHhykWi4yPj7sZzaGhoW11w/bLLzsI3v2wkd7ekj7e5ex3YDMTduZW7vyMXd77txWhnTNtO6sb2Ejvnekph3Gsdr+tP3JoaMiVhkkmk0xNTbnSx6OjowwPD9/TMoQ3wxna7TbVapVisUgulyObzbqhYKFQcJ2g/HyDv1X8fEwPpWhZvM56e6F+97vfJZVKMTExQTqdZn5+nuHhYc6cOUMymdzVsrDY92y1VHuTBAIBisUia2trzM/PUyqVSKfTrKysUKvVKJfLLmxit7yzvbbjDcvwtqayFTQnJia23dzez3rr5Nukc+vb2e3G9gqN9e00m02X/uStcw4466PdbpPJZFhfX3ftrmyrN2+gZa/HamcFrQjZczM1NeXStmzowtmzZ0kmk4RCoW1+yt3wWoOZTIalpSXK5TK3bt3i5ZdfJpfLcefOHdbW1rZVuvXzzf1W8bvv9aEWLcA5zq1wFItFXn75ZSYnJ8nlcly6dMnVU4rH4/e0ugDnzDfGMDk5yfz8PK1Wi7W1NR577DEX/PrSSy+58Ihms+kcuVa89rJIvFaVt97Y7Owsp06dIpFIcPnyZc6fP+/qi3lFS6RTI99WcbWJ5XYovJ9oGWOoVquuzEo8HnftsKyg2CR3O0Fx48YNl4O3srLiMhhswGWvx2prq8diMU6fPs309DTJZJJ3v/vdXLx40YWveCuHeqvc7mdh2YeWDWd44YUX2Nzc5Pr16zz//POu+ocd2vv9xr5f/CzGD71owZu+Lut43dracmVwbCmdUqlEpVJxN6XXKtmJ1+KwN7KNGUsmk0QiEXK5HMlkkkAg4MqVhEKhbUOp3W7mncNAO0MWi8UYGxtjfHzcFVC0N6/Xv2U/Z4fHdmiVTCa3+e92Oqi931G1WiUYDNJoNNzMnJ2QsEPFRqNBvV53he7Gx8cJhUKUy2VyuRyRSIR6vU69Xt9z2OgVGztrG4lEXM11+zMxMcHExITLOR0dHXW+rl6GgvCm5WlrU9kyRTZo1KZqWetx0FHR6hPstHa73SaXy3Ht2jXS6bRL4XnjjTcYHx/n7W9/O9PT0+7p7/Vl7cQ7rBkZGWF2dtY5+icnJ6lWq6TTaVZXV2k0GlSrVVcb3Ctg3vVZi8PWCbd1v06cOMHk5CSxWMxFedto/51O+WazyeTkJI1Gw+VZ7ifE9vuBN4eHrVZrW4dwb+UDr18oHo8zPT1NrVYjnU67oWKpVKJYLLqh5F7Hah3tIyMjLm/w5MmTjI+PMzQ0xNzcnAthsJVse5kJ9ZaDWV9fZ2FhwQ0Dv/e975HJZEin064h8CDNDt4LPx+nipYHr4PeXtC2uWYmk+HkyZPMz8+7ypU2GHG/FmjeYYm96YwxzM3N8dhjj7k4MTttbp/ytl6+LWFiCQQCLhrfVnK1VszY2BiJRMING3dzxHvZa/awl+9p5+yh93jtMvb37Owsly9fpt1uUyqVnP/OhoRYK2fnsXrLBoXDYVcqJhwOMzY25obrtr7VbhMKe+0/dEQrl8tRrVZ54403+OY3v8ny8jKpVIqFhQUKhcK23pp+vpEPE7+noKlo7YIdrlifTDgcJp/PE41GGRkZccMF69z1zqLt12zTa/HYMjjeMAw7LLUBqfV6naGhoW0CYEXL+mvGx8cZHx93VpfX+d9r48+jxlvyxwq8jVGz9fdtSW07mwm4tCnvsdouzSMjIy549yDH6i1AaRubWH+mdQfYmUFvZPvDhopWH2IvVhGhUqmwvLzsSpAEAgGuXr3K+Pg4b3vb25w/ZWZmZpto7Id32Gh9Sa1Wy/mI7M28c0rdO2QKBALbIu+tX8ku5xfs92Hj2UTE9QEYGRnZVjFh57HaoaFtXmLzA+2x9mohWkupXC6zsbFBuVxmfX2d73//+2xsbLC2tsbVq1ddMxPra/PzzXuU+FmoVbT2wZ64arXK8vIygUCA1dVV0um0awj7Iz/yI8zNzbkpd29vu/1uJu//reUE203z/W4Yr8P8oBHtx433WG1cFXSGywc5Vu/3epBj9caklctlbt++zebmJjdv3uQv//IvXWmhVCq1zbp6WAXL72KtotUD3oveFhsEiMfjZLNZV3spn8+7Mjb3anrg5aA3Yb/jFbCjwis8NpzEzmTa2u3ZbNaFudhuS9pdvMNhipaIPAF8BggCf2iM+d1dlvkY8NuAAb5njPm5vdanotUjO523NqO/0Wi4pgdLS0uuLtMjjzzC2NiYS9zdrfqlcvhYK8GmS9XrdXK5nCvcmE6nef31113nmzt37rhwBhWsNzks0RKRIPBZ4CeAJeA5EXnWGPOKZ5lLwG8AHzDGZEVkZr91qmgdAHsz5PN5RIRsNsv6+jrBYJATJ06wubnJ1NQUly5dcrNcdhbvYbOmHhTWwrLnyZbE/tu//Vtu3LhBNpt1dc9sI1Q7KeDnIdFxc4jfxXuABWPMDQAR+QLwUeAVzzL/I/BZY0y2u+1de6haeul7GAP+Coh2l/+SMea3ROQ88AVgEnge+HljzEPRzdQ75q/X665TdaFQIBQKuXIldphoq5rayHVv4Klyf1iRsj+2Q3OlUiGdTpPP50mn024oaNu/2UTnhyn2qlcOOGM6JSJXPK+fNp0GzZYzwB3P6yXgvTvW8QiAiHyLzhDyt40xf77XBnuxtOrAh4wxJel0mv5rEfkvwK8Cv2+M+YKI/Gvgk8Af9LC+gcHr68rn81y/fp3h4WHW1tbY2NggmUwyPj7O3Nycm108d+4ciUTCpZlYR7paYQfDPjhs9+ZKpUKlUuHmzZukUilKpRK3bt1ywnXjxg0ymYyrheXNOlDu5gDfy6Yx5vH73FwIuAR8EJgF/kpE3mmMye218L6Yzt6Xui/D3R8DfAiwzrJn6DjRHkrRAly8j4iwtLTE4uIikUiEM2fO8Oijj5JMJrl48SJjY2MALgLd7zN/fsXru7JJ2JlMhu9973uu3dvrr79OKpVyQbveMAYVq/05xO9nGZjzvJ7tvudlCfi2MWYLWBSR1+mI2HO7rbCn8YmIBKXTXToF/AXwBpAzxljP5RIdM3C3zz4lIld2mJADhxUwW3bGRnh7y5p4Z61KpZJL0PVzTIxfsUGi3lxB+x3ncjlyuZwLELUzh96u5sr+7Mx93eunB54DLonIeRGJAB8Hnt2xzP9Dx8pCRKboDBdv7LXCnhzxxpgW8IMikgT+DHi0l891P/s08HR3hwb+arFT7N7yJY1Gg1gs5nolJpNJLly4wLve9S5GR0eJRqMMDw+rj6tHrO/KzgxevXqV69evk8/nuXr1Knfu3KHRaJDJZFzZoUEogXycHJawG2OaIvIp4Kt0/FWfN8ZcFZHfAa4YY57t/u/vicgrQAv4J8aY9F7rPNDsoTEmJyLfAN4HJEUk1LW2djP5Hlqazaa7SWwZl0Ag4PLcRkdHaTabnD171s0sDg0NPeC97h9sjqht3fXGG2/w4osvUigUeOONN1hfX99WakYtq4Nx2MNnY8xXgK/seO83PX8bOj7yX+1lfb3MHk4DW13BGqITb/F7wDeAn6Uzg/gk8OUej2FgsX4pG5tl002Gh4cJhUJMTU0xOTnpKjPYdJyjDLIcVGzJH5sKNDExQSQSoVAoAG+WmrHVGer1+sBWGT0K/Oyy6MXSOgU80w0SCwBfNMb8564p9wUR+efAC8DnjnA/fY83l3BiYoKzZ88yMjLC+Pg4s7OzDA8PMzExwezsLENDQ5w8eZKTJ0+6goE6NOwdm69p8xLf+973cvbsWZcjaosbLi0tufLZN2/eJJPJPPQpOr3i5++nl9nDl4Af2uX9G3QCxxS2i5ZtsDA9Pc3Jkye5fPkyY2NjrqOxrVxgaz8pB2Nn8cNIJMK5c+eo1Wqsr69TKBTI5XK8+uqrrK2tkUqlXOhDv/YiPG76WrSU3vDWdRobGz7EUpIAABk8SURBVGN6epoTJ04wPT3tarfH43FXG2q/GlxK79iSQLb0ja1XZoxhamrKWVa2lI0dImrKzt74PSREReuQiMVizMzMEI/HefTRR/nRH/1Rzp07t62Guq1vvrODjfLWsTW37HcbiURcLbKZmRnXxm1zc9M571OplIrWPVDRegiw1TRHR0c5c+YMjz32GJcuXXJWgPqsjgZvzS3AzcK2222mp6ddx6DTp0+zsrJCIBAgm80+yF3uC1S0HgLsFLt9ytdqNWq12oGL1e3Fzjpb9m8/VSg9KF7/kvf7OYzvauf5sFVobZNcZX/8/B2paB0StqpAo9EglUqxvr7uQhtsG/ZeKpruhbe1mK1bbuO7bDXQfsIY48TdGOPCP3ZaTgfFzgzWajUymQzFYpH19XXXWcf2a1T2Rn1aDwmtVst10bHNG3K5HCLC2NgY7XbblRw+qMBYy8GKlrUc7A1ua9X3E97ifN6qAvcj7PZmsxHw5XKZQqFAoVBwLeDq9bqvrQi/oKL1EGBFRUQoFArcunULYwwTExPUajXi8TixWMwFlQaDQVfn3Ys3r8sOZ1qtlrv5bG5jo9EgFAoxOzvrSjX3Q7UIb3WGTCbD8vIyzWaTSCTihtJ2ttV+R/s1XLXfu81DLJVKrmv30tIS2WyW27dvOytYh4e9oaL1EGCf7IFAgIWFBZrNJiMjI67D9MjICCdPnuTSpUskEgkSiYSrbApvRtPbYWCr1XKNNOr1Ojdu3GBhYcE1QN3a2iKRSPChD32I8fFxF4Hv97gvawXVajVefvllvv71r7tWbbbe2MWLF7lw4QKxWIzx8XFGR0edgNnjszdVs9l0ydHFYpGFhQXW1tYoFovcvHnTdde5efMmhUJB8xB7REXrIcAmRgOu20s4HGZycpJMJsPIyAgXLlxwUfJe68JrPVhBsn0B19fXKZfLXLt2jRdffNH5ZLa2tkgmkzz22GPbWo/5HWtlbW1tsbq6yosvvkixWHR+rOHhYdrtNtFolHg8DuDEygqbXQ90yl/n83lXmubatWssLi5SLBZZXFwknU6ztbXlasAr9+aARQCPHRWtI8AOWaCTMJ3NZmk0Gq5v4ujoKKOjo6ytrRGJRABc/0QrSHb4lE6nqVarrKyskM1mt3Vh9iYE+/nJ6MU7/LXiZYe7tknuysqKaxeWyWRcX8e9RCudTlMsFikUCqysrLCxseFKA+mM4VvDz9eTitYRYIc/9iYslUqEQiEWFxe5evWqayVvK5ju/KwVpkqlQqlUckPFQqGAMcZ1XY5EIi4huF/y6byO8nq97spU25lEESGVSvHyyy8TCoWIx+Oul6T1BXppNpuUSiWXHJ3JZJw1akXLW6xR6Q0/X0sqWkeAN03EDk2g0zLL9k+0wrWzuar1adnhpq22aYUpEAjQarUIBAJ3CZafLzQvXuGy8VPWJ2WMIZfLudg2K862qsNOn1ar1XKC5XXKK/eHn68lFa1jxFthoNls0mg07mot5m22YH97hzbe8Idms+kslPuJbTpObJiDbb9mj2Pn8M0r0DYmrdVq3SVaXqHqJ+H2O37+Hv1/lQ8QVrDsDbi1tbXrcl6/j72ZvReRHfpUKhVXH73VarlmGX4Ne7AxZoVCwfmgvL4nrxCJiIuYt/6uvY7LK1h+vtn6Bb9/jypax4z3gngrwxhrgVkLpdFoUKvVCIfDfRHpbX1Ztm77Xo7y+/mOlPvHzxMXKlp9iNcnVKvVKBQKiAjJZPItRdwfF7ZMstfK6qdJhIcJP58PFa0+xOvEzuVyrK6uUq1WGR8f9/XFZoyhVCqxvr7umqdqRyJ/4ufrSEWrT7H+nnq9TrlcdnWk/Iy1tMrl8rY8QBUsf6E+LeXQ8aawpNNpbt26RbFYZH5+3jm0/VRk0NujMJvNcuvWLTKZDJubmy4J3M83ycOIn8+HilYfYm/yer3OzZs3abVaTE9Pc+7cOR577DGXQO2XEAhvmMOtW7f4zne+QyaTYWlpycVXKf5iIESr243nCrBsjPlpETlPp33YJPA88PPGGE3uOkba7TblcpmNjQ0CgQDlctnFeflFsOBNS8tGr6fTaTY3N120v+I//PwgOUiG7S8Dr3pe/x7w+8aYi0AW+ORh7phyb6y1Zet32aoQuVyOer3+oHcPwKUjbWxsuGJ8Nk7LRvsr/sIb83avnwdBT6IlIrPA3wf+sPtagA8BX+ou8gzwM0exg8retNttKpWK8w+tra2xvLzsKkP4QRCMMeTzeW7evMnCwgJ37txhY2ODTCZDpVLx9RP9YcbPotXrGOJfAv8UGOm+ngRyxhgbzbgEnNntgyLyFPDU/eyksjveHEcbZFqpVAiFQr6ZSbTFDEulEsVikXK57Cqv6tDQv/jhgbcX9xQtEflpIGWMeV5EPnjQDRhjngae7q7Lv99En2Ij5BuNBuvr6ywsLJBMJkkmk8zMzLgGssc9k+jNj0ylUly7do1MJsPa2ppzvvv5xnjY8fO56cXS+gDwERH5KSAGjAKfAZIiEupaW7PA8tHtprIXNjCzWq2yuLhIKBRienqaU6dOce7cOdcw4rgrmtoZQzvD+Z3vfIdUKsXa2hq1Wk2tLB/j9yKA9/RpGWN+wxgza4w5B3wc+Lox5h8A3wB+trvYk8CXj2wvlX2x1la5XHaO+AedImMtra2tLarVqitoWC6XfX1DKB0Gwae1G78OfEFE/jnwAvC5w9kl5a1gCwWurq7SarVYX19nc3OTaDRKMpkkkUgc6/5Uq1VSqRTlcpnNzU3y+TzFYpFaraai1Qf0+/DQYYz5JvDN7t83gPcc/i4pbwUbHV8sFimVSty+fZulpSUSiQSRSORYRcsYQ7FYZGlpiXw+z/LyMul0mmw2q6WP+4SBES3Fv9i8PlvJ0+b3BYNBV2/qOJ3xzWaTSqVCuVx2Bf+2trZUsPoEFS3lWLCCUKvVWF1d5bXXXmNiYoJkMsn09DSBQOBIO/Z4S+bkcjlu3bpFOp1mY2PD5UT6+WZQOvj9PKloDRDW6V6tVrl58yahUIiTJ09y7tw5ms2mm0E8KuHyOt/T6TTXr19nfX2dlZUV6vW6zhj2EX62iP3fKE85EHYm0RYHtOkyxzGL6G3AYdOL1Pnenxzm7KGIPCEi10RkQUQ+vc9y/52IGBF5fL/1qaU1gLRaLbLZLMFgEGMM6XSaQqFAJBIhHo8TjUaPZLtbW1tOJDc3N1ldXWVtbc3VsFf6h8N6wHULLXwW+Ak6mTPPicizxphXdiw3Qie/+dv3WqeK1gBiZxJt1YdUKkU2m2VoaMi1nj8K6vU6uVyOSqXC+vo6t2/fZnV1lXq93hf165UOh+zTeg+w0I02QES+AHwUeGXHcv8rnSIM/+ReK9Th4QBicxJtAwk7c3fU4Qbtdntbx2jbt1EFq/84wPBwSkSueH525hmfAe54Xt+Vpywi7wbmjDH/by/7ppbWgOKtFlosFslkMmxtbTE2NnZk2/QmRlcqFSeSfp+NUu7mAOdr0xizrw9qP0QkAPwL4Bd6/YyK1gBiHeKA636TyWRotVqcOHHiyLZrBTKfz1Mul7VpRR9ziOdsGZjzvN6ZpzwCvAP4ZjeO8CTwrIh8xBhzZbcVqmgNMLZphO2P6G2IelTbsyEP3trvamX1F4d8zp4DLnUrHS/TyV/+Oc+28sCUfS0i3wT+8V6CBSpaA4vt0mxLHGcyGUSERuNoKmLbKqq5XM5NAniHh0p/cVjnzBjTFJFPAV8FgsDnjTFXReR3gCvGmGcPuk4VrQHFPi29Pq1gMOhKHB9FSk+9Xncln4vFoqbt9DGH+aAxxnwF+MqO935zj2U/eK/1qWg9JKi1oxwEP18vKloDioggIgSDQYaGhhgZGSEejxMOh48scTocDhOPx6lWq8RiMVc1Vf1a/YXfiwCqaA0oXtGKxWIkEgmGh4ePtLVYOBxmeHiYRCLhRMsKpIpWf+Hn86WiNcCICIFAgGAw6MouH2WVBxEhFAoRiUScRScivr4BlN3x8zlT0RpQrFhFIhHGxsaYnp5mdHT0yFJ4RIRYLMbExATBYJDR0VEikYirLOHn4YZyNypayrHitbBCoRCJRIKJiQni8TiRSOTIthuJREgmk26b4XDYJW2rxdVf+PlcqWgNKHZIGIlE3E84HD7S4eHObYbDYcLhsAu9UPoDv0+cqGgNIMFgkEQiwejoKFNTU0xNTTE5OUksFjuy4SG8aWkNDQ257W5tbVEoFFyUvNIf+Hk4r6I1gAQCAYaHh0kmk4yPj7vmrdbyOSoikQijo6M0Gg237Wq1SrPZJJfLHdl2lcOn7y0tEbkJFIEW0DTGPC4iE8CfAueAm8DHjDHZo9lN5SCICOFwmKGhIVdD6zg6Te+crfRu/7g7XCv3h59F6yAOjv/WGPODnjIUnwa+Zoy5BHyt+1rxAaFQiKmpKS5cuMD8/Lyzso465CEQCLiQh2Qyyfz8PBcuXGBqaupI48OUw6XXWlr92Kz1o8AHu38/Q6cf4q/f5/4oh0AwGCSZTHLq1Cmmp6fdTN5RCha8GaclIoyMjHDixAkCgQDr6+su9EHpD/xsafUqWgb4ryJigH9jjHkaOGGMWe3+fw3YtVBTt5LhzmqGyhFiK5fWajVXOdQ6Vo9auLzlcLzb9/NNoNzNIDjif9QYsywiM8BfiMhr3n8aY0xX0O6iK3BPA+y1jHK4NJtNMpkMt2/fptlsks/nqdVqboh4VFZPq9Vy9bRyuRwrKyusra2RTqe1sUUfMRAhD8aY5e7vlIj8GZ1i9esicsoYsyoip4DUEe6ncgDa7TalUol0Ok00GnW1rYAjHabZeKytrS3K5TLpdJp0Ok2pVPL1k1u5Gz+L1j3HCiIS77b3QUTiwN8Dvg88CzzZXexJ4MtHtZPKwTDG0Gg0qFQqVKtV6vU6jUbjyBtb2Jr0tqFGtVqlUqloXa0+pN8d8SeAP+tOWYeA/9sY8+ci8hzwRRH5JHAL+NjR7aZyEFqtFvl83nWV3tjYcC3E7OzeUVCv18lkMq6FmB0elstlFa0+w8+W1j1Fq9uv7F27vJ8GPnwUO6XcH+12m0qlQqPRIB6PUyqVqFQqAEcalW678ZTLZfL5PLlcjmw2e+QWnnL49LVoKf2JNd9brRa1Wo1SqQQcrWjZGcNKpUK9XnedePzu2FW2o0UAlWPHipUxhlqtxubmJnfu3GF8fJzJyckjqRFvjKFarZJKpZyF1Wg0tIVYn+Lnh4yK1oBin5Z2yJbJZAgEAq6xBXBowmUtKdtjMZ/Pb2vWqqLVf6hoKceOveiazSbZbJaVlRUajQbz8/OMj48TCoUYGhpyTvmDCpi3249Nik6lUqysrJBOp50vy88Xv7I3fj5vKloDihWVSqXCa6+9RjqdZmZmhkgkwtbWFolEgjNnzjAxMeFqyfcaLd9ut93wM5vNsrS0RLlc5qWXXuJb3/oWqVSKVCpFpVJRK6sP8bsPUkVrwGk0Gqyvr1MoFCiXyywvLzMzM0OtVmNiYoJWq0UgEHBdc3rBDj3tLOXm5ib5fJ6lpSUWFxdZX1+nWq1q4b8+RkVLeWDYPMRGo0GpVGJ5eZl4PM7o6CjtdptsNksoFCIWi7lk517WV6vVaDabrK2tsbCwQKFQYGVlhXK57AJZ/XzhK/vjZwtZRWvAabfb1Ot1l17zN3/zN7zyyiskEgnOnz/P9PQ00WiU8fFxhoeHnWjtFC8rQHbImc1mqdfrpFIpbt68SalUIpfLkUqltoU7KP2Jnx84KloPATY2a2tri0ajwerqKvF4nHK5zPT0NLFYjBMnTpBIJFzbr92wvo5isUgqlaJWq7GxscHt27ddfmOj0fD1Ba/cG/VpKb7COtFteEIgEHDO+eHhYbfcfpZWtVoll8tRq9UoFosajzWAqGgpvsD6o1qtFq1Wi+XlZdbX1wkEAq4ks2Uv0YI3E6Nt3Sw7HPT7E1rpHT+fRxWthwwrLDbwVFF2w89Ws4qWoijb8LvFrKKlKMpdqGgpitJXqGgpitJX+Fm0jrY1i6IofclhllsWkSdE5JqILIjIXf1RReRXReQVEXlJRL4mImf3W5+KlqIo2/Dmlt7r516ISBD4LPCTwGXgEyJyecdiLwCPG2N+APgS8L/vt04VLUVR7uIQLa33AAvGmBvGmAbwBTqNnr3b+oYxptJ9+bfA7H4rVJ+Woih3cQCf1pSIXPG8frrb69RyBrjjeb0EvHef9X0S+C/7bbAn0RKRJPCHwDvodJv+H4BrwJ8C54CbwMeMMdle1qcoir85gGhtGmMeP4xtisg/BB4Hfny/5XodHn4G+HNjzKN0OvO8Cnwa+Jox5hLwte5rRVH6nF6Hhj0K2zIw53k9231vGyLyd4H/GfiIMaa+3wp7adY6Bvwd4HPdA2oYY3J0xqXPdBd7BviZHg5AUZQ+4BBF6zngkoicF5EI8HE6jZ4dIvJDwL+hI1j37FTfy/DwPLAB/FsReRfwPPDLwAljzGp3mTU6TV3vQkSeAp7qYTuKoviEw8o9NMY0ReRTwFeBIPB5Y8xVEfkd4Iox5lng/wASwH/oJurfNsZ8ZK91yr3UUkQep+PR/4Ax5tsi8hmgAPySMSbpWS5rjBm/x7r8G7GmKAOCMea+2iwNDw+bixcv9rTsyy+//Pxh+bR6pRef1hKwZIz5dvf1l4B3A+sicgqg+/ueZp2iKP7nkH1ah849RcsYswbcEZG3d9/6MPAKnXHpk933ngS+fCR7qCjKseNn0eo1TuuXgD/uOtJuAL9IR/C+KCKfBG4BHzuaXVQU5bjxc+5hT6JljHmRTvzETj58uLujKIof0CKAiqL0DVoEUFGUvkNFS1GUvkJFS1GUvkJFS1GUvkJFS1GUvsEWAfQrKlqKotyFWlqKovQVKlqKovQVKlqKovQNGlyqKErfoaKlKEpfobOHiqL0FWppKYrSN6hPS1GUvkNFS1GUvkJFS1GUvkId8Yqi9A3q01IUpe9Q0VIUpa/ws2jds4WYiLxdRF70/BRE5FdEZEJE/kJErnd/79uoVVGU/sHPLcR66Xt4zRjzg8aYHwT+G6AC/BnwaeBrxphLwNe6rxVFGQD6WrR28GHgDWPMLeCjwDPd958BfuYwd0xRlAeDLQLYy8+D4KA+rY8Df9L9+4QxZrX79xpw4tD2SlGUB0pf+7Qs3e7SHwH+w87/mc4R7nqUIvKUiFwRkStveS8VRTlW/Dw8PIil9ZPAd40x693X6yJyyhizKiKngNRuHzLGPA08DSAi/pVvRVEcA2FpAZ/gzaEhwLPAk92/nwS+fFg7pSjKg6NXK+tBCZv0smERiQO3gQvGmHz3vUngi8A8cAv4mDEmc4/1+Fe+FWVAMMbI/Xw+EAiYaDTa07K1Wu15Y8zj97O9g9LT8NAYUwYmd7yXpjObqCjKgKG5h4qi9BV+9mmpaCmKsg2/J0wfNLhUUZSHgMN0xIvIEyJyTUQWROSuzBkRiYrIn3b//20RObff+lS0FEW5i8MSLREJAp+lEzJ1GfiEiFzesdgngawx5iLw+8Dv7bdOFS1FUe7iENN43gMsGGNuGGMawBfopAB68aYEfgn4sIjsOQN63D6tTaDc/f0wMIUe6yDi52M9ewjr+CqdY+yF2I5sl6e7AeWWM8Adz+sl4L071uGWMcY0RSRPJ1ph1+/4WEXLGDMtIleOO67jQaHHOpgM+rEaY5540PuwHzo8VBTlKFkG5jyvZ7vv7bqMiISAMSC91wpVtBRFOUqeAy6JyPlu0YWP00kB9OJNCfxZ4OtmHy//g4jTevreiwwMeqyDycN0rPdF10f1KTp+siDweWPMVRH5HeCKMeZZ4HPAvxeRBSBDR9j2pKfcQ0VRFL+gw0NFUfoKFS1FUfqKYxWte4Xz9ysiMici3xCRV0Tkqoj8cvf9ge1YJCJBEXlBRP5z9/X5bgrGQjclI/Kg9/EwEJGkiHxJRF4TkVdF5H2DfF77gWMTrR7D+fuVJvBrxpjLwI8A/6h7bIPcseiXgVc9r38P+P1uKkaWTmrGIPAZ4M+NMY8C76JzzIN8Xn3PcVpavYTz9yXGmFVjzHe7fxfpXNhnGNCORSIyC/x94A+7rwX4EJ0UDBiQYxWRMeDv0JndwhjTMMbkGNDz2i8cp2jtFs5/5hi3fyx0M9R/CPg2g9ux6F8C/xSwyWeTQM4Y0+y+HpRzex7YAP5tdyj8h90qvoN6XvsCdcQfIiKSAP4j8CvGmIL3f/t1LOonROSngZQx5vkHvS/HQAh4N/AHxpgfopM3u20oOCjntZ84TtHqJZy/bxGRMB3B+mNjzH/qvr3e7VTEfh2L+owPAB8RkZt0hvgfouP3SXZTMGBwzu0SsGSM+Xb39ZfoiNggnte+4ThFq5dw/r6k69P5HPCqMeZfeP41cB2LjDG/YYyZNcaco3MOv26M+QfAN+ikYMDgHOsacEdE3t5968PAKwzgee0njjUiXkR+io4/xIbz/2/HtvEjRER+FPj/gJd508/zz+j4tQ7UsaifEJEPAv/YGPPTInKBjuU1AbwA/ENjTP1B7t9hICI/SGfCIQLcAH6RzsN+YM+r39E0HkVR+gp1xCuK0leoaCmK0leoaCmK0leoaCmK0leoaCmK0leoaCmK0leoaCmK0lf8/6CuPeOh9AU0AAAAAElFTkSuQmCC\n"
                },
                "metadata": {
                  "needs_background": "light"
                }
              }
            ]
          }
        },
        "fdf782bc18174581bd943617fbba2d62": {
          "model_module": "@jupyter-widgets/base",
          "model_name": "LayoutModel",
          "model_module_version": "1.2.0",
          "state": {
            "_model_module": "@jupyter-widgets/base",
            "_model_module_version": "1.2.0",
            "_model_name": "LayoutModel",
            "_view_count": null,
            "_view_module": "@jupyter-widgets/base",
            "_view_module_version": "1.2.0",
            "_view_name": "LayoutView",
            "align_content": null,
            "align_items": null,
            "align_self": null,
            "border": null,
            "bottom": null,
            "display": null,
            "flex": null,
            "flex_flow": null,
            "grid_area": null,
            "grid_auto_columns": null,
            "grid_auto_flow": null,
            "grid_auto_rows": null,
            "grid_column": null,
            "grid_gap": null,
            "grid_row": null,
            "grid_template_areas": null,
            "grid_template_columns": null,
            "grid_template_rows": null,
            "height": null,
            "justify_content": null,
            "justify_items": null,
            "left": null,
            "margin": null,
            "max_height": null,
            "max_width": null,
            "min_height": null,
            "min_width": null,
            "object_fit": null,
            "object_position": null,
            "order": null,
            "overflow": null,
            "overflow_x": null,
            "overflow_y": null,
            "padding": null,
            "right": null,
            "top": null,
            "visibility": null,
            "width": null
          }
        },
        "0fa6c22cea064509bf81ce8cfb4f24ba": {
          "model_module": "@jupyter-widgets/base",
          "model_name": "LayoutModel",
          "model_module_version": "1.2.0",
          "state": {
            "_model_module": "@jupyter-widgets/base",
            "_model_module_version": "1.2.0",
            "_model_name": "LayoutModel",
            "_view_count": null,
            "_view_module": "@jupyter-widgets/base",
            "_view_module_version": "1.2.0",
            "_view_name": "LayoutView",
            "align_content": null,
            "align_items": null,
            "align_self": null,
            "border": null,
            "bottom": null,
            "display": null,
            "flex": null,
            "flex_flow": null,
            "grid_area": null,
            "grid_auto_columns": null,
            "grid_auto_flow": null,
            "grid_auto_rows": null,
            "grid_column": null,
            "grid_gap": null,
            "grid_row": null,
            "grid_template_areas": null,
            "grid_template_columns": null,
            "grid_template_rows": null,
            "height": null,
            "justify_content": null,
            "justify_items": null,
            "left": null,
            "margin": null,
            "max_height": null,
            "max_width": null,
            "min_height": null,
            "min_width": null,
            "object_fit": null,
            "object_position": null,
            "order": null,
            "overflow": null,
            "overflow_x": null,
            "overflow_y": null,
            "padding": null,
            "right": null,
            "top": null,
            "visibility": null,
            "width": null
          }
        },
        "6a60e8aec6e449d6a9463c7bc394b744": {
          "model_module": "@jupyter-widgets/controls",
          "model_name": "DescriptionStyleModel",
          "model_module_version": "1.5.0",
          "state": {
            "_model_module": "@jupyter-widgets/controls",
            "_model_module_version": "1.5.0",
            "_model_name": "DescriptionStyleModel",
            "_view_count": null,
            "_view_module": "@jupyter-widgets/base",
            "_view_module_version": "1.2.0",
            "_view_name": "StyleView",
            "description_width": ""
          }
        },
        "e02827f6f2a64ec68bae2e62b4045e1c": {
          "model_module": "@jupyter-widgets/base",
          "model_name": "LayoutModel",
          "model_module_version": "1.2.0",
          "state": {
            "_model_module": "@jupyter-widgets/base",
            "_model_module_version": "1.2.0",
            "_model_name": "LayoutModel",
            "_view_count": null,
            "_view_module": "@jupyter-widgets/base",
            "_view_module_version": "1.2.0",
            "_view_name": "LayoutView",
            "align_content": null,
            "align_items": null,
            "align_self": null,
            "border": null,
            "bottom": null,
            "display": null,
            "flex": null,
            "flex_flow": null,
            "grid_area": null,
            "grid_auto_columns": null,
            "grid_auto_flow": null,
            "grid_auto_rows": null,
            "grid_column": null,
            "grid_gap": null,
            "grid_row": null,
            "grid_template_areas": null,
            "grid_template_columns": null,
            "grid_template_rows": null,
            "height": null,
            "justify_content": null,
            "justify_items": null,
            "left": null,
            "margin": null,
            "max_height": null,
            "max_width": null,
            "min_height": null,
            "min_width": null,
            "object_fit": null,
            "object_position": null,
            "order": null,
            "overflow": null,
            "overflow_x": null,
            "overflow_y": null,
            "padding": null,
            "right": null,
            "top": null,
            "visibility": null,
            "width": null
          }
        },
        "1f92750bfd8648a4b893c6827a5047e8": {
          "model_module": "@jupyter-widgets/controls",
          "model_name": "VBoxModel",
          "model_module_version": "1.5.0",
          "state": {
            "_dom_classes": [
              "widget-interact"
            ],
            "_model_module": "@jupyter-widgets/controls",
            "_model_module_version": "1.5.0",
            "_model_name": "VBoxModel",
            "_view_count": null,
            "_view_module": "@jupyter-widgets/controls",
            "_view_module_version": "1.5.0",
            "_view_name": "VBoxView",
            "box_style": "",
            "children": [
              "IPY_MODEL_889fc2b2532b4aa99b32eaee4977320e",
              "IPY_MODEL_a584e707506148c0aae40c0fbe0aeda8",
              "IPY_MODEL_6701ef2741c545d6b2e46cf481aa7abd"
            ],
            "layout": "IPY_MODEL_43fe1191c3aa48b6820039675219b1d8"
          }
        },
        "889fc2b2532b4aa99b32eaee4977320e": {
          "model_module": "@jupyter-widgets/controls",
          "model_name": "FloatSliderModel",
          "model_module_version": "1.5.0",
          "state": {
            "_dom_classes": [],
            "_model_module": "@jupyter-widgets/controls",
            "_model_module_version": "1.5.0",
            "_model_name": "FloatSliderModel",
            "_view_count": null,
            "_view_module": "@jupyter-widgets/controls",
            "_view_module_version": "1.5.0",
            "_view_name": "FloatSliderView",
            "continuous_update": false,
            "description": "Porosity",
            "description_tooltip": null,
            "disabled": false,
            "layout": "IPY_MODEL_d52d570d1a454c5682b331354069af05",
            "max": 0.99,
            "min": 0.35,
            "orientation": "horizontal",
            "readout": true,
            "readout_format": ".2f",
            "step": 0.01,
            "style": "IPY_MODEL_0b921562990345b6ad9a5b506f6a97b7",
            "value": 0.72
          }
        },
        "a584e707506148c0aae40c0fbe0aeda8": {
          "model_module": "@jupyter-widgets/controls",
          "model_name": "ButtonModel",
          "model_module_version": "1.5.0",
          "state": {
            "_dom_classes": [],
            "_model_module": "@jupyter-widgets/controls",
            "_model_module_version": "1.5.0",
            "_model_name": "ButtonModel",
            "_view_count": null,
            "_view_module": "@jupyter-widgets/controls",
            "_view_module_version": "1.5.0",
            "_view_name": "ButtonView",
            "button_style": "",
            "description": "Run Interact",
            "disabled": false,
            "icon": "",
            "layout": "IPY_MODEL_4e8663bf58d44f769fbc74ae46a3c1a8",
            "style": "IPY_MODEL_06a82931f8e44eec8acb212297313308",
            "tooltip": ""
          }
        },
        "6701ef2741c545d6b2e46cf481aa7abd": {
          "model_module": "@jupyter-widgets/output",
          "model_name": "OutputModel",
          "model_module_version": "1.0.0",
          "state": {
            "_dom_classes": [],
            "_model_module": "@jupyter-widgets/output",
            "_model_module_version": "1.0.0",
            "_model_name": "OutputModel",
            "_view_count": null,
            "_view_module": "@jupyter-widgets/output",
            "_view_module_version": "1.0.0",
            "_view_name": "OutputView",
            "layout": "IPY_MODEL_ec6ce7358f7a4b2a9a00ee7eee099270",
            "msg_id": "",
            "outputs": [
              {
                "output_type": "display_data",
                "data": {
                  "text/plain": "<Figure size 432x288 with 2 Axes>",
                  "image/png": "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\n"
                },
                "metadata": {
                  "needs_background": "light"
                }
              }
            ]
          }
        },
        "43fe1191c3aa48b6820039675219b1d8": {
          "model_module": "@jupyter-widgets/base",
          "model_name": "LayoutModel",
          "model_module_version": "1.2.0",
          "state": {
            "_model_module": "@jupyter-widgets/base",
            "_model_module_version": "1.2.0",
            "_model_name": "LayoutModel",
            "_view_count": null,
            "_view_module": "@jupyter-widgets/base",
            "_view_module_version": "1.2.0",
            "_view_name": "LayoutView",
            "align_content": null,
            "align_items": null,
            "align_self": null,
            "border": null,
            "bottom": null,
            "display": null,
            "flex": null,
            "flex_flow": null,
            "grid_area": null,
            "grid_auto_columns": null,
            "grid_auto_flow": null,
            "grid_auto_rows": null,
            "grid_column": null,
            "grid_gap": null,
            "grid_row": null,
            "grid_template_areas": null,
            "grid_template_columns": null,
            "grid_template_rows": null,
            "height": null,
            "justify_content": null,
            "justify_items": null,
            "left": null,
            "margin": null,
            "max_height": null,
            "max_width": null,
            "min_height": null,
            "min_width": null,
            "object_fit": null,
            "object_position": null,
            "order": null,
            "overflow": null,
            "overflow_x": null,
            "overflow_y": null,
            "padding": null,
            "right": null,
            "top": null,
            "visibility": null,
            "width": null
          }
        },
        "d52d570d1a454c5682b331354069af05": {
          "model_module": "@jupyter-widgets/base",
          "model_name": "LayoutModel",
          "model_module_version": "1.2.0",
          "state": {
            "_model_module": "@jupyter-widgets/base",
            "_model_module_version": "1.2.0",
            "_model_name": "LayoutModel",
            "_view_count": null,
            "_view_module": "@jupyter-widgets/base",
            "_view_module_version": "1.2.0",
            "_view_name": "LayoutView",
            "align_content": null,
            "align_items": null,
            "align_self": null,
            "border": null,
            "bottom": null,
            "display": null,
            "flex": null,
            "flex_flow": null,
            "grid_area": null,
            "grid_auto_columns": null,
            "grid_auto_flow": null,
            "grid_auto_rows": null,
            "grid_column": null,
            "grid_gap": null,
            "grid_row": null,
            "grid_template_areas": null,
            "grid_template_columns": null,
            "grid_template_rows": null,
            "height": null,
            "justify_content": null,
            "justify_items": null,
            "left": null,
            "margin": null,
            "max_height": null,
            "max_width": null,
            "min_height": null,
            "min_width": null,
            "object_fit": null,
            "object_position": null,
            "order": null,
            "overflow": null,
            "overflow_x": null,
            "overflow_y": null,
            "padding": null,
            "right": null,
            "top": null,
            "visibility": null,
            "width": null
          }
        },
        "0b921562990345b6ad9a5b506f6a97b7": {
          "model_module": "@jupyter-widgets/controls",
          "model_name": "SliderStyleModel",
          "model_module_version": "1.5.0",
          "state": {
            "_model_module": "@jupyter-widgets/controls",
            "_model_module_version": "1.5.0",
            "_model_name": "SliderStyleModel",
            "_view_count": null,
            "_view_module": "@jupyter-widgets/base",
            "_view_module_version": "1.2.0",
            "_view_name": "StyleView",
            "description_width": "",
            "handle_color": null
          }
        },
        "4e8663bf58d44f769fbc74ae46a3c1a8": {
          "model_module": "@jupyter-widgets/base",
          "model_name": "LayoutModel",
          "model_module_version": "1.2.0",
          "state": {
            "_model_module": "@jupyter-widgets/base",
            "_model_module_version": "1.2.0",
            "_model_name": "LayoutModel",
            "_view_count": null,
            "_view_module": "@jupyter-widgets/base",
            "_view_module_version": "1.2.0",
            "_view_name": "LayoutView",
            "align_content": null,
            "align_items": null,
            "align_self": null,
            "border": null,
            "bottom": null,
            "display": null,
            "flex": null,
            "flex_flow": null,
            "grid_area": null,
            "grid_auto_columns": null,
            "grid_auto_flow": null,
            "grid_auto_rows": null,
            "grid_column": null,
            "grid_gap": null,
            "grid_row": null,
            "grid_template_areas": null,
            "grid_template_columns": null,
            "grid_template_rows": null,
            "height": null,
            "justify_content": null,
            "justify_items": null,
            "left": null,
            "margin": null,
            "max_height": null,
            "max_width": null,
            "min_height": null,
            "min_width": null,
            "object_fit": null,
            "object_position": null,
            "order": null,
            "overflow": null,
            "overflow_x": null,
            "overflow_y": null,
            "padding": null,
            "right": null,
            "top": null,
            "visibility": null,
            "width": null
          }
        },
        "06a82931f8e44eec8acb212297313308": {
          "model_module": "@jupyter-widgets/controls",
          "model_name": "ButtonStyleModel",
          "model_module_version": "1.5.0",
          "state": {
            "_model_module": "@jupyter-widgets/controls",
            "_model_module_version": "1.5.0",
            "_model_name": "ButtonStyleModel",
            "_view_count": null,
            "_view_module": "@jupyter-widgets/base",
            "_view_module_version": "1.2.0",
            "_view_name": "StyleView",
            "button_color": null,
            "font_weight": ""
          }
        },
        "ec6ce7358f7a4b2a9a00ee7eee099270": {
          "model_module": "@jupyter-widgets/base",
          "model_name": "LayoutModel",
          "model_module_version": "1.2.0",
          "state": {
            "_model_module": "@jupyter-widgets/base",
            "_model_module_version": "1.2.0",
            "_model_name": "LayoutModel",
            "_view_count": null,
            "_view_module": "@jupyter-widgets/base",
            "_view_module_version": "1.2.0",
            "_view_name": "LayoutView",
            "align_content": null,
            "align_items": null,
            "align_self": null,
            "border": null,
            "bottom": null,
            "display": null,
            "flex": null,
            "flex_flow": null,
            "grid_area": null,
            "grid_auto_columns": null,
            "grid_auto_flow": null,
            "grid_auto_rows": null,
            "grid_column": null,
            "grid_gap": null,
            "grid_row": null,
            "grid_template_areas": null,
            "grid_template_columns": null,
            "grid_template_rows": null,
            "height": null,
            "justify_content": null,
            "justify_items": null,
            "left": null,
            "margin": null,
            "max_height": null,
            "max_width": null,
            "min_height": null,
            "min_width": null,
            "object_fit": null,
            "object_position": null,
            "order": null,
            "overflow": null,
            "overflow_x": null,
            "overflow_y": null,
            "padding": null,
            "right": null,
            "top": null,
            "visibility": null,
            "width": null
          }
        }
      }
    },
    "accelerator": "GPU",
    "gpuClass": "standard"
  },
  "cells": [
    {
      "cell_type": "markdown",
      "metadata": {
        "id": "view-in-github",
        "colab_type": "text"
      },
      "source": [
        "<a href=\"https://colab.research.google.com/github/BC-Chang/LBM_Workshop/blob/master/D2Q9_LBM_main.ipynb\" target=\"_parent\"><img src=\"https://colab.research.google.com/assets/colab-badge.svg\" alt=\"Open In Colab\"/></a>"
      ]
    },
    {
      "cell_type": "markdown",
      "source": [
        "# Digital Porous Media Industrial Affiliates Program (DPM-IAP) Workshop\n",
        "### Dr. Masa Prodanovic and Bernard Chang\n",
        "\n",
        "\n",
        "In this first hands-on activity, we will demonstrate the general algorithm used to perform single phase lattice Boltzmann simulations. The ultimate goal of this exercise is to calculate the velocity field through a given medium. From there, we will demonstrate some visualizations of the velocity field and obtain a value for the permeability through this domain. This example is performed on a 2-dimensional lattice with 9 discrete velocities (D2Q9).\n",
        "\n",
        "Before we get started, let's import some packages\n"
      ],
      "metadata": {
        "id": "N-k4vBB36_sw",
        "pycharm": {
          "name": "#%% md\n"
        }
      }
    },
    {
      "cell_type": "code",
      "execution_count": 26,
      "metadata": {
        "id": "t7Wpd3A46qjp",
        "pycharm": {
          "name": "#%%\n"
        }
      },
      "outputs": [],
      "source": [
        "#@title Import Packages\n",
        "%%capture\n",
        "import numpy as np\n",
        "import matplotlib.pyplot as plt\n",
        "import scipy as sc\n",
        "import tifffile\n",
        "\n",
        "# Porespy for generating domains\n",
        "try:\n",
        "  import porespy as ps\n",
        "except:\n",
        "  !pip install -q porespy==1.0.0\n",
        "  import porespy as ps\n",
        "\n",
        "from skimage.measure import regionprops,label\n",
        "\n",
        "import sys\n",
        "import os\n",
        "from tqdm import tqdm\n",
        "\n",
        "try:\n",
        "  os.chdir(\"./LBM_Workshop\")\n",
        "  # sys.path.append(\"./LBM_Workshop/\")\n",
        "except:\n",
        "  !git clone https://github.com/BC-Chang/LBM_Workshop.git\n",
        "  os.chdir(\"./LBM_Workshop\")\n",
        "\n",
        "from plotting_utils import plot_profile, plot_quiver, plot_streamlines\n",
        "\n",
        "# Import a timer\n",
        "from time import perf_counter_ns, sleep\n",
        "\n",
        "# Import ipywidgets\n",
        "import ipywidgets as widgets\n",
        "from ipywidgets import interact, interact_manual, interactive\n",
        "from IPython.display import display, clear_output\n",
        "\n",
        "import torch\n"
      ]
    },
    {
      "cell_type": "markdown",
      "source": [
        "## A Step-by-Step Introduction to the Lattice Boltzmann Method\n",
        "\n",
        "### Background\n",
        "The fundamental variable in **kinetic theory**, on which LBM is based, is the particle distribution function $f(x, \\xi, t)$. It simultaneously represents mass density in physical space and in velocity space. In other words, $f$ represents the density of particles with particle velocity, $\\xi$, at position $x$ and time $t$\n",
        "\n",
        "The distribution function, $f$, is also related to macroscopic variables such as density, $\\rho$ and fluid velocity, $u$ through its **moments**. These moments are integrals of $f$, weighted with some function of $\\xi$. For example, the macroscopic mass density can be found as:\n",
        "$$\\rho(x, t) = \\int f(x,\\xi,t)d^3\\xi.$$\n",
        "\n",
        "Similarly, the momentum density is,\n",
        "$$\\rho(x, t)u(x,t) = \\int \\xi f(x, \\xi, t)d^3\\xi.$$\n",
        "\n",
        "\n",
        "In LBM, we deal with the *discrete-velocity distribution function, $f_i(x, t)$*. The mass density, $\\rho$, and the momentum density, $u$, are found through the weighted sums (moments) of $f_i$:\n",
        "$$\\rho = \\sum f_i(x, t),$$\n",
        "and\n",
        "$$\\rho u(x,t) = \\sum c_i f_i(x, t),$$\n",
        "\n",
        "where $c_i$ is a discrete set of velocities discussed below."
      ],
      "metadata": {
        "id": "AhhZnkWEmaef"
      }
    },
    {
      "cell_type": "markdown",
      "source": [
        "### Defining our Lattice\n",
        "\n",
        "For this exercise, we will use a 2-dimensional lattice with 9 discrete velocities (D2Q9). This means, that in every grid space, there are 9 possible connections — North, South, East, West, 4 diagonal connections and 1 connection from the node itself, representing zero velocity.\n",
        "\n",
        "Each lattice direction also has a weight, $w_i$ associated with it. For D2Q9 LBM, these will be:\n",
        "\n",
        "<img src='https://media.springernature.com/full/springer-static/image/art%3A10.1007%2Fs11831-019-09347-7/MediaObjects/11831_2019_9347_Fig2_HTML.png?as=webp' height=\"300\">\n",
        "\n",
        "\n",
        "In the following cell, we will initialize these velocity directions and their weights.\n"
      ],
      "metadata": {
        "id": "Jmz6WdbHvCxN"
      }
    },
    {
      "cell_type": "code",
      "source": [
        "def initialize_weights():\n",
        "\n",
        "  # Define lattice velocity vectors\n",
        "  ex = np.array([0, 1, 0, -1, 0, 1, -1, -1, 1], dtype=np.double)\n",
        "  ey = np.array([0, 0, 1, 0, -1, 1, 1, -1, -1], dtype=np.double)\n",
        "  # c = np.array([[0, 0], [1, 0], [0, 1], [-1, 0], [0, -1], [1, 1], [-1, 1], [-1, -1], [1, -1]])\n",
        "\n",
        "\n",
        "  # Define weights\n",
        "  w_i = np.array([4./9.,\n",
        "                  1./9.,\n",
        "                  1./9.,\n",
        "                  1./9.,\n",
        "                  1./9.,\n",
        "                  1./36.,\n",
        "                  1./36.,\n",
        "                  1./36.,\n",
        "                  1./36.], dtype=np.double)\n",
        "  \n",
        "  return ex, ey, w_i"
      ],
      "metadata": {
        "id": "Kkk4fy-dAVR4"
      },
      "execution_count": 2,
      "outputs": []
    },
    {
      "cell_type": "markdown",
      "source": [
        "<!-- The fundamental variable in **kinetic theory**, on which LBM is based, is the particle distribution function $f(x, \\xi, t)$. It simultaneously represents mass density in physical space and in velocity space. In other words, $f$ represents the density of particles with particle velocity, $\\xi$, at position $x$ and time $t$\n",
        "\n",
        "The distribution function, $f$, is also related to macroscopic variables such as density, $\\rho$ and fluid velocity, $u$ through its **moments**. These moments are integrals of $f$, weighted with some function of $\\xi$. For example, the macroscopic mass density can be found as:\n",
        "$$\\rho(x, t) = \\int f(x,\\xi,t)d^3\\xi.$$\n",
        "\n",
        "Similarly, the momentum density is,\n",
        "$$\\rho(x, t)u(x,t) = \\int \\xi f(x, \\xi, t)d^3\\xi.$$ -->\n",
        "\n",
        "### Obtaining Macroscopic Properties\n",
        "\n",
        "Recall  that macroscopic properties, such as mass and momentum density can be can be obtained from the weighted sum (moments) of the *discrete-velocity distribution function, $f_i(x, t)$*\n",
        "<!-- In LBM, we deal with the *discrete-velocity distribution function, $f_i(x, t)$*. The mass density, $\\rho$, and the momentum density, $u$, are found through the weighted sums (moments) of $f_i$: -->\n",
        "$$\\rho = \\sum f_i(x, t),$$\n",
        "and\n",
        "$$\\rho u(x,t) = \\sum c_i f_i(x, t),$$\n",
        "\n",
        "where $c_i$ is a discrete set of particle velocities. \n"
      ],
      "metadata": {
        "id": "yLwoKN28CEPv"
      }
    },
    {
      "cell_type": "code",
      "source": [
        "def macroscopic(f, fx, fy, ex, ey, nx, ny):\n",
        "  \"\"\"\n",
        "  :f: Discrete particle distribution function\n",
        "  :fx: Row indices of fluid nodes\n",
        "  :fy: Column indices of fluid nodes\n",
        "  :c: Velocity vectors\n",
        "  :nx: Domain size in x\n",
        "  :ny: Domain size in y\n",
        "  :returns: density, velocity components in x and y\n",
        "  \"\"\"\n",
        "  device = torch.device('cuda' if torch.cuda.is_available() else 'cpu')\n",
        "  # Initialize outputs to 0s\n",
        "  u_x = torch.zeros((nx, ny), dtype=torch.float64).to(device)\n",
        "  u_y = torch.zeros((nx, ny), dtype=torch.float64).to(device)\n",
        "  rho = torch.zeros((nx, ny), dtype=torch.float64).to(device)\n",
        "\n",
        "  # Calculate macroscopic properties from moments. Only calculate where there are fluid nodes\n",
        "  # Density\n",
        "  rho[fx, fy] += torch.sum(f[:, fx, fy], axis=0)\n",
        "\n",
        "  # Velocity\n",
        "  u_x[fx, fy] += torch.sum(ex[:, None] * f[:, fx, fy], axis=0)\n",
        "  u_y[fx, fy] += torch.sum(ey[:, None] * f[:, fx, fy], axis=0)\n",
        "  u_x[fx, fy] = u_x[fx, fy] / rho[fx, fy]\n",
        "  u_y[fx, fy] = u_y[fx, fy] / rho[fx, fy]\n",
        "\n",
        "  return rho, u_x, u_y\n"
      ],
      "metadata": {
        "id": "Ga7pdr-oehnh"
      },
      "execution_count": 17,
      "outputs": []
    },
    {
      "cell_type": "markdown",
      "source": [
        "### Equilibrium Calculation\n",
        "\n",
        "Recall the *lattice Boltzmann equation* from the discretization of the Boltzmann equation:\n",
        "$$f_i(x + c_i\\Delta t, t + \\Delta t) = f_i(x, t) + \\Omega_i(x, t)$$\n",
        "\n",
        "This shows that the particles $f_i(x,t)$ move with velocity $c_i$ to a neighboring node. At the same time, the movement of particles is affected by the collision operator, $\\Omega_i$.\n",
        "\n",
        "After particles collide, we may assume that $f_i$ will reach an equilibrium distribution, $f^{eq}$. This equilibrium is given by:\n",
        "\n",
        "$$ f_i^{eq}(x, t) = w_i \\rho \\left(1 + \\frac{u \\cdot c_i}{c_s^2} + \\frac{(u \\cdot c_i)^2}{2c_s^4} - \\frac{u \\cdot u}{2c_s^2} \\right).$$\n",
        "\n",
        "In the isothermal lattice Boltzmann equation, $c_s$ determines the relationship between pressure and density as $p = c_s^2 \\rho$. It can be shown that $c_s$ represents the model's *speed of sound*. In all velocity sets that we will deal with today, $$c_s^2 = (1/3)\\Delta x^2 / \\Delta t^2.$$\n",
        "\n",
        "We typically operate in lattice units, where $\\Delta x = \\Delta t = 1$. Therefore, the equilibrium distribution function can be simplified to\n",
        "\n",
        "$$ f_i^{eq}(x, t) = w_i \\rho \\left(1 + 3(u \\cdot c_i) + \\frac{9}{2}(u \\cdot c_i)^2 - \\frac{3}{2} (u \\cdot u) \\right).$$\n",
        "\n"
      ],
      "metadata": {
        "id": "rC4_zbUP4ibV"
      }
    },
    {
      "cell_type": "code",
      "source": [
        "def equilibrium(rho, ux, uy, ex, ey, w_i, nx, ny, fx, fy, tau, g):\n",
        "  device = torch.device('cuda' if torch.cuda.is_available() else 'cpu')\n",
        "\n",
        "  # Extract only fluid nodes and add forcing to velocity\n",
        "  ux = ux[fx, fy] + tau*g\n",
        "  uy = uy[fx, fy]\n",
        "\n",
        "  feq = torch.zeros((9, nx, ny), dtype=torch.float64).to(device)\n",
        "\n",
        "  for i in range(9):\n",
        "    # Compute 2nd term in parenthesis of feq equation above\n",
        "    uc = ex[i]*ux + ey[i]*uy\n",
        "    feq[i, fx, fy] = rho[fx, fy] * w_i[i] * (1 + 3*uc + (9./2.)*uc**2 - (3./2.)*(ux**2 + uy**2))\n",
        "\n",
        "  return feq"
      ],
      "metadata": {
        "id": "G2wlwj-ffyKS"
      },
      "execution_count": 4,
      "outputs": []
    },
    {
      "cell_type": "markdown",
      "source": [
        "### Collision Step\n",
        "\n",
        "Lattice Boltzmann Simulations can be boiled down to two main steps: **collision** and **streaming**. \n",
        "\n",
        "The simplest collision operator, and the one we will use for this exercise, is the Bhatnagar-Gross-Krook (BGK) operator:\n",
        "\n",
        "$$\\Omega_i(f) = -\\frac{f_i - f_i^{eq}}{\\tau} \\Delta t.$$\n",
        "\n",
        "This operator relaxes toward equilibrium at a rate determined by the relaxation time $\\tau$.\n",
        "\n",
        "#### Bounceback Boundary Condition\n",
        "\n",
        "In this exercise, we assume no slip boundary conditions at solid node boundaries. We implement this using the bounceback method. \n",
        "\n",
        "<img src='https://lh5.googleusercontent.com/zGWX3SZ4XPnPo1Y3ujyolWPc-e0UEWAP793DhU3wkjLYQzHTUQooNpzTBRpzz-e1rRhs_BSGl32tOqMYGYjAgXkJorzjR1Nc0iRbKRnbrfYH-cn5_t2tbQdqGOPfdbK9V0VSl_63SGjKlmyI0_kULidN3xAOG1FyyUsM=w1280'>"
      ],
      "metadata": {
        "id": "dypCm0NNumzO"
      }
    },
    {
      "cell_type": "code",
      "source": [
        "def collision(f, feq, tau, sx, sy, fx, fy):     \n",
        "    # Standard Bounceback for Solid Nodes\n",
        "    # Left-Right\n",
        "    f[1, sx, sy], f[3, sx, sy] = f[3, sx, sy], f[1, sx, sy]\n",
        "\n",
        "    # Up-Down\n",
        "    f[2, sx, sy], f[4, sx, sy] = f[4, sx, sy], f[2, sx, sy]\n",
        "\n",
        "    # Top Right - Bottom Left\n",
        "    f[5, sx, sy], f[7, sx, sy] = f[7, sx, sy], f[5, sx, sy]\n",
        "\n",
        "    # Top Left - Bottom Right\n",
        "    f[6, sx, sy], f[8, sx, sy]  = f[8, sx, sy], f[6, sx, sy]\n",
        "\n",
        "    # Regular collision in fluid nodes\n",
        "    f[:, fx, fy] -= (f[:, fx, fy] - feq[:, fx, fy]) / tau\n",
        "\n",
        "    return f"
      ],
      "metadata": {
        "id": "ejZYOzB11hGS"
      },
      "execution_count": 5,
      "outputs": []
    },
    {
      "cell_type": "markdown",
      "source": [
        "### Streaming Step\n",
        "\n",
        "The other main step in simulations is the streaming step. This simply means that particles will move to a neighboring node with velocity $c_i$.\n",
        "\n",
        "In practice, we just need to ensure that we implement the streaming step in such a way that we do not overwrite data that we will need later. In Python, we can use the function ```numpy.roll()```. \n",
        "\n",
        "In the following cell, we visualize how the ```numpy.roll()``` function operates:"
      ],
      "metadata": {
        "id": "QlSB01xhum7a"
      }
    },
    {
      "cell_type": "code",
      "source": [
        "def roll_visualization(roll_x_dir, roll_y_dir):\n",
        "\n",
        "  field_x = np.ones((100, 100))\n",
        "  linear = np.linspace(0, 99, 100)\n",
        "  field_x *= linear\n",
        "\n",
        "  field_y = field_x.copy().T\n",
        "\n",
        "  field = field_x + field_y\n",
        "  plt.imshow(field)\n",
        "  plt.gca().invert_yaxis()\n",
        "  plt.show()\n",
        "\n",
        "  for i in range(201):\n",
        "    field = np.roll(field, (roll_x_dir, roll_y_dir), axis=(1, 0))\n",
        "    if i % 5 == 0:\n",
        "      sleep(0.005)\n",
        "      clear_output(wait=True)\n",
        "      plt.imshow(field)\n",
        "      plt.gca().invert_yaxis()\n",
        "      plt.show()\n",
        "       \n",
        "  # display(roll_x, roll_y)\n",
        "\n",
        "roll_x = widgets.IntSlider(value=0, min=-1, max=1, description='x_direction', continuous_update=False)\n",
        "roll_y = widgets.IntSlider(value=0, min=-1, max=1, description='y_direction', continuous_update=False)\n",
        "\n",
        "interactive_plot = widgets.interactive(roll_visualization, {'manual': True},\n",
        "                                       roll_x_dir=widgets.IntSlider(min=-1, max=1), \n",
        "                                       roll_y_dir=widgets.IntSlider(min=-1, max=1))\n",
        "output = interactive_plot.children[-1]\n",
        "output.layout.height = '350px'\n",
        "interactive_plot"
      ],
      "metadata": {
        "id": "tuR-uCq64d3I",
        "outputId": "8bba8ffe-e103-428c-b0ae-bc2055a27bcd",
        "colab": {
          "base_uri": "https://localhost:8080/",
          "height": 463,
          "referenced_widgets": [
            "6fcdec73212e47e7aab44d6ef0416664",
            "ddcb5b073e4f490e8a6abe5bd5696876",
            "9ef7c320c07d4a9ebed480f1fb3522ee",
            "cb6eaf675feb429ead7935559c13a744",
            "a3ab00cbbf9a4c9e9ff6008a512b3e27",
            "26065be96c2644038d9ec70c35b5d59a",
            "15dc3f3080fc4e5499bc935f21abcd7e",
            "f431868e4b8843dab4e2e5939b56427e",
            "99f6e047853847388f31d6296234d1c9",
            "5cc13c4973a34db5ad089dfef87edd05",
            "be2c4874c9e647069a58d7fdfd4b7cba",
            "0824decc97f0475bb071b33321a40dc0",
            "bdc7ffb0f6534e4ca0624d92e4e19424"
          ]
        }
      },
      "execution_count": 6,
      "outputs": [
        {
          "output_type": "display_data",
          "data": {
            "text/plain": [
              "interactive(children=(IntSlider(value=0, description='roll_x_dir', max=1, min=-1), IntSlider(value=0, descript…"
            ],
            "application/vnd.jupyter.widget-view+json": {
              "version_major": 2,
              "version_minor": 0,
              "model_id": "6fcdec73212e47e7aab44d6ef0416664"
            }
          },
          "metadata": {}
        }
      ]
    },
    {
      "cell_type": "markdown",
      "source": [
        "### Putting it all together\n",
        "\n",
        "Putting the above steps into a time loop will give us our first simulator! \n",
        "\n",
        "Our first example will be simulating the flow around a cylinder, known as the Karman vortex street — considered a \"Hello, World!\" of LBM simulations.\n",
        "\n",
        "The general steps are as follows:\n",
        "1. Initialize simulation parameters, including:\n",
        "  - Relaxation Time\n",
        "  - Force\n",
        "  - Average density\n",
        "  - Convergence metrics\n",
        "\n",
        "2. Initialize velocity vectors and weights\n",
        "3. Process domain to separate fluid and solid nodes\n",
        "4. Perform time loop\n",
        "\n",
        "The following is performed inside the time loop:\n",
        "\n",
        "1. Compute macroscopic parameters $\\rho$ and $u$\n",
        "2. Add forcing to the velocities. This is one example for how we can drive flow\n",
        "3. Calculate $f^{eq}$\n",
        "4. Collision\n",
        "  - Bounceback for solid nodes\n",
        "  - BGK Collision for fluid nodes\n",
        "5. Streaming"
      ],
      "metadata": {
        "id": "x0rO3TeyzzJd"
      }
    },
    {
      "cell_type": "code",
      "execution_count": 22,
      "outputs": [],
      "source": [
        "def run_lbm(data):\n",
        "\n",
        "    # Initialization\n",
        "    tau = 1.0  # Relaxation time\n",
        "    g = 0.00001  # Gravity or other force\n",
        "    density = 1.\n",
        "    tf = 10001  # Maximum number of iteration steps\n",
        "    precision = 1.E-5  # Convergence criterion\n",
        "    vold = 1000\n",
        "    eps = 1E-6\n",
        "\n",
        "    device = torch.device('cuda' if torch.cuda.is_available() else 'cpu')\n",
        "    data = torch.tensor(data).to(device)\n",
        "    check_convergence = 30  # Check convergence every [check_convergence] time steps\n",
        "\n",
        "    # Define lattice velocity vectors\n",
        "    ex, ey, w_i = initialize_weights()\n",
        "    ex = torch.tensor(ex).to(device)\n",
        "    ey = torch.tensor(ey).to(device)\n",
        "    w_i = torch.tensor(w_i).to(device)\n",
        "\n",
        "    # Indices of fluid nodes\n",
        "    fluid_id = torch.argwhere(data == 0).to(device)\n",
        "    fx = fluid_id[:, 0]\n",
        "    fy = fluid_id[:, 1]\n",
        "\n",
        "    # Indices of solid nodes\n",
        "    solid_id = torch.argwhere(data == 1).to(device)\n",
        "    sx = solid_id[:, 0]\n",
        "    sy = solid_id[:, 1]\n",
        "\n",
        "    # Solid nodes are labeled 1, fluid nodes are labeled 0\n",
        "    is_solid_node = data\n",
        "\n",
        "    nx, ny = data.shape\n",
        "\n",
        "    # Initialize distribution functions\n",
        "    f = w_i * density\n",
        "    # Broadcast to 3D array with each slice corresponding to a direction's weights\n",
        "    f = torch.tile(f[:, None, None], (nx, ny)).type(torch.float64).to(device)\n",
        "\n",
        "    # Allocate memory to equilibrium functions\n",
        "    feq = torch.empty_like(f, dtype=torch.float64).to(device)\n",
        "\n",
        "    # Each point has x-component ex, and y-component ey\n",
        "    u_x = torch.empty((nx, ny), dtype=torch.float64).to(device)\n",
        "    u_y = torch.empty((nx, ny), dtype=torch.float64).to(device)\n",
        "\n",
        "    # Node density\n",
        "    rho = torch.zeros((nx, ny), dtype=torch.float64)\n",
        "\n",
        "    # # Begin time loop\n",
        "    tic = perf_counter_ns()\n",
        "    for ts in tqdm(range(tf)):\n",
        "        # print(f\"{ts = }\")  # Print timestep\n",
        "\n",
        "        # Compute macroscopic density, rho and velocity.\n",
        "        rho, u_x, u_y = macroscopic(f, fx, fy, ex, ey, nx, ny)\n",
        "        # u_x = torch.zeros((nx, ny), dtype=torch.float64).to(device)\n",
        "        # u_y = torch.zeros((nx, ny), dtype=torch.float64).to(device)\n",
        "        # rho = torch.zeros((nx, ny), dtype=torch.float64).to(device)\n",
        "\n",
        "        # rho[fx, fy] += torch.sum(f[:, fx, fy], axis=0)\n",
        "        # u_x[fx, fy] += torch.sum(ex[:, None] * f[:, fx, fy], axis=0)\n",
        "        # u_y[fx, fy] += torch.sum(ey[:, None] * f[:, fx, fy], axis=0)\n",
        "\n",
        "        # u_x[fx, fy] = u_x[fx, fy] / rho[fx, fy]\n",
        "        # u_y[fx, fy] = u_y[fx, fy] / rho[fx, fy]\n",
        "\n",
        "\n",
        "\n",
        "        # Add forcing to velocity and compute equilibrium function\n",
        "        feq = equilibrium(rho, u_x, u_y, ex, ey, w_i, nx, ny, fx, fy, tau, g)\n",
        "\n",
        "        # Collision Step\n",
        "        f = collision(f, feq, tau, sx, sy, fx, fy)\n",
        "\n",
        "\n",
        "        # Streaming Step\n",
        "        f[1] = torch.roll(f[1], 1, dims=1)\n",
        "        f[2] = torch.roll(f[2], 1, dims=0)\n",
        "        f[3] = torch.roll(f[3], -1, dims=1)\n",
        "        f[4] = torch.roll(f[4], -1, dims=0)\n",
        "\n",
        "        f[5] = torch.roll(f[5], (1, 1), dims=(0,1))\n",
        "        f[6] = torch.roll(f[6], (-1, 1), dims=(1,0))\n",
        "        f[7] = torch.roll(f[7], (-1, -1), dims=(0,1))\n",
        "        f[8] = torch.roll(f[8], (1, -1), dims=(1,0))\n",
        "\n",
        "        u = torch.sqrt(u_x**2 + u_y**2)\n",
        "        # Plot the time step and check convergence every check_convergence time step\n",
        "        if ts % check_convergence == 0:\n",
        "\n",
        "            vnew = torch.mean(u)\n",
        "            error = torch.abs(vold - vnew) / (vold+eps)\n",
        "            vold = vnew\n",
        "\n",
        "            if error < precision:\n",
        "                print(f'Simulation has converged in {ts} time steps')\n",
        "                break\n",
        "\n",
        "        if ts == tf:\n",
        "            print('Reached maximum iterations')\n",
        "\n",
        "    toc = perf_counter_ns()\n",
        "    print(f\"Elapsed Time: {(toc - tic)*1E-9}s\")\n",
        "\n",
        "    u_x = u_x.to('cpu')\n",
        "    u_y = u_y.to('cpu')\n",
        "    u = u.to('cpu')\n",
        "\n",
        "    return u_x, u_y, u"
      ],
      "metadata": {
        "pycharm": {
          "name": "#%%\n"
        },
        "id": "aSzLl5X_E6XS"
      }
    },
    {
      "cell_type": "markdown",
      "source": [
        "###  Read in the geometry\n",
        "Before we get into the flow simulation, let's first read in our geometry. For this exercise, we assume a 2D binary image with:\n",
        "- 0 indicating fluid space\n",
        "- 1 indicating solid space\n",
        "\n",
        "For this workshop, we select an image from the data folder. You can also load in your own image or create one yourself if you'd like.\n"
      ],
      "metadata": {
        "id": "LMryrTiS9e43",
        "pycharm": {
          "name": "#%% md\n"
        }
      }
    },
    {
      "cell_type": "code",
      "source": [
        "Nx = 150\n",
        "Ny = 150\n",
        "X, Y = np.meshgrid(range(Nx), range(Ny))\n",
        "data = (X - Nx/4)**2 + (Y - Ny/2)**2 < (Ny/8)**2\n",
        "\n",
        "plt.imshow(data, cmap='binary_r')\n"
      ],
      "metadata": {
        "id": "j9Kpdu9TFdCz",
        "outputId": "b8c59ed6-b93c-40f3-ca6c-b1aaa18a4d0f",
        "colab": {
          "base_uri": "https://localhost:8080/",
          "height": 287
        }
      },
      "execution_count": 23,
      "outputs": [
        {
          "output_type": "execute_result",
          "data": {
            "text/plain": [
              "<matplotlib.image.AxesImage at 0x7f1d9ad78430>"
            ]
          },
          "metadata": {},
          "execution_count": 23
        },
        {
          "output_type": "display_data",
          "data": {
            "text/plain": [
              "<Figure size 432x288 with 1 Axes>"
            ],
            "image/png": "[encoded data removed]"
          },
          "metadata": {
            "needs_background": "light"
          }
        }
      ]
    },
    {
      "cell_type": "code",
      "source": [
        "u_x, u_y, u = run_lbm(data)"
      ],
      "metadata": {
        "id": "-gepay57g4gq",
        "outputId": "cd1450ba-04a3-48fb-dbbe-84155e596fb5",
        "colab": {
          "base_uri": "https://localhost:8080/"
        }
      },
      "execution_count": 24,
      "outputs": [
        {
          "output_type": "stream",
          "name": "stderr",
          "text": [
            "100%|██████████| 10001/10001 [00:42<00:00, 233.32it/s]"
          ]
        },
        {
          "output_type": "stream",
          "name": "stdout",
          "text": [
            "Elapsed Time: 42.867051306s\n"
          ]
        },
        {
          "output_type": "stream",
          "name": "stderr",
          "text": [
            "\n"
          ]
        }
      ]
    },
    {
      "cell_type": "code",
      "source": [
        "_ = plot_profile(u, cmap='jet')"
      ],
      "metadata": {
        "id": "ix0EcEw-s9AW",
        "outputId": "e283667e-80e4-4a85-a38e-858756311b4b",
        "colab": {
          "base_uri": "https://localhost:8080/",
          "height": 544
        }
      },
      "execution_count": 27,
      "outputs": [
        {
          "output_type": "display_data",
          "data": {
            "text/plain": [
              "<Figure size 1800x1200 with 2 Axes>"
            ],
            "image/png": "[encoded data removed]"
          },
          "metadata": {
            "needs_background": "light"
          }
        }
      ]
    },
    {
      "cell_type": "code",
      "execution_count": 28,
      "outputs": [
        {
          "output_type": "display_data",
          "data": {
            "text/plain": [
              "interactive(children=(Dropdown(description='dropdown', options=('bevo.tif', 'beads.tif'), value='bevo.tif'), O…"
            ],
            "application/vnd.jupyter.widget-view+json": {
              "version_major": 2,
              "version_minor": 0,
              "model_id": "a5aefba9559a458192cdea2afa7347d5"
            }
          },
          "metadata": {}
        }
      ],
      "source": [
        "#@title Read in data\n",
        "geom_options = os.listdir(\"./data/\")\n",
        "\n",
        "# TODO create catalog of images, read in from drop down, and plot. \n",
        "data_dropdown = widgets.Dropdown(\n",
        "    concise=False,\n",
        "    options=geom_options,\n",
        "    value='beads.tif',\n",
        "    description='Select a file to read in'\n",
        ")\n",
        "\n",
        "# select_button = widgets.Button(description='I want this one!')\n",
        "# output = widgets.Output()\n",
        "def read_in_and_plot(dropdown):\n",
        "  display(dropdown)\n",
        "  data = tifffile.imread(os.path.join(\"./data/\", dropdown))\n",
        "  clear_output(wait=True)\n",
        "  display(dropdown)\n",
        "  plt.imshow(data, cmap='binary_r')\n",
        "  plt.colorbar()\n",
        "  plt.show()\n",
        "\n",
        "  return data\n",
        "\n",
        "widget = widgets.interactive(read_in_and_plot, dropdown=geom_options)\n",
        "display(widget)\n"
      ],
      "metadata": {
        "pycharm": {
          "name": "#%%\n"
        },
        "cellView": "form",
        "id": "vlaq-NNtE6XR",
        "outputId": "7173ec4e-dc8b-48b3-dc83-74112daec58a",
        "colab": {
          "base_uri": "https://localhost:8080/",
          "height": 320,
          "referenced_widgets": [
            "a5aefba9559a458192cdea2afa7347d5",
            "102db44360734da9aed7e3062e79c4ac",
            "65dc8a4582f0490695e641bec24f46ba",
            "fdf782bc18174581bd943617fbba2d62",
            "0fa6c22cea064509bf81ce8cfb4f24ba",
            "6a60e8aec6e449d6a9463c7bc394b744",
            "e02827f6f2a64ec68bae2e62b4045e1c"
          ]
        }
      }
    },
    {
      "cell_type": "code",
      "execution_count": 29,
      "outputs": [
        {
          "output_type": "stream",
          "name": "stderr",
          "text": [
            " 91%|█████████ | 9060/10001 [00:29<00:03, 303.77it/s]"
          ]
        },
        {
          "output_type": "stream",
          "name": "stdout",
          "text": [
            "Simulation has converged in 9060 time steps\n",
            "Elapsed Time: 29.828930843000002s\n"
          ]
        },
        {
          "output_type": "stream",
          "name": "stderr",
          "text": [
            "\n"
          ]
        }
      ],
      "source": [
        "data = widget.result\n",
        "u_x, u_y, u = run_lbm(data)\n"
      ],
      "metadata": {
        "pycharm": {
          "name": "#%%\n"
        },
        "id": "0de-8FRwE6XT",
        "outputId": "6a04d64d-b184-4a1c-adea-b5ac2d93b105",
        "colab": {
          "base_uri": "https://localhost:8080/"
        }
      }
    },
    {
      "cell_type": "code",
      "execution_count": 32,
      "outputs": [
        {
          "output_type": "display_data",
          "data": {
            "text/plain": [
              "<Figure size 1800x1200 with 2 Axes>"
            ],
            "image/png": "[encoded data removed]"
          },
          "metadata": {
            "needs_background": "light"
          }
        }
      ],
      "source": [
        "from plotting_utils import plot_profile\n",
        "profile_fig = plot_profile(u, cmap='jet')"
      ],
      "metadata": {
        "pycharm": {
          "name": "#%%\n"
        },
        "id": "hVhA_5wjE6XT",
        "outputId": "919bcc81-9acf-4003-b5ad-244d06ef6ed9",
        "colab": {
          "base_uri": "https://localhost:8080/",
          "height": 544
        }
      }
    },
    {
      "cell_type": "markdown",
      "source": [
        "## TODO:\n",
        "- Visualizations: Animations?\n",
        "- Calculate and plot vorticity\n",
        "- Calculate permeability\n",
        "- Porespy blobs"
      ],
      "metadata": {
        "id": "r1Hf99NLeQjL"
      }
    },
    {
      "cell_type": "code",
      "source": [
        "# Calculate permeability"
      ],
      "metadata": {
        "id": "exx1IjAfeny2"
      },
      "execution_count": null,
      "outputs": []
    },
    {
      "cell_type": "markdown",
      "source": [
        "Let's use the Porespy library to generate some blobs"
      ],
      "metadata": {
        "id": "98-avyuxeibA"
      }
    },
    {
      "cell_type": "code",
      "source": [
        "def generate_blobs(phi):\n",
        "  device = torch.device('cuda' if torch.cuda.is_available() else 'cpu')\n",
        "  obstacle = torch.tensor(~ps.generators.blobs(shape=[200, 200], porosity=phi)).to(device)\n",
        "  #obstacle = torch.tensor(fromfunction(obstacle_fun(cx,cy,r),(nx, ny)))\n",
        "  plt.imshow(obstacle.cpu(), cmap='binary_r')\n",
        "  plt.colorbar()\n",
        "  return obstacle\n",
        "\n",
        "phi_widget = widgets.FloatSlider(value=0.8, min=0.35, max=0.99, description='Porosity', \n",
        "                                 continuous_update=False, step=0.01)\n",
        "\n",
        "blobs = widgets.interactive(generate_blobs, {'manual': True},\n",
        "                                       phi=phi_widget)\n",
        "\n",
        "blobs\n"
      ],
      "metadata": {
        "id": "a0kx4YuDF-2f",
        "outputId": "8bfde98c-8644-4bf4-cb89-44b30c2e463d",
        "colab": {
          "base_uri": "https://localhost:8080/",
          "height": 333,
          "referenced_widgets": [
            "1f92750bfd8648a4b893c6827a5047e8",
            "889fc2b2532b4aa99b32eaee4977320e",
            "a584e707506148c0aae40c0fbe0aeda8",
            "6701ef2741c545d6b2e46cf481aa7abd",
            "43fe1191c3aa48b6820039675219b1d8",
            "d52d570d1a454c5682b331354069af05",
            "0b921562990345b6ad9a5b506f6a97b7",
            "4e8663bf58d44f769fbc74ae46a3c1a8",
            "06a82931f8e44eec8acb212297313308",
            "ec6ce7358f7a4b2a9a00ee7eee099270"
          ]
        }
      },
      "execution_count": 33,
      "outputs": [
        {
          "output_type": "display_data",
          "data": {
            "text/plain": [
              "interactive(children=(FloatSlider(value=0.8, continuous_update=False, description='Porosity', max=0.99, min=0.…"
            ],
            "application/vnd.jupyter.widget-view+json": {
              "version_major": 2,
              "version_minor": 0,
              "model_id": "1f92750bfd8648a4b893c6827a5047e8"
            }
          },
          "metadata": {}
        }
      ]
    },
    {
      "cell_type": "code",
      "source": [
        "u_x, u_y, u = run_lbm(blobs.result)"
      ],
      "metadata": {
        "id": "PGbIDDT3e90B",
        "outputId": "4dad91ae-e1ec-4691-bde6-61262ee7b5d9",
        "colab": {
          "base_uri": "https://localhost:8080/"
        }
      },
      "execution_count": 34,
      "outputs": [
        {
          "output_type": "stream",
          "name": "stderr",
          "text": [
            "<ipython-input-22-6c201c58c2f0>:13: UserWarning: To copy construct from a tensor, it is recommended to use sourceTensor.clone().detach() or sourceTensor.clone().detach().requires_grad_(True), rather than torch.tensor(sourceTensor).\n",
            "  data = torch.tensor(data).to(device)\n",
            " 28%|██▊       | 2820/10001 [00:12<00:31, 226.95it/s]"
          ]
        },
        {
          "output_type": "stream",
          "name": "stdout",
          "text": [
            "Simulation has converged in 2820 time steps\n",
            "Elapsed Time: 12.434338268000001s\n"
          ]
        },
        {
          "output_type": "stream",
          "name": "stderr",
          "text": [
            "\n"
          ]
        }
      ]
    },
    {
      "cell_type": "code",
      "source": [
        "profile_fig = plot_profile(u, vmin=0, cmap='jet')\n",
        "obstacle_nan = torch.clone(obstacle.cpu())\n",
        "\n"
      ],
      "metadata": {
        "id": "vSxy2VF_f312"
      },
      "execution_count": null,
      "outputs": []
    },
    {
      "cell_type": "code",
      "source": [],
      "metadata": {
        "id": "yNPRusCYf_xN"
      },
      "execution_count": null,
      "outputs": []
    }
  ]
}