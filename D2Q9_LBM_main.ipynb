{
 "cells": [
  {
   "cell_type": "markdown",
   "metadata": {
    "id": "N-k4vBB36_sw",
    "pycharm": {
     "name": "#%% md\n"
    }
   },
   "source": [
    "# 2D LBM Workshop\n",
    "### Dr. Masa Prodanovic and Bernard Chang\n",
    "\n",
    "\n",
    "In this first hands-on activity, we will demonstrate the general algorithm used to perform single phase lattice Boltzmann simulations. The ultimate goal of this exercise is to calculate the velocity field through a given medium. From there, we will demonstrate some visualizations of the velocity field and obtain a value for the permeability through this domain. This example is performed on a 2-dimensional lattice with 9 discrete velocities (D2Q9).\n",
    "\n",
    "Before we get started, let's import some packages\n"
   ]
  },
  {
   "cell_type": "code",
   "execution_count": null,
   "metadata": {
    "id": "t7Wpd3A46qjp",
    "pycharm": {
     "name": "#%%\n"
    }
   },
   "outputs": [],
   "source": [
    "#@title Import Packages\n",
    "%%capture\n",
    "import numpy as np\n",
    "import matplotlib.pyplot as plt\n",
    "import scipy as sc\n",
    "import tifffile\n",
    "\n",
    "# Porespy for generating domains\n",
    "try:\n",
    "  import porespy as ps\n",
    "except:\n",
    "  !pip install -q porespy==2.2.2\n",
    "  import porespy as ps\n",
    "\n",
    "from skimage.measure import regionprops,label\n",
    "\n",
    "import sys\n",
    "import os\n",
    "from tqdm import tqdm\n",
    "\n",
    "try:\n",
    "  os.chdir(\"./LBM_Workshop\")\n",
    "  # sys.path.append(\"./LBM_Workshop/\")\n",
    "except:\n",
    "  !git clone https://github.com/BC-Chang/LBM_Workshop.git\n",
    "  os.chdir(\"./LBM_Workshop\")\n",
    "\n",
    "from plotting_utils import plot_profile, plot_quiver, plot_streamlines\n",
    "\n",
    "# Import a timer\n",
    "from time import perf_counter_ns, sleep\n",
    "\n",
    "# Import ipywidgets\n",
    "import ipywidgets as widgets\n",
    "from ipywidgets import interact, interact_manual, interactive\n",
    "from IPython.display import display, clear_output\n",
    "\n",
    "import torch\n"
   ]
  },
  {
   "cell_type": "markdown",
   "metadata": {
    "id": "AhhZnkWEmaef"
   },
   "source": [
    "## A Step-by-Step Introduction to the Lattice Boltzmann Method\n",
    "\n",
    "### Background\n",
    "The fundamental variable in **kinetic theory**, on which LBM is based, is the particle distribution function $f$. LBM tracks the distribution of molecules using $f$ in the Boltzmann equation.\n",
    "\n",
    "Conceptually, LBM models the probability of molecules having a certain position and velocity (or momentum) over time subject to molecular diffusion, external forces, and molecular collisions.\n",
    "\n",
    "The distribution function, $f$, is also related to macroscopic variables such as density, $\\rho$ and fluid velocity, $u$ through its **moments**. These moments are integrals of $f$, weighted with some function of particale velocity, $\\xi$.\n",
    "\n",
    "For example, the macroscopic mass density can be found as:\n",
    "$$\\rho(x, t) = \\int f(x,\\xi,t)d^3\\xi.$$\n",
    "\n",
    "Similarly, the momentum density is,\n",
    "$$\\rho(x, t)u(x,t) = \\int \\xi f(x, \\xi, t)d^3\\xi.$$\n",
    "\n",
    "\n",
    "In LBM, we deal with the *discrete-velocity distribution function, $f_i(x, t)$*. The mass density, $\\rho$, and the momentum density, $u$, are found through the weighted sums (moments) of $f_i$:\n",
    "$$\\rho = \\sum f_i(x, t),$$\n",
    "and\n",
    "$$\\rho u(x,t) = \\sum c_i f_i(x, t),$$\n",
    "\n",
    "where $c_i$ is a discrete set of velocities discussed below."
   ]
  },
  {
   "cell_type": "markdown",
   "metadata": {
    "id": "Jmz6WdbHvCxN"
   },
   "source": [
    "### Defining our Lattice\n",
    "\n",
    "For this exercise, we will use a 2-dimensional lattice with 9 discrete velocities (D2Q9). This means, that in every grid space, there are 9 possible connections — North, South, East, West, 4 diagonal connections and 1 connection from the node itself, representing zero velocity.\n",
    "\n",
    "Each lattice direction also has a weight, $w_i$ associated with it. For D2Q9 LBM, these will be:\n",
    "\n",
    "<img src='https://github.com/BC-Chang/LBM_Workshop/blob/master/figures/d2q9.png?raw=true' height=\"400\">\n",
    "\n",
    "\n",
    "In the following cell, we will initialize these velocity directions and their weights.\n"
   ]
  },
  {
   "cell_type": "code",
   "execution_count": null,
   "metadata": {
    "id": "Kkk4fy-dAVR4"
   },
   "outputs": [],
   "source": [
    "def initialize_weights():\n",
    "\n",
    "  # Define lattice velocity vectors\n",
    "  ex = np.array([0, 1, 0, -1, 0, 1, -1, -1, 1], dtype=np.double)\n",
    "  ey = np.array([0, 0, 1, 0, -1, 1, 1, -1, -1], dtype=np.double)\n",
    "\n",
    "\n",
    "  # Define weights\n",
    "  w_i = np.array([4./9.,\n",
    "                  1./9.,\n",
    "                  1./9.,\n",
    "                  1./9.,\n",
    "                  1./9.,\n",
    "                  1./36.,\n",
    "                  1./36.,\n",
    "                  1./36.,\n",
    "                  1./36.], dtype=np.double)\n",
    "\n",
    "  return ex, ey, w_i"
   ]
  },
  {
   "cell_type": "markdown",
   "metadata": {
    "id": "yLwoKN28CEPv"
   },
   "source": [
    "<!-- The fundamental variable in **kinetic theory**, on which LBM is based, is the particle distribution function $f(x, \\xi, t)$. It simultaneously represents mass density in physical space and in velocity space. In other words, $f$ represents the density of particles with particle velocity, $\\xi$, at position $x$ and time $t$\n",
    "\n",
    "The distribution function, $f$, is also related to macroscopic variables such as density, $\\rho$ and fluid velocity, $u$ through its **moments**. These moments are integrals of $f$, weighted with some function of $\\xi$. For example, the macroscopic mass density can be found as:\n",
    "$$\\rho(x, t) = \\int f(x,\\xi,t)d^3\\xi.$$\n",
    "\n",
    "Similarly, the momentum density is,\n",
    "$$\\rho(x, t)u(x,t) = \\int \\xi f(x, \\xi, t)d^3\\xi.$$ -->\n",
    "\n",
    "### Obtaining Macroscopic Properties\n",
    "\n",
    "Recall  that macroscopic properties, such as mass and momentum density can be can be obtained from the weighted sum (moments) of the *discrete-velocity distribution function, $f_i(x, t)$*\n",
    "<!-- In LBM, we deal with the *discrete-velocity distribution function, $f_i(x, t)$*. The mass density, $\\rho$, and the momentum density, $u$, are found through the weighted sums (moments) of $f_i$: -->\n",
    "$$\\rho = \\sum f_i(x, t),$$\n",
    "and\n",
    "$$\\rho u(x,t) = \\sum c_i f_i(x, t),$$\n",
    "\n",
    "where $c_i$ is a discrete set of particle velocities.\n"
   ]
  },
  {
   "cell_type": "code",
   "execution_count": null,
   "metadata": {
    "id": "Ga7pdr-oehnh"
   },
   "outputs": [],
   "source": [
    "def macroscopic(f, fx, fy, ex, ey, nx, ny):\n",
    "\n",
    "  device = torch.device('cuda' if torch.cuda.is_available() else 'cpu')\n",
    "\n",
    "  # Initialize outputs to 0s\n",
    "  u_x = torch.zeros((nx, ny), dtype=torch.float64).to(device)\n",
    "  u_y = torch.zeros((nx, ny), dtype=torch.float64).to(device)\n",
    "  rho = torch.zeros((nx, ny), dtype=torch.float64).to(device)\n",
    "\n",
    "  # Calculate macroscopic properties from moments. Only calculate where there are fluid nodes\n",
    "  # Density\n",
    "  rho[fx, fy] += torch.sum(f[:, fx, fy], axis=0)\n",
    "\n",
    "  # Velocity\n",
    "  u_x[fx, fy] += torch.sum(ex[:, None] * f[:, fx, fy], axis=0)\n",
    "  u_y[fx, fy] += torch.sum(ey[:, None] * f[:, fx, fy], axis=0)\n",
    "  u_x[fx, fy] = u_x[fx, fy] / rho[fx, fy]\n",
    "  u_y[fx, fy] = u_y[fx, fy] / rho[fx, fy]\n",
    "\n",
    "  return rho, u_x, u_y\n"
   ]
  },
  {
   "cell_type": "markdown",
   "metadata": {
    "id": "rC4_zbUP4ibV"
   },
   "source": [
    "### Equilibrium Calculation\n",
    "\n",
    "Recall the *lattice Boltzmann equation* from the discretization of the Boltzmann equation:\n",
    "$$f_i(x + c_i\\Delta t, t + \\Delta t) = f_i(x, t) + \\Omega_i(x, t)$$\n",
    "\n",
    "This shows that the particles $f_i(x,t)$ move with velocity $c_i$ to a neighboring node. At the same time, the movement of particles is affected by the collision operator, $\\Omega_i$.\n",
    "\n",
    "After particles collide, we may assume that $f_i$ will reach an equilibrium distribution, $f^{eq}$. This equilibrium is given by:\n",
    "\n",
    "$$ f_i^{eq}(x, t) = w_i \\rho \\left(1 + \\frac{u \\cdot c_i}{c_s^2} + \\frac{(u \\cdot c_i)^2}{2c_s^4} - \\frac{u \\cdot u}{2c_s^2} \\right).$$\n",
    "\n",
    "In the isothermal lattice Boltzmann equation, $c_s$ determines the relationship between pressure and density as $p = c_s^2 \\rho$. It can be shown that $c_s$ represents the model's *speed of sound*. In all velocity sets that we will deal with today, $$c_s^2 = (1/3)\\Delta x^2 / \\Delta t^2.$$\n",
    "\n",
    "We typically operate in lattice units where $\\Delta x = \\Delta t = 1$. Therefore, the equilibrium distribution function can be simplified to\n",
    "\n",
    "$$ f_i^{eq}(x, t) = w_i \\rho \\left(1 + 3(u \\cdot c_i) + \\frac{9}{2}(u \\cdot c_i)^2 - \\frac{3}{2} (u \\cdot u) \\right).$$\n",
    "\n"
   ]
  },
  {
   "cell_type": "code",
   "execution_count": null,
   "metadata": {
    "id": "G2wlwj-ffyKS"
   },
   "outputs": [],
   "source": [
    "def equilibrium(rho, ux, uy, ex, ey, w_i, nx, ny, fx, fy, tau, g):\n",
    "  device = torch.device('cuda' if torch.cuda.is_available() else 'cpu')\n",
    "\n",
    "  # Extract only fluid nodes and add forcing to velocity\n",
    "  ux = ux[fx, fy] + tau*g\n",
    "  uy = uy[fx, fy]\n",
    "\n",
    "  feq = torch.zeros((9, nx, ny), dtype=torch.float64).to(device)\n",
    "\n",
    "  for i in range(9):\n",
    "    # Compute 2nd term in parenthesis of feq equation above\n",
    "    uc = ex[i]*ux + ey[i]*uy\n",
    "    feq[i, fx, fy] = rho[fx, fy] * w_i[i] * (1 + 3*uc + (9./2.)*uc**2 - (3./2.)*(ux**2 + uy**2))\n",
    "\n",
    "  return feq"
   ]
  },
  {
   "cell_type": "markdown",
   "metadata": {
    "id": "dypCm0NNumzO"
   },
   "source": [
    "### Collision Step\n",
    "\n",
    "LBM simulations can be boiled down to two main steps: **collision** and **streaming**.\n",
    "\n",
    "A simple, and widely-used collision operator, and the one we will use for this exercise, is the Bhatnagar-Gross-Krook (BGK) operator:\n",
    "\n",
    "$$\\Omega_i(f) = -\\frac{f_i - f_i^{eq}}{\\tau} \\Delta t.$$\n",
    "\n",
    "This operator describes how the molecular collisions relax $f_i$ toward equilibrium ($f_i^{eq}$) at a rate determined by the characteristic relaxation time $\\tau$.\n",
    "\n",
    "#### Bounceback Boundary Condition\n",
    "\n",
    "In this exercise, we assume no slip boundary conditions at solid node boundaries. We implement this using the bounceback method.\n",
    "\n",
    "<img src='https://www.researchgate.net/profile/Robert-Bialik/publication/258843003/figure/fig1/AS:392599690072074@1470614468708/No-slip-boundary-condition-bounce-back-boundary-condition-for-the-collision-with-the.png' height='300'>"
   ]
  },
  {
   "cell_type": "code",
   "execution_count": null,
   "metadata": {
    "id": "ejZYOzB11hGS"
   },
   "outputs": [],
   "source": [
    "def collision(f, feq, tau, sx, sy, fx, fy):\n",
    "    # Standard Bounceback for Solid Nodes\n",
    "    # Left-Right\n",
    "    f[1, sx, sy], f[3, sx, sy] = f[3, sx, sy], f[1, sx, sy]\n",
    "\n",
    "    # Up-Down\n",
    "    f[2, sx, sy], f[4, sx, sy] = f[4, sx, sy], f[2, sx, sy]\n",
    "\n",
    "    # Top Right - Bottom Left\n",
    "    f[5, sx, sy], f[7, sx, sy] = f[7, sx, sy], f[5, sx, sy]\n",
    "\n",
    "    # Top Left - Bottom Right\n",
    "    f[6, sx, sy], f[8, sx, sy]  = f[8, sx, sy], f[6, sx, sy]\n",
    "\n",
    "    # Regular collision in fluid nodes\n",
    "    f[:, fx, fy] -= (f[:, fx, fy] - feq[:, fx, fy]) / tau\n",
    "\n",
    "    return f"
   ]
  },
  {
   "cell_type": "markdown",
   "metadata": {
    "id": "QlSB01xhum7a"
   },
   "source": [
    "### Streaming Step\n",
    "\n",
    "The other main step in simulations is the streaming step. This simply means that particles will move to a neighboring node with velocity $c_i$.\n",
    "\n",
    "In practice, we just need to ensure that we implement the streaming step in such a way that we do not overwrite data that we will need later. In Python, we can use the function ```numpy.roll()```.\n",
    "\n",
    "In the following cell, we visualize how the ```numpy.roll()``` function operates:"
   ]
  },
  {
   "cell_type": "code",
   "execution_count": null,
   "metadata": {
    "colab": {
     "base_uri": "https://localhost:8080/",
     "height": 463,
     "referenced_widgets": [
      "f4d7dd06d0a04141841a42aa55016b07",
      "86b8b401a0df4038a59b9119136ab817",
      "78a9f2b843d147fdbdc92318435e41ef",
      "30982182cb324286a0e15564d76f40f1",
      "9409448420fd486d9553c0f8e318a24d",
      "7df4099d6f3f42ad95e99523dbfc2660",
      "d44b676ab04049eab666188464899efe",
      "73f837942f1f489e910d93e913064605",
      "e218a417fc5547cfb403a46e079ef98d",
      "047cffeb1a9247df9c93acfacde6d6fe",
      "4b2a253a160e4a73aba583f2635bba97",
      "b24dec1cf2f747c28e004b2e26f6f300",
      "b8b59827964c48ebb0c2b4fee25337ac"
     ]
    },
    "id": "tuR-uCq64d3I",
    "outputId": "e4bc98f7-dbe3-4ded-ed6c-bad60f1261bc"
   },
   "outputs": [],
   "source": [
    "def roll_visualization(roll_x_dir, roll_y_dir):\n",
    "\n",
    "  field_x = np.ones((100, 100))\n",
    "  linear = np.linspace(0, 99, 100)\n",
    "  field_x *= linear\n",
    "\n",
    "  field_y = field_x.copy().T\n",
    "\n",
    "  field = field_x + field_y\n",
    "  plt.imshow(field)\n",
    "  plt.gca().invert_yaxis()\n",
    "  plt.show()\n",
    "\n",
    "  for i in range(201):\n",
    "    field = np.roll(field, (roll_x_dir, roll_y_dir), axis=(1, 0))\n",
    "    if i % 5 == 0:\n",
    "      sleep(0.005)\n",
    "      clear_output(wait=True)\n",
    "      plt.imshow(field)\n",
    "      plt.gca().invert_yaxis()\n",
    "      plt.show()\n",
    "\n",
    "  # display(roll_x, roll_y)\n",
    "\n",
    "roll_x = widgets.IntSlider(value=0, min=-1, max=1, description='x_direction', continuous_update=False)\n",
    "roll_y = widgets.IntSlider(value=0, min=-1, max=1, description='y_direction', continuous_update=False)\n",
    "\n",
    "interactive_plot = widgets.interactive(roll_visualization, {'manual': True},\n",
    "                                       roll_x_dir=widgets.IntSlider(min=-1, max=1),\n",
    "                                       roll_y_dir=widgets.IntSlider(min=-1, max=1))\n",
    "output = interactive_plot.children[-1]\n",
    "output.layout.height = '350px'\n",
    "interactive_plot"
   ]
  },
  {
   "cell_type": "markdown",
   "metadata": {
    "id": "x0rO3TeyzzJd"
   },
   "source": [
    "### Putting it all together\n",
    "\n",
    "Putting the above steps into a time loop will give us our first simulator!\n",
    "\n",
    "Our first example will be simulating the flow around a cylinder, known as the Karman vortex street — considered a \"Hello, World!\" of LBM simulations.\n",
    "\n",
    "We first setup our simulation by initializing:\n",
    "1. Parameters, including:\n",
    "  - Relaxation Time\n",
    "  - Force\n",
    "  - Average density\n",
    "  - Convergence metrics\n",
    "\n",
    "2. Velocity vectors and weights\n",
    "3. Domain to keep track of fluid and solid nodes\n",
    "\n",
    "Our time loop then contains the following steps:\n",
    "\n",
    "<center><img src='https://github.com/BC-Chang/LBM_Workshop/blob/master/figures/lbm_diagram.png?raw=true' height='750'></center>\n"
   ]
  },
  {
   "cell_type": "code",
   "execution_count": null,
   "metadata": {
    "id": "aSzLl5X_E6XS",
    "pycharm": {
     "name": "#%%\n"
    }
   },
   "outputs": [],
   "source": [
    "def run_lbm(data):\n",
    "\n",
    "    # Initialization\n",
    "    tau = 1.0  # Relaxation time\n",
    "    g = 0.00001  # Gravity or other force\n",
    "    density = 1.\n",
    "    tf = 10001  # Maximum number of iteration steps\n",
    "    precision = 1.E-5  # Convergence criterion\n",
    "    vold = 1000\n",
    "    eps = 1E-6\n",
    "\n",
    "    device = torch.device('cuda' if torch.cuda.is_available() else 'cpu')\n",
    "    data = torch.tensor(data).to(device)\n",
    "    check_convergence = 30  # Check convergence every [check_convergence] time steps\n",
    "\n",
    "    # Define lattice velocity vectors\n",
    "    ex, ey, w_i = initialize_weights()\n",
    "    ex = torch.tensor(ex).to(device)\n",
    "    ey = torch.tensor(ey).to(device)\n",
    "    w_i = torch.tensor(w_i).to(device)\n",
    "\n",
    "    # Indices of fluid nodes\n",
    "    fluid_id = torch.argwhere(data == 0).to(device)\n",
    "    fx = fluid_id[:, 0]\n",
    "    fy = fluid_id[:, 1]\n",
    "\n",
    "    # Indices of solid nodes\n",
    "    solid_id = torch.argwhere(data == 1).to(device)\n",
    "    sx = solid_id[:, 0]\n",
    "    sy = solid_id[:, 1]\n",
    "\n",
    "    # Solid nodes are labeled 1, fluid nodes are labeled 0\n",
    "    is_solid_node = data\n",
    "\n",
    "    nx, ny = data.shape\n",
    "\n",
    "    # Initialize distribution functions\n",
    "    f = w_i * density\n",
    "    # Broadcast to 3D array with each slice corresponding to a direction's weights\n",
    "    f = torch.tile(f[:, None, None], (nx, ny)).type(torch.float64).to(device)\n",
    "\n",
    "    # Allocate memory to equilibrium functions\n",
    "    feq = torch.empty_like(f, dtype=torch.float64).to(device)\n",
    "\n",
    "    # Each point has x-component ex, and y-component ey\n",
    "    u_x = torch.empty((nx, ny), dtype=torch.float64).to(device)\n",
    "    u_y = torch.empty((nx, ny), dtype=torch.float64).to(device)\n",
    "\n",
    "    # Node density\n",
    "    rho = torch.zeros((nx, ny), dtype=torch.float64)\n",
    "\n",
    "    # # Begin time loop\n",
    "    tic = perf_counter_ns()\n",
    "    for ts in tqdm(range(tf)):\n",
    "        # print(f\"{ts = }\")  # Print timestep\n",
    "\n",
    "        # Compute macroscopic density, rho and velocity.\n",
    "        rho, u_x, u_y = macroscopic(f, fx, fy, ex, ey, nx, ny)\n",
    "\n",
    "        # Add forcing to velocity and compute equilibrium function\n",
    "        feq = equilibrium(rho, u_x, u_y, ex, ey, w_i, nx, ny, fx, fy, tau, g)\n",
    "\n",
    "        # Collision Step\n",
    "        f = collision(f, feq, tau, sx, sy, fx, fy)\n",
    "\n",
    "        # Streaming Step\n",
    "        f[1] = torch.roll(f[1], 1, dims=1)\n",
    "        f[2] = torch.roll(f[2], 1, dims=0)\n",
    "        f[3] = torch.roll(f[3], -1, dims=1)\n",
    "        f[4] = torch.roll(f[4], -1, dims=0)\n",
    "\n",
    "        f[5] = torch.roll(f[5], (1, 1), dims=(0,1))\n",
    "        f[6] = torch.roll(f[6], (-1, 1), dims=(1,0))\n",
    "        f[7] = torch.roll(f[7], (-1, -1), dims=(0,1))\n",
    "        f[8] = torch.roll(f[8], (1, -1), dims=(1,0))\n",
    "\n",
    "        # Calculate velocity\n",
    "        u = torch.sqrt(u_x**2 + u_y**2)\n",
    "\n",
    "        # Check convergence every check_convergence time step\n",
    "        if ts % check_convergence == 0:\n",
    "\n",
    "            vnew = torch.mean(u)\n",
    "            error = torch.abs(vold - vnew) / (vold+eps)\n",
    "            vold = vnew\n",
    "\n",
    "            if error < precision:\n",
    "                print(f'Simulation has converged in {ts} time steps')\n",
    "                break\n",
    "\n",
    "        if ts == tf:\n",
    "            print('Reached maximum iterations')\n",
    "\n",
    "    toc = perf_counter_ns()\n",
    "    print(f\"Elapsed Time: {(toc - tic)*1E-9}s\")\n",
    "\n",
    "    u_x = u_x.to('cpu')\n",
    "    u_y = u_y.to('cpu')\n",
    "    u = u.to('cpu')\n",
    "\n",
    "    return u_x, u_y, u"
   ]
  },
  {
   "cell_type": "markdown",
   "metadata": {
    "id": "LMryrTiS9e43",
    "pycharm": {
     "name": "#%% md\n"
    }
   },
   "source": [
    "###  Read in the geometry\n",
    "Before we get into the flow simulation, let's first read in our geometry. For this exercise, we assume a 2D binary image with:\n",
    "- 0 indicating fluid space\n",
    "- 1 indicating solid space\n",
    "\n",
    "For this workshop, we select an image from the data folder. You can also load in your own image or create one yourself if you'd like.\n"
   ]
  },
  {
   "cell_type": "code",
   "execution_count": null,
   "metadata": {
    "colab": {
     "base_uri": "https://localhost:8080/",
     "height": 453
    },
    "id": "j9Kpdu9TFdCz",
    "outputId": "85b9f4c6-90a4-4e81-9281-278d7c31812e"
   },
   "outputs": [],
   "source": [
    "Nx = 150\n",
    "Ny = 150\n",
    "X, Y = np.meshgrid(range(Nx), range(Ny))\n",
    "data = (X - Nx/4)**2 + (Y - Ny/2)**2 < (Ny/8)**2\n",
    "\n",
    "plt.imshow(data, cmap='binary')\n",
    "plt.colorbar()\n"
   ]
  },
  {
   "cell_type": "markdown",
   "metadata": {
    "id": "jfvHC6vmVdvO"
   },
   "source": [
    "Let's run our LBM simulation! This simulation does not fully converge in the default number of iterations, but it gets the point across. This should take about one minute to run."
   ]
  },
  {
   "cell_type": "code",
   "execution_count": null,
   "metadata": {
    "colab": {
     "base_uri": "https://localhost:8080/"
    },
    "id": "-gepay57g4gq",
    "outputId": "ab7bcff6-e7c8-40aa-cd31-f6d410c0275e"
   },
   "outputs": [],
   "source": [
    "u_x, u_y, u = run_lbm(data)"
   ]
  },
  {
   "cell_type": "code",
   "execution_count": null,
   "metadata": {
    "colab": {
     "base_uri": "https://localhost:8080/",
     "height": 890
    },
    "id": "ix0EcEw-s9AW",
    "outputId": "181510a1-1064-4194-d957-cb7ed7816bbe"
   },
   "outputs": [],
   "source": [
    "_ = plot_profile(u, cmap='jet')"
   ]
  },
  {
   "cell_type": "code",
   "execution_count": null,
   "metadata": {
    "colab": {
     "base_uri": "https://localhost:8080/",
     "height": 311,
     "referenced_widgets": [
      "e9a4c3f9a2994877b7313dd2b26d1db6",
      "765e149da1444f88b827a36d7f18413a",
      "190dc357b43143e8af2e5b3139dbb613",
      "d097c4786c094097b16e5ac262d2e5b6",
      "4d4b55132fed471d8971c6f0d8f35b48",
      "fdf2ce0937e74a6c9845dad3abb28902",
      "f68237347bce4da9b72be06a241a0383"
     ]
    },
    "id": "vlaq-NNtE6XR",
    "outputId": "cbc76995-00c1-46d4-df3f-bc519d07cdc4",
    "pycharm": {
     "name": "#%%\n"
    }
   },
   "outputs": [],
   "source": [
    "#@title Read in data\n",
    "geom_options = os.listdir(\"./data/\")\n",
    "\n",
    "# TODO create catalog of images, read in from drop down, and plot.\n",
    "data_dropdown = widgets.Dropdown(\n",
    "    concise=False,\n",
    "    options=geom_options,\n",
    "    value='beads.tif',\n",
    "    description='Select a file to read in'\n",
    ")\n",
    "\n",
    "# select_button = widgets.Button(description='I want this one!')\n",
    "# output = widgets.Output()\n",
    "def read_in_and_plot(dropdown):\n",
    "  display(dropdown)\n",
    "  data = tifffile.imread(os.path.join(\"./data/\", dropdown))\n",
    "  clear_output(wait=True)\n",
    "  display(dropdown)\n",
    "  plt.imshow(data, cmap='binary')\n",
    "  plt.colorbar()\n",
    "  plt.show()\n",
    "\n",
    "  return data\n",
    "\n",
    "widget = widgets.interactive(read_in_and_plot, dropdown=geom_options)\n",
    "display(widget)\n"
   ]
  },
  {
   "cell_type": "code",
   "execution_count": null,
   "metadata": {
    "colab": {
     "base_uri": "https://localhost:8080/"
    },
    "id": "0de-8FRwE6XT",
    "outputId": "adb6aca2-74a1-4933-d630-d13921f1b950",
    "pycharm": {
     "name": "#%%\n"
    }
   },
   "outputs": [],
   "source": [
    "data = widget.result\n",
    "u_x, u_y, u = run_lbm(data)\n"
   ]
  },
  {
   "cell_type": "code",
   "execution_count": null,
   "metadata": {
    "colab": {
     "base_uri": "https://localhost:8080/",
     "height": 890
    },
    "id": "hVhA_5wjE6XT",
    "outputId": "e5572748-e8c6-4125-8a05-e96fbe08c657",
    "pycharm": {
     "name": "#%%\n"
    }
   },
   "outputs": [],
   "source": [
    "# from plotting_utils import plot_quiver\n",
    "profile_fig = plot_profile(u, cmap='jet')"
   ]
  },
  {
   "cell_type": "markdown",
   "metadata": {
    "id": "r1Hf99NLeQjL"
   },
   "source": [
    "## Calculate Permeability\n",
    "\n",
    "Once we have the velocity field, we can compute the absolute permeability using Darcy's law:\n",
    "\n",
    "$$k = \\frac{\\bar{u} \\mu L}{\\Delta P}$$\n",
    "\n",
    "\n",
    "Keep in mind that the calculated permeability will be in lattice units ($lu^2$) To convert to the true permeability, we would need to know the physical size of our grid sizes.\n",
    "\n",
    "For sake of simplicity, we can calculate the mean velocity of the flow-direction-component."
   ]
  },
  {
   "cell_type": "code",
   "execution_count": null,
   "metadata": {
    "colab": {
     "base_uri": "https://localhost:8080/"
    },
    "id": "exx1IjAfeny2",
    "outputId": "574fe9a9-6dac-4d52-9b4d-2873fd31e038"
   },
   "outputs": [],
   "source": [
    "def vel_avg(ux):\n",
    "  u_mean = torch.mean(ux[ux != 0])\n",
    "  print(f\"Average Velocity = {u_mean}\")\n",
    "  return\n",
    "\n",
    "# Calculate the average velocity for our image\n",
    "vel_avg(u_x)"
   ]
  },
  {
   "cell_type": "markdown",
   "metadata": {
    "id": "98-avyuxeibA"
   },
   "source": [
    "Let's use the Porespy library to generate some blobs. Make sure you get a geometry that percolates!"
   ]
  },
  {
   "cell_type": "code",
   "execution_count": null,
   "metadata": {
    "colab": {
     "base_uri": "https://localhost:8080/",
     "height": 333,
     "referenced_widgets": [
      "2fb66fb2f649445889bc1c20685e1ea2",
      "c7472170a74b48b78ee2b8802a8fd4eb",
      "6f27b1a65ec14fdda72b9dd3751cdf1d",
      "dc51a144c3ae4218977b3a1369f5bfaf",
      "513b6bb76fd34d1c8050c4ba2d7e036c",
      "2256a55d07df40378f677f7765a01e53",
      "a8e7563ff0384641a4a6a0b92d1c0874",
      "82aee2998e1849b29f61ca79e50abe8c",
      "3f82d0e809f64737b3b5e611c0173587",
      "f0ecfe24ea4243869885b8fe5896f254"
     ]
    },
    "id": "a0kx4YuDF-2f",
    "outputId": "ce1eb268-4e1c-4a6f-afce-4b0aa7d11c97"
   },
   "outputs": [],
   "source": [
    "def generate_blobs(phi):\n",
    "  device = torch.device('cuda' if torch.cuda.is_available() else 'cpu')\n",
    "  obstacle = torch.tensor(~ps.generators.blobs(shape=[200, 200], porosity=phi)).to(device)\n",
    "  #obstacle = torch.tensor(fromfunction(obstacle_fun(cx,cy,r),(nx, ny)))\n",
    "  plt.imshow(obstacle.cpu(), cmap='binary')\n",
    "  plt.colorbar()\n",
    "  return obstacle\n",
    "\n",
    "phi_widget = widgets.FloatSlider(value=0.5, min=0.5, max=0.86, description='Porosity',\n",
    "                                 continuous_update=False, step=0.01)\n",
    "\n",
    "blobs = widgets.interactive(generate_blobs, {'manual': True},\n",
    "                                       phi=phi_widget)\n",
    "\n",
    "blobs\n"
   ]
  },
  {
   "cell_type": "code",
   "execution_count": null,
   "metadata": {
    "colab": {
     "base_uri": "https://localhost:8080/"
    },
    "id": "PGbIDDT3e90B",
    "outputId": "2ef99e65-c926-4ba5-c87f-6ebb2c8e3b88"
   },
   "outputs": [],
   "source": [
    "u_x, u_y, u = run_lbm(blobs.result)"
   ]
  },
  {
   "cell_type": "code",
   "execution_count": null,
   "metadata": {
    "colab": {
     "base_uri": "https://localhost:8080/",
     "height": 890
    },
    "id": "vSxy2VF_f312",
    "outputId": "538893f0-60c7-4220-e1b8-645e9ed102af"
   },
   "outputs": [],
   "source": [
    "profile_fig = plot_profile(u_x, cmap='jet')"
   ]
  },
  {
   "cell_type": "code",
   "execution_count": null,
   "metadata": {
    "colab": {
     "base_uri": "https://localhost:8080/"
    },
    "id": "yNPRusCYf_xN",
    "outputId": "9983261e-9357-4ccf-bdeb-fbab86dd28f2"
   },
   "outputs": [],
   "source": [
    "# Average velocity\n",
    "vel_avg(u_x)"
   ]
  },
  {
   "cell_type": "markdown",
   "metadata": {
    "id": "P2Ub8TXiYx3t"
   },
   "source": [
    "# Multiphase Lattice Boltzmann Method\n",
    "\n",
    "Today, we will use the Shan-Chen model, where multiple lattices are superimposed and particle distributions interact via pseudo-potential interparticle forces controlled by $G_c$. Selection of $G_c$ induces interfacial tension and can determine wettability.\n",
    "\n",
    "Other models include:\n",
    "* Color Model\n",
    "* Free Energy Based models\n",
    "\n",
    "\n",
    "The Shan-Chen model is implmented in our in-house code — [MPLBM-UT](https://doi.org/10.1016/j.softx.2022.101097).\n",
    "\n",
    "The MPLBM Workflow\n",
    "\n",
    "<img src='https://ars.els-cdn.com/content/image/1-s2.0-S2352711022000668-gr1.jpg'>\n",
    "\n",
    "\n",
    "### Let's move on to MPLBM-UT on TACC!\n",
    "\n"
   ]
  }
 ],
 "metadata": {
  "accelerator": "GPU",
  "colab": {
   "provenance": []
  },
  "gpuClass": "standard",
  "kernelspec": {
   "display_name": "Python 3",
   "name": "python3"
  },
  "language_info": {
   "name": "python"
  }
 },
 "nbformat": 4,
 "nbformat_minor": 0
}
