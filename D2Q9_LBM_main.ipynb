{
  "nbformat": 4,
  "nbformat_minor": 0,
  "metadata": {
    "colab": {
      "provenance": [],
      "include_colab_link": true
    },
    "kernelspec": {
      "name": "python3",
      "display_name": "Python 3"
    },
    "language_info": {
      "name": "python"
    },
    "widgets": {
      "application/vnd.jupyter.widget-state+json": {
        "f5c76cab63544e50ba37143adfe830a7": {
          "model_module": "@jupyter-widgets/controls",
          "model_name": "VBoxModel",
          "model_module_version": "1.5.0",
          "state": {
            "_dom_classes": [
              "widget-interact"
            ],
            "_model_module": "@jupyter-widgets/controls",
            "_model_module_version": "1.5.0",
            "_model_name": "VBoxModel",
            "_view_count": null,
            "_view_module": "@jupyter-widgets/controls",
            "_view_module_version": "1.5.0",
            "_view_name": "VBoxView",
            "box_style": "",
            "children": [
              "IPY_MODEL_3750c589b7d342308363ee95291c95f3",
              "IPY_MODEL_2b69306df41f4a608fdb97e7a631bb31",
              "IPY_MODEL_a7afa41b0bea4393806c395797ea3cdb",
              "IPY_MODEL_1bd3a579104a41ce8d4df62302570a1e"
            ],
            "layout": "IPY_MODEL_c64f327c527443529ac3eadafb5e3698"
          }
        },
        "3750c589b7d342308363ee95291c95f3": {
          "model_module": "@jupyter-widgets/controls",
          "model_name": "IntSliderModel",
          "model_module_version": "1.5.0",
          "state": {
            "_dom_classes": [],
            "_model_module": "@jupyter-widgets/controls",
            "_model_module_version": "1.5.0",
            "_model_name": "IntSliderModel",
            "_view_count": null,
            "_view_module": "@jupyter-widgets/controls",
            "_view_module_version": "1.5.0",
            "_view_name": "IntSliderView",
            "continuous_update": true,
            "description": "roll_x_dir",
            "description_tooltip": null,
            "disabled": false,
            "layout": "IPY_MODEL_8275785302f44f5197e996d09af6c998",
            "max": 1,
            "min": -1,
            "orientation": "horizontal",
            "readout": true,
            "readout_format": "d",
            "step": 1,
            "style": "IPY_MODEL_81fe9423ad44484b9e52f455eec22516",
            "value": 0
          }
        },
        "2b69306df41f4a608fdb97e7a631bb31": {
          "model_module": "@jupyter-widgets/controls",
          "model_name": "IntSliderModel",
          "model_module_version": "1.5.0",
          "state": {
            "_dom_classes": [],
            "_model_module": "@jupyter-widgets/controls",
            "_model_module_version": "1.5.0",
            "_model_name": "IntSliderModel",
            "_view_count": null,
            "_view_module": "@jupyter-widgets/controls",
            "_view_module_version": "1.5.0",
            "_view_name": "IntSliderView",
            "continuous_update": true,
            "description": "roll_y_dir",
            "description_tooltip": null,
            "disabled": false,
            "layout": "IPY_MODEL_8470c521be52435abfb5d6d576fe8f1b",
            "max": 1,
            "min": -1,
            "orientation": "horizontal",
            "readout": true,
            "readout_format": "d",
            "step": 1,
            "style": "IPY_MODEL_2ae7e46e3a8c4133b3bda6f8ebec2911",
            "value": 0
          }
        },
        "a7afa41b0bea4393806c395797ea3cdb": {
          "model_module": "@jupyter-widgets/controls",
          "model_name": "ButtonModel",
          "model_module_version": "1.5.0",
          "state": {
            "_dom_classes": [],
            "_model_module": "@jupyter-widgets/controls",
            "_model_module_version": "1.5.0",
            "_model_name": "ButtonModel",
            "_view_count": null,
            "_view_module": "@jupyter-widgets/controls",
            "_view_module_version": "1.5.0",
            "_view_name": "ButtonView",
            "button_style": "",
            "description": "Run Interact",
            "disabled": false,
            "icon": "",
            "layout": "IPY_MODEL_eee187888252456fa57b7b03fffc0112",
            "style": "IPY_MODEL_773378c098064c15824da60fdd663f0a",
            "tooltip": ""
          }
        },
        "1bd3a579104a41ce8d4df62302570a1e": {
          "model_module": "@jupyter-widgets/output",
          "model_name": "OutputModel",
          "model_module_version": "1.0.0",
          "state": {
            "_dom_classes": [],
            "_model_module": "@jupyter-widgets/output",
            "_model_module_version": "1.0.0",
            "_model_name": "OutputModel",
            "_view_count": null,
            "_view_module": "@jupyter-widgets/output",
            "_view_module_version": "1.0.0",
            "_view_name": "OutputView",
            "layout": "IPY_MODEL_bb1db79f05a545829b49aa5372c98636",
            "msg_id": "",
            "outputs": []
          }
        },
        "c64f327c527443529ac3eadafb5e3698": {
          "model_module": "@jupyter-widgets/base",
          "model_name": "LayoutModel",
          "model_module_version": "1.2.0",
          "state": {
            "_model_module": "@jupyter-widgets/base",
            "_model_module_version": "1.2.0",
            "_model_name": "LayoutModel",
            "_view_count": null,
            "_view_module": "@jupyter-widgets/base",
            "_view_module_version": "1.2.0",
            "_view_name": "LayoutView",
            "align_content": null,
            "align_items": null,
            "align_self": null,
            "border": null,
            "bottom": null,
            "display": null,
            "flex": null,
            "flex_flow": null,
            "grid_area": null,
            "grid_auto_columns": null,
            "grid_auto_flow": null,
            "grid_auto_rows": null,
            "grid_column": null,
            "grid_gap": null,
            "grid_row": null,
            "grid_template_areas": null,
            "grid_template_columns": null,
            "grid_template_rows": null,
            "height": null,
            "justify_content": null,
            "justify_items": null,
            "left": null,
            "margin": null,
            "max_height": null,
            "max_width": null,
            "min_height": null,
            "min_width": null,
            "object_fit": null,
            "object_position": null,
            "order": null,
            "overflow": null,
            "overflow_x": null,
            "overflow_y": null,
            "padding": null,
            "right": null,
            "top": null,
            "visibility": null,
            "width": null
          }
        },
        "8275785302f44f5197e996d09af6c998": {
          "model_module": "@jupyter-widgets/base",
          "model_name": "LayoutModel",
          "model_module_version": "1.2.0",
          "state": {
            "_model_module": "@jupyter-widgets/base",
            "_model_module_version": "1.2.0",
            "_model_name": "LayoutModel",
            "_view_count": null,
            "_view_module": "@jupyter-widgets/base",
            "_view_module_version": "1.2.0",
            "_view_name": "LayoutView",
            "align_content": null,
            "align_items": null,
            "align_self": null,
            "border": null,
            "bottom": null,
            "display": null,
            "flex": null,
            "flex_flow": null,
            "grid_area": null,
            "grid_auto_columns": null,
            "grid_auto_flow": null,
            "grid_auto_rows": null,
            "grid_column": null,
            "grid_gap": null,
            "grid_row": null,
            "grid_template_areas": null,
            "grid_template_columns": null,
            "grid_template_rows": null,
            "height": null,
            "justify_content": null,
            "justify_items": null,
            "left": null,
            "margin": null,
            "max_height": null,
            "max_width": null,
            "min_height": null,
            "min_width": null,
            "object_fit": null,
            "object_position": null,
            "order": null,
            "overflow": null,
            "overflow_x": null,
            "overflow_y": null,
            "padding": null,
            "right": null,
            "top": null,
            "visibility": null,
            "width": null
          }
        },
        "81fe9423ad44484b9e52f455eec22516": {
          "model_module": "@jupyter-widgets/controls",
          "model_name": "SliderStyleModel",
          "model_module_version": "1.5.0",
          "state": {
            "_model_module": "@jupyter-widgets/controls",
            "_model_module_version": "1.5.0",
            "_model_name": "SliderStyleModel",
            "_view_count": null,
            "_view_module": "@jupyter-widgets/base",
            "_view_module_version": "1.2.0",
            "_view_name": "StyleView",
            "description_width": "",
            "handle_color": null
          }
        },
        "8470c521be52435abfb5d6d576fe8f1b": {
          "model_module": "@jupyter-widgets/base",
          "model_name": "LayoutModel",
          "model_module_version": "1.2.0",
          "state": {
            "_model_module": "@jupyter-widgets/base",
            "_model_module_version": "1.2.0",
            "_model_name": "LayoutModel",
            "_view_count": null,
            "_view_module": "@jupyter-widgets/base",
            "_view_module_version": "1.2.0",
            "_view_name": "LayoutView",
            "align_content": null,
            "align_items": null,
            "align_self": null,
            "border": null,
            "bottom": null,
            "display": null,
            "flex": null,
            "flex_flow": null,
            "grid_area": null,
            "grid_auto_columns": null,
            "grid_auto_flow": null,
            "grid_auto_rows": null,
            "grid_column": null,
            "grid_gap": null,
            "grid_row": null,
            "grid_template_areas": null,
            "grid_template_columns": null,
            "grid_template_rows": null,
            "height": null,
            "justify_content": null,
            "justify_items": null,
            "left": null,
            "margin": null,
            "max_height": null,
            "max_width": null,
            "min_height": null,
            "min_width": null,
            "object_fit": null,
            "object_position": null,
            "order": null,
            "overflow": null,
            "overflow_x": null,
            "overflow_y": null,
            "padding": null,
            "right": null,
            "top": null,
            "visibility": null,
            "width": null
          }
        },
        "2ae7e46e3a8c4133b3bda6f8ebec2911": {
          "model_module": "@jupyter-widgets/controls",
          "model_name": "SliderStyleModel",
          "model_module_version": "1.5.0",
          "state": {
            "_model_module": "@jupyter-widgets/controls",
            "_model_module_version": "1.5.0",
            "_model_name": "SliderStyleModel",
            "_view_count": null,
            "_view_module": "@jupyter-widgets/base",
            "_view_module_version": "1.2.0",
            "_view_name": "StyleView",
            "description_width": "",
            "handle_color": null
          }
        },
        "eee187888252456fa57b7b03fffc0112": {
          "model_module": "@jupyter-widgets/base",
          "model_name": "LayoutModel",
          "model_module_version": "1.2.0",
          "state": {
            "_model_module": "@jupyter-widgets/base",
            "_model_module_version": "1.2.0",
            "_model_name": "LayoutModel",
            "_view_count": null,
            "_view_module": "@jupyter-widgets/base",
            "_view_module_version": "1.2.0",
            "_view_name": "LayoutView",
            "align_content": null,
            "align_items": null,
            "align_self": null,
            "border": null,
            "bottom": null,
            "display": null,
            "flex": null,
            "flex_flow": null,
            "grid_area": null,
            "grid_auto_columns": null,
            "grid_auto_flow": null,
            "grid_auto_rows": null,
            "grid_column": null,
            "grid_gap": null,
            "grid_row": null,
            "grid_template_areas": null,
            "grid_template_columns": null,
            "grid_template_rows": null,
            "height": null,
            "justify_content": null,
            "justify_items": null,
            "left": null,
            "margin": null,
            "max_height": null,
            "max_width": null,
            "min_height": null,
            "min_width": null,
            "object_fit": null,
            "object_position": null,
            "order": null,
            "overflow": null,
            "overflow_x": null,
            "overflow_y": null,
            "padding": null,
            "right": null,
            "top": null,
            "visibility": null,
            "width": null
          }
        },
        "773378c098064c15824da60fdd663f0a": {
          "model_module": "@jupyter-widgets/controls",
          "model_name": "ButtonStyleModel",
          "model_module_version": "1.5.0",
          "state": {
            "_model_module": "@jupyter-widgets/controls",
            "_model_module_version": "1.5.0",
            "_model_name": "ButtonStyleModel",
            "_view_count": null,
            "_view_module": "@jupyter-widgets/base",
            "_view_module_version": "1.2.0",
            "_view_name": "StyleView",
            "button_color": null,
            "font_weight": ""
          }
        },
        "bb1db79f05a545829b49aa5372c98636": {
          "model_module": "@jupyter-widgets/base",
          "model_name": "LayoutModel",
          "model_module_version": "1.2.0",
          "state": {
            "_model_module": "@jupyter-widgets/base",
            "_model_module_version": "1.2.0",
            "_model_name": "LayoutModel",
            "_view_count": null,
            "_view_module": "@jupyter-widgets/base",
            "_view_module_version": "1.2.0",
            "_view_name": "LayoutView",
            "align_content": null,
            "align_items": null,
            "align_self": null,
            "border": null,
            "bottom": null,
            "display": null,
            "flex": null,
            "flex_flow": null,
            "grid_area": null,
            "grid_auto_columns": null,
            "grid_auto_flow": null,
            "grid_auto_rows": null,
            "grid_column": null,
            "grid_gap": null,
            "grid_row": null,
            "grid_template_areas": null,
            "grid_template_columns": null,
            "grid_template_rows": null,
            "height": "350px",
            "justify_content": null,
            "justify_items": null,
            "left": null,
            "margin": null,
            "max_height": null,
            "max_width": null,
            "min_height": null,
            "min_width": null,
            "object_fit": null,
            "object_position": null,
            "order": null,
            "overflow": null,
            "overflow_x": null,
            "overflow_y": null,
            "padding": null,
            "right": null,
            "top": null,
            "visibility": null,
            "width": null
          }
        },
        "76d15da107364a4db63de58cd918b041": {
          "model_module": "@jupyter-widgets/controls",
          "model_name": "VBoxModel",
          "model_module_version": "1.5.0",
          "state": {
            "_dom_classes": [
              "widget-interact"
            ],
            "_model_module": "@jupyter-widgets/controls",
            "_model_module_version": "1.5.0",
            "_model_name": "VBoxModel",
            "_view_count": null,
            "_view_module": "@jupyter-widgets/controls",
            "_view_module_version": "1.5.0",
            "_view_name": "VBoxView",
            "box_style": "",
            "children": [
              "IPY_MODEL_a7b624877a1541d5a0f4e4d62aeb17e4",
              "IPY_MODEL_0d0ee0cd2ce7424e8eeed23e8f3d0d89"
            ],
            "layout": "IPY_MODEL_6044efed7318499eba51ab157d75c9cd"
          }
        },
        "a7b624877a1541d5a0f4e4d62aeb17e4": {
          "model_module": "@jupyter-widgets/controls",
          "model_name": "DropdownModel",
          "model_module_version": "1.5.0",
          "state": {
            "_dom_classes": [],
            "_model_module": "@jupyter-widgets/controls",
            "_model_module_version": "1.5.0",
            "_model_name": "DropdownModel",
            "_options_labels": [
              "beads.tif",
              "bevo.tif"
            ],
            "_view_count": null,
            "_view_module": "@jupyter-widgets/controls",
            "_view_module_version": "1.5.0",
            "_view_name": "DropdownView",
            "description": "dropdown",
            "description_tooltip": null,
            "disabled": false,
            "index": 0,
            "layout": "IPY_MODEL_c4278ba206314ab59b87b7adb9aa56df",
            "style": "IPY_MODEL_d603bbfabb97445382f891f895a67614"
          }
        },
        "0d0ee0cd2ce7424e8eeed23e8f3d0d89": {
          "model_module": "@jupyter-widgets/output",
          "model_name": "OutputModel",
          "model_module_version": "1.0.0",
          "state": {
            "_dom_classes": [],
            "_model_module": "@jupyter-widgets/output",
            "_model_module_version": "1.0.0",
            "_model_name": "OutputModel",
            "_view_count": null,
            "_view_module": "@jupyter-widgets/output",
            "_view_module_version": "1.0.0",
            "_view_name": "OutputView",
            "layout": "IPY_MODEL_4c49f0f05306456983b3ee6b0798dfc3",
            "msg_id": "",
            "outputs": [
              {
                "output_type": "display_data",
                "data": {
                  "text/plain": "'beads.tif'",
                  "application/vnd.google.colaboratory.intrinsic+json": {
                    "type": "string"
                  }
                },
                "metadata": {}
              },
              {
                "output_type": "display_data",
                "data": {
                  "text/plain": "<Figure size 432x288 with 2 Axes>",
                  "image/png": "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\n"
                },
                "metadata": {
                  "needs_background": "light"
                }
              }
            ]
          }
        },
        "6044efed7318499eba51ab157d75c9cd": {
          "model_module": "@jupyter-widgets/base",
          "model_name": "LayoutModel",
          "model_module_version": "1.2.0",
          "state": {
            "_model_module": "@jupyter-widgets/base",
            "_model_module_version": "1.2.0",
            "_model_name": "LayoutModel",
            "_view_count": null,
            "_view_module": "@jupyter-widgets/base",
            "_view_module_version": "1.2.0",
            "_view_name": "LayoutView",
            "align_content": null,
            "align_items": null,
            "align_self": null,
            "border": null,
            "bottom": null,
            "display": null,
            "flex": null,
            "flex_flow": null,
            "grid_area": null,
            "grid_auto_columns": null,
            "grid_auto_flow": null,
            "grid_auto_rows": null,
            "grid_column": null,
            "grid_gap": null,
            "grid_row": null,
            "grid_template_areas": null,
            "grid_template_columns": null,
            "grid_template_rows": null,
            "height": null,
            "justify_content": null,
            "justify_items": null,
            "left": null,
            "margin": null,
            "max_height": null,
            "max_width": null,
            "min_height": null,
            "min_width": null,
            "object_fit": null,
            "object_position": null,
            "order": null,
            "overflow": null,
            "overflow_x": null,
            "overflow_y": null,
            "padding": null,
            "right": null,
            "top": null,
            "visibility": null,
            "width": null
          }
        },
        "c4278ba206314ab59b87b7adb9aa56df": {
          "model_module": "@jupyter-widgets/base",
          "model_name": "LayoutModel",
          "model_module_version": "1.2.0",
          "state": {
            "_model_module": "@jupyter-widgets/base",
            "_model_module_version": "1.2.0",
            "_model_name": "LayoutModel",
            "_view_count": null,
            "_view_module": "@jupyter-widgets/base",
            "_view_module_version": "1.2.0",
            "_view_name": "LayoutView",
            "align_content": null,
            "align_items": null,
            "align_self": null,
            "border": null,
            "bottom": null,
            "display": null,
            "flex": null,
            "flex_flow": null,
            "grid_area": null,
            "grid_auto_columns": null,
            "grid_auto_flow": null,
            "grid_auto_rows": null,
            "grid_column": null,
            "grid_gap": null,
            "grid_row": null,
            "grid_template_areas": null,
            "grid_template_columns": null,
            "grid_template_rows": null,
            "height": null,
            "justify_content": null,
            "justify_items": null,
            "left": null,
            "margin": null,
            "max_height": null,
            "max_width": null,
            "min_height": null,
            "min_width": null,
            "object_fit": null,
            "object_position": null,
            "order": null,
            "overflow": null,
            "overflow_x": null,
            "overflow_y": null,
            "padding": null,
            "right": null,
            "top": null,
            "visibility": null,
            "width": null
          }
        },
        "d603bbfabb97445382f891f895a67614": {
          "model_module": "@jupyter-widgets/controls",
          "model_name": "DescriptionStyleModel",
          "model_module_version": "1.5.0",
          "state": {
            "_model_module": "@jupyter-widgets/controls",
            "_model_module_version": "1.5.0",
            "_model_name": "DescriptionStyleModel",
            "_view_count": null,
            "_view_module": "@jupyter-widgets/base",
            "_view_module_version": "1.2.0",
            "_view_name": "StyleView",
            "description_width": ""
          }
        },
        "4c49f0f05306456983b3ee6b0798dfc3": {
          "model_module": "@jupyter-widgets/base",
          "model_name": "LayoutModel",
          "model_module_version": "1.2.0",
          "state": {
            "_model_module": "@jupyter-widgets/base",
            "_model_module_version": "1.2.0",
            "_model_name": "LayoutModel",
            "_view_count": null,
            "_view_module": "@jupyter-widgets/base",
            "_view_module_version": "1.2.0",
            "_view_name": "LayoutView",
            "align_content": null,
            "align_items": null,
            "align_self": null,
            "border": null,
            "bottom": null,
            "display": null,
            "flex": null,
            "flex_flow": null,
            "grid_area": null,
            "grid_auto_columns": null,
            "grid_auto_flow": null,
            "grid_auto_rows": null,
            "grid_column": null,
            "grid_gap": null,
            "grid_row": null,
            "grid_template_areas": null,
            "grid_template_columns": null,
            "grid_template_rows": null,
            "height": null,
            "justify_content": null,
            "justify_items": null,
            "left": null,
            "margin": null,
            "max_height": null,
            "max_width": null,
            "min_height": null,
            "min_width": null,
            "object_fit": null,
            "object_position": null,
            "order": null,
            "overflow": null,
            "overflow_x": null,
            "overflow_y": null,
            "padding": null,
            "right": null,
            "top": null,
            "visibility": null,
            "width": null
          }
        },
        "66449bc1ec00451a9ac55124ed5c9c82": {
          "model_module": "@jupyter-widgets/controls",
          "model_name": "VBoxModel",
          "model_module_version": "1.5.0",
          "state": {
            "_dom_classes": [
              "widget-interact"
            ],
            "_model_module": "@jupyter-widgets/controls",
            "_model_module_version": "1.5.0",
            "_model_name": "VBoxModel",
            "_view_count": null,
            "_view_module": "@jupyter-widgets/controls",
            "_view_module_version": "1.5.0",
            "_view_name": "VBoxView",
            "box_style": "",
            "children": [
              "IPY_MODEL_b707f69e9a16445a995f2ea93d0a2c0e",
              "IPY_MODEL_883a6560389943cbbd6f677e460eeedb",
              "IPY_MODEL_0deb57a67ce747d2a71d0318d480c7a6"
            ],
            "layout": "IPY_MODEL_524d30035d2d4bf5962b607d4324da9a"
          }
        },
        "b707f69e9a16445a995f2ea93d0a2c0e": {
          "model_module": "@jupyter-widgets/controls",
          "model_name": "FloatSliderModel",
          "model_module_version": "1.5.0",
          "state": {
            "_dom_classes": [],
            "_model_module": "@jupyter-widgets/controls",
            "_model_module_version": "1.5.0",
            "_model_name": "FloatSliderModel",
            "_view_count": null,
            "_view_module": "@jupyter-widgets/controls",
            "_view_module_version": "1.5.0",
            "_view_name": "FloatSliderView",
            "continuous_update": false,
            "description": "Porosity",
            "description_tooltip": null,
            "disabled": false,
            "layout": "IPY_MODEL_8869f4ca11a84a0188bcf06fbcea4bbb",
            "max": 0.86,
            "min": 0.5,
            "orientation": "horizontal",
            "readout": true,
            "readout_format": ".2f",
            "step": 0.01,
            "style": "IPY_MODEL_ce7168ffc70b4310afd80ee1565c711e",
            "value": 0.5
          }
        },
        "883a6560389943cbbd6f677e460eeedb": {
          "model_module": "@jupyter-widgets/controls",
          "model_name": "ButtonModel",
          "model_module_version": "1.5.0",
          "state": {
            "_dom_classes": [],
            "_model_module": "@jupyter-widgets/controls",
            "_model_module_version": "1.5.0",
            "_model_name": "ButtonModel",
            "_view_count": null,
            "_view_module": "@jupyter-widgets/controls",
            "_view_module_version": "1.5.0",
            "_view_name": "ButtonView",
            "button_style": "",
            "description": "Run Interact",
            "disabled": false,
            "icon": "",
            "layout": "IPY_MODEL_c952696bb3e54e528dd5e652ca8e39ad",
            "style": "IPY_MODEL_8f93f2c95b9d49b08859b5d735849aba",
            "tooltip": ""
          }
        },
        "0deb57a67ce747d2a71d0318d480c7a6": {
          "model_module": "@jupyter-widgets/output",
          "model_name": "OutputModel",
          "model_module_version": "1.0.0",
          "state": {
            "_dom_classes": [],
            "_model_module": "@jupyter-widgets/output",
            "_model_module_version": "1.0.0",
            "_model_name": "OutputModel",
            "_view_count": null,
            "_view_module": "@jupyter-widgets/output",
            "_view_module_version": "1.0.0",
            "_view_name": "OutputView",
            "layout": "IPY_MODEL_5b0d74c1dd774d9f97c1968ba278aaa5",
            "msg_id": "",
            "outputs": [
              {
                "output_type": "display_data",
                "data": {
                  "text/plain": "<Figure size 432x288 with 2 Axes>",
                  "image/png": "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\n"
                },
                "metadata": {
                  "needs_background": "light"
                }
              }
            ]
          }
        },
        "524d30035d2d4bf5962b607d4324da9a": {
          "model_module": "@jupyter-widgets/base",
          "model_name": "LayoutModel",
          "model_module_version": "1.2.0",
          "state": {
            "_model_module": "@jupyter-widgets/base",
            "_model_module_version": "1.2.0",
            "_model_name": "LayoutModel",
            "_view_count": null,
            "_view_module": "@jupyter-widgets/base",
            "_view_module_version": "1.2.0",
            "_view_name": "LayoutView",
            "align_content": null,
            "align_items": null,
            "align_self": null,
            "border": null,
            "bottom": null,
            "display": null,
            "flex": null,
            "flex_flow": null,
            "grid_area": null,
            "grid_auto_columns": null,
            "grid_auto_flow": null,
            "grid_auto_rows": null,
            "grid_column": null,
            "grid_gap": null,
            "grid_row": null,
            "grid_template_areas": null,
            "grid_template_columns": null,
            "grid_template_rows": null,
            "height": null,
            "justify_content": null,
            "justify_items": null,
            "left": null,
            "margin": null,
            "max_height": null,
            "max_width": null,
            "min_height": null,
            "min_width": null,
            "object_fit": null,
            "object_position": null,
            "order": null,
            "overflow": null,
            "overflow_x": null,
            "overflow_y": null,
            "padding": null,
            "right": null,
            "top": null,
            "visibility": null,
            "width": null
          }
        },
        "8869f4ca11a84a0188bcf06fbcea4bbb": {
          "model_module": "@jupyter-widgets/base",
          "model_name": "LayoutModel",
          "model_module_version": "1.2.0",
          "state": {
            "_model_module": "@jupyter-widgets/base",
            "_model_module_version": "1.2.0",
            "_model_name": "LayoutModel",
            "_view_count": null,
            "_view_module": "@jupyter-widgets/base",
            "_view_module_version": "1.2.0",
            "_view_name": "LayoutView",
            "align_content": null,
            "align_items": null,
            "align_self": null,
            "border": null,
            "bottom": null,
            "display": null,
            "flex": null,
            "flex_flow": null,
            "grid_area": null,
            "grid_auto_columns": null,
            "grid_auto_flow": null,
            "grid_auto_rows": null,
            "grid_column": null,
            "grid_gap": null,
            "grid_row": null,
            "grid_template_areas": null,
            "grid_template_columns": null,
            "grid_template_rows": null,
            "height": null,
            "justify_content": null,
            "justify_items": null,
            "left": null,
            "margin": null,
            "max_height": null,
            "max_width": null,
            "min_height": null,
            "min_width": null,
            "object_fit": null,
            "object_position": null,
            "order": null,
            "overflow": null,
            "overflow_x": null,
            "overflow_y": null,
            "padding": null,
            "right": null,
            "top": null,
            "visibility": null,
            "width": null
          }
        },
        "ce7168ffc70b4310afd80ee1565c711e": {
          "model_module": "@jupyter-widgets/controls",
          "model_name": "SliderStyleModel",
          "model_module_version": "1.5.0",
          "state": {
            "_model_module": "@jupyter-widgets/controls",
            "_model_module_version": "1.5.0",
            "_model_name": "SliderStyleModel",
            "_view_count": null,
            "_view_module": "@jupyter-widgets/base",
            "_view_module_version": "1.2.0",
            "_view_name": "StyleView",
            "description_width": "",
            "handle_color": null
          }
        },
        "c952696bb3e54e528dd5e652ca8e39ad": {
          "model_module": "@jupyter-widgets/base",
          "model_name": "LayoutModel",
          "model_module_version": "1.2.0",
          "state": {
            "_model_module": "@jupyter-widgets/base",
            "_model_module_version": "1.2.0",
            "_model_name": "LayoutModel",
            "_view_count": null,
            "_view_module": "@jupyter-widgets/base",
            "_view_module_version": "1.2.0",
            "_view_name": "LayoutView",
            "align_content": null,
            "align_items": null,
            "align_self": null,
            "border": null,
            "bottom": null,
            "display": null,
            "flex": null,
            "flex_flow": null,
            "grid_area": null,
            "grid_auto_columns": null,
            "grid_auto_flow": null,
            "grid_auto_rows": null,
            "grid_column": null,
            "grid_gap": null,
            "grid_row": null,
            "grid_template_areas": null,
            "grid_template_columns": null,
            "grid_template_rows": null,
            "height": null,
            "justify_content": null,
            "justify_items": null,
            "left": null,
            "margin": null,
            "max_height": null,
            "max_width": null,
            "min_height": null,
            "min_width": null,
            "object_fit": null,
            "object_position": null,
            "order": null,
            "overflow": null,
            "overflow_x": null,
            "overflow_y": null,
            "padding": null,
            "right": null,
            "top": null,
            "visibility": null,
            "width": null
          }
        },
        "8f93f2c95b9d49b08859b5d735849aba": {
          "model_module": "@jupyter-widgets/controls",
          "model_name": "ButtonStyleModel",
          "model_module_version": "1.5.0",
          "state": {
            "_model_module": "@jupyter-widgets/controls",
            "_model_module_version": "1.5.0",
            "_model_name": "ButtonStyleModel",
            "_view_count": null,
            "_view_module": "@jupyter-widgets/base",
            "_view_module_version": "1.2.0",
            "_view_name": "StyleView",
            "button_color": null,
            "font_weight": ""
          }
        },
        "5b0d74c1dd774d9f97c1968ba278aaa5": {
          "model_module": "@jupyter-widgets/base",
          "model_name": "LayoutModel",
          "model_module_version": "1.2.0",
          "state": {
            "_model_module": "@jupyter-widgets/base",
            "_model_module_version": "1.2.0",
            "_model_name": "LayoutModel",
            "_view_count": null,
            "_view_module": "@jupyter-widgets/base",
            "_view_module_version": "1.2.0",
            "_view_name": "LayoutView",
            "align_content": null,
            "align_items": null,
            "align_self": null,
            "border": null,
            "bottom": null,
            "display": null,
            "flex": null,
            "flex_flow": null,
            "grid_area": null,
            "grid_auto_columns": null,
            "grid_auto_flow": null,
            "grid_auto_rows": null,
            "grid_column": null,
            "grid_gap": null,
            "grid_row": null,
            "grid_template_areas": null,
            "grid_template_columns": null,
            "grid_template_rows": null,
            "height": null,
            "justify_content": null,
            "justify_items": null,
            "left": null,
            "margin": null,
            "max_height": null,
            "max_width": null,
            "min_height": null,
            "min_width": null,
            "object_fit": null,
            "object_position": null,
            "order": null,
            "overflow": null,
            "overflow_x": null,
            "overflow_y": null,
            "padding": null,
            "right": null,
            "top": null,
            "visibility": null,
            "width": null
          }
        }
      }
    },
    "gpuClass": "standard"
  },
  "cells": [
    {
      "cell_type": "markdown",
      "metadata": {
        "id": "view-in-github",
        "colab_type": "text"
      },
      "source": [
        "<a href=\"https://colab.research.google.com/github/BC-Chang/LBM_Workshop/blob/master/D2Q9_LBM_main.ipynb\" target=\"_parent\"><img src=\"https://colab.research.google.com/assets/colab-badge.svg\" alt=\"Open In Colab\"/></a>"
      ]
    },
    {
      "cell_type": "markdown",
      "source": [
        "# Digital Porous Media Industrial Affiliates Program (DPM-IAP) Workshop\n",
        "### Dr. Masa Prodanovic and Bernard Chang\n",
        "\n",
        "\n",
        "In this first hands-on activity, we will demonstrate the general algorithm used to perform single phase lattice Boltzmann simulations. The ultimate goal of this exercise is to calculate the velocity field through a given medium. From there, we will demonstrate some visualizations of the velocity field and obtain a value for the permeability through this domain. This example is performed on a 2-dimensional lattice with 9 discrete velocities (D2Q9).\n",
        "\n",
        "Before we get started, let's import some packages\n"
      ],
      "metadata": {
        "id": "N-k4vBB36_sw",
        "pycharm": {
          "name": "#%% md\n"
        }
      }
    },
    {
      "cell_type": "code",
      "execution_count": 1,
      "metadata": {
        "id": "t7Wpd3A46qjp",
        "pycharm": {
          "name": "#%%\n"
        }
      },
      "outputs": [],
      "source": [
        "#@title Import Packages\n",
        "%%capture\n",
        "import numpy as np\n",
        "import matplotlib.pyplot as plt\n",
        "import scipy as sc\n",
        "import tifffile\n",
        "\n",
        "# Porespy for generating domains\n",
        "try:\n",
        "  import porespy as ps\n",
        "except:\n",
        "  !pip install -q porespy==1.0.0\n",
        "  import porespy as ps\n",
        "\n",
        "from skimage.measure import regionprops,label\n",
        "\n",
        "import sys\n",
        "import os\n",
        "from tqdm import tqdm\n",
        "\n",
        "try:\n",
        "  os.chdir(\"./LBM_Workshop\")\n",
        "  # sys.path.append(\"./LBM_Workshop/\")\n",
        "except:\n",
        "  !git clone https://github.com/BC-Chang/LBM_Workshop.git\n",
        "  os.chdir(\"./LBM_Workshop\")\n",
        "\n",
        "from plotting_utils import plot_profile, plot_quiver, plot_streamlines\n",
        "\n",
        "# Import a timer\n",
        "from time import perf_counter_ns, sleep\n",
        "\n",
        "# Import ipywidgets\n",
        "import ipywidgets as widgets\n",
        "from ipywidgets import interact, interact_manual, interactive\n",
        "from IPython.display import display, clear_output\n",
        "\n",
        "import torch\n"
      ]
    },
    {
      "cell_type": "markdown",
      "source": [
        "## A Step-by-Step Introduction to the Lattice Boltzmann Method\n",
        "\n",
        "### Background\n",
        "The fundamental variable in **kinetic theory**, on which LBM is based, is the particle distribution function $f$. LBM tracks the distribution of molecules using $f$ in the Boltzmann equation. \n",
        "\n",
        "Conceptually, LBM models the probability of molecules having a certain position and velocity (or momentum) over time subject to molecular diffusion, external forces, and molecular collisions.\n",
        "\n",
        "The distribution function, $f$, is also related to macroscopic variables such as density, $\\rho$ and fluid velocity, $u$ through its **moments**. These moments are integrals of $f$, weighted with some function of particale velocity, $\\xi$. \n",
        "\n",
        "For example, the macroscopic mass density can be found as:\n",
        "$$\\rho(x, t) = \\int f(x,\\xi,t)d^3\\xi.$$\n",
        "\n",
        "Similarly, the momentum density is,\n",
        "$$\\rho(x, t)u(x,t) = \\int \\xi f(x, \\xi, t)d^3\\xi.$$\n",
        "\n",
        "\n",
        "In LBM, we deal with the *discrete-velocity distribution function, $f_i(x, t)$*. The mass density, $\\rho$, and the momentum density, $u$, are found through the weighted sums (moments) of $f_i$:\n",
        "$$\\rho = \\sum f_i(x, t),$$\n",
        "and\n",
        "$$\\rho u(x,t) = \\sum c_i f_i(x, t),$$\n",
        "\n",
        "where $c_i$ is a discrete set of velocities discussed below."
      ],
      "metadata": {
        "id": "AhhZnkWEmaef"
      }
    },
    {
      "cell_type": "markdown",
      "source": [
        "### Defining our Lattice\n",
        "\n",
        "For this exercise, we will use a 2-dimensional lattice with 9 discrete velocities (D2Q9). This means, that in every grid space, there are 9 possible connections — North, South, East, West, 4 diagonal connections and 1 connection from the node itself, representing zero velocity.\n",
        "\n",
        "Each lattice direction also has a weight, $w_i$ associated with it. For D2Q9 LBM, these will be:\n",
        "\n",
        "<img src='https://media.springernature.com/full/springer-static/image/art%3A10.1007%2Fs11831-019-09347-7/MediaObjects/11831_2019_9347_Fig2_HTML.png?as=webp' height=\"300\">\n",
        "\n",
        "\n",
        "In the following cell, we will initialize these velocity directions and their weights.\n"
      ],
      "metadata": {
        "id": "Jmz6WdbHvCxN"
      }
    },
    {
      "cell_type": "code",
      "source": [
        "def initialize_weights():\n",
        "\n",
        "  # Define lattice velocity vectors\n",
        "  ex = np.array([0, 1, 0, -1, 0, 1, -1, -1, 1], dtype=np.double)\n",
        "  ey = np.array([0, 0, 1, 0, -1, 1, 1, -1, -1], dtype=np.double)\n",
        "  # c = np.array([[0, 0], [1, 0], [0, 1], [-1, 0], [0, -1], [1, 1], [-1, 1], [-1, -1], [1, -1]])\n",
        "\n",
        "\n",
        "  # Define weights\n",
        "  w_i = np.array([4./9.,\n",
        "                  1./9.,\n",
        "                  1./9.,\n",
        "                  1./9.,\n",
        "                  1./9.,\n",
        "                  1./36.,\n",
        "                  1./36.,\n",
        "                  1./36.,\n",
        "                  1./36.], dtype=np.double)\n",
        "  \n",
        "  return ex, ey, w_i"
      ],
      "metadata": {
        "id": "Kkk4fy-dAVR4"
      },
      "execution_count": 2,
      "outputs": []
    },
    {
      "cell_type": "markdown",
      "source": [
        "<!-- The fundamental variable in **kinetic theory**, on which LBM is based, is the particle distribution function $f(x, \\xi, t)$. It simultaneously represents mass density in physical space and in velocity space. In other words, $f$ represents the density of particles with particle velocity, $\\xi$, at position $x$ and time $t$\n",
        "\n",
        "The distribution function, $f$, is also related to macroscopic variables such as density, $\\rho$ and fluid velocity, $u$ through its **moments**. These moments are integrals of $f$, weighted with some function of $\\xi$. For example, the macroscopic mass density can be found as:\n",
        "$$\\rho(x, t) = \\int f(x,\\xi,t)d^3\\xi.$$\n",
        "\n",
        "Similarly, the momentum density is,\n",
        "$$\\rho(x, t)u(x,t) = \\int \\xi f(x, \\xi, t)d^3\\xi.$$ -->\n",
        "\n",
        "### Obtaining Macroscopic Properties\n",
        "\n",
        "Recall  that macroscopic properties, such as mass and momentum density can be can be obtained from the weighted sum (moments) of the *discrete-velocity distribution function, $f_i(x, t)$*\n",
        "<!-- In LBM, we deal with the *discrete-velocity distribution function, $f_i(x, t)$*. The mass density, $\\rho$, and the momentum density, $u$, are found through the weighted sums (moments) of $f_i$: -->\n",
        "$$\\rho = \\sum f_i(x, t),$$\n",
        "and\n",
        "$$\\rho u(x,t) = \\sum c_i f_i(x, t),$$\n",
        "\n",
        "where $c_i$ is a discrete set of particle velocities. \n"
      ],
      "metadata": {
        "id": "yLwoKN28CEPv"
      }
    },
    {
      "cell_type": "code",
      "source": [
        "def macroscopic(f, fx, fy, ex, ey, nx, ny):\n",
        "  \"\"\"\n",
        "  :f: Discrete particle distribution function\n",
        "  :fx: Row indices of fluid nodes\n",
        "  :fy: Column indices of fluid nodes\n",
        "  :c: Velocity vectors\n",
        "  :nx: Domain size in x\n",
        "  :ny: Domain size in y\n",
        "  :returns: density, velocity components in x and y\n",
        "  \"\"\"\n",
        "  device = torch.device('cuda' if torch.cuda.is_available() else 'cpu')\n",
        "  # Initialize outputs to 0s\n",
        "  u_x = torch.zeros((nx, ny), dtype=torch.float64).to(device)\n",
        "  u_y = torch.zeros((nx, ny), dtype=torch.float64).to(device)\n",
        "  rho = torch.zeros((nx, ny), dtype=torch.float64).to(device)\n",
        "\n",
        "  # Calculate macroscopic properties from moments. Only calculate where there are fluid nodes\n",
        "  # Density\n",
        "  rho[fx, fy] += torch.sum(f[:, fx, fy], axis=0)\n",
        "\n",
        "  # Velocity\n",
        "  u_x[fx, fy] += torch.sum(ex[:, None] * f[:, fx, fy], axis=0)\n",
        "  u_y[fx, fy] += torch.sum(ey[:, None] * f[:, fx, fy], axis=0)\n",
        "  u_x[fx, fy] = u_x[fx, fy] / rho[fx, fy]\n",
        "  u_y[fx, fy] = u_y[fx, fy] / rho[fx, fy]\n",
        "\n",
        "  return rho, u_x, u_y\n"
      ],
      "metadata": {
        "id": "Ga7pdr-oehnh"
      },
      "execution_count": 3,
      "outputs": []
    },
    {
      "cell_type": "markdown",
      "source": [
        "### Equilibrium Calculation\n",
        "\n",
        "Recall the *lattice Boltzmann equation* from the discretization of the Boltzmann equation:\n",
        "$$f_i(x + c_i\\Delta t, t + \\Delta t) = f_i(x, t) + \\Omega_i(x, t)$$\n",
        "\n",
        "This shows that the particles $f_i(x,t)$ move with velocity $c_i$ to a neighboring node. At the same time, the movement of particles is affected by the collision operator, $\\Omega_i$.\n",
        "\n",
        "After particles collide, we may assume that $f_i$ will reach an equilibrium distribution, $f^{eq}$. This equilibrium is given by:\n",
        "\n",
        "$$ f_i^{eq}(x, t) = w_i \\rho \\left(1 + \\frac{u \\cdot c_i}{c_s^2} + \\frac{(u \\cdot c_i)^2}{2c_s^4} - \\frac{u \\cdot u}{2c_s^2} \\right).$$\n",
        "\n",
        "In the isothermal lattice Boltzmann equation, $c_s$ determines the relationship between pressure and density as $p = c_s^2 \\rho$. It can be shown that $c_s$ represents the model's *speed of sound*. In all velocity sets that we will deal with today, $$c_s^2 = (1/3)\\Delta x^2 / \\Delta t^2.$$\n",
        "\n",
        "We typically operate in lattice units where $\\Delta x = \\Delta t = 1$. Therefore, the equilibrium distribution function can be simplified to\n",
        "\n",
        "$$ f_i^{eq}(x, t) = w_i \\rho \\left(1 + 3(u \\cdot c_i) + \\frac{9}{2}(u \\cdot c_i)^2 - \\frac{3}{2} (u \\cdot u) \\right).$$\n",
        "\n"
      ],
      "metadata": {
        "id": "rC4_zbUP4ibV"
      }
    },
    {
      "cell_type": "code",
      "source": [
        "def equilibrium(rho, ux, uy, ex, ey, w_i, nx, ny, fx, fy, tau, g):\n",
        "  device = torch.device('cuda' if torch.cuda.is_available() else 'cpu')\n",
        "\n",
        "  # Extract only fluid nodes and add forcing to velocity\n",
        "  ux = ux[fx, fy] + tau*g\n",
        "  uy = uy[fx, fy]\n",
        "\n",
        "  feq = torch.zeros((9, nx, ny), dtype=torch.float64).to(device)\n",
        "\n",
        "  for i in range(9):\n",
        "    # Compute 2nd term in parenthesis of feq equation above\n",
        "    uc = ex[i]*ux + ey[i]*uy\n",
        "    feq[i, fx, fy] = rho[fx, fy] * w_i[i] * (1 + 3*uc + (9./2.)*uc**2 - (3./2.)*(ux**2 + uy**2))\n",
        "\n",
        "  return feq"
      ],
      "metadata": {
        "id": "G2wlwj-ffyKS"
      },
      "execution_count": 4,
      "outputs": []
    },
    {
      "cell_type": "markdown",
      "source": [
        "### Collision Step\n",
        "\n",
        "LBM simulations can be boiled down to two main steps: **collision** and **streaming**. \n",
        "\n",
        "A simple, and widely-used collision operator, and the one we will use for this exercise, is the Bhatnagar-Gross-Krook (BGK) operator:\n",
        "\n",
        "$$\\Omega_i(f) = -\\frac{f_i - f_i^{eq}}{\\tau} \\Delta t.$$\n",
        "\n",
        "This operator describes how the molecular collisions relax $f_i$ toward equilibrium ($f_i^{eq}$) at a rate determined by the characteristic relaxation time $\\tau$.\n",
        "\n",
        "#### Bounceback Boundary Condition\n",
        "\n",
        "In this exercise, we assume no slip boundary conditions at solid node boundaries. We implement this using the bounceback method. \n",
        "\n",
        "<img src='https://www.researchgate.net/profile/Robert-Bialik/publication/258843003/figure/fig1/AS:392599690072074@1470614468708/No-slip-boundary-condition-bounce-back-boundary-condition-for-the-collision-with-the.png' height='300'>"
      ],
      "metadata": {
        "id": "dypCm0NNumzO"
      }
    },
    {
      "cell_type": "code",
      "source": [
        "def collision(f, feq, tau, sx, sy, fx, fy):     \n",
        "    # Standard Bounceback for Solid Nodes\n",
        "    # Left-Right\n",
        "    f[1, sx, sy], f[3, sx, sy] = f[3, sx, sy], f[1, sx, sy]\n",
        "\n",
        "    # Up-Down\n",
        "    f[2, sx, sy], f[4, sx, sy] = f[4, sx, sy], f[2, sx, sy]\n",
        "\n",
        "    # Top Right - Bottom Left\n",
        "    f[5, sx, sy], f[7, sx, sy] = f[7, sx, sy], f[5, sx, sy]\n",
        "\n",
        "    # Top Left - Bottom Right\n",
        "    f[6, sx, sy], f[8, sx, sy]  = f[8, sx, sy], f[6, sx, sy]\n",
        "\n",
        "    # Regular collision in fluid nodes\n",
        "    f[:, fx, fy] -= (f[:, fx, fy] - feq[:, fx, fy]) / tau\n",
        "\n",
        "    return f"
      ],
      "metadata": {
        "id": "ejZYOzB11hGS"
      },
      "execution_count": 5,
      "outputs": []
    },
    {
      "cell_type": "markdown",
      "source": [
        "### Streaming Step\n",
        "\n",
        "The other main step in simulations is the streaming step. This simply means that particles will move to a neighboring node with velocity $c_i$.\n",
        "\n",
        "In practice, we just need to ensure that we implement the streaming step in such a way that we do not overwrite data that we will need later. In Python, we can use the function ```numpy.roll()```. \n",
        "\n",
        "In the following cell, we visualize how the ```numpy.roll()``` function operates:"
      ],
      "metadata": {
        "id": "QlSB01xhum7a"
      }
    },
    {
      "cell_type": "code",
      "source": [
        "def roll_visualization(roll_x_dir, roll_y_dir):\n",
        "\n",
        "  field_x = np.ones((100, 100))\n",
        "  linear = np.linspace(0, 99, 100)\n",
        "  field_x *= linear\n",
        "\n",
        "  field_y = field_x.copy().T\n",
        "\n",
        "  field = field_x + field_y\n",
        "  plt.imshow(field)\n",
        "  plt.gca().invert_yaxis()\n",
        "  plt.show()\n",
        "\n",
        "  for i in range(201):\n",
        "    field = np.roll(field, (roll_x_dir, roll_y_dir), axis=(1, 0))\n",
        "    if i % 5 == 0:\n",
        "      sleep(0.005)\n",
        "      clear_output(wait=True)\n",
        "      plt.imshow(field)\n",
        "      plt.gca().invert_yaxis()\n",
        "      plt.show()\n",
        "       \n",
        "  # display(roll_x, roll_y)\n",
        "\n",
        "roll_x = widgets.IntSlider(value=0, min=-1, max=1, description='x_direction', continuous_update=False)\n",
        "roll_y = widgets.IntSlider(value=0, min=-1, max=1, description='y_direction', continuous_update=False)\n",
        "\n",
        "interactive_plot = widgets.interactive(roll_visualization, {'manual': True},\n",
        "                                       roll_x_dir=widgets.IntSlider(min=-1, max=1), \n",
        "                                       roll_y_dir=widgets.IntSlider(min=-1, max=1))\n",
        "output = interactive_plot.children[-1]\n",
        "output.layout.height = '350px'\n",
        "interactive_plot"
      ],
      "metadata": {
        "id": "tuR-uCq64d3I",
        "outputId": "d2bfe59a-d426-4b73-cd7c-dd09ef2a3fdb",
        "colab": {
          "base_uri": "https://localhost:8080/",
          "height": 463,
          "referenced_widgets": [
            "f5c76cab63544e50ba37143adfe830a7",
            "3750c589b7d342308363ee95291c95f3",
            "2b69306df41f4a608fdb97e7a631bb31",
            "a7afa41b0bea4393806c395797ea3cdb",
            "1bd3a579104a41ce8d4df62302570a1e",
            "c64f327c527443529ac3eadafb5e3698",
            "8275785302f44f5197e996d09af6c998",
            "81fe9423ad44484b9e52f455eec22516",
            "8470c521be52435abfb5d6d576fe8f1b",
            "2ae7e46e3a8c4133b3bda6f8ebec2911",
            "eee187888252456fa57b7b03fffc0112",
            "773378c098064c15824da60fdd663f0a",
            "bb1db79f05a545829b49aa5372c98636"
          ]
        }
      },
      "execution_count": 6,
      "outputs": [
        {
          "output_type": "display_data",
          "data": {
            "text/plain": [
              "interactive(children=(IntSlider(value=0, description='roll_x_dir', max=1, min=-1), IntSlider(value=0, descript…"
            ],
            "application/vnd.jupyter.widget-view+json": {
              "version_major": 2,
              "version_minor": 0,
              "model_id": "f5c76cab63544e50ba37143adfe830a7"
            }
          },
          "metadata": {}
        }
      ]
    },
    {
      "cell_type": "markdown",
      "source": [
        "### Putting it all together\n",
        "\n",
        "Putting the above steps into a time loop will give us our first simulator! \n",
        "\n",
        "Our first example will be simulating the flow around a cylinder, known as the Karman vortex street — considered a \"Hello, World!\" of LBM simulations.\n",
        "\n",
        "We first setup our simulation by initializing:\n",
        "1. Parameters, including:\n",
        "  - Relaxation Time\n",
        "  - Force\n",
        "  - Average density\n",
        "  - Convergence metrics\n",
        "\n",
        "2. Velocity vectors and weights\n",
        "3. Domain to keep track of fluid and solid nodes\n",
        "\n",
        "Our time loop then contains the following steps:\n",
        "\n",
        "<center><img src='https://github.com/BC-Chang/LBM_Workshop/blob/master/figures/lbm_diagram.png?raw=true' height='750'></center>\n"
      ],
      "metadata": {
        "id": "x0rO3TeyzzJd"
      }
    },
    {
      "cell_type": "code",
      "execution_count": 7,
      "outputs": [],
      "source": [
        "def run_lbm(data):\n",
        "\n",
        "    # Initialization\n",
        "    tau = 1.0  # Relaxation time\n",
        "    g = 0.00001  # Gravity or other force\n",
        "    density = 1.\n",
        "    tf = 10001  # Maximum number of iteration steps\n",
        "    precision = 1.E-5  # Convergence criterion\n",
        "    vold = 1000\n",
        "    eps = 1E-6\n",
        "\n",
        "    device = torch.device('cuda' if torch.cuda.is_available() else 'cpu')\n",
        "    data = torch.tensor(data).to(device)\n",
        "    check_convergence = 30  # Check convergence every [check_convergence] time steps\n",
        "\n",
        "    # Define lattice velocity vectors\n",
        "    ex, ey, w_i = initialize_weights()\n",
        "    ex = torch.tensor(ex).to(device)\n",
        "    ey = torch.tensor(ey).to(device)\n",
        "    w_i = torch.tensor(w_i).to(device)\n",
        "\n",
        "    # Indices of fluid nodes\n",
        "    fluid_id = torch.argwhere(data == 0).to(device)\n",
        "    fx = fluid_id[:, 0]\n",
        "    fy = fluid_id[:, 1]\n",
        "\n",
        "    # Indices of solid nodes\n",
        "    solid_id = torch.argwhere(data == 1).to(device)\n",
        "    sx = solid_id[:, 0]\n",
        "    sy = solid_id[:, 1]\n",
        "\n",
        "    # Solid nodes are labeled 1, fluid nodes are labeled 0\n",
        "    is_solid_node = data\n",
        "\n",
        "    nx, ny = data.shape\n",
        "\n",
        "    # Initialize distribution functions\n",
        "    f = w_i * density\n",
        "    # Broadcast to 3D array with each slice corresponding to a direction's weights\n",
        "    f = torch.tile(f[:, None, None], (nx, ny)).type(torch.float64).to(device)\n",
        "\n",
        "    # Allocate memory to equilibrium functions\n",
        "    feq = torch.empty_like(f, dtype=torch.float64).to(device)\n",
        "\n",
        "    # Each point has x-component ex, and y-component ey\n",
        "    u_x = torch.empty((nx, ny), dtype=torch.float64).to(device)\n",
        "    u_y = torch.empty((nx, ny), dtype=torch.float64).to(device)\n",
        "\n",
        "    # Node density\n",
        "    rho = torch.zeros((nx, ny), dtype=torch.float64)\n",
        "\n",
        "    # # Begin time loop\n",
        "    tic = perf_counter_ns()\n",
        "    for ts in tqdm(range(tf)):\n",
        "        # print(f\"{ts = }\")  # Print timestep\n",
        "\n",
        "        # Compute macroscopic density, rho and velocity.\n",
        "        rho, u_x, u_y = macroscopic(f, fx, fy, ex, ey, nx, ny)\n",
        "\n",
        "        # Add forcing to velocity and compute equilibrium function\n",
        "        feq = equilibrium(rho, u_x, u_y, ex, ey, w_i, nx, ny, fx, fy, tau, g)\n",
        "\n",
        "        # Collision Step\n",
        "        f = collision(f, feq, tau, sx, sy, fx, fy)\n",
        "\n",
        "        # Streaming Step\n",
        "        f[1] = torch.roll(f[1], 1, dims=1)\n",
        "        f[2] = torch.roll(f[2], 1, dims=0)\n",
        "        f[3] = torch.roll(f[3], -1, dims=1)\n",
        "        f[4] = torch.roll(f[4], -1, dims=0)\n",
        "\n",
        "        f[5] = torch.roll(f[5], (1, 1), dims=(0,1))\n",
        "        f[6] = torch.roll(f[6], (-1, 1), dims=(1,0))\n",
        "        f[7] = torch.roll(f[7], (-1, -1), dims=(0,1))\n",
        "        f[8] = torch.roll(f[8], (1, -1), dims=(1,0))\n",
        "\n",
        "        # Calculate velocity\n",
        "        u = torch.sqrt(u_x**2 + u_y**2)\n",
        "\n",
        "        # Check convergence every check_convergence time step\n",
        "        if ts % check_convergence == 0:\n",
        "\n",
        "            vnew = torch.mean(u)\n",
        "            error = torch.abs(vold - vnew) / (vold+eps)\n",
        "            vold = vnew\n",
        "\n",
        "            if error < precision:\n",
        "                print(f'Simulation has converged in {ts} time steps')\n",
        "                break\n",
        "\n",
        "        if ts == tf:\n",
        "            print('Reached maximum iterations')\n",
        "\n",
        "    toc = perf_counter_ns()\n",
        "    print(f\"Elapsed Time: {(toc - tic)*1E-9}s\")\n",
        "\n",
        "    u_x = u_x.to('cpu')\n",
        "    u_y = u_y.to('cpu')\n",
        "    u = u.to('cpu')\n",
        "\n",
        "    return u_x, u_y, u"
      ],
      "metadata": {
        "pycharm": {
          "name": "#%%\n"
        },
        "id": "aSzLl5X_E6XS"
      }
    },
    {
      "cell_type": "markdown",
      "source": [
        "###  Read in the geometry\n",
        "Before we get into the flow simulation, let's first read in our geometry. For this exercise, we assume a 2D binary image with:\n",
        "- 0 indicating fluid space\n",
        "- 1 indicating solid space\n",
        "\n",
        "For this workshop, we select an image from the data folder. You can also load in your own image or create one yourself if you'd like.\n"
      ],
      "metadata": {
        "id": "LMryrTiS9e43",
        "pycharm": {
          "name": "#%% md\n"
        }
      }
    },
    {
      "cell_type": "code",
      "source": [
        "Nx = 150\n",
        "Ny = 150\n",
        "X, Y = np.meshgrid(range(Nx), range(Ny))\n",
        "data = (X - Nx/4)**2 + (Y - Ny/2)**2 < (Ny/8)**2\n",
        "\n",
        "plt.imshow(data, cmap='binary')\n",
        "plt.colorbar()\n"
      ],
      "metadata": {
        "id": "j9Kpdu9TFdCz",
        "outputId": "f298a480-7fd0-47d5-b80a-f888d98fd6eb",
        "colab": {
          "base_uri": "https://localhost:8080/",
          "height": 235
        }
      },
      "execution_count": 1,
      "outputs": [
        {
          "output_type": "error",
          "ename": "NameError",
          "evalue": "ignored",
          "traceback": [
            "\u001b[0;31m---------------------------------------------------------------------------\u001b[0m",
            "\u001b[0;31mNameError\u001b[0m                                 Traceback (most recent call last)",
            "\u001b[0;32m<ipython-input-1-5e0c3fc8c807>\u001b[0m in \u001b[0;36m<module>\u001b[0;34m\u001b[0m\n\u001b[1;32m      1\u001b[0m \u001b[0mNx\u001b[0m \u001b[0;34m=\u001b[0m \u001b[0;36m150\u001b[0m\u001b[0;34m\u001b[0m\u001b[0;34m\u001b[0m\u001b[0m\n\u001b[1;32m      2\u001b[0m \u001b[0mNy\u001b[0m \u001b[0;34m=\u001b[0m \u001b[0;36m150\u001b[0m\u001b[0;34m\u001b[0m\u001b[0;34m\u001b[0m\u001b[0m\n\u001b[0;32m----> 3\u001b[0;31m \u001b[0mX\u001b[0m\u001b[0;34m,\u001b[0m \u001b[0mY\u001b[0m \u001b[0;34m=\u001b[0m \u001b[0mnp\u001b[0m\u001b[0;34m.\u001b[0m\u001b[0mmeshgrid\u001b[0m\u001b[0;34m(\u001b[0m\u001b[0mrange\u001b[0m\u001b[0;34m(\u001b[0m\u001b[0mNx\u001b[0m\u001b[0;34m)\u001b[0m\u001b[0;34m,\u001b[0m \u001b[0mrange\u001b[0m\u001b[0;34m(\u001b[0m\u001b[0mNy\u001b[0m\u001b[0;34m)\u001b[0m\u001b[0;34m)\u001b[0m\u001b[0;34m\u001b[0m\u001b[0;34m\u001b[0m\u001b[0m\n\u001b[0m\u001b[1;32m      4\u001b[0m \u001b[0mdata\u001b[0m \u001b[0;34m=\u001b[0m \u001b[0;34m(\u001b[0m\u001b[0mX\u001b[0m \u001b[0;34m-\u001b[0m \u001b[0mNx\u001b[0m\u001b[0;34m/\u001b[0m\u001b[0;36m4\u001b[0m\u001b[0;34m)\u001b[0m\u001b[0;34m**\u001b[0m\u001b[0;36m2\u001b[0m \u001b[0;34m+\u001b[0m \u001b[0;34m(\u001b[0m\u001b[0mY\u001b[0m \u001b[0;34m-\u001b[0m \u001b[0mNy\u001b[0m\u001b[0;34m/\u001b[0m\u001b[0;36m2\u001b[0m\u001b[0;34m)\u001b[0m\u001b[0;34m**\u001b[0m\u001b[0;36m2\u001b[0m \u001b[0;34m<\u001b[0m \u001b[0;34m(\u001b[0m\u001b[0mNy\u001b[0m\u001b[0;34m/\u001b[0m\u001b[0;36m8\u001b[0m\u001b[0;34m)\u001b[0m\u001b[0;34m**\u001b[0m\u001b[0;36m2\u001b[0m\u001b[0;34m\u001b[0m\u001b[0;34m\u001b[0m\u001b[0m\n\u001b[1;32m      5\u001b[0m \u001b[0;34m\u001b[0m\u001b[0m\n",
            "\u001b[0;31mNameError\u001b[0m: name 'np' is not defined"
          ]
        }
      ]
    },
    {
      "cell_type": "markdown",
      "source": [
        "Let's run our LBM simulation! This simulation does not fully converge in the default number of iterations, but it gets the point across. This should take about one minute to run. "
      ],
      "metadata": {
        "id": "jfvHC6vmVdvO"
      }
    },
    {
      "cell_type": "code",
      "source": [
        "u_x, u_y, u = run_lbm(data)"
      ],
      "metadata": {
        "id": "-gepay57g4gq",
        "outputId": "14a641f0-9189-431e-b079-79f49938ccd0",
        "colab": {
          "base_uri": "https://localhost:8080/"
        }
      },
      "execution_count": 9,
      "outputs": [
        {
          "output_type": "stream",
          "name": "stderr",
          "text": [
            "100%|██████████| 10001/10001 [00:51<00:00, 192.49it/s]"
          ]
        },
        {
          "output_type": "stream",
          "name": "stdout",
          "text": [
            "Elapsed Time: 51.969259129s\n"
          ]
        },
        {
          "output_type": "stream",
          "name": "stderr",
          "text": [
            "\n"
          ]
        }
      ]
    },
    {
      "cell_type": "code",
      "source": [
        "_ = plot_profile(u, cmap='jet')"
      ],
      "metadata": {
        "id": "ix0EcEw-s9AW",
        "outputId": "181510a1-1064-4194-d957-cb7ed7816bbe",
        "colab": {
          "base_uri": "https://localhost:8080/",
          "height": 890
        }
      },
      "execution_count": 10,
      "outputs": [
        {
          "output_type": "display_data",
          "data": {
            "text/plain": [
              "<Figure size 1500x900 with 2 Axes>"
            ],
            "image/png": "[encoded data removed]"
          },
          "metadata": {
            "needs_background": "light"
          }
        }
      ]
    },
    {
      "cell_type": "code",
      "execution_count": 29,
      "outputs": [
        {
          "output_type": "display_data",
          "data": {
            "text/plain": [
              "interactive(children=(Dropdown(description='dropdown', options=('beads.tif', 'bevo.tif'), value='beads.tif'), …"
            ],
            "application/vnd.jupyter.widget-view+json": {
              "version_major": 2,
              "version_minor": 0,
              "model_id": "76d15da107364a4db63de58cd918b041"
            }
          },
          "metadata": {}
        }
      ],
      "source": [
        "#@title Read in data\n",
        "geom_options = os.listdir(\"./data/\")\n",
        "\n",
        "# TODO create catalog of images, read in from drop down, and plot. \n",
        "data_dropdown = widgets.Dropdown(\n",
        "    concise=False,\n",
        "    options=geom_options,\n",
        "    value='beads.tif',\n",
        "    description='Select a file to read in'\n",
        ")\n",
        "\n",
        "# select_button = widgets.Button(description='I want this one!')\n",
        "# output = widgets.Output()\n",
        "def read_in_and_plot(dropdown):\n",
        "  display(dropdown)\n",
        "  data = tifffile.imread(os.path.join(\"./data/\", dropdown))\n",
        "  clear_output(wait=True)\n",
        "  display(dropdown)\n",
        "  plt.imshow(data, cmap='binary')\n",
        "  plt.colorbar()\n",
        "  plt.show()\n",
        "\n",
        "  return data\n",
        "\n",
        "widget = widgets.interactive(read_in_and_plot, dropdown=geom_options)\n",
        "display(widget)\n"
      ],
      "metadata": {
        "pycharm": {
          "name": "#%%\n"
        },
        "id": "vlaq-NNtE6XR",
        "outputId": "3d8c4ddb-e2fc-49a3-db86-9eaa7a179059",
        "colab": {
          "base_uri": "https://localhost:8080/",
          "height": 319,
          "referenced_widgets": [
            "76d15da107364a4db63de58cd918b041",
            "a7b624877a1541d5a0f4e4d62aeb17e4",
            "0d0ee0cd2ce7424e8eeed23e8f3d0d89",
            "6044efed7318499eba51ab157d75c9cd",
            "c4278ba206314ab59b87b7adb9aa56df",
            "d603bbfabb97445382f891f895a67614",
            "4c49f0f05306456983b3ee6b0798dfc3"
          ]
        }
      }
    },
    {
      "cell_type": "code",
      "execution_count": 28,
      "outputs": [
        {
          "output_type": "stream",
          "name": "stderr",
          "text": [
            " 91%|█████████ | 9060/10001 [00:28<00:02, 314.24it/s]"
          ]
        },
        {
          "output_type": "stream",
          "name": "stdout",
          "text": [
            "Simulation has converged in 9060 time steps\n",
            "Elapsed Time: 28.835511375000003s\n"
          ]
        },
        {
          "output_type": "stream",
          "name": "stderr",
          "text": [
            "\n"
          ]
        }
      ],
      "source": [
        "data = widget.result\n",
        "u_x, u_y, u = run_lbm(data)\n"
      ],
      "metadata": {
        "pycharm": {
          "name": "#%%\n"
        },
        "id": "0de-8FRwE6XT",
        "outputId": "2d3afd20-314b-4250-883b-e5d3f06b7675",
        "colab": {
          "base_uri": "https://localhost:8080/"
        }
      }
    },
    {
      "cell_type": "code",
      "execution_count": 31,
      "outputs": [
        {
          "output_type": "display_data",
          "data": {
            "text/plain": [
              "<Figure size 1500x900 with 2 Axes>"
            ],
            "image/png": "[encoded data removed]"
          },
          "metadata": {
            "needs_background": "light"
          }
        }
      ],
      "source": [
        "# from plotting_utils import plot_quiver\n",
        "profile_fig = plot_profile(u, cmap='jet')"
      ],
      "metadata": {
        "pycharm": {
          "name": "#%%\n"
        },
        "id": "hVhA_5wjE6XT",
        "outputId": "75d64383-b67d-492d-b246-204ffa7392f0",
        "colab": {
          "base_uri": "https://localhost:8080/",
          "height": 890
        }
      }
    },
    {
      "cell_type": "markdown",
      "source": [
        "## Calculate Permeability\n",
        "\n",
        "Once we have the velocity field, we can compute the absolute permeability using Darcy's law:\n",
        "\n",
        "$$ u = \\frac{k}{\\mu}\\nabla P$$\n",
        "\n",
        "To keep our calculation simple, we assume that $\\mu$ and $\\nabla P$ are unity. We take $u$ to be the velocity component in the flow direction (in our case, $u_x$). Therefore, the normalized absolute permeability (in lattice units) is simply the mean value of the velocity component in the flow direction.\n"
      ],
      "metadata": {
        "id": "r1Hf99NLeQjL"
      }
    },
    {
      "cell_type": "code",
      "source": [
        "def calculate_permeability(ux):\n",
        "  return np.mean(ux[fx, fy])"
      ],
      "metadata": {
        "id": "exx1IjAfeny2"
      },
      "execution_count": 14,
      "outputs": []
    },
    {
      "cell_type": "markdown",
      "source": [
        "Let's use the Porespy library to generate some blobs"
      ],
      "metadata": {
        "id": "98-avyuxeibA"
      }
    },
    {
      "cell_type": "code",
      "source": [
        "def generate_blobs(phi):\n",
        "  device = torch.device('cuda' if torch.cuda.is_available() else 'cpu')\n",
        "  obstacle = torch.tensor(~ps.generators.blobs(shape=[200, 200], porosity=phi)).to(device)\n",
        "  #obstacle = torch.tensor(fromfunction(obstacle_fun(cx,cy,r),(nx, ny)))\n",
        "  plt.imshow(obstacle.cpu(), cmap='binary')\n",
        "  plt.colorbar()\n",
        "  return obstacle\n",
        "\n",
        "phi_widget = widgets.FloatSlider(value=0.5, min=0.5, max=0.86, description='Porosity', \n",
        "                                 continuous_update=False, step=0.01)\n",
        "\n",
        "blobs = widgets.interactive(generate_blobs, {'manual': True},\n",
        "                                       phi=phi_widget)\n",
        "\n",
        "blobs\n"
      ],
      "metadata": {
        "id": "a0kx4YuDF-2f",
        "outputId": "1b284964-decc-48f3-ffb9-64e04ee14b46",
        "colab": {
          "base_uri": "https://localhost:8080/",
          "height": 333,
          "referenced_widgets": [
            "66449bc1ec00451a9ac55124ed5c9c82",
            "b707f69e9a16445a995f2ea93d0a2c0e",
            "883a6560389943cbbd6f677e460eeedb",
            "0deb57a67ce747d2a71d0318d480c7a6",
            "524d30035d2d4bf5962b607d4324da9a",
            "8869f4ca11a84a0188bcf06fbcea4bbb",
            "ce7168ffc70b4310afd80ee1565c711e",
            "c952696bb3e54e528dd5e652ca8e39ad",
            "8f93f2c95b9d49b08859b5d735849aba",
            "5b0d74c1dd774d9f97c1968ba278aaa5"
          ]
        }
      },
      "execution_count": 23,
      "outputs": [
        {
          "output_type": "display_data",
          "data": {
            "text/plain": [
              "interactive(children=(FloatSlider(value=0.5, continuous_update=False, description='Porosity', max=0.86, min=0.…"
            ],
            "application/vnd.jupyter.widget-view+json": {
              "version_major": 2,
              "version_minor": 0,
              "model_id": "66449bc1ec00451a9ac55124ed5c9c82"
            }
          },
          "metadata": {}
        }
      ]
    },
    {
      "cell_type": "code",
      "source": [
        "u_x, u_y, u = run_lbm(blobs.result)"
      ],
      "metadata": {
        "id": "PGbIDDT3e90B",
        "outputId": "e0bea5d1-cdd4-4bf8-f18e-8eee045ebc0a",
        "colab": {
          "base_uri": "https://localhost:8080/"
        }
      },
      "execution_count": 34,
      "outputs": [
        {
          "output_type": "stream",
          "name": "stderr",
          "text": [
            "<ipython-input-7-772177bc7268>:13: UserWarning: To copy construct from a tensor, it is recommended to use sourceTensor.clone().detach() or sourceTensor.clone().detach().requires_grad_(True), rather than torch.tensor(sourceTensor).\n",
            "  data = torch.tensor(data).to(device)\n",
            " 42%|████▏     | 4170/10001 [00:18<00:25, 224.34it/s]"
          ]
        },
        {
          "output_type": "stream",
          "name": "stdout",
          "text": [
            "Simulation has converged in 4170 time steps\n",
            "Elapsed Time: 18.598181862s\n"
          ]
        },
        {
          "output_type": "stream",
          "name": "stderr",
          "text": [
            "\n"
          ]
        }
      ]
    },
    {
      "cell_type": "code",
      "source": [
        "profile_fig = plot_streamlines(u_x, u_y, cmap='jet')\n",
        "# obstacle_nan = torch.clone(obstacle.cpu())\n",
        "\n"
      ],
      "metadata": {
        "id": "vSxy2VF_f312",
        "colab": {
          "base_uri": "https://localhost:8080/",
          "height": 1000
        },
        "outputId": "479d42c6-8522-4328-e066-82b148320c54"
      },
      "execution_count": 37,
      "outputs": [
        {
          "output_type": "display_data",
          "data": {
            "text/plain": [
              "<Figure size 1800x1200 with 0 Axes>"
            ]
          },
          "metadata": {}
        },
        {
          "output_type": "display_data",
          "data": {
            "text/plain": [
              "<Figure size 1800x1200 with 1 Axes>"
            ],
            "image/png": "[encoded data removed]"
          },
          "metadata": {
            "needs_background": "light"
          }
        }
      ]
    },
    {
      "cell_type": "code",
      "source": [],
      "metadata": {
        "id": "yNPRusCYf_xN"
      },
      "execution_count": null,
      "outputs": []
    },
    {
      "cell_type": "markdown",
      "source": [
        "# Multiphase Lattice Boltzmann Method\n",
        "\n",
        "\n",
        "Recall that LBM works by tracking bulk distributions of molecules moving through a lattice grid using a probability density function. \n",
        "We use the Shan-Chen Model\n",
        "\n",
        "\n",
        "\n",
        "Other models include:\n",
        "* Color Model\n",
        "* Free Energy Based models\n",
        "\n",
        "\n",
        "Today, we will be working with our in-house code — Multiphase Lattice Boltzmann Method - UT (MPLBM-UT).\n",
        "\n",
        "MPLBM Workflow\n",
        "\n",
        "<img src='https://ars.els-cdn.com/content/image/1-s2.0-S2352711022000668-gr1.jpg'>"
      ],
      "metadata": {
        "id": "P2Ub8TXiYx3t"
      }
    },
    {
      "cell_type": "code",
      "source": [],
      "metadata": {
        "id": "OngwtuCtZ3uL"
      },
      "execution_count": null,
      "outputs": []
    }
  ]
}