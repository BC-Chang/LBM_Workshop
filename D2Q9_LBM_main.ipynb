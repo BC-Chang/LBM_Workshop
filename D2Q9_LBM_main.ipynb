{
 "nbformat": 4,
 "nbformat_minor": 0,
 "metadata": {
  "colab": {
   "provenance": [],
   "toc_visible": true,
   "authorship_tag": "ABX9TyOVjaevidjmyj8xI5QIHyk7",
   "include_colab_link": true
  },
  "kernelspec": {
   "name": "python3",
   "display_name": "Python 3"
  },
  "language_info": {
   "name": "python"
  }
 },
 "cells": [
  {
   "cell_type": "markdown",
   "metadata": {
    "id": "view-in-github",
    "colab_type": "text",
    "pycharm": {
     "name": "#%% md\n"
    }
   },
   "source": [
    "<a href=\"https://colab.research.google.com/github/BC-Chang/LBM_Workshop/blob/master/D2Q9_LBM_main.ipynb\" target=\"_parent\"><img src=\"https://colab.research.google.com/assets/colab-badge.svg\" alt=\"Open In Colab\"/></a>"
   ]
  },
  {
   "cell_type": "markdown",
   "source": [
    "# A D2Q9 Lattice Boltzmann Simulation\n",
    "\n",
    "In this first hands-on activity, we will demonstrate the general algorithm used to perform lattice Boltzmann simulations. This example is performed on a 2-dimensional lattice with 9 discrete velocities (D2Q9).\n",
    "\n",
    "An overview of the algorithm implemented here is as follows:\n",
    "\n",
    "1. Apply outflow boundary condition on the right boundary\n",
    "2. Compute Macroscopic Quantities (density and velocities)\n",
    "3. Apply Inflow Profile by Zou/He Dirichlet Boundary Condition\n",
    "   on the left boundary\n",
    "4. Compute the discrete equilibria velocities\n",
    "5. Perform a Collision step according to BGK (Bhatnagar–Gross–Krook)\n",
    "6. Apply Bounce-Back Boundary Conditions on the cylinder obstacle\n",
    "7. Stream alongside the lattice velocities\n",
    "8. Advance in time (repeat the loop)\n",
    "\n",
    "Before we get started, let's import some packages\n"
   ],
   "metadata": {
    "id": "N-k4vBB36_sw",
    "pycharm": {
     "name": "#%% md\n"
    }
   }
  },
  {
   "cell_type": "code",
   "execution_count": 24,
   "metadata": {
    "cellView": "form",
    "id": "t7Wpd3A46qjp",
    "pycharm": {
     "name": "#%%\n"
    }
   },
   "outputs": [],
   "source": [
    "#@title Import Packages\n",
    "import numpy as np\n",
    "# import jax as np\n",
    "import matplotlib.pyplot as plt\n",
    "from plotting_utils import plot_profile, plot_quiver, plot_streamlines\n",
    "import scipy as sc\n",
    "import tifffile\n",
    "\n",
    "# Import some system packages\n",
    "import sys\n",
    "sys.path.append(\"./data/\")\n",
    "import os\n",
    "\n",
    "# Import a timer\n",
    "from time import perf_counter_ns\n",
    "\n",
    "# Import ipywidgets\n",
    "import ipywidgets as widgets\n",
    "from ipywidgets import interact, interact_manual\n",
    "from IPython.display import display, clear_output\n",
    "\n",
    "\n"
   ]
  },
  {
   "cell_type": "markdown",
   "source": [
    "###  Read in the geometry\n",
    "Before we get into the flow simulation, let's first read in our geometry. For this exercise, we assume a 2D binary image with:\n",
    "- 0 indicating fluid space\n",
    "- 1 indicating solid space\n",
    "\n",
    "For this workshop, we select an image from the data folder. You can also load in your own image or create one yourself if you'd like.\n"
   ],
   "metadata": {
    "id": "LMryrTiS9e43",
    "pycharm": {
     "name": "#%% md\n"
    }
   }
  },
  {
   "cell_type": "code",
   "execution_count": 25,
   "outputs": [],
   "source": [
    "#@title Read in data\n",
    "geom_options = os.listdir(\"./data/\")\n",
    "\n",
    "# TODO create catalog of images, read in from drop down, and plot. \n",
    "w = widgets.Dropdown(\n",
    "    concise=False,\n",
    "    options=geom_options,\n",
    "    value='beads.tif',\n",
    "    description='Select a file to read in'\n",
    ")\n",
    "\n",
    "def read_in_and_plot(*args):\n",
    "    data = tifffile.imread(os.path.join(\"./data/\", w.value))\n",
    "    clear_output(wait=True)\n",
    "    display(w)\n",
    "    plt.imshow(data, cmap='binary_r')\n",
    "    plt.colorbar()\n",
    "    plt.show()\n",
    "    return data\n"
   ],
   "metadata": {
    "collapsed": false,
    "pycharm": {
     "name": "#%%\n"
    }
   }
  },
  {
   "cell_type": "code",
   "execution_count": 26,
   "outputs": [
    {
     "data": {
      "text/plain": "Dropdown(description='Select a file to read in', options=('beads.tif', 'bevo.tif'), value='beads.tif')",
      "application/vnd.jupyter.widget-view+json": {
       "version_major": 2,
       "version_minor": 0,
       "model_id": "7ae52a0625674cbca25246af99a36078"
      }
     },
     "metadata": {},
     "output_type": "display_data"
    },
    {
     "data": {
      "text/plain": "<Figure size 432x288 with 2 Axes>",
      "image/png": "[encoded data removed]"
     },
     "metadata": {
      "needs_background": "light"
     },
     "output_type": "display_data"
    }
   ],
   "source": [
    "%matplotlib inline\n",
    "display(w)\n",
    "data = read_in_and_plot()\n",
    "w.observe(read_in_and_plot, 'value')\n",
    "#\n",
    "# data = tifffile.imread(os.path.join(\"./data/\", w.value))\n",
    "# plt.imshow(data, cmap='binary_r')\n",
    "# plt.colorbar()"
   ],
   "metadata": {
    "collapsed": false,
    "pycharm": {
     "name": "#%%\n"
    }
   }
  },
  {
   "cell_type": "code",
   "execution_count": 7,
   "outputs": [],
   "source": [
    "def run_lbm(data):\n",
    "    from time import perf_counter_ns\n",
    "    # Initialization\n",
    "    tau = 1.0  # Relaxation time\n",
    "    g = 0.00001  # Gravity or other force\n",
    "    density = 1.\n",
    "    tf = 10001  # Maximum number of iteration steps\n",
    "    precision = 1.E-5  # Convergence criterion\n",
    "    vold = 1000\n",
    "    eps = 1E-6\n",
    "\n",
    "    check_convergence = 30  # Check convergence every [check_convergence] time steps\n",
    "\n",
    "\n",
    "    # Indices of fluid nodes\n",
    "    fluid_id = np.argwhere(data == 0)\n",
    "    fx = fluid_id[:, 0]\n",
    "    fy = fluid_id[:, 1]\n",
    "\n",
    "    # Indices of solid nodes\n",
    "    solid_id = np.argwhere(data == 1)\n",
    "    sx = solid_id[:, 0]\n",
    "    sy = solid_id[:, 1]\n",
    "\n",
    "    # Solid nodes are labeled 1, fluid nodes are labeled 0\n",
    "    is_solid_node = data\n",
    "\n",
    "    nx, ny = data.shape\n",
    "\n",
    "    # Initialize distribution functions\n",
    "    f = np.array([4./9.,\n",
    "                  1./9.,\n",
    "                  1./9.,\n",
    "                  1./9.,\n",
    "                  1./9.,\n",
    "                  1./36.,\n",
    "                  1./36.,\n",
    "                  1./36.,\n",
    "                  1./36.], dtype=np.double) * density\n",
    "\n",
    "    # Broadcast to 3D array with each slice corresponding to\n",
    "    f = np.tile(f[:, np.newaxis, np.newaxis], (nx, ny)).astype(np.single)\n",
    "\n",
    "    # Allocate memory to equilibrium functions\n",
    "    feq = np.empty_like(f, dtype=np.double)\n",
    "\n",
    "    # Define lattice velocity vectors. Transpose to make it a column vector\n",
    "    ex = np.array([0, 1, 0, -1, 0, 1, -1, -1, 1], dtype=np.double)\n",
    "    ey = np.array([0, 0, 1, 0, -1, 1, 1, -1, -1], dtype=np.double)\n",
    "\n",
    "    # Each point has x-component ex, and y-component ey\n",
    "    u_x = np.empty((nx, ny), dtype=np.double)\n",
    "    u_y = np.empty((nx, ny), dtype=np.double)\n",
    "\n",
    "    # Node density\n",
    "    rho = np.zeros((nx, ny), dtype=np.double)\n",
    "\n",
    "    # For equilibrium distribution function (feq) calculation\n",
    "    f1 = 3.\n",
    "    f2 = 9./2.\n",
    "    f3 = 3./2.\n",
    "\n",
    "    # # Begin time loop\n",
    "    tic = perf_counter_ns()\n",
    "    for ts in range(tf):\n",
    "        # print(f\"{ts = }\")  # Print timestep\n",
    "\n",
    "        # Compute macroscopic density, rho and velocity.\n",
    "        u_x = np.zeros((nx, ny), dtype=np.double)\n",
    "        u_y = np.zeros((nx, ny), dtype=np.double)\n",
    "        rho = np.zeros((nx, ny), dtype=np.double)\n",
    "\n",
    "        rho[fx, fy] += np.sum(f[:, fx, fy], axis=0)\n",
    "        u_x[fx, fy] += np.sum(ex[:, None] * f[:, fx, fy], axis=0)\n",
    "        u_y[fx, fy] += np.sum(ey[:, None] * f[:, fx, fy], axis=0)\n",
    "\n",
    "        u_x[fx, fy] = u_x[fx, fy] / rho[fx, fy]\n",
    "        u_y[fx, fy] = u_y[fx, fy] / rho[fx, fy]\n",
    "\n",
    "\n",
    "\n",
    "        # Add forcing to velocity\n",
    "        ueqxij = u_x[fx, fy] + tau * g\n",
    "        ueqyij = u_y[fx, fy]\n",
    "        uxsq = ueqxij ** 2\n",
    "        uysq = ueqyij ** 2\n",
    "        uxuy5 = ueqxij + ueqyij\n",
    "        uxuy6 = -ueqxij + ueqyij\n",
    "        uxuy7 = -ueqxij + (-ueqyij)\n",
    "        uxuy8 = ueqxij + (-ueqyij)\n",
    "        usq = uxsq + uysq\n",
    "\n",
    "        # Compute equilibrium distribution function, feq\n",
    "        rt0 = 4./9. * rho[fx, fy]\n",
    "        rt1 = 1./9. * rho[fx, fy]\n",
    "        rt2 = 1./36. * rho[fx, fy]\n",
    "\n",
    "        feq[0, fx, fy] = rt0*(1. - f3 * usq)\n",
    "        feq[1, fx, fy] = rt1*(1. + f1 * ueqxij + f2 * uxsq - f3 * usq)\n",
    "        feq[2, fx, fy] = rt1*(1. + f1 * ueqyij + f2 * uysq - f3 * usq)\n",
    "        feq[3, fx, fy] = rt1*(1. - f1 * ueqxij + f2 * uxsq - f3 * usq)\n",
    "        feq[4, fx, fy] = rt1*(1. - f1 * ueqyij + f2 * uysq - f3 * usq)\n",
    "        feq[5, fx, fy] = rt2*(1. + f1 * uxuy5  + f2 * uxuy5 * uxuy5 - f3 * usq)\n",
    "        feq[6, fx, fy] = rt2*(1. + f1 * uxuy6  + f2 * uxuy6 * uxuy6 - f3 * usq)\n",
    "        feq[7, fx, fy] = rt2*(1. + f1 * uxuy7  + f2 * uxuy7 * uxuy7 - f3 * usq)\n",
    "        feq[8, fx, fy] = rt2*(1. + f1 * uxuy8  + f2 * uxuy8 * uxuy8 - f3 * usq)\n",
    "\n",
    "        # Collision Step\n",
    "        # Standard Bounceback for Solid Nodes\n",
    "        # Left-Right\n",
    "        tmp = f[1, sx, sy]\n",
    "        f[1, sx, sy] = f[3, sx, sy]\n",
    "        f[3, sx, sy] = tmp\n",
    "\n",
    "        # Up-Down\n",
    "        tmp = f[2, sx, sy]\n",
    "        f[2, sx, sy] = f[4, sx, sy]\n",
    "        f[4, sx, sy] =  tmp\n",
    "\n",
    "        # Top Right - Bottom Left\n",
    "        tmp = f[5, sx, sy]\n",
    "        f[5, sx, sy] = f[7, sx, sy]\n",
    "        f[7, sx, sy] =  tmp\n",
    "\n",
    "        # Top Left - Bottom Right\n",
    "        tmp = f[6, sx, sy]\n",
    "        f[6, sx, sy] = f[8, sx, sy]\n",
    "        f[8, sx, sy] =  tmp\n",
    "\n",
    "        # Regular collision in fluid nodes\n",
    "        f[:, fx, fy] -= (f[:, fx, fy] - feq[:, fx, fy]) / tau\n",
    "\n",
    "\n",
    "        # Streaming Step\n",
    "        f[1] = np.roll(f[1], 1, axis=1)\n",
    "        f[2] = np.roll(f[2], 1, axis=0)\n",
    "        f[3] = np.roll(f[3], -1, axis=1)\n",
    "        f[4] = np.roll(f[4], -1, axis=0)\n",
    "\n",
    "        f[5] = np.roll(f[5], (1, 1), axis=(0,1))\n",
    "        f[6] = np.roll(f[6], (-1, 1), axis=(1,0))\n",
    "        f[7] = np.roll(f[7], (-1, -1), axis=(0,1))\n",
    "        f[8] = np.roll(f[8], (1, -1), axis=(1,0))\n",
    "\n",
    "        u = np.sqrt(u_x**2 + u_y**2)\n",
    "        # Plot the time step and check convergence every check_convergence time step\n",
    "        if ts % check_convergence == 0:\n",
    "\n",
    "            vnew = np.mean(u)\n",
    "            error = np.abs(vold - vnew) / (vold+eps)\n",
    "            vold = vnew\n",
    "\n",
    "            if error < precision:\n",
    "                print(f'Simulation has converged in {ts} time steps')\n",
    "                break\n",
    "\n",
    "        if ts == tf:\n",
    "            print('Reached maximum iterations')\n",
    "\n",
    "    toc = perf_counter_ns()\n",
    "    print(f\"Elapsed Time: {(toc - tic)*1E-9}s\")\n",
    "\n",
    "    return u_x, u_y, u"
   ],
   "metadata": {
    "collapsed": false,
    "pycharm": {
     "name": "#%%\n"
    }
   }
  },
  {
   "cell_type": "code",
   "execution_count": 8,
   "outputs": [
    {
     "name": "stdout",
     "output_type": "stream",
     "text": [
      "Simulation has converged in 1320 time steps\n",
      "Elapsed Time: 17.901598800000002s\n"
     ]
    }
   ],
   "source": [
    " u_x, u_y, u = run_lbm(data)"
   ],
   "metadata": {
    "collapsed": false,
    "pycharm": {
     "name": "#%%\n"
    }
   }
  },
  {
   "cell_type": "code",
   "execution_count": null,
   "outputs": [],
   "source": [],
   "metadata": {
    "collapsed": false,
    "pycharm": {
     "name": "#%%\n"
    }
   }
  }
 ]
}