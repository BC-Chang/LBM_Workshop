{
  "nbformat": 4,
  "nbformat_minor": 0,
  "metadata": {
    "colab": {
      "provenance": [],
      "toc_visible": true,
      "authorship_tag": "ABX9TyOVjaevidjmyj8xI5QIHyk7",
      "include_colab_link": true
    },
    "kernelspec": {
      "name": "python3",
      "display_name": "Python 3"
    },
    "language_info": {
      "name": "python"
    }
  },
  "cells": [
    {
      "cell_type": "markdown",
      "metadata": {
        "id": "view-in-github",
        "colab_type": "text"
      },
      "source": [
        "<a href=\"https://colab.research.google.com/github/BC-Chang/LBM_Workshop/blob/master/D2Q9_LBM_main.ipynb\" target=\"_parent\"><img src=\"https://colab.research.google.com/assets/colab-badge.svg\" alt=\"Open In Colab\"/></a>"
      ]
    },
    {
      "cell_type": "markdown",
      "source": [
        "# A D2Q9 Lattice Boltzmann Simulation\n",
        "\n",
        "In this first hands-on activity, we will demonstrate the general algorithm used to perform lattice Boltzmann simulations. This example is performed on a 2-dimensional lattice with 9 discrete velocities (D2Q9).\n",
        "\n",
        "An overview of the algorithm implemented here is as follows:\n",
        "\n",
        "1. Apply outflow boundary condition on the right boundary\n",
        "2. Compute Macroscopic Quantities (density and velocities)\n",
        "3. Apply Inflow Profile by Zou/He Dirichlet Boundary Condition\n",
        "   on the left boundary\n",
        "4. Compute the discrete equilibria velocities\n",
        "5. Perform a Collision step according to BGK (Bhatnagar–Gross–Krook)\n",
        "6. Apply Bounce-Back Boundary Conditions on the cylinder obstacle\n",
        "7. Stream alongside the lattice velocities\n",
        "8. Advance in time (repeat the loop)\n",
        "\n",
        "Before we get started, let's import some packages\n"
      ],
      "metadata": {
        "id": "N-k4vBB36_sw"
      }
    },
    {
      "cell_type": "code",
      "execution_count": 2,
      "metadata": {
        "cellView": "form",
        "id": "t7Wpd3A46qjp"
      },
      "outputs": [],
      "source": [
        "#@title Import Packages\n",
        "import numpy as np\n",
        "# import jax as np\n",
        "import matplotlib.pyplot as plt\n",
        "# from plotting_utils import plot_profile, plot_quiver, plot_streamlines\n",
        "import scipy as sc\n",
        "import tifffile\n"
      ]
    },
    {
      "cell_type": "markdown",
      "source": [
        "###  Read in the geometry\n",
        "Before we get into the flow simulation, let's first read in our geometry. For this exercise, we assume a 2D binary image with:\n",
        "- 0 indicating fluid space\n",
        "- 1 indicating solid space\n",
        "\n",
        "For this workshop, we select an image from the data folder. You can also load in your own image or create one yourself if you'd like.\n"
      ],
      "metadata": {
        "id": "LMryrTiS9e43"
      }
    },
    {
      "cell_type": "code",
      "source": [
        " # Read in and create geometry\n",
        "data = tifffile.imread(\"beads_dry.slice150.sub.tif\")  # Data labels are 0 and 255\n",
        "data = data / 255  # Make Data 0 and 1s\n",
        "\n",
        "# TODO create catalog of images, read in from drop down, and plot. \n"
      ],
      "metadata": {
        "id": "zyCrnnbG9Umd"
      },
      "execution_count": null,
      "outputs": []
    }
  ]
}