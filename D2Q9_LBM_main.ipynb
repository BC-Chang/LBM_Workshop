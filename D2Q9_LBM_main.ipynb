{
 "cells": [
  {
   "cell_type": "markdown",
   "metadata": {
    "colab_type": "text",
    "id": "view-in-github"
   },
   "source": [
    "<a href=\"https://colab.research.google.com/github/BC-Chang/LBM_Workshop/blob/master/D2Q9_LBM_main.ipynb\" target=\"_parent\"><img src=\"https://colab.research.google.com/assets/colab-badge.svg\" alt=\"Open In Colab\"/></a>"
   ]
  },
  {
   "cell_type": "markdown",
   "metadata": {
    "id": "N-k4vBB36_sw",
    "pycharm": {
     "name": "#%% md\n"
    }
   },
   "source": [
    "# A D2Q9 Lattice Boltzmann Simulation\n",
    "\n",
    "In this first hands-on activity, we will demonstrate the general algorithm used to perform lattice Boltzmann simulations. This example is performed on a 2-dimensional lattice with 9 discrete velocities (D2Q9).\n",
    "\n",
    "An overview of the algorithm implemented here is as follows:\n",
    "\n",
    "1. Apply outflow boundary condition on the right boundary\n",
    "2. Compute Macroscopic Quantities (density and velocities)\n",
    "3. Apply Inflow Profile by Zou/He Dirichlet Boundary Condition\n",
    "   on the left boundary\n",
    "4. Compute the discrete equilibria velocities\n",
    "5. Perform a Collision step according to BGK (Bhatnagar–Gross–Krook)\n",
    "6. Apply Bounce-Back Boundary Conditions on the cylinder obstacle\n",
    "7. Stream alongside the lattice velocities\n",
    "8. Advance in time (repeat the loop)\n",
    "\n",
    "Before we get started, let's import some packages\n"
   ]
  },
  {
   "cell_type": "code",
   "execution_count": null,
   "metadata": {
    "cellView": "form",
    "id": "t7Wpd3A46qjp",
    "pycharm": {
     "name": "#%%\n"
    }
   },
   "outputs": [],
   "source": [
    "#@title Import Packages\n",
    "import numpy as np\n",
    "import matplotlib.pyplot as plt\n",
    "import scipy as sc\n",
    "import tifffile\n",
    "\n",
    "import sys\n",
    "import os\n",
    "try:\n",
    "  sys.path.append(\"./LBM_Workshop/\")\n",
    "except:\n",
    "  !git clone https://github.com/BC-Chang/LBM_Workshop.git\n",
    "\n",
    "os.chdir(\"./LBM_Workshop\")\n",
    "from plotting_utils import plot_profile, plot_quiver, plot_streamlines\n",
    "\n",
    "# Import a timer\n",
    "from time import perf_counter_ns\n",
    "\n",
    "# Import ipywidgets\n",
    "import ipywidgets as widgets\n",
    "from ipywidgets import interact, interact_manual\n",
    "from IPython.display import display, clear_output\n",
    "\n",
    "\n"
   ]
  },
  {
   "cell_type": "markdown",
   "metadata": {
    "id": "Jmz6WdbHvCxN"
   },
   "source": [
    "### Step-by-step introduction to the lattice Boltzmann method\n",
    "\n",
    "For this exercise, we will use a 2-dimensional lattice with 9 discrete velocities (D2Q9). This means, that in every grid space, there are 9 possible connections — North, South, East, West, 4 diagonal connections and 1 connection from the node itself, representing zero velocity.\n",
    "\n",
    "Each lattice direction also has a weight, $w_i$ associated with it. For D2Q9 LBM, these will be:\n",
    "\n",
    "<img src='https://media.springernature.com/full/springer-static/image/art%3A10.1007%2Fs11831-019-09347-7/MediaObjects/11831_2019_9347_Fig2_HTML.png?as=webp' height=\"300\">\n",
    "\n",
    "\n",
    "In the following cell, we will initialize these velocity directions and their weights.\n"
   ]
  },
  {
   "cell_type": "code",
   "execution_count": null,
   "metadata": {
    "id": "Kkk4fy-dAVR4"
   },
   "outputs": [],
   "source": [
    "# Define lattice velocity vectors. Transpose to make it a column vector\n",
    "ex = np.array([0, 1, 0, -1, 0, 1, -1, -1, 1], dtype=np.double)\n",
    "ey = np.array([0, 0, 1, 0, -1, 1, 1, -1, -1], dtype=np.double)\n",
    "\n",
    "\n",
    "# Define weights\n",
    "w_i = np.array([4./9.,\n",
    "                1./9.,\n",
    "                1./9.,\n",
    "                1./9.,\n",
    "                1./9.,\n",
    "                1./36.,\n",
    "                1./36.,\n",
    "                1./36.,\n",
    "                1./36.], dtype=np.double)"
   ]
  },
  {
   "cell_type": "markdown",
   "metadata": {
    "id": "yLwoKN28CEPv"
   },
   "source": [
    "Microscopic particles that make up a fluid can be described with the distribution function $f$, which describes the phase-space density of fluids.\n",
    "\n",
    "Particles will do two things: **stream** and **collide**. This behavior is described by the BGK approximation:\n",
    "$(\\partial_t + \\textbf{v}\\cdot\\nabla)f = - \\frac{f - f^{eq}}{\\tau}$\n",
    "\n",
    "Here, the left-hand side represents streaming and the right-hand side approximates collisions. $\\tau$ is the timescale over which collisions occur and the distribution function $f$ tends toward some equilibrium state, $f^{eq}$."
   ]
  },
  {
   "cell_type": "markdown",
   "metadata": {
    "id": "LMryrTiS9e43",
    "pycharm": {
     "name": "#%% md\n"
    }
   },
   "source": [
    "###  Read in the geometry\n",
    "Before we get into the flow simulation, let's first read in our geometry. For this exercise, we assume a 2D binary image with:\n",
    "- 0 indicating fluid space\n",
    "- 1 indicating solid space\n",
    "\n",
    "For this workshop, we select an image from the data folder. You can also load in your own image or create one yourself if you'd like.\n"
   ]
  },
  {
   "cell_type": "code",
   "execution_count": null,
   "metadata": {
    "cellView": "form",
    "colab": {
     "base_uri": "https://localhost:8080/",
     "height": 320,
     "referenced_widgets": [
      "242938329ecf4fd99fde4da4bf2a1479",
      "42a89df7a24c4d8ba545111233726beb",
      "f0231014ee184f9e9d7e38dc62d112db",
      "96ce2e4b5cea4899a6a174d788af6e6d",
      "217cc4c693c840b7866fe4c57477d578",
      "6f226a166a444ac4b4a33fddbde21c9f",
      "7ae8633c2db54fadbad7bb8ed37d67f2"
     ]
    },
    "id": "vlaq-NNtE6XR",
    "outputId": "a7bb9f9d-800c-4949-daa4-31ce6a09862f",
    "pycharm": {
     "name": "#%%\n"
    }
   },
   "outputs": [],
   "source": [
    "#@title Read in data\n",
    "geom_options = os.listdir(\"./data/\")\n",
    "\n",
    "# TODO create catalog of images, read in from drop down, and plot. \n",
    "data_dropdown = widgets.Dropdown(\n",
    "    concise=False,\n",
    "    options=geom_options,\n",
    "    value='beads.tif',\n",
    "    description='Select a file to read in'\n",
    ")\n",
    "\n",
    "# select_button = widgets.Button(description='I want this one!')\n",
    "# output = widgets.Output()\n",
    "def read_in_and_plot(dropdown):\n",
    "  display(dropdown)\n",
    "  data = tifffile.imread(os.path.join(\"./data/\", dropdown))\n",
    "  clear_output(wait=True)\n",
    "  display(dropdown)\n",
    "  plt.imshow(data, cmap='binary_r')\n",
    "  plt.colorbar()\n",
    "  plt.show()\n",
    "\n",
    "  return data\n",
    "\n",
    "widget = widgets.interactive(read_in_and_plot, dropdown=geom_options)\n",
    "display(widget)\n"
   ]
  },
  {
   "cell_type": "code",
   "execution_count": null,
   "metadata": {
    "id": "aSzLl5X_E6XS",
    "pycharm": {
     "name": "#%%\n"
    }
   },
   "outputs": [],
   "source": [
    "def run_lbm(data):\n",
    "    from time import perf_counter_ns\n",
    "    # Initialization\n",
    "    tau = 1.0  # Relaxation time\n",
    "    g = 0.00001  # Gravity or other force\n",
    "    density = 1.\n",
    "    tf = 10001  # Maximum number of iteration steps\n",
    "    precision = 1.E-5  # Convergence criterion\n",
    "    vold = 1000\n",
    "    eps = 1E-6\n",
    "\n",
    "    check_convergence = 30  # Check convergence every [check_convergence] time steps\n",
    "\n",
    "\n",
    "    # Indices of fluid nodes\n",
    "    fluid_id = np.argwhere(data == 0)\n",
    "    fx = fluid_id[:, 0]\n",
    "    fy = fluid_id[:, 1]\n",
    "\n",
    "    # Indices of solid nodes\n",
    "    solid_id = np.argwhere(data == 1)\n",
    "    sx = solid_id[:, 0]\n",
    "    sy = solid_id[:, 1]\n",
    "\n",
    "    # Solid nodes are labeled 1, fluid nodes are labeled 0\n",
    "    is_solid_node = data\n",
    "\n",
    "    nx, ny = data.shape\n",
    "\n",
    "    # Initialize distribution functions\n",
    "    f = w_i * density\n",
    "\n",
    "    # Broadcast to 3D array with each slice corresponding to\n",
    "    f = np.tile(f[:, np.newaxis, np.newaxis], (nx, ny)).astype(np.single)\n",
    "\n",
    "    # Allocate memory to equilibrium functions\n",
    "    feq = np.empty_like(f, dtype=np.double)\n",
    "\n",
    "    # Each point has x-component ex, and y-component ey\n",
    "    u_x = np.empty((nx, ny), dtype=np.double)\n",
    "    u_y = np.empty((nx, ny), dtype=np.double)\n",
    "\n",
    "    # Node density\n",
    "    rho = np.zeros((nx, ny), dtype=np.double)\n",
    "\n",
    "    # For equilibrium distribution function (feq) calculation\n",
    "    f1 = 3.\n",
    "    f2 = 9./2.\n",
    "    f3 = 3./2.\n",
    "\n",
    "    # # Begin time loop\n",
    "    tic = perf_counter_ns()\n",
    "    for ts in range(tf):\n",
    "        # print(f\"{ts = }\")  # Print timestep\n",
    "\n",
    "        # Compute macroscopic density, rho and velocity.\n",
    "        u_x = np.zeros((nx, ny), dtype=np.double)\n",
    "        u_y = np.zeros((nx, ny), dtype=np.double)\n",
    "        rho = np.zeros((nx, ny), dtype=np.double)\n",
    "\n",
    "        rho[fx, fy] += np.sum(f[:, fx, fy], axis=0)\n",
    "        u_x[fx, fy] += np.sum(ex[:, None] * f[:, fx, fy], axis=0)\n",
    "        u_y[fx, fy] += np.sum(ey[:, None] * f[:, fx, fy], axis=0)\n",
    "\n",
    "        u_x[fx, fy] = u_x[fx, fy] / rho[fx, fy]\n",
    "        u_y[fx, fy] = u_y[fx, fy] / rho[fx, fy]\n",
    "\n",
    "\n",
    "\n",
    "        # Add forcing to velocity\n",
    "        ueqxij = u_x[fx, fy] + tau * g\n",
    "        ueqyij = u_y[fx, fy]\n",
    "        uxsq = ueqxij ** 2\n",
    "        uysq = ueqyij ** 2\n",
    "        uxuy5 = ueqxij + ueqyij\n",
    "        uxuy6 = -ueqxij + ueqyij\n",
    "        uxuy7 = -ueqxij + (-ueqyij)\n",
    "        uxuy8 = ueqxij + (-ueqyij)\n",
    "        usq = uxsq + uysq\n",
    "\n",
    "        # Compute equilibrium distribution function, feq\n",
    "        rt0 = 4./9. * rho[fx, fy]\n",
    "        rt1 = 1./9. * rho[fx, fy]\n",
    "        rt2 = 1./36. * rho[fx, fy]\n",
    "\n",
    "        feq[0, fx, fy] = rt0*(1. - f3 * usq)\n",
    "        feq[1, fx, fy] = rt1*(1. + f1 * ueqxij + f2 * uxsq - f3 * usq)\n",
    "        feq[2, fx, fy] = rt1*(1. + f1 * ueqyij + f2 * uysq - f3 * usq)\n",
    "        feq[3, fx, fy] = rt1*(1. - f1 * ueqxij + f2 * uxsq - f3 * usq)\n",
    "        feq[4, fx, fy] = rt1*(1. - f1 * ueqyij + f2 * uysq - f3 * usq)\n",
    "        feq[5, fx, fy] = rt2*(1. + f1 * uxuy5  + f2 * uxuy5 * uxuy5 - f3 * usq)\n",
    "        feq[6, fx, fy] = rt2*(1. + f1 * uxuy6  + f2 * uxuy6 * uxuy6 - f3 * usq)\n",
    "        feq[7, fx, fy] = rt2*(1. + f1 * uxuy7  + f2 * uxuy7 * uxuy7 - f3 * usq)\n",
    "        feq[8, fx, fy] = rt2*(1. + f1 * uxuy8  + f2 * uxuy8 * uxuy8 - f3 * usq)\n",
    "\n",
    "        # Collision Step\n",
    "        # Standard Bounceback for Solid Nodes\n",
    "        # Left-Right\n",
    "        f[1, sx, sy], f[3, sx, sy] = f[3, sx, sy], f[1, sx, sy]\n",
    "\n",
    "        # Up-Down\n",
    "        f[2, sx, sy], f[4, sx, sy] = f[4, sx, sy], f[2, sx, sy]\n",
    "\n",
    "        # Top Right - Bottom Left\n",
    "        f[5, sx, sy], f[7, sx, sy] = f[7, sx, sy], f[5, sx, sy]\n",
    "\n",
    "        # Top Left - Bottom Right\n",
    "        f[6, sx, sy], f[8, sx, sy]  = f[8, sx, sy], f[6, sx, sy]\n",
    "\n",
    "        # Regular collision in fluid nodes\n",
    "        f[:, fx, fy] -= (f[:, fx, fy] - feq[:, fx, fy]) / tau\n",
    "\n",
    "\n",
    "        # Streaming Step\n",
    "        f[1] = np.roll(f[1], 1, axis=1)\n",
    "        f[2] = np.roll(f[2], 1, axis=0)\n",
    "        f[3] = np.roll(f[3], -1, axis=1)\n",
    "        f[4] = np.roll(f[4], -1, axis=0)\n",
    "\n",
    "        f[5] = np.roll(f[5], (1, 1), axis=(0,1))\n",
    "        f[6] = np.roll(f[6], (-1, 1), axis=(1,0))\n",
    "        f[7] = np.roll(f[7], (-1, -1), axis=(0,1))\n",
    "        f[8] = np.roll(f[8], (1, -1), axis=(1,0))\n",
    "\n",
    "        u = np.sqrt(u_x**2 + u_y**2)\n",
    "        # Plot the time step and check convergence every check_convergence time step\n",
    "        if ts % check_convergence == 0:\n",
    "\n",
    "            vnew = np.mean(u)\n",
    "            error = np.abs(vold - vnew) / (vold+eps)\n",
    "            vold = vnew\n",
    "\n",
    "            if error < precision:\n",
    "                print(f'Simulation has converged in {ts} time steps')\n",
    "                break\n",
    "\n",
    "        if ts == tf:\n",
    "            print('Reached maximum iterations')\n",
    "\n",
    "    toc = perf_counter_ns()\n",
    "    print(f\"Elapsed Time: {(toc - tic)*1E-9}s\")\n",
    "\n",
    "    return u_x, u_y, u"
   ]
  },
  {
   "cell_type": "code",
   "execution_count": null,
   "metadata": {
    "colab": {
     "base_uri": "https://localhost:8080/"
    },
    "id": "0de-8FRwE6XT",
    "outputId": "f488eb85-bf26-4dd8-c102-05f35e8728a4",
    "pycharm": {
     "name": "#%%\n"
    }
   },
   "outputs": [],
   "source": [
    " data = widget.result\n",
    " u_x, u_y, u = run_lbm(data)"
   ]
  },
  {
   "cell_type": "code",
   "execution_count": null,
   "metadata": {
    "colab": {
     "base_uri": "https://localhost:8080/",
     "height": 1000
    },
    "id": "hVhA_5wjE6XT",
    "outputId": "1bacbf3a-4701-4ac5-deda-8c61a1d26c25",
    "pycharm": {
     "name": "#%%\n"
    }
   },
   "outputs": [],
   "source": [
    "profile_fig = plot_streamlines(u_x, u_y, cmap='jet')"
   ]
  },
  {
   "cell_type": "code",
   "execution_count": null,
   "metadata": {
    "id": "a0kx4YuDF-2f"
   },
   "outputs": [],
   "source": []
  }
 ],
 "metadata": {
  "colab": {
   "include_colab_link": true,
   "provenance": []
  },
  "kernelspec": {
   "display_name": "Python 3",
   "name": "python3"
  },
  "language_info": {
   "name": "python"
  }
 },
 "nbformat": 4,
 "nbformat_minor": 0
}
