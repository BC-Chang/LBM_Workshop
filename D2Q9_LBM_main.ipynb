{
  "nbformat": 4,
  "nbformat_minor": 0,
  "metadata": {
    "colab": {
      "provenance": [],
      "include_colab_link": true
    },
    "kernelspec": {
      "name": "python3",
      "display_name": "Python 3"
    },
    "language_info": {
      "name": "python"
    },
    "widgets": {
      "application/vnd.jupyter.widget-state+json": {
        "f5c76cab63544e50ba37143adfe830a7": {
          "model_module": "@jupyter-widgets/controls",
          "model_name": "VBoxModel",
          "model_module_version": "1.5.0",
          "state": {
            "_dom_classes": [
              "widget-interact"
            ],
            "_model_module": "@jupyter-widgets/controls",
            "_model_module_version": "1.5.0",
            "_model_name": "VBoxModel",
            "_view_count": null,
            "_view_module": "@jupyter-widgets/controls",
            "_view_module_version": "1.5.0",
            "_view_name": "VBoxView",
            "box_style": "",
            "children": [
              "IPY_MODEL_3750c589b7d342308363ee95291c95f3",
              "IPY_MODEL_2b69306df41f4a608fdb97e7a631bb31",
              "IPY_MODEL_a7afa41b0bea4393806c395797ea3cdb",
              "IPY_MODEL_1bd3a579104a41ce8d4df62302570a1e"
            ],
            "layout": "IPY_MODEL_c64f327c527443529ac3eadafb5e3698"
          }
        },
        "3750c589b7d342308363ee95291c95f3": {
          "model_module": "@jupyter-widgets/controls",
          "model_name": "IntSliderModel",
          "model_module_version": "1.5.0",
          "state": {
            "_dom_classes": [],
            "_model_module": "@jupyter-widgets/controls",
            "_model_module_version": "1.5.0",
            "_model_name": "IntSliderModel",
            "_view_count": null,
            "_view_module": "@jupyter-widgets/controls",
            "_view_module_version": "1.5.0",
            "_view_name": "IntSliderView",
            "continuous_update": true,
            "description": "roll_x_dir",
            "description_tooltip": null,
            "disabled": false,
            "layout": "IPY_MODEL_8275785302f44f5197e996d09af6c998",
            "max": 1,
            "min": -1,
            "orientation": "horizontal",
            "readout": true,
            "readout_format": "d",
            "step": 1,
            "style": "IPY_MODEL_81fe9423ad44484b9e52f455eec22516",
            "value": 0
          }
        },
        "2b69306df41f4a608fdb97e7a631bb31": {
          "model_module": "@jupyter-widgets/controls",
          "model_name": "IntSliderModel",
          "model_module_version": "1.5.0",
          "state": {
            "_dom_classes": [],
            "_model_module": "@jupyter-widgets/controls",
            "_model_module_version": "1.5.0",
            "_model_name": "IntSliderModel",
            "_view_count": null,
            "_view_module": "@jupyter-widgets/controls",
            "_view_module_version": "1.5.0",
            "_view_name": "IntSliderView",
            "continuous_update": true,
            "description": "roll_y_dir",
            "description_tooltip": null,
            "disabled": false,
            "layout": "IPY_MODEL_8470c521be52435abfb5d6d576fe8f1b",
            "max": 1,
            "min": -1,
            "orientation": "horizontal",
            "readout": true,
            "readout_format": "d",
            "step": 1,
            "style": "IPY_MODEL_2ae7e46e3a8c4133b3bda6f8ebec2911",
            "value": 0
          }
        },
        "a7afa41b0bea4393806c395797ea3cdb": {
          "model_module": "@jupyter-widgets/controls",
          "model_name": "ButtonModel",
          "model_module_version": "1.5.0",
          "state": {
            "_dom_classes": [],
            "_model_module": "@jupyter-widgets/controls",
            "_model_module_version": "1.5.0",
            "_model_name": "ButtonModel",
            "_view_count": null,
            "_view_module": "@jupyter-widgets/controls",
            "_view_module_version": "1.5.0",
            "_view_name": "ButtonView",
            "button_style": "",
            "description": "Run Interact",
            "disabled": false,
            "icon": "",
            "layout": "IPY_MODEL_eee187888252456fa57b7b03fffc0112",
            "style": "IPY_MODEL_773378c098064c15824da60fdd663f0a",
            "tooltip": ""
          }
        },
        "1bd3a579104a41ce8d4df62302570a1e": {
          "model_module": "@jupyter-widgets/output",
          "model_name": "OutputModel",
          "model_module_version": "1.0.0",
          "state": {
            "_dom_classes": [],
            "_model_module": "@jupyter-widgets/output",
            "_model_module_version": "1.0.0",
            "_model_name": "OutputModel",
            "_view_count": null,
            "_view_module": "@jupyter-widgets/output",
            "_view_module_version": "1.0.0",
            "_view_name": "OutputView",
            "layout": "IPY_MODEL_bb1db79f05a545829b49aa5372c98636",
            "msg_id": "",
            "outputs": []
          }
        },
        "c64f327c527443529ac3eadafb5e3698": {
          "model_module": "@jupyter-widgets/base",
          "model_name": "LayoutModel",
          "model_module_version": "1.2.0",
          "state": {
            "_model_module": "@jupyter-widgets/base",
            "_model_module_version": "1.2.0",
            "_model_name": "LayoutModel",
            "_view_count": null,
            "_view_module": "@jupyter-widgets/base",
            "_view_module_version": "1.2.0",
            "_view_name": "LayoutView",
            "align_content": null,
            "align_items": null,
            "align_self": null,
            "border": null,
            "bottom": null,
            "display": null,
            "flex": null,
            "flex_flow": null,
            "grid_area": null,
            "grid_auto_columns": null,
            "grid_auto_flow": null,
            "grid_auto_rows": null,
            "grid_column": null,
            "grid_gap": null,
            "grid_row": null,
            "grid_template_areas": null,
            "grid_template_columns": null,
            "grid_template_rows": null,
            "height": null,
            "justify_content": null,
            "justify_items": null,
            "left": null,
            "margin": null,
            "max_height": null,
            "max_width": null,
            "min_height": null,
            "min_width": null,
            "object_fit": null,
            "object_position": null,
            "order": null,
            "overflow": null,
            "overflow_x": null,
            "overflow_y": null,
            "padding": null,
            "right": null,
            "top": null,
            "visibility": null,
            "width": null
          }
        },
        "8275785302f44f5197e996d09af6c998": {
          "model_module": "@jupyter-widgets/base",
          "model_name": "LayoutModel",
          "model_module_version": "1.2.0",
          "state": {
            "_model_module": "@jupyter-widgets/base",
            "_model_module_version": "1.2.0",
            "_model_name": "LayoutModel",
            "_view_count": null,
            "_view_module": "@jupyter-widgets/base",
            "_view_module_version": "1.2.0",
            "_view_name": "LayoutView",
            "align_content": null,
            "align_items": null,
            "align_self": null,
            "border": null,
            "bottom": null,
            "display": null,
            "flex": null,
            "flex_flow": null,
            "grid_area": null,
            "grid_auto_columns": null,
            "grid_auto_flow": null,
            "grid_auto_rows": null,
            "grid_column": null,
            "grid_gap": null,
            "grid_row": null,
            "grid_template_areas": null,
            "grid_template_columns": null,
            "grid_template_rows": null,
            "height": null,
            "justify_content": null,
            "justify_items": null,
            "left": null,
            "margin": null,
            "max_height": null,
            "max_width": null,
            "min_height": null,
            "min_width": null,
            "object_fit": null,
            "object_position": null,
            "order": null,
            "overflow": null,
            "overflow_x": null,
            "overflow_y": null,
            "padding": null,
            "right": null,
            "top": null,
            "visibility": null,
            "width": null
          }
        },
        "81fe9423ad44484b9e52f455eec22516": {
          "model_module": "@jupyter-widgets/controls",
          "model_name": "SliderStyleModel",
          "model_module_version": "1.5.0",
          "state": {
            "_model_module": "@jupyter-widgets/controls",
            "_model_module_version": "1.5.0",
            "_model_name": "SliderStyleModel",
            "_view_count": null,
            "_view_module": "@jupyter-widgets/base",
            "_view_module_version": "1.2.0",
            "_view_name": "StyleView",
            "description_width": "",
            "handle_color": null
          }
        },
        "8470c521be52435abfb5d6d576fe8f1b": {
          "model_module": "@jupyter-widgets/base",
          "model_name": "LayoutModel",
          "model_module_version": "1.2.0",
          "state": {
            "_model_module": "@jupyter-widgets/base",
            "_model_module_version": "1.2.0",
            "_model_name": "LayoutModel",
            "_view_count": null,
            "_view_module": "@jupyter-widgets/base",
            "_view_module_version": "1.2.0",
            "_view_name": "LayoutView",
            "align_content": null,
            "align_items": null,
            "align_self": null,
            "border": null,
            "bottom": null,
            "display": null,
            "flex": null,
            "flex_flow": null,
            "grid_area": null,
            "grid_auto_columns": null,
            "grid_auto_flow": null,
            "grid_auto_rows": null,
            "grid_column": null,
            "grid_gap": null,
            "grid_row": null,
            "grid_template_areas": null,
            "grid_template_columns": null,
            "grid_template_rows": null,
            "height": null,
            "justify_content": null,
            "justify_items": null,
            "left": null,
            "margin": null,
            "max_height": null,
            "max_width": null,
            "min_height": null,
            "min_width": null,
            "object_fit": null,
            "object_position": null,
            "order": null,
            "overflow": null,
            "overflow_x": null,
            "overflow_y": null,
            "padding": null,
            "right": null,
            "top": null,
            "visibility": null,
            "width": null
          }
        },
        "2ae7e46e3a8c4133b3bda6f8ebec2911": {
          "model_module": "@jupyter-widgets/controls",
          "model_name": "SliderStyleModel",
          "model_module_version": "1.5.0",
          "state": {
            "_model_module": "@jupyter-widgets/controls",
            "_model_module_version": "1.5.0",
            "_model_name": "SliderStyleModel",
            "_view_count": null,
            "_view_module": "@jupyter-widgets/base",
            "_view_module_version": "1.2.0",
            "_view_name": "StyleView",
            "description_width": "",
            "handle_color": null
          }
        },
        "eee187888252456fa57b7b03fffc0112": {
          "model_module": "@jupyter-widgets/base",
          "model_name": "LayoutModel",
          "model_module_version": "1.2.0",
          "state": {
            "_model_module": "@jupyter-widgets/base",
            "_model_module_version": "1.2.0",
            "_model_name": "LayoutModel",
            "_view_count": null,
            "_view_module": "@jupyter-widgets/base",
            "_view_module_version": "1.2.0",
            "_view_name": "LayoutView",
            "align_content": null,
            "align_items": null,
            "align_self": null,
            "border": null,
            "bottom": null,
            "display": null,
            "flex": null,
            "flex_flow": null,
            "grid_area": null,
            "grid_auto_columns": null,
            "grid_auto_flow": null,
            "grid_auto_rows": null,
            "grid_column": null,
            "grid_gap": null,
            "grid_row": null,
            "grid_template_areas": null,
            "grid_template_columns": null,
            "grid_template_rows": null,
            "height": null,
            "justify_content": null,
            "justify_items": null,
            "left": null,
            "margin": null,
            "max_height": null,
            "max_width": null,
            "min_height": null,
            "min_width": null,
            "object_fit": null,
            "object_position": null,
            "order": null,
            "overflow": null,
            "overflow_x": null,
            "overflow_y": null,
            "padding": null,
            "right": null,
            "top": null,
            "visibility": null,
            "width": null
          }
        },
        "773378c098064c15824da60fdd663f0a": {
          "model_module": "@jupyter-widgets/controls",
          "model_name": "ButtonStyleModel",
          "model_module_version": "1.5.0",
          "state": {
            "_model_module": "@jupyter-widgets/controls",
            "_model_module_version": "1.5.0",
            "_model_name": "ButtonStyleModel",
            "_view_count": null,
            "_view_module": "@jupyter-widgets/base",
            "_view_module_version": "1.2.0",
            "_view_name": "StyleView",
            "button_color": null,
            "font_weight": ""
          }
        },
        "bb1db79f05a545829b49aa5372c98636": {
          "model_module": "@jupyter-widgets/base",
          "model_name": "LayoutModel",
          "model_module_version": "1.2.0",
          "state": {
            "_model_module": "@jupyter-widgets/base",
            "_model_module_version": "1.2.0",
            "_model_name": "LayoutModel",
            "_view_count": null,
            "_view_module": "@jupyter-widgets/base",
            "_view_module_version": "1.2.0",
            "_view_name": "LayoutView",
            "align_content": null,
            "align_items": null,
            "align_self": null,
            "border": null,
            "bottom": null,
            "display": null,
            "flex": null,
            "flex_flow": null,
            "grid_area": null,
            "grid_auto_columns": null,
            "grid_auto_flow": null,
            "grid_auto_rows": null,
            "grid_column": null,
            "grid_gap": null,
            "grid_row": null,
            "grid_template_areas": null,
            "grid_template_columns": null,
            "grid_template_rows": null,
            "height": "350px",
            "justify_content": null,
            "justify_items": null,
            "left": null,
            "margin": null,
            "max_height": null,
            "max_width": null,
            "min_height": null,
            "min_width": null,
            "object_fit": null,
            "object_position": null,
            "order": null,
            "overflow": null,
            "overflow_x": null,
            "overflow_y": null,
            "padding": null,
            "right": null,
            "top": null,
            "visibility": null,
            "width": null
          }
        },
        "76d15da107364a4db63de58cd918b041": {
          "model_module": "@jupyter-widgets/controls",
          "model_name": "VBoxModel",
          "model_module_version": "1.5.0",
          "state": {
            "_dom_classes": [
              "widget-interact"
            ],
            "_model_module": "@jupyter-widgets/controls",
            "_model_module_version": "1.5.0",
            "_model_name": "VBoxModel",
            "_view_count": null,
            "_view_module": "@jupyter-widgets/controls",
            "_view_module_version": "1.5.0",
            "_view_name": "VBoxView",
            "box_style": "",
            "children": [
              "IPY_MODEL_a7b624877a1541d5a0f4e4d62aeb17e4",
              "IPY_MODEL_0d0ee0cd2ce7424e8eeed23e8f3d0d89"
            ],
            "layout": "IPY_MODEL_6044efed7318499eba51ab157d75c9cd"
          }
        },
        "a7b624877a1541d5a0f4e4d62aeb17e4": {
          "model_module": "@jupyter-widgets/controls",
          "model_name": "DropdownModel",
          "model_module_version": "1.5.0",
          "state": {
            "_dom_classes": [],
            "_model_module": "@jupyter-widgets/controls",
            "_model_module_version": "1.5.0",
            "_model_name": "DropdownModel",
            "_options_labels": [
              "beads.tif",
              "bevo.tif"
            ],
            "_view_count": null,
            "_view_module": "@jupyter-widgets/controls",
            "_view_module_version": "1.5.0",
            "_view_name": "DropdownView",
            "description": "dropdown",
            "description_tooltip": null,
            "disabled": false,
            "index": 0,
            "layout": "IPY_MODEL_c4278ba206314ab59b87b7adb9aa56df",
            "style": "IPY_MODEL_d603bbfabb97445382f891f895a67614"
          }
        },
        "0d0ee0cd2ce7424e8eeed23e8f3d0d89": {
          "model_module": "@jupyter-widgets/output",
          "model_name": "OutputModel",
          "model_module_version": "1.0.0",
          "state": {
            "_dom_classes": [],
            "_model_module": "@jupyter-widgets/output",
            "_model_module_version": "1.0.0",
            "_model_name": "OutputModel",
            "_view_count": null,
            "_view_module": "@jupyter-widgets/output",
            "_view_module_version": "1.0.0",
            "_view_name": "OutputView",
            "layout": "IPY_MODEL_4c49f0f05306456983b3ee6b0798dfc3",
            "msg_id": "",
            "outputs": [
              {
                "output_type": "display_data",
                "data": {
                  "text/plain": "'beads.tif'",
                  "application/vnd.google.colaboratory.intrinsic+json": {
                    "type": "string"
                  }
                },
                "metadata": {}
              },
              {
                "output_type": "display_data",
                "data": {
                  "text/plain": "<Figure size 432x288 with 2 Axes>",
                  "image/png": "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\n"
                },
                "metadata": {
                  "needs_background": "light"
                }
              }
            ]
          }
        },
        "6044efed7318499eba51ab157d75c9cd": {
          "model_module": "@jupyter-widgets/base",
          "model_name": "LayoutModel",
          "model_module_version": "1.2.0",
          "state": {
            "_model_module": "@jupyter-widgets/base",
            "_model_module_version": "1.2.0",
            "_model_name": "LayoutModel",
            "_view_count": null,
            "_view_module": "@jupyter-widgets/base",
            "_view_module_version": "1.2.0",
            "_view_name": "LayoutView",
            "align_content": null,
            "align_items": null,
            "align_self": null,
            "border": null,
            "bottom": null,
            "display": null,
            "flex": null,
            "flex_flow": null,
            "grid_area": null,
            "grid_auto_columns": null,
            "grid_auto_flow": null,
            "grid_auto_rows": null,
            "grid_column": null,
            "grid_gap": null,
            "grid_row": null,
            "grid_template_areas": null,
            "grid_template_columns": null,
            "grid_template_rows": null,
            "height": null,
            "justify_content": null,
            "justify_items": null,
            "left": null,
            "margin": null,
            "max_height": null,
            "max_width": null,
            "min_height": null,
            "min_width": null,
            "object_fit": null,
            "object_position": null,
            "order": null,
            "overflow": null,
            "overflow_x": null,
            "overflow_y": null,
            "padding": null,
            "right": null,
            "top": null,
            "visibility": null,
            "width": null
          }
        },
        "c4278ba206314ab59b87b7adb9aa56df": {
          "model_module": "@jupyter-widgets/base",
          "model_name": "LayoutModel",
          "model_module_version": "1.2.0",
          "state": {
            "_model_module": "@jupyter-widgets/base",
            "_model_module_version": "1.2.0",
            "_model_name": "LayoutModel",
            "_view_count": null,
            "_view_module": "@jupyter-widgets/base",
            "_view_module_version": "1.2.0",
            "_view_name": "LayoutView",
            "align_content": null,
            "align_items": null,
            "align_self": null,
            "border": null,
            "bottom": null,
            "display": null,
            "flex": null,
            "flex_flow": null,
            "grid_area": null,
            "grid_auto_columns": null,
            "grid_auto_flow": null,
            "grid_auto_rows": null,
            "grid_column": null,
            "grid_gap": null,
            "grid_row": null,
            "grid_template_areas": null,
            "grid_template_columns": null,
            "grid_template_rows": null,
            "height": null,
            "justify_content": null,
            "justify_items": null,
            "left": null,
            "margin": null,
            "max_height": null,
            "max_width": null,
            "min_height": null,
            "min_width": null,
            "object_fit": null,
            "object_position": null,
            "order": null,
            "overflow": null,
            "overflow_x": null,
            "overflow_y": null,
            "padding": null,
            "right": null,
            "top": null,
            "visibility": null,
            "width": null
          }
        },
        "d603bbfabb97445382f891f895a67614": {
          "model_module": "@jupyter-widgets/controls",
          "model_name": "DescriptionStyleModel",
          "model_module_version": "1.5.0",
          "state": {
            "_model_module": "@jupyter-widgets/controls",
            "_model_module_version": "1.5.0",
            "_model_name": "DescriptionStyleModel",
            "_view_count": null,
            "_view_module": "@jupyter-widgets/base",
            "_view_module_version": "1.2.0",
            "_view_name": "StyleView",
            "description_width": ""
          }
        },
        "4c49f0f05306456983b3ee6b0798dfc3": {
          "model_module": "@jupyter-widgets/base",
          "model_name": "LayoutModel",
          "model_module_version": "1.2.0",
          "state": {
            "_model_module": "@jupyter-widgets/base",
            "_model_module_version": "1.2.0",
            "_model_name": "LayoutModel",
            "_view_count": null,
            "_view_module": "@jupyter-widgets/base",
            "_view_module_version": "1.2.0",
            "_view_name": "LayoutView",
            "align_content": null,
            "align_items": null,
            "align_self": null,
            "border": null,
            "bottom": null,
            "display": null,
            "flex": null,
            "flex_flow": null,
            "grid_area": null,
            "grid_auto_columns": null,
            "grid_auto_flow": null,
            "grid_auto_rows": null,
            "grid_column": null,
            "grid_gap": null,
            "grid_row": null,
            "grid_template_areas": null,
            "grid_template_columns": null,
            "grid_template_rows": null,
            "height": null,
            "justify_content": null,
            "justify_items": null,
            "left": null,
            "margin": null,
            "max_height": null,
            "max_width": null,
            "min_height": null,
            "min_width": null,
            "object_fit": null,
            "object_position": null,
            "order": null,
            "overflow": null,
            "overflow_x": null,
            "overflow_y": null,
            "padding": null,
            "right": null,
            "top": null,
            "visibility": null,
            "width": null
          }
        },
        "66449bc1ec00451a9ac55124ed5c9c82": {
          "model_module": "@jupyter-widgets/controls",
          "model_name": "VBoxModel",
          "model_module_version": "1.5.0",
          "state": {
            "_dom_classes": [
              "widget-interact"
            ],
            "_model_module": "@jupyter-widgets/controls",
            "_model_module_version": "1.5.0",
            "_model_name": "VBoxModel",
            "_view_count": null,
            "_view_module": "@jupyter-widgets/controls",
            "_view_module_version": "1.5.0",
            "_view_name": "VBoxView",
            "box_style": "",
            "children": [
              "IPY_MODEL_b707f69e9a16445a995f2ea93d0a2c0e",
              "IPY_MODEL_883a6560389943cbbd6f677e460eeedb",
              "IPY_MODEL_0deb57a67ce747d2a71d0318d480c7a6"
            ],
            "layout": "IPY_MODEL_524d30035d2d4bf5962b607d4324da9a"
          }
        },
        "b707f69e9a16445a995f2ea93d0a2c0e": {
          "model_module": "@jupyter-widgets/controls",
          "model_name": "FloatSliderModel",
          "model_module_version": "1.5.0",
          "state": {
            "_dom_classes": [],
            "_model_module": "@jupyter-widgets/controls",
            "_model_module_version": "1.5.0",
            "_model_name": "FloatSliderModel",
            "_view_count": null,
            "_view_module": "@jupyter-widgets/controls",
            "_view_module_version": "1.5.0",
            "_view_name": "FloatSliderView",
            "continuous_update": false,
            "description": "Porosity",
            "description_tooltip": null,
            "disabled": false,
            "layout": "IPY_MODEL_8869f4ca11a84a0188bcf06fbcea4bbb",
            "max": 0.86,
            "min": 0.5,
            "orientation": "horizontal",
            "readout": true,
            "readout_format": ".2f",
            "step": 0.01,
            "style": "IPY_MODEL_ce7168ffc70b4310afd80ee1565c711e",
            "value": 0.5
          }
        },
        "883a6560389943cbbd6f677e460eeedb": {
          "model_module": "@jupyter-widgets/controls",
          "model_name": "ButtonModel",
          "model_module_version": "1.5.0",
          "state": {
            "_dom_classes": [],
            "_model_module": "@jupyter-widgets/controls",
            "_model_module_version": "1.5.0",
            "_model_name": "ButtonModel",
            "_view_count": null,
            "_view_module": "@jupyter-widgets/controls",
            "_view_module_version": "1.5.0",
            "_view_name": "ButtonView",
            "button_style": "",
            "description": "Run Interact",
            "disabled": false,
            "icon": "",
            "layout": "IPY_MODEL_c952696bb3e54e528dd5e652ca8e39ad",
            "style": "IPY_MODEL_8f93f2c95b9d49b08859b5d735849aba",
            "tooltip": ""
          }
        },
        "0deb57a67ce747d2a71d0318d480c7a6": {
          "model_module": "@jupyter-widgets/output",
          "model_name": "OutputModel",
          "model_module_version": "1.0.0",
          "state": {
            "_dom_classes": [],
            "_model_module": "@jupyter-widgets/output",
            "_model_module_version": "1.0.0",
            "_model_name": "OutputModel",
            "_view_count": null,
            "_view_module": "@jupyter-widgets/output",
            "_view_module_version": "1.0.0",
            "_view_name": "OutputView",
            "layout": "IPY_MODEL_5b0d74c1dd774d9f97c1968ba278aaa5",
            "msg_id": "",
            "outputs": [
              {
                "output_type": "display_data",
                "data": {
                  "text/plain": "<Figure size 432x288 with 2 Axes>",
                  "image/png": "iVBORw0KGgoAAAANSUhEUgAAATQAAAD8CAYAAAD5TVjyAAAABHNCSVQICAgIfAhkiAAAAAlwSFlzAAALEgAACxIB0t1+/AAAADh0RVh0U29mdHdhcmUAbWF0cGxvdGxpYiB2ZXJzaW9uMy4yLjIsIGh0dHA6Ly9tYXRwbG90bGliLm9yZy+WH4yJAAAgAElEQVR4nOydd1xT1/vHPycECLIVBAUVrZOiRdytqOAeRbCO0q9aZ6tWrNa6t9ZZtXVViwu1ddU6sHVUK86KGxEVFVEUUURBlkAgOb8/IPkxEjLuvbk3kPfrdV+ae895zkMIT854BqGUwoQJEyYqAiK+FTBhwoQJtjAZNBMmTFQYTAbNhAkTFQaTQTNhwkSFwWTQTJgwUWEwGTQTJkxUGEwGzYQJE7xACNlGCHlNCIlR85wQQtYSQuIIIdGEEB9NMjkzaISQHoSQB0XKTOdqHBMmTBgtYQB6lPO8J4AGRddXADZqEsiJQSOEmAHYUKSQJ4BgQognF2OZMGHCOKGUngeQWk6TvgB20kIiATgQQmqUJ1PMpoLFaA0gjlIaDwCEkL1Fyt1T1djJyYl6eHhwpApw48YN1mRVrVoVdevW1atvQUEBbt++rfZ5zZo1UaNGub8vRvK1oVmzZjA3N2ckQxVs/Q5cXV3h5ubGiix9uXPnDqRSqU59GjduDGtra4400o4bN268oZQ6M5FBCNE2tOgugNxir0MppaE6DucG4Hmx14lF916q7UEpZf0C0B/AlmKvhwBYX6rNVwCuA7heu3ZtyhUymYwCYOWaMWMGlUqleuvy9u3bcuUvWrSI0c+anJzM+GdMTExkpIMq5HI5q78Dvqlbt67Oel++fJlvtSmA65T537a2P7NWYwHwABCj5tlfANoXe/0vgJblyePtUIBSGkopbUkpbenszOhLw2CYm5tzMnthg9jYWDRt2pSxHB8fH9y5c4cFjUxUVAghGi+WeAGgVrHX7kX31MKVQdNZERPMKCgowOvXrxnLef36NfLz81nQyERFRSQSabxYIhzA0KLTzrYA0iml6peb4M6gXQPQgBBSlxBiAeDzIuUMjkgkwtGjRyEWc7VdyD83b97EN998w7calYatW7eicePGfKvBG2zN0AghewBcBtCIEJJICBlJCBlDCBlT1OQYgHgAcQA2AxinSSYnf+WU0gJCyHgAJwGYAdhGKb3LxVja0KdPH8bfGoMHD0bv3r317p+cnIzZs2erff7ll1+iZ8+eeslOSUnB+fPn9VWtDMuXL8esWbPQrFkz1mRWJPz8/LB48WIkJSWVuP/q1SssXryYJ60MA5tLSkppsIbnFIBO39ScTVsopcdQaGEFwcSJE7F27Vrk5uZqbqyCzp07o3Xr1nqP/+7dO2zZskXt827duqFFixY6y42Ojsaff/6pt16q2L9/P6pUqYKQkBD4+Gj0ZTQYXbt2ha+vL99qAAD69etX5l5ycjJycnIgl8vx888/86CVYWBxj4x1Kk2kwPLly2FjY6NX3/bt26NOnTqMxrexsUGfPn1UPuvQoQNq1aql8pkmLl++jM2bNzNRTSVhYWGszvrYYMCAAXrPYg2Bi4sLVq1ahR9//BFBQUEICgqqkFsdBjwU0JmK925zwIIFC+Dn58dIhpubG37//Xf4+fnh5s2bJZ4tXrwY7du311lmYmIiEhISGOllgn3EYjEOHjwIAOjUqRPev3/Puw8amwh5hmYyaAbEzs4OV65cQb169Urcl0gkeslbt24dVqxYwYZqJjji7NmzfKvAKoQQNk8xWcdk0AyMWCzGs2fP+FZDI5aWlhVyuWSCOaYZmkAQ8jeL0Ni7dy8CAwP5VqMEtIIV9FH8PEI2EKoQsr6V6i88OTm5UvsPGTtff/01Zs6cybcarHDy5EmIRCK4urryrYrOCPlQoFIZNEB43y5NmjSBRCJRXmPHjuVbJVy+fBkBAQGsyMrOzoaVlRUrsioir1+/hr29Pd9q6ITJoBkxly5d4tT3KS8vr8QVFhaGgQMHcjaeNlhYWLC6PM/Ly2NNVkXBz88P586dA2Bc74/iUMBAoU86U+kM2uHDh9G2bVut21erVo2zgPSPP/4YL16UDHHNzc3F8ePHERQUxMmYxs6WLVswfbr++UIzMzPRrFmzMtf169dZ1FIzFhYWaNOmDaKjow0+NlOEPEPjJH2QrleLFi10y4PCkKtXr9IePXpolQYlNjaWMz3s7e3VjmtjY0N79uxJP/30U7X9Y2NjaUhICGupeRTXjRs3WPsZs7KyWNfP1dWVfvfdd3rpk5aWplJmmzZt6OnTp1n7uYUIWEgfZGZmRqtWrarxYmMsfa5KN0MDgFatWmH69Ono27cvbzqMGzcOOTk5ap9nZWXh+PHj+OuvvzB27FiVJ3yNGjXChx9+yKWajEhLS8OECRNYl/vq1Svs3r0bc+bM0alfSkoKvvvuO5XPrly5gsWLF+PYMcFE6wkWIc/QKpXbRnE6duwIuVyORo0aKe/l5eVhzZo1ytchISGoWrUqJ+P/+uuvkMvlGttRSrFp0ybUqVMH3333HSwsLEo89/b2xoABA/DHH39woicTsrKysG3bNk5kv3r1Chs2bICtrS1EIhG+//57jX3S09Oxfft2tc8jIiLQqVMn9OrVi01VKxR8GyxNVFqDBhRuzBYPaXr//j1evvz/dEtLliyBjY0Nzp49i9evX8PT0xNeXl58qIoZM2agRo0aGDBgAKpUqaK836ZNG8yaNQsZGRk4efIkK2OdOnUKLi4uvKe61kRaWhqmTZsGQghq166NAQMGCPqPraIg6PeYj3Vu6cvQe2i6cOvWLerj40MB0OHDh9PLly/Ty5cv01u3bjGSKxKJ9No/evLkiUp5jx8/VurJxnXo0CFGPx+llD579oz1/bPyrvPnz9P8/HyVumRkZND9+/drlLFgwQLGP7dQAQv7WmKxmLq4uGi82BhLL/0YWcNKwOeff44HDx4AALZv365cstSpUwfnz59H7dq1+VRPSb169fDPP/+gRYsWrASsv379GhkZGbCzs2NBO8PQoUMH3Lp1Cw4ODnB1dVXGyGZnZ+P48eMYNGhQuf2dnJzg4OBgCFU5IzU1FRkZGZyOIeQZmsmg6UlCQgKaNWuGxMREvdMS6UNWVhbkcrlKX59q1arhwYMHcHJyQlZWFqNxvv76a6SlpWHixImwtLRkJMuQNG/eHABw9OhRdOrUCUBhGNfo0aM19l29ejWGDBnCpXqckpubi9mzZ2PjRo3lK/XGtIdWgUlPT4ejo6NBc/A3a9YM//33n1pfOktLS2RmZsLc3BwFBQWMxpo+fTqSkpJKHJTogjaHHlzx6aef8jY28P8/uyGdTIODg3H48GHOxxGyQauUbhvGTHx8vFaOwfn5+bzm4Lp+/Tq4rLUqZKRSKczMzGBmZobMzEy+1WEdIbtt6G3QCCG1CCERhJB7hJC7hJBvi+7PJ4S8IIREFV2mM3CeSE1N1TsTroJ169bhs88+07kfVeE3VxlxcnKCpaUlrly5wrcqrFFRQ58KAEymlHoCaAvgG0KIZ9Gznyil3kUXq56KlFJUr14dzs7OSElJYVN0hcPCwoLxtyWlFH/99Rc6d+7MklbC5PDhw6zF0FpYWCAlJQWEEEilUkil0gpj4LWZnRnlDI1S+pJSerPo/5kA7qOwTDtn5OTkwNPTEykpKXjz5g3at2+Phw8fcjZeu3bt8OTJE05kx8TEGOQw4fTp04wLEEulUvz3339apyE/ffo07wH2uuLg4MDq4YeTkxPu3r2rvD766CPWZKtj3bp1BjnUqJAGrTiEEA8AzQEo5tXjCSHRhJBthBBHNX2+IoRcJ4Rc13amJZfLERsbq3z98OFDTjMVLFu2DC4uLpzIbtKkCczMzHTqc/jwYZ3zZzVo0ICV9D25ubl49OiRVm0zMzPx9OlTxmMaO02aNIGnpyc8PT0NkkLJ3d0ds2fP5jwFVYU2aIQQGwB/AphIKc0AsBHABwC8AbwEsEpVP0ppKKW0JaW0pbOzs97jz58/HzExMXr3L4+OHTuW8MrnG39/f73qD8ycOVPpzsCE1NRUjB8/vtw2p06d4tRtwET5NGzYEOPGjUNoaChCQ0M5qTkhZIPGyG2DEGKOQmP2O6X0IABQSpOLPd8M4C9GGmrg4MGDGDVqFC8hSZaWllrFEPJN3759sXPnTty6dYuRnJycHGzbtg3r169X2yY6OhqnTp1iNE5lID4+Hvv27VP7fNiwYahRo4Zesr28vJR/DxkZGUhLSwMALF26VC95pRGy24beBo0U/lRbAdynlK4udr8GpVQREBkEgJvpkwCwsrLCDz/8wLcaWuHr64t79+6VWLKb4IfHjx9j8+bNWL58udo2MpkMX375JeNTajs7OyxZsgQAOwatIld9+gTAEAB3CCFRRfdmAggmhHijMDbuKYCvGWlYDDMzM3zyySe4dOmS8p63tzccHVVu03GKRCLRKVEk30ycOBHPnz/X26BZW1vD29u73I3z+Ph4zg5RuObOnTvw9PQEk+0PbTl9+nS5xgyAMjXSiBEjULNmTc510oUKOUOjlF4EoOon4yyhlEQiwYULF/DBBx/gyZMnqFOnDvbu3VsiBRDb1KpVCwkJCcjNzS2hR7t27XD8+HG95T558sTgnvROTk6oWrUqUlNTNbZ1cXEpsX/o5eWF8PDwcvusXr0aGzZsYKwnWzg7OytPknNycvDq1Su1bUNCQpCXl4eRI0cKJp5zzpw5sLKywuTJk/lWpQQV0qDxBSEE8fHxcHFxwbVr1zj/Rj116hQCAgJw4sQJ5Ofnw9zcHH5+fowSAaanp6N+/foGN2gzZsyAra0tQkJCyjwrXahjy5Yt6NOnj6FUYxUbGxuYmZlh9erVGDx4MADgv//+Q/fu3cuNcf3++++RnZ2NuXPnGkpVo8Rk0DggOTlZcyOWCA8Px8iRIxEWFobg4GDs2LFDb1m5ubm8zgBUeXKLRCKkpaUx+qDK5XLWDHR5ezTljaHod/369TKz9o8//hhRUVFo2LBhuTIUPwdX+0SUUq3fJyHuV/F9iqkRPnIWlb6EnA+NTd6+fcso31dGRgbfP4Ja+vTpw0pOMxsbm3LHWbJkidq+UqlUo57qagoUv4YNG8bW21KGqVOnav1eHDhwgNWxwUKOMolEQps0aaLxYmMsfS5hmf8KzMOHD42yqKwhqV27tsb9vWnTpinDiUpfbFXn2rFjB7p3786KrIpIRY3lNEratWuHatWqKa+vvvqK8zEvXLiANm3aGDTNkLHRsmVL3L59W6NREolEMDc3V3mxBaUUZ86c4fUU+59//uE9BZI6KqxjrTGSnp5eYhawd+9enD9/Xqu+33zzjcoN9fI4dOgQvv32W7x7906nfqW5e/cur+mAuEYsFgvmdBEACgoKcOvWLbRt2xaRkZEGHfvMmTNo165dmYI4QoBvg6WJSmfQSpOZmalMsa2J1atXIysrCzNmzNCqfVhYGJYvX47nz58zUREA0LhxY8FtELNFx44dsWqVygg5XpFKpZwmP1DF33//jY8//ljQWYKFbNAq5l8IRzx9+hT37t3Tqu2WLVvw888/M/bMF4vF2L59u6A/RExxcXFBixYt+FZDJdnZ2Vql72aDrVu3olu3boI2ZgB7S05CSA9CyANCSBwhZLqK57WLci7eKkp2oTG3YqUyaCtXrsSbN28YyYiOjtbKbeP8+fO4ffs2o7GsrKwwZ84cDBs2rEIbNEMikUgwe/ZsrdtLpVJs3boVCxcu5CynmUgkwty5czFixAiIxcJfNLFxKEAIMQOwAUBPAJ4ojDDyLNVsNoD9lNLmAD4H8IsmucJ/91hk+fLlrBi0pUuXwt7eHoGBgSrb/PPPP4iPj2c0DlAYbqSLk2dubq7agsMdO3bkrELVX3/9hcTERE5ks41EIsG8efN0isGllGLevHmYNWuWzimfSuPj41NiX04ikSA4OBgLFixgJNdQsLiH1hpAHKU0vkjuXgB9ARRfAlEAirJj9gCSNAmtVAaNLR48eIApU6aoNWhLliwpEW+qD1ZWVmjXrp1WbdPS0nDnzh2kpaVh6NChKtssXLgQw4cPh7u7OyO9ShMZGYlJkyYhLi6OVblC5MKFC/D19WVk1AYNGgQrKyvlnqGjoyNn1eW5QkuD5kQIuV7sdSilNLTYazcAxTeXEwG0KSVjPoB/CCEhAKwBdNE0qMmg6Ul+fj7i4+NRr169EvcTEhKQk5PDSLZEIkHHjh01xk4ChelhDh06hJEjR5bbbu7cuahSpQqrcYGPHz9GQEAA41TomZmZSExMZN3YqoMQgvr16+tshP38/PDu3bsyYWK6EhAQgICAAEYy+ERLg/aGUtqS4VDBAMIopasIIe0A7CKEeFFK1YZaCNqg5eXlqTQOQjjeT0hIgI+PD54+farUJz09Hf7+/oyXm76+vloHvu/ZswdjxozRqm1OTg5ycnIYZ09VuKB4eXmVCNrXl+PHj6Nfv374559/tGpvYWHBKPGmmZkZHj16xEqpv8oIS0vOFwCK50ZyL7pXnJEAegAApfQyIUQCwAnAa3VCBWXQZDJZiY3XtWvXYurUqWXa5efnC2LzND09Hc7Ozkqj6+HhwdjfDADjfRp1zJkzB0lJSVi/fr1eLiAFBQV4//49J+marl27prXcQYMG4ffff2f8PonFYpNB0wOWDNo1AA0IIXVRaMg+B/BFqTbPAHQGEEYIaQJAAqDc5QD/VqEY7u7u5aZ4UWBubo7c3FxBHG8XFBSw6qU+YsQIbN26lTV5pdm4cSOeP3+Oo0eP6tTv5s2bgnGt2LdvHxITE3Hx4kVGcnJycuDo6MjKl1Blga2AeUppASFkPICTAMwAbKOU3iWELERhHGg4gMkANhNCJqHwgGAY1XDULAi3jRs3bsDc3FwrY6bAxsYGr1+rnXmWoUqVKoxPOLlm4cKF2Lx5M+fj/PXXX1obp/Xr18Pc3BytWrXiWCvduHTpEho2bMhYzps3b1C/fv1y24jFYuTn5yM/P7/E/tnQoUPVhmGpu1auXMlYZ75hyw+NUnqMUtqQUvoBpXRx0b25RcYMlNJ7lNJPKKUf0cKSmBr3JARh0ADoPPUvKChAw4YNtXZ0lclk+qhlUHT99ps/fz4mTpyo11hRUVFo3LhxuW1mzpyJKVOmoKCgwOC527QhLi4OderUYSTDzMwMN27cQFpaGgYNGqS87+vri7S0NKSlpSElJQVisbjMNkdBQYHOlxDfR10xxXJyRHp6ulEYKm1YuXIlhg8frlOfnJwcvTfl5XI5Hj16hIYNG4IQgtjYWOUHMSgoCHfv3kVKSgorm/5cQSlFeno6Yzl2doWuTmvWrMGiRYsAFM7ohXD4JESE7OTN2KARQp4CyAQgA1BAKW1JCKkKYB8ADxTWFRhIKU1jOpYqRowYgfXr16NNm9IuLIVQSuHn5wepVMrF8KxRo0YNVK1a1aBjKowagBJFhG/cuFFuZlchkZmZCX9/f5w5c4axLBcXF87qsFYU+J6BaYKtJadf0RpX4XcyHcC/lNIGAP4tes0J169fx4wZM9R+oCmlOHfuHFfDs8Ls2bO1dqLlinPnzikvYzFmQKFR5uv3O27cOKP2J9MXIS85udpD6wtAEfC4A4Bql3qWiIiIwMqVK422HmT37t1Rt25dvtUwWuRyOebNm2fw/an27dujadOmWrcfMGAA2rdvz6FGhkHICR7Z2EOjKAxPoAB+LQpvcKH/X5vzFYAy83hCyFcAWMuuqHBENTc3R6dOndgSi6CgIOXJVlRUFKKiojT00I1+/frpncm2ZcuWvOTrEiILFy7E7NmzBZ1iqX///vj444/5VoMxQl5ysmHQ2lNKXxBCqgM4RQgpkS+HUkqLjB1K3Q8FEAoAqp7rw/Hjx/H+/XusWrWKkc9U8f2kNWvWKIu97tq1C0uXLsX9+/cZ66oYY/369XpXyB4wYABSU1NNBq2IiIgI+Pv7G9Tpul69emjcuLHGNFE+Pj6oXr26gbTiDr6XlJpg/JunlL4o+vc1IeQQCqPokxUV1AkhNVBOqALbnDt3DqNGjcKff/6pjLNs1KiRxiSO5ubmqFevHkQikdr9uCFDhsDe3h4hISF49uyZzroRQpS+U6dPnxb0bMIY6d69O968eYNq1aoZbMwRI0aAUopRo0apbVO3bl1s3boV3t7eBtOLSyqsQSOEWAMQUUozi/7fDcBCAOEAvgSwrOjfI0wV1YWoqCj4+/vj6dOnEIlEiI2NRY0aNZCXlweg8GTM3NwcEolE2adOnTq4deuWRtkBAQFwcHBAx44dtdZHLBbD1tYWjo6OjBM+mhAelpaWsLW1RWZmpsrnZ86cgYeHh2GV4pAKa9BQuDd2qOgHFAPYTSk9QQi5BmA/IWQkgAQAAxmOw5iXL18q/9+zZ0/0799fY4YKtvD19WXFraCiofjD4CpxoqEYPHgwatSogR49epRxEBeLxYI2APog5JUFI4NWlJztIxX336IwqFSQaJvJwgS3/PLLL8jIyMC0adP4VoUxnTt3xu3bt/Hhhx+WuJ+amgpbW1uetGIfoe+hCdfUVhC+/PJLnD59mm81BMfRo0fx9ddfK0OrLly4wFhmTk6OQffPNJGXl1ehjJmCyuiHxiutWrXCnTt3+FYDAHvZCSoSly5dQo8ePZQffjMzM7Rr147x74yrtEva0rhxY7x79055CbEMHRsI2aAZdSynOszMzATzzXjgwAHk5+fjt99+41sVwWBra1vGtcLMzAyNGzdGdHQ0mjVrppM8Qgji4uJYTeOkDyKRiHE2W6b88MMPnKf0FvKSs0IaNCGRlZWFpCSNtR1MoHADXZeIiRo1amD//v0QiURlUqFXNkaMGIGHDx8iPj6+xAEYF5gMWiXn3r17mDJlCn788Ue+VRE8EokEv//+O4DC/cfSp4YBAQHKND82NjYVIpSIKSEhITh06JBBElUKfQvFZNB05Pbt29iyZYtOfZKTk7Ft2zbY29urrQn5xx9/lKjjWb16dUyYMIGRrsaIWCzGF18UZmJ+9uxZGYPWvn17VkPbKgKGMmYKTDO0CsSdO3ewa9cunfulpqZi2bJlasOcNm/ejCtXrihfu7q6wtraGiKRSOc8aULn4MGDcHR01Fjlafp0zpK0sE5SUpJad6BBgwbBxsbGwBpxh8mgGZh3797h4sWLrC9H4uPjERMTo3f/7OzsckNkivPq1SuMGjUKYrEY7u7u6Nq1q97jCo358+cr03p7eHigQYMGfKvEiKSkJOzatUutAba0tCyRZ83d3R1NmjQxlHqsYzJoBiY2NhaDBw/G06dPWZX722+/Yfny5azK1ERBQQG6desGmUymcu/C0dERtWvX1iu2lE9mzZoFoHAze/LkyahSpYrRhQe9ePEC6enp+PPPP8utcD9kyJASrwcOHIh58+YBKFxis1EbwVDw7ZahiQpp0IDCGgJv375lzdEyKysL79+/Z0UWmwwcOBD29vbo0aMH36roxbZt27Bt2za0bdsWly9f5kWHtLS0EqncJRKJxiVieno6JkyYgIMHD+o83v79+7F//34AgJOTE+7fvw8nJyed5fCFkA2acI8rGJKYmMjqN35ISIjBZ2faQgjh3QeLKZRS5OfnG3xcqVSK1q1bw9nZWXl988035Rbtyc/PR8+ePfUyZqV58+YN3N3dIZVKBZ8mXoGQEzxWWINWmejWrRtu3rzJtxqMuHLlCi97aS4uLoiLiytxb+fOnejWrZvaPo0aNWJ1NpmXlwdLS0tYWloiOzubNblcoE2UgClSgCOysrJgYWHB+Juva9eupnjMSkZERITamQaX2UFsbW2RkJCgTCoqRExLTh7Rtd6nKoyhVJ6npyceP37MtxoVCkqpyovrMT09PWFnZ4fw8HBOx9IXIc/QKrxBY4q/vz9vm9W6IBKJ4OHhoTEzrwnhk5WVhczMTIwaNUorJ+7IyEh4eXkZQLNCTAaNRyilaNeund4bzklJSbwW2zU3N8fly5e12mgViUSMK4kbC9HR0WjXrl2Ji43ZuJBISUnBDz/8gFWrVpXbzt3d3WCHQorQJ9OhQDnUq1eP01QrkZGRRpsVlRCCtm3bat3e3Nwc+/bt41Aj/rl48SImTpyIyMjIEldwcLDONUW3b9+ud9UtQ5CQkIBNmzZpPGFfvnw5WrVqZRCdTDM0DTg6Ogo64JUvrK2tsWTJEp36iEQiDBzIe8Zznaldu7ZWoU4RERFYsWIFIiIiyjw7cOAAZs6ciZSUFK3HDQwMFEyqKXXExcUhNDQUa9asUduma9eumDFjhkGC9SukQSOENCKERBW7MgghEwkh8wkhL4rd76VJVkpKCucb76GhoTovHcPCwgwa9FsaKysrTJ48mbfxDUnNmjUxZswYje0iIyNx9OhRtc/XrVuH1NRUncYODg4W9CwNKAy7W7lyJXbu3Km2TVBQEFq2bMm5LhXSoFFKH1BKvSml3gBaAHgP4FDR458UzyilxzTJevbsGedOlSEhIQgPD9fJz2fy5MlITk7We8z69euje/fu6N69u87fnNbW1vD399d77J49e5pmvVqyYMECNGrUiG81NJKYmCiI+gsV0qCVojOAx5TSBJbkccKgQYNw+vRpgzgvuru7Y/LkyThx4gROnDiBXbt2wcvLq0wRDVVYW1ujS5cujPbCjh07BisrK737G5qcnBzTCa0WFBQU4N69eyqfPXv2DG/evOF0fKE71rJl0D4HsKfY6/GEkGhCyDZCiKOqDoSQrwgh1wkh11nSQSsCAwNx7NgxvH79ulzDlpKSArlcrtcYDg4OWL16dYkllIeHB+7cuYOoqKhyK2hLJBL06tULhw8f1mtsY+X27dvo3r27xnZVqlSBnZ0d6+M7OjqWqNMqVN68eYMWLVqUuff69WuMGTPGIKneK/QpJyHEAkAAgD+Kbm0E8AEAbwAvAag8c6aUhlJKW1JKuV/0l2LgwIFwcXHBwoULkZeXV2a5m5eXBzc3N733zw4fPowBAwaofCYWi5GcnKxy9iQSiTBs2DBl4HJlg1KqLAatjm+//RabNm1S+9zCwkKvGcKhQ4fU/s6ESF5envJq1qwZXFxcDFaesaLP0P4ZzJYAACAASURBVHoCuEkpTQYASmkypVRGKZUD2AygNQtjcMKKFSsgkUjg5+envCeTySCRSDjf03v//n2ZghoLFizAxo0bOR1XyDx79oxx1omXL18aVToefcjNzYVEIlFeXNcQKA1bBo0Q0oMQ8oAQEkcIUXnETQgZSAi5Rwi5SwjZrUkmGwYtGMWWm4SQ4ilZgwDonxHRQFy6dEn5iyhdjUhXYmNj0bFjR5377dq1S2167spEVlaWRifR4OBgyOXyMkHlubm5qFq1KpfqVXrY2kMjhJgB2IDCCZEngGBCiGepNg0AzADwCaX0QwATNcllZNAIIdYAugIonkdlBSHkDiEkGoAfgElMxjA2dNk/SEpKUqY4EtqJ5J49e5CVlYUVK1YYfOyCggLY2NiUm1SAEIJ69eohKytLeVlaWhpQy5L4+fmV0CUrK4uTpZeLi4syNIovWJqhtQYQRymNp5RKAewF0LdUm9EANlBK0wCAUvpak1BG0xFKaTaAaqXuDVHT3EQpqlSpAkII/vzzT9YSNEqlUmUaHl1Pc2NjY5V7e87OzrCyssKYMWMwaNAgxMTEoHfv3qzoqA3Z2dmoX78+oqKi1M66CCGwtrY2mE7lIRaLy+iSkJAAT09PnaMXVOHv74/t27fDzMyM959Zyy9fp1IHfqGU0tBir90APC/2OhFAm1IyGgIAIeQSADMA8ymlJ8rVTRvNTGjHqVOnULt2ba3b+/v7IykpCbNmzcKFCxcYjR0fH482bdrgk08+wbNnz3ROyR0ZGYkGDRqgdu3aqF27ttKw2draonbt2rw4nj5//hydO3fGkydPOB9r7Nix+Pvvv/XqGxAQgHXr1pW5X6tWLZw9e5bxe9e/f39s3LgRtWvXhpubm/L+lStXeDmZ1XKG9kZx6Fd0hWqSqwIxgAYAOqFwa2szIcShvA4mg8YiLVq00HrZM3DgQFy4cAF5eXmIjY3F27dv9Rrz1KlT+Oyzz/D111/j6tWruH5dPy+Y1q1bl/vNW69ePYSG6vOZZEZUVBS+/vprREdHczrO/fv3dY4wUODk5KTWMbdFixaMjM7QoUMxa9YslQcdrVu3xp49e+DoqNIzihNY9EN7AaB40jf3onvFSQQQTinNp5Q+AfAQhQZOLYJN8BgUFIRPPvmkxD2pVIqZM2fypFH5rFixAlWqVNHYTi6XY8qUKfjjjz80ttWG+Ph4VlJBa8LBwQG9emmMYuOEU6dOYdGiRfj+++/Rpk3pVQlzli9fLshcckOHDkVISAi8vb3VtgkMDERycjIWLVqEFy9K2wNuYGlv8BqABoSQuig0ZJ8D+KJUm8MonJltJ4Q4oXAJGl+eUEEYNGdn5zIB1QMHDkSHDh1K3JNKpXj+/LngXBu++eYbTJ48Wau9BZlMhtWrV7My7uXLl3H27FlWZG3YsAFjxoxhfMrLFQcOHEC3bt1YN2hbtmzBqlWrdApoL829e/cQHh6OgIAA1vTq378/Jk2aVK4xU/D111/j3bt32LRpE+uVzlTBhkGjlBYQQsYDOInC/bFtlNK7hJCFAK5TSsOLnnUjhNwDIAMwhVJa7lJGEJ/e2rVrY/369RrbWVhYYMOGDYIyaGKxWCvdueDw4cPYu3cvK7JCQkJQo0YN9O7dW+0SSSKRoGfPngZz4CxNdHQ0Hjx4wDjuklKq3C+bNGkS4037yMhIzJs3D/b29mVcdk6cOKFztTB/f38sXrxYJ3+6adOmIT8/H1euXMGTJ09w9+5dncbUBbZOb4vivI+Vuje32P8pgO+KLq0QhEEzVkQiEZo1a6ZTH0IIvL29ERUVxWjshIQEvH6t8RRbJ/r374/ExMQSG8/FqVatGg4cOMDbKdv69etha2urc0ql4shkMkRFReHTTz9lUbPCvb7hw4eXWf73799fp9Pmpk2b4vfff9frIEHhx7h7927MmjWLk9kaKUrwKFSMyqBRSvHq1Su+1VBiZ2eHGzdu6NRHLBbj1q1bcHd3L1MLUhemTp3KSYhUSkoKXFxcBLv0ZIJMJkNcXBxnKXaePHmC5s2b693f1dUVkZGRWu3FlscXX3yBatWq4YsvvtD7oKM8+Axt0oRRfWpTU1NRs2ZNvtVQwuT0KjExkUVN2KN58+b477//0KZNG7XfxBKJhLe05AUFBcjPz9c55bRcLsf9+/fRtGlTjjRjhkQiQVJSEmvGonv37vj333/Rrl075T22fmdCNmjCnTuW4vnz54KqLl2/fn2Dx9AZio8//lhtxaEqVarwWkH+xx9/xJdffqlzv4sXLwramOXk5LBuKLy9vZGTk6O82KKiB6ebMCFofvvtN73iaw1B9erVef2C0AeTQWPIzZs3Oc+g4OHhgezsbGRkZGhs+8knn+DOnTuc6iNkCCHIzs7mLX/Yvn370LlzZ17GZosuXbogOzsbT58+FfQSrjQsOtZyguAN2vHjx9GjRw9O92xatWql3Iy1tbVFYmIiEhMT4eCgOsrCzMzMKJIBckmVKlXw+PHjcpNVcoVcLteYNw0AvvvuO7i7uyMkJMQAWmnP4MGDsXfvXlSpUsWosgorEHKCR0EfCvz222+YO3cuI6dHTXTv3h1r166Fi4uL8p7CbeHcuXMICAhAQoKwMosPHz4c//zzD99qoGbNmjh9+jT69++Phw8fGnTsqKgo+Pj4wNbWFufOnVPe9/f3VybmTEhI4OSULzw8XK1rS1paGrp06aLy2bJly9C1a1c4OTmhWrVqKtsYA0KeUQraoCUnJ3MamNy/f39Mnz5d7XK2WbNm2LZtGyZOnFhiiRkTE4OxY8fy5uAbGxvLaTWq1atXa10LtGnTpvj1118xZcoUveNI9SE7Oxu3bt2CWCxGYGCg8v7Fixc5Tc65e/dudO7cWa1rhVQqVaZPV+gVGhqK6tWro1WrVoI6pdcXk0ETKA0aNCiTn700/v7+ZU5XU1NTlUHBTJw89WHRokWch7d07NhRJ8fOTp06Yc6cOYiPj0dERITaE1IuKCgowJEjRwwy1qpVq/DZZ5+VWxTbwsICffsWpvX6+eefQSnFoEGDOKmDwAd875FpotIaND8/P3z88cd6909PT8dPP/2EmjVrYvz48Sxqppp169aBUoqffvoJaWlpnI0zYsQIvfbFFHGMH330EWQymd6peITMt99+CzMzM53aV0RMBk1P6tevj1atWuHatWusyw4ODkafPn0YycjNzcWECRNQq1YtBAQEsPqLzsrKwr///qt8PWHCBNZkl8fChQvV7g9pg5+fH6ysrJCZmYnz58+zqJkJoWAKfdKTvn37Qi6Xo1+/fnyrohZKKQIDA3H16lX4+Pjo9A2uirdv3yIhIQHx8fEGr0Lk7e1d7nJKW9q2bYuNGzcqM92a4Be5XM44drg4Qp6haWVqSWF9zdeEkJhi96oSQk4RQh4V/etYdJ8QQtYWVXKJJoT4MFFQIpHA2dmZiYgyVK1alfUA69atW+PBgwcl4jN1JSMjA9u3b0eLFi0Maszc3Nzg5uaG//77j7X32tPTE8eOHdPc0ATn5Obmatwr1paK4ocWBqB00vvpAP6llDYA8G/Ra6CwikuDousrFNbp1JuePXvixIkTrPp97d27F198UTqXHHM+/PBD3L17V68CxVKpFIsXL8aUKVNY16s0IpEIVlZWsLKygqOjo9Lvjk2fKLlczmq4jRAwNo9+BYQQVn+3Rm/QKKXnAZR26OkLYEfR/3cACCx2fyctJBKAAylZ2k5nfHx8DO7npC8fffSRzntHlFIMGzbMYBWWevfujffv3+P9+/ec+GkBwI0bNxjnLRMadnZ2SE9P51sNnbGysmLVGBu9QVODC6VUEZ39CoDCM1VVNRf9d5mNED8/P+zatUvr9h06dMCePXs0N9SDhIQEUEpLXIZ0qzBR8aioBk1JUWZJqksfQshXhJDrhJDr2kQCuLu7sxIxcPPmTZ3jAE+cOIEhQ3Srzjdy5EgsXbpUq7aFbx+7ZGdn4/3796hVq5bmxixz5MgR+Pr6GnxcrsnMzCxT7b6yoUjwKNTQJyYjJyuWkkX/KtKnalPNBZTSUEWJK202otnaB7C0tNT5DbewsND59DI/Px9LlizBpEnl11lu164drl69qpPs8rCwsEBSUpIyTtDQ35abNm3CsGHDtIq1VIW1tTWSkpKUlyErGmnCGOMuuaCiztDCASgSU30J4Eix+0OLTjvbAkgvtjStVGRlZWkMUUpOTmY1VIcQgho1GG1ZMiI7O5tRWJZCf8V1/vx51K1bl0UNTTDF6A0aIWQPgMsAGhFCEgkhIwEsA9CVEPIIQJei10Bh0YN4AHEANgMYx5ayEomE0f7P77//rlMhYBO6sWnTJmzZsoVVmUuWLOE0OYE2iEQiHD16lHeH0idPnmDo0KG86gAI26Bp5VhLKQ1W86jMZlTRfto3TJRSh0wmY1RxqFu3brCxsWFRIxPFiYmJQWxsLCMZeXl5JULJDh06xFu6bwVmZmaMo0qYEhMTgx9++AHh4eGoVq0afvrpJ950EbJjraAjBUqTn5+vd4aLiRMnMtoD6dGjBx48eIDLly9r3addu3bo0aO0+56J8sjPz8eGDRv4VkOJRCIxWNhZeTx9+hT79u0DUDgT5sug8T0D04TRGLScnBy9l5tBQUH48ccfGVUyGjRoEEQiEfLz87VKk+Pj44NJkyYZPHyJT7y9veHl5VWhwp2srKywfPlyvtUogUwmw6FDhwAUJgVgGm6nK3wvvcvDaAzamzdv9PLuJ4SUqZWoLwMGDICNjQ3mzZunse38+fPRq1cvVsY1FkaNGoX09HR8//33fKvCChKJhFFZOq7Iz89XxjefP38eEokEH374YZkcbe/fv+ek4LBphsYQqVSqd4Ultg8BevbsiZ49e7Imr2bNmnjx4gWkUilrMvnE1tYWVatW5SwCwZDUqVOnRMYTvsjKysKbN29UPuvQoQMA4NixY/Dy8irxLCYmhpMvVZNBY8jt27fRpk0bnfu5urpyngyRKRcvXkT79u1x6dIlvlVhha+++gqurq4YNGgQb5v5EomkzDJMJpPppI8i3lUIhIWFaayLYKjVgND30IS7GC6GPp70derUqbB1M4VOQEAAr7nQoqKikJWVVeLStQZDx44dcevWLY40NG6E7LYheIN26NAhvWZnJioH9vb2ZWJVVQXF+/r64tGjRzxoWPGoqKFPnPPzzz9j0KBBfKvBOREREfj888/5VoNVWrZsibi4OFZlbtiwAbm5uSWu5ORkrft/8MEHePXqFas6cc306dM1hs8ZGiHP0AS9hyaTyfQKC/Lx8RFEmTdtMTc3Z+1DkJeXBxcXF7x69YrXDxYhhJXstwr279+PTz/9FJaWlox0YtLf0IwYMQJ79+5FQUEB36oo4dtgaULQBk1fLCwsBFH38JdffsGmTZuUr+3t7XHhwgXOx339+rXmRgbA1dUVkZGRWpfEKw8HBweDFne+evUqmjVrpvLZsWPH4O7uztnY3bt3x8uXL5GQkCDIJJkmg1YJWbVqFTZt2lRi2WVubo5PP/0UR48eLdN+2rRpkMvlSm9wIfL27dsSaZQOHz5c7izM3Ny8jCuBPmzatAk+PowyuetMdnZ2iVqsxRk8eDCqVKmCqVOnolOnTnqPkZCQgLFjx5a5f/78ed7DvcrDZNAMiI+PD6ZOncq3Grh9+3aZPaT8/Hz8/fffyg/xTz/9pJx1fPTRR6hfvz5r448dOxaEECxZsgSOjo4IDQ1lfGqXnZ1dIpb2m2++UUZfjBs3Dk2bNi3Tx9LSEr/88gvGjdM/R4Gvry8rM+6UlBRMmzaNsRxFpfa8vDzk5ubqFN526NAh5XZIamoqo9hkvjAZND1p3bo1pk6dilevXmHnzp1a9alfvz6CgoI41qx89uzZozb8h1KqXIbWqFED3377rTJpoK+vL3r06IETJ04w1uHXX38FADg6OsLBwQG7du1iPSSpeGYNRUm/0p71YrEYY8aMYWTQ2CAxMRFr167F9u3bWZN55swZmJubA4BWRi08PBxr1qxRGkRjRJHgUagI2qD5+vrC19cXjx8/Rm5uLvLz85UxbKpo1KgR2rVrZ0ANVfPrr79qNRuaN28eHB0dERwcDCcnJ3Tv3h3m5uaws7NDRkYGK4ZN26y5TAkLCwMhBD169IC7u7uyiLNMJsOBAwcMokN5xMfH48cff2Rd7smTJyGVSmFlZYWOHTuqbffvv/9i6dKliIyMZF0HQ8PWDI0Q0gPAGgBmALZQSpepafcZgAMAWlFKyw2kFrRBU/DBBx9g3759yMnJgb+/PwCU+WB4eHhgwoQJvM8EdEUxq2nfvj0AwN/fH/7+/nj69CmCg9Vlbfp/kpOT8eTJE67V1Irt27dj+/bt6NixI5YtK/xs5uTkMHZJuX37NjIyMlCvXj2dq7orKlpxEdOoICIiAllZWdi8eTM++uijMs9v3bqFiRMnVpigfTYMGiHEDMAGAF1RWHfkGiEknFJ6r1Q7WwDfAriijVyjMGgKrKyslOl7GjVqVCL+cdGiRRg8eDBfqrGOh4eHVqmKdu/ejVmzZiEvL08wkRHnzp1jdaasSEqwdOnSMsZRJBKpjNdNTk5GTk4O1q5da5BUO9euXUNwcDDu3btX5lm/fv0EH4KnCyzN0FoDiKOUxhfJ3IvCinGl38BFAJYD0Kq+o1EZtOI8ePCAbxUEwRdffIEvvvgCMTExKjflKxIzZszAjBkzStyzs7PDixdlSlZg4MCBvIZfVWS0NGhOhJDiy8NQSmlosdeqqsOVCAkihUXKa1FK/yaEVGyDxgaKUBltEbpTISGEkwpSQiYjIwO2trZ8q1Fp0OFv4A2ltCWDcUQAVgMYpks/4R5XGIBly5bBzMxM62v+/Pl8q6wWLy8vowvrMWGcsBTLqak6nC0ALwBnCSFPAbQFEE4IKddIahyZELKNEPKaEBJT7N6PhJBYQkg0IeQQIcSh6L4HISSHEBJVdG1SL5k/evXqBUtLS8yePVunfj/88AMsLS1haWmJJk2asKJLbGwsPvnkE1ZkmRAmDx8+ZDXBgkQi4dXxlqVYzmsAGhBC6hJCLAB8jsKKcQAASmk6pdSJUupBKfUAEAkgQNMppzamNAxAaSebUwC8KKXNADwEUHxj4zGl1LvoGqOFfIPSvn17nD59GlKpFHK5XKe+crkcUqkUUqkUDx48gLOzs8qScUeOHEFKSgpSUlKwdu1atfIeP36MBg0aCHoZa0I7OnbsqDanHZuxutWrV8fz589haWmp/Iy5urqyIltb2DBolNICAOMBnARwH8B+SuldQshCQkiAvrpp3EOjlJ4nhHiUulc88jsSQH99FTA0qamprNTBpJQqs4h6enrizp07yqSCxatrDx06VG2ldg8PD0E7KRanSZMmOHDgAHJzc9GiRQu+1REcFhYW5RZF3rNnD8aOHcvIt7Bx48Y4cuQInJycAED5ryFrCrC5j0wpPYbCspfF781V07aTNjLZOBQYAaB4AGJdQsgtABkAZlNKVUZjE0K+AvAVwH6abENz//59tZvx9vb2JQycsREYGIhx48bBzs4Onp6ekMvlJTKZDBo0CGlpaTxqaBx4eHhgxYoVsLOzw/79+/WSIZFI0LBhwzL39+zZgxEjRrCerkkdQl5RMDJohJBZAAoA/F506yWA2pTSt4SQFgAOE0I+pJRmlO5bdIQbCgAtW7asXEdzRsDYsWPRvHlzeHl5lfApE4lE6Nq1q/L12rVrMWPGDCQmJvKhplHRtGlTTJ48GRYWFvjtt9907jtnzhyVz3x9fQ160ivkVYXeBo0QMgxAHwCdi4oLg1KaByCv6P83CCGPATQEoLnumwFYs2YN3r59y7canJCSkoKff/6ZFVnDhw/H+PHj4enpqbHt4MGDkZaWhrVr1xpshmDMtG7dGiEhIcjPz9cps0qdOnWUlZ74ROiuS3oZtKIYrKkAOlJK3xe77wwglVIqI4TUA9AAQDwrmrLADz/8oLZ6DhOCg4N5+9Z6/Pgxrl69iufPn7MSt9m3b1/MnTsXHh4eWvcJCQlBbm4uNm/ebEpzrQWtW7fGzJkzkZGRYcq2wTIaDRohZA+ATij0/E0EMA+Fp5qWAE4V/XCRRSeaHQAsJITkA5ADGEMpNf56ZuUgFouxe/dug413/fr1Ekf24eHhrAZdb9iwAW5ubjr3mzJlChISEiqtQUtLS8OtW7e0ruPZrFkzrFixQiuD5urqypqbEBsYtUGjlKqKkN6qpu2fAP5kqpSxQAhB3bp1OZGdn5+P58+fl7kfGBioMtSHDTw8PBhVl3dycoKjo2OlPCS4fv06/ve//6mM5VSHhYUF6tSpg4SEhHLbffbZZ1ixYgVTFVnDqA2aCfXY29vj4cOHrMlTJAwECmNVDVntyt7eHvfu3WNUi3L+/PmwtbWtMJXTuaZhw4a4evUqXFxcGMnJzMzU2aeSCSaDVkFhc99MLpdjwYIFnOQvU2zkqvrQK0JV0tLSWPmgikSiShlTyiVyuRxyuVzl500mk6FRo0YGy7Qi9ASPwtVM4NSvX5/VE9PBgwdzlowxMjISMpkM3333XYn7rq6uyspabH3rTpo0SRAJHSsSGzduRN++fVU+s7W1NXjaKCGXsTMZNAHQqVMn7Nmzh3W5aWlpkEqlaNWqFQBgxYoVytAtqVSKZ8+esT4mAAQFBeG///7jRLaQuX//vspQODb466+/lL9HBZaWlrxUhRKyQas0S84aNWqw5rLRtm1b1o7bfXx81FYXYkJKSgocHBxK3FNkDeEaQghat26N6OhotaXgKipc1tC8efOmslgMpbREglNDIuQ9tEozQ0tNZcd7JCAgAPv27StjLPShVatWiImJYfWPwMLCArGxsco4P74wMzNDkyZNEBsbq7wUJe+OHDlS4r4hMsoaitTUVK2N+KNHj3TKtCKXy5GamorU1FTeTpK1mZ2ZZmgcQilF586dWfk2GzJkCKZPn6429jQwMBAZGWWivNRy8+ZN1k+nCCFo1KgRqzL1RSwWl9Dl5MmTkMvlaNOmDaytrZX3HR0dIRaLERISwoearCKXy3Hnzh34+/vj9OnT5W6g5+XlGWV0hZAPBSqEQfvpp58QHR2NXr16YcCAAcr7ubm5GDNmDCIiIhiPMXz4cISEhJQJB5LL5Rg5ciQA4Pjx47wtA4DCDeL169fzNr4m1BXlrV69Olq21Du5qSCJiIjAiBEjSsxWxo0bh1atWuHs2bPYsWMH3r17x6OG+iPkJafRG7Rff/0VGzduxKNHjxAXF4f79+8rn0mlUuzYsYOR/LFjx8LZ2RmBgYFlvMBzc3OxbNkyhIWFMRqDLaysrDB06FC+1TBRROnPXnZ2Nry8vHD9+nUcPXqUJ62YYzJoHLJhwwZluM3Fixdx8eJFVuT+73//g0gkwpw5c9SeXOXm5mLBggV6yR88eLDyg3HixAmkpKTorauxk5CQYJQxjbryxx9/4I8//gBQeEjVpUuXMm327NnD6cECU/jeI9OEURu0yMhIZGVlsSJLIpGgdevWytdhYWGMwoDKo0OHDtixY4dyL2L8+PH4448/8Pr1a07GEzpXrlzBwoUL+VbDYLi6uuJ///ufyhjc5ORkZbTIvXv3OEmmwBSTQeOIwMBAJCcn69XX2dm5ROLFWrVq4cyZM2ypVgZzc3PUqVMHYrEY586dK/Fs/fr1SE1NZeyLVlBQgMePH+ODDz5gJMeQvHv3rlIVd6latSpGjRqFRYsWqXx+8uRJ5f/Hjx+P33//XXB7bSaDJjBsbGywcuVKg+03icVieHt74+rVq+XqZGlpiby8PL3HSU1NhaenJ5KTk1lxKykNpRTp6enltrG0tNQqHjQ7Oxv5+flYs2aNoKtpsYm1tTXmzZuHCRMmaNV+/fr1cHR0xMqVK3ktilIa0ymnwDh48GCJrKtcQQiBmZkZ/Pz8SqStVkVoaCiqV6+OxYsXMxpTKpXC0dEReXl5EIlErCybKaWQyWRISkpCnTp1ym07adIkrFixQvmzl0Ymk4FSiv79+zPKr29siEQihIWFoX9/3cpvLFq0CDVr1sQ333wjiPhYoe+hCdfUVgDmz5+P/Px8jcaMCywtLWFubs5KeFN4eLhyyayJn376Cebm5iXSdhfHzc0N5ubmlcqYAcClS5d0NmYKxo4di/DwcM0NDYSQHWsrpUHr0aMHtm5VmdJNJxwcHNTG0m3fvl3nup9cULduXZibm+PgwYN69V+/fj2CgoJ07nft2jWYm5uXufTd8zRm4uLi0LZtW0YyevfujevXBZHJXtAGrVIuOeVyOUJCQpCUlKS28IS2SCQSlWEoVapUEcRegyL1zNChQ5GUlITx48fr3F/fpY6Q3Q8MxbNnz/TKAFwaQgi8vb0RGxuLxo0bs6AZM12ECv9/cTyRk5OD1atXo2HDhggOVpWUV3scHBzKXIq4RaGQnZ2NBQsWVCr3CL6JjY2Fm5sba19sZmZmgiiJKOQZmsZ3mhCyjRDymhASU+zefELIC0JIVNHVq9izGYSQOELIA0JId64UZ4N3797h0aNHOHbsGL744gu+1eGcN2/eYNOmTZgxY4bmxib0RiwW4+zZs2jUqBHrs/SqVauWcO0wNIoEj5ouvtBm5DAAPVTc/4lS6l10HQMAQogngM8BfFjU5xdCiOHKOutJRkYGjh49iqFDh2L48OG86dG/f3/Ox3/58iViYmI0NzShNyKRCB07duREtoWFBTp06MCJbG0x6hkapfQ8AG1z7/QFsJdSmkcpfQIgDkBrDX30ZurUqYzzsSvIysrCrl27EBYWhnnz5hk0R7sCb29vhISEmOIxjRgrKyvG+7JCR8gGjcmhwHhCyFAUFhGeTClNA+AGILJYm8Sie2UghHwF4CsAatPxaOK7775DWFgY6ydnCxcuRK1atTBkyBBYWlqyKlsTzZs3x7Rp08qdtv/999+Vl4O4nQAAGPtJREFUOvZTqNjb22Po0KGcn26bmZlh2LBhvCVFEPKhgL4GbSOARQBo0b+rAIzQRQClNBRAKAC0bNmSf4/BUowePRpOTk6ws7ND8+bN4ejoaLCxPT09sX37drXPQ0JCcPfuXTx+/JizNNoK3N3d0bRpU06y6lY0atasibVr13I+jrm5ObZv386LQeN7BqYJvQwapVQ5JSKEbAbwV9HLFwBqFWvqXnTPKFH4X4WFhSEwMFAQJ0wAsG7dOgDAypUrsXLlSk59u/r16wczMzMEBgZyNoY21KpVC1WqVClzXy6XC6K4sZWVFerVq2eQsSilePDggUHGUoUQ3JHUoZdBI4TUoJQqSs0EAVDsMocD2E0IWQ2gJoAGANQHMBoJw4YNw/bt2zFs2DC+VSnB999/D1tbW4wZM4ZvVTjDwcEBhBDs3LlTZYLIjIwM1KlTh/cA7vbt2+Ovv/7S3JAF8vLyeK2kbtQzNELIHgCdADgRQhIBzAPQiRDijcIl51MAXwMApfQuIWQ/gHsACgB8QymVcaO6CeD/62rycYjBNWKxGI8ePSq3PoKdnR3evHkDKysr5OfnG1C7yotRGzRKqSqvU7VxQ5TSxQCYRVib0JrRo0ejdu3a6NFDlWeNcZOdna2Vg7KZmRmkUiksLCxMRo1jhL6HJtzFsJZERUUJ6o+5SZMmynJxissQmT0qEoQQFBQU6BxtkZOTo/bwxtfXFwUFBSUurhJ4cklycnKJAjN8IGS3DaM3aCKRiPM3MDw8HP/73/+0aiuTyZTxk4rrzJkzZYrEmihLrVq18O7dO7x7906v+qFmZmZlPgtTp07Fu3fvcPz48TJfNG/fvuUkbxxX3LlzBw0aNOB9e4Etg0YI6VEUURRHCJmu4vl3hJB7hJBoQsi/hBCN6V6M3qABwLZt2xjHY6rj1KlT6Nq1K8zNzTW2bd68OZ4+fVrmvlwux+3bt8sUWTHx/3h7e+PixYuwt7eHnZ2d3nJu3ryJx48fK6/p06fD3t5e5azGzs4OUVFRePz4Mdq0acNEfVy4cAHdu3MX6RcREYGePXsiMzOTszG0hY3Qp6IIog0AegLwBBBcFGlUnFsAWlJKmwE4AGCFJrnGN+dWgaurKycuFX///Tc++eQTSCQSrdo/ffpU7R5Ofn4+EhIS2FSvwuDn54eff/5Zbwfr4miTs01Ve21/x+rIzc3F+fPn0adPH1ZPO9evX4+9e/fi7du3ePGCfw8oFpeUrQHEUUrji+TuRWGk0T1FA0pp8fqTkQAGaxJaIQwaAIwYMQLv3r3D3r17WZG3Y8cOdOnShbWsGa6urkr/MRMlcXZ21rraOFfMnj0bMpmMUdWw3NxcnD59WmOigy5dumDECM1+6GvWrMGmTZsQGxurt05coKVBcyKEFE/gFlrkTK/ADcDzYq8TAZQ3TR4JQGNpsApj0Fq1aoUJEyaAUop9+/YxkrVo0SIMHjxYJwfCuXPnlpv33d7eXu+MpSa4p0uXLti5cyfjMoh5eXkai93cv38f8fHxytdisVhZV2HhwoXKYtV//vmn4IwZoLVBe0MpZaV6NCFkMICWADRG/FcYgwYA7dq1g7m5Od6/f69XIVdzc3MMHz5cr1i8pUuX8pbQ0M3NDUFBQTh06JBW7Z89e4ZDhw7plYm2ItOpUyfcuXMHUVFRnI4TFRVVYgyxWIxatQoDbJYsWcKoUI4hYGnJqVVUESGkC4BZADpSSjW+MRXiUKA4LVu2xPLly9G+fXud+kkkEvTu3Ru//vqrTv0opTh16hSvJ09eXl46JW6Mjo4WVKLH5ORkXLt2jW81MGLECAQEBBh83IKCAowaNQqjRo0SvDEDWDvlvAagASGkLiHEAoVpx0oUTiCENAfwK4AASqlWRWsFYdByc3Nx79493Lt3j5VfaJMmTbB//340atRIq/YSiQQdOnTQeoZTHJlMhm7dumk0aHl5ebzG3zHB1tYWHh4enMk/d+4cRo8ejbi4OM7G0IakpCTGWUxEIhGaNGmivITshKoPbCV4pJQWABgP4CSA+wD2F0UaLSSEKL5VfgRgA+CPokSyGivFEIGUxlIqERERAS8vL+UzCwsLvY/xs7Oz4eHhUW71aUtLS3Tp0kWvkylKKZKTk1GjRg2t2js6OiI1VdvUcroRExODpk2bat3e29sbt27d0rp9dHQ0OnXqpLJ+Alu4u7sjKioK1apV42yM8hg6dCh27dqld3+RSIQGDRqU2PeqW7cusrKyABTGnSr2x3jiBtN9rQ8//JBqc/DWrFkzxmPpgyBmaMXx8/ODs7Oz8ho6dCikUqleIS3W1tZITk6GhYVFmdNKkUgECwsLDBw4UO9j9pSUFK2NmbHTrFkzxMTEqHwv2SIxMREeHh58/9HrTaNGjcps4j958gQpKSlISUnBZ599pnz/FJc2/o1CwxQpwIAjR47A0tISH3zwgV79RSIR8vLykJeXVyLIedOmTcjLy8POnTv1khsXF8datlxjoWbNmsjLy+O0indWVhZjnzChsnv3buVnUXElJibyrZbOmAwaCzx//hwikYjRN1pycjJkMhlkMhlGjRqll4zffvsNIpEIDRs21LlvWloaJ3+sJ0+eNKgfFyFE+T7KZDJ89NFHrMqnlEIkEhl0pubv789oudmlSxe9ajVUr14dMpnMaEr+aWPMTAZNSyilKCgogJ2dnV6HB8U3LXV908eNGwc7OzuMHj0alFK9a1WqOzwYOXIk7OzstLoUJ4Jz586FnZ0dAgMDtdZn9OjRyMjIYOxvVfy9vHTpEusJAiilcHJywtu3b1mVqw6mp9SKzXJ9EIlEMDMzQ0ZGBqysrBjpYQiEXPXJKP3QMjMz0ahRI1y/fr3cXFls4O/vjydPnuDNmzfKzV0m5Ofno27dumXup6SkIDs7WysZAQEBkEgkSE1NVRvbFx8fr9Jo29nZwdbWVjelNWBtbY0dO3bg/fv3CA0NxdKlS1mRm5mZqfcXhy74+fkhMjJSc0OOsbW1ZdUYeHl5lfDHVPW50wchn9wapUEDgISEBMhk+ueOXLZsGY4cOaKxXVRUFOt7RqoC2HXh1atXZe7VrVsXu3fvLvHakFSvXh1AYb0DOzs7Xmp/dujQQeXhUY8ePTBv3jyVfbp3747IyEjB+H+dOXMGAQEBjNKqDxw4EJMmTYK1tTUn7jYmgyYQFMstALh27RqePHnCs0bsYW1tjbZt2/KtBmrUqIEhQ4agXr16ePv2LcaNG8f5mHK5HMHBwbhw4YLK5y9fvsS9e/dUPouIiBBUUsjWrVtjy5Yt+Pbbb0uER2nLl19+iYkTJ8Lb25sD7YSf4LHSGLSZM2fit99+4/SErjycnZ3x/fffK19PmzaNNdkNGzbEpEmTWJPHFDc3NwwcOBCZmZka092cPXsWx4+rjjlevHixxmSGubm5mDNnDvbv36+2TUJCglFlOunTpw8WLVqks0EbOnQoxo8fz5kxU2DUBo0Qsg1AHwCvKaVeRff2AVC44TsAeEcp9SaEeKDQ61fhEh9JKeWkgsfo0aNVVgFSxaZNm7B8+XLewpPc3NwwevRoTJ06VXnv6dOn2Lp1KysneXXr1tUqe4OhsbW1LfEzq8Lb21ttyp9p06ZpTPSYl5eHlStX6q2jUOnXrx9SUlJ0WkUEBQWhZUvufVmN2qABCAOwHoDSYYtSOkjxf0LIKgDpxdo/ppRy+hXRvXt3bNiwQaMLh0wmwz///IOxY8dyqU65uLm5YfDgwWX2cH755Rfs3r2bsUFzd3c3yIeYK7p164Zu3brp1TcnJwf//vsvyxrpDhe/g2nTpuHq1ataG7S2bdsazC/SqMvYUUrPF828ykAKTfVAAP7sqvX/2NnZlUj8RwjBiRMntOqbk5ODXr16caWaVnTt2hXLli1T+axJkya4ceMGoz2c3r1744cfftC7vzHz8uVLfPbZZ3yrgW7dumHJkiWsy61Tpw6cnJzKDd1TsGHDBvj4+LCuQ2kq+h6aL4BkSmnxSq91CSG3AGQAmE0pVblTSwj5CsBXqp7Z29vD0tISQOEf7LZt2xiqyQ/W1tblxqFevnwZ9erVq1CHE5UNa2trzgpQr169GnZ2dli9enW5e5FOTk4GLfhSkQ1aMIDi2exeAqhNKX1LCGkB4DAh5ENKaUbpjkXZK0MBQCQS0eLxgXv27EHPnj0ZqlaIpaUlb0fyU6dOxdy5czmTLxaLea1cpO59ZRrRYSyIxWLMmTOH1QOe0syfPx+urq6YMGGCypm8paUlbt++jZo1a3KmQ2kqpEEjhIgB9APQQnGvKAFbXtH/bxBCHgNoCOC6SiFF+Pj44Pr1cpvohY2NDd6/f69XBSFjYPHixRo33bnEwcFB5alxUFAQDh48yINGhuX/2jvbmKiuNI7/nxEEkbclrUJAN8NCtPqFUYt8sC0bVytNKQshq3wAl3SLphpTTfqCiVHXtNE0hrhWtBituGTFunUqVtN161b80BVbqErX0C4IuLyIBLe0AsLgPPthLrMjMNx5uXPvncv5JScw9557zvPMvfOfOfee5zmVlZWy6baVYOPGjUhKSkJ2dvaEfQ8ePPD44ZhSGFLQAPwGQBMzO6NriehpAA+Y+TERJQNIBeD9ZBqBLNXV1Vi7dq18RQXp6upCYmKibD2r1Yrly5ejrq5OBavUp7m5GcnJyap+sF9++WXY7Xbcu3fP+WtsdHRUky9rPQua7OMKIjoF4J8AFhBRBxG9Ku1ahyeHmwDwPIBbRHQDjmWnNjJzYBKATXPUvqhu3LiBlJQUj+urEbJkNptVXwmps7NTdTEbg4gQHx+Phw8f4uHDh5qJWVDHcjLzpAteMvPvJ9n2CYBP/DdLOUwmE9rb25GSkqKrGeH+YLVafZ7q4Ct2ux1DQ0Me17958yYyMjICGiNJRKqsIh4SEoKWlhYAjkgILX+hqOWznA16ZVpECsyfP1+Tk1BRUQEiwo4dOxRtNz4+XvX7Jt4yMjKCrq4urc3wm+joaHzxxReKrBlqFPQsaPqdIacw1dXVimeZkKOzs3PK8JWioiLcv+/R2g9OysvLfcrF5i/JycmoqKiQr2ggEhISUFVVhWeffVZrU3SFyIemA3Jzc7F3717dZJl96623cPr0aY9TBo2RlZWFuLi4AFnlntjYWM0nKatJSkoK3n333UmfLE5n9J7gcVoMOcd4/fXX8cEHH/iVmkUp9u/fr+nSd74QGRmJDRs2eL3Unx5ISEhAXl7epPuqqqrQ39//xLZ58+ahuLhYDdOCjqAOfTIamZmZ6O3t9SicJBAwMy5cuKDKU0CliYmJwYEDB9DR0YELFy5obY5HpKamYsGCBVi8eLHbEDSbzYYzZ848saJVX18frly5gszMTJUsDR7EPTQdUV5ejvz8fFWGbfHx8RNuJo+OjiI7OzsoBQ1wzEz/7LPPZFPUhIeHY9GiRSpZNZHk5GSkpaVh69atOH/+vFsxA4APP/xwwpoMt27dQnFxsU/rBBgdMeTUGYcPH0ZkZCSOHDmiSFrtyYiJicGbb76Jbdu2BaR9rfn2229hNpvR3t4+QZzDwsKQmZnpNs+ZEthsNvT19U2IcZwzZw5MJhMqKyuxYsUKv/poa2vDc889h6amJt3ce9UarQVLjmkpaADw/vvvIy4uDtu3b1e87ZkzZ6K8vFyVsBgtaW1thdlsnpASPCcnB54sRustNpvNmXb9q6++wsqVKyfUuX37tqILFf/4449ISkrCzz//bNjl9bxFCNo049KlS3jhhRe0NkMV1MwUsmnTJhw9ejQgbU/1IR0dHcWsWbNgs9k0TQagF/QsaNPuHlog6evrg91uD6iYmc1mRWbf37x50zl8MJlMur2nN2fOHKedgRIzwLE4SWFh4ZR1QkNDJ9wrCkQeND2j99AnIWh+EBMTg4GBAWeJi4vT9bfX9u3bERERgYiIiCcWVGFmzJ49GxEREZrM7j979qzTrvGlt7fXq7aSkpLwww8/eG2Dr+dt165dTlvVSLCoB8RDAQORm5uLgwcPAnDMx1E7BOnatWuwWCxeH1dSUoJTp065jccc27506VLMmDEDx44dw4svvuiXrVNRWFiIL7/8EgAwMDDgVZzoVDx69EjVX5s2m80ZI9zY2IikpCSEhoYqMhQvKSnBxYsXAThWZj9x4oTfbSqBnr+0nauAa1lmzZrFjx49YrV57733GIBHZefOnVxfX8+tra1+9TkyMuJxn+PL1atXeXh42Kd+8/LyvOrLarX65ac7Vq1axRaLhaOjo31+H+TKM888w9evX/fatra2Nn7ttdcUscFisfDjx499fp+Kioo4NjbW2V5MTAwXFBT43B4zM4Bv2M/PqsVi4YGBAdmiRF++FM3FzPE+gwcHB305Rz5z6NAhXrhwoUcX5549e/ju3buK9OuroFmtVrbZbD73662gpaenc01NjSI+j5Gfn89hYWEBEzLXcvnyZZ9sbGpq4k8//ZT37Nnjtw2vvPKKz9d1enr6hPaio6N5/fr1HrfR0tLCOTk5zqKUoA0ODsqWaS9omzdv5v7+fo9Plr94+k1cWlqqmJgNDAzwli1bvPpQmEwmLisrY7vd7lff3goaAC4rK1PE7zHUEjMAnJeXx3V1dT7bevfuXS4tLfXbjp9++snrvnfv3s1z586dtL34+HjZ42tra/mNN97ggoKC8cf7LTJLlizhoaEh2TLtBQ0Ad3V1yZ4sJbBarZyRkSF7MZaUlHBPT49i/fb19Xn1YQgPD+etW7cq0vfx48c5LS3Nq/5zc3O5trZWkf4PHDjAISEhqgkaAP7oo4/8srmpqclvG/bt2+e1qM2fP99te1FRUXzw4EG3x9bW1nJubq674xURtOHhYdkiBE1FQVu1apXshZidne3Tt+tUeCNokZGRXFhYqGj/27Zt8/oDuWXLFr/7tdvtqgqZUoLW0dHBWVlZftvh7X3XqQQNAIeGhvK5c+cmHFdXV8fZ2dlTHauIoI2MjMgWrQRNTNuYBIvFgrNnz6qeP22MqKgorFmzBidPnpSvrHPsdjvq6+s16butrQ3d3d0+H5+YmIiqqioFLVIGm82GnJwc1NfXw263o7GxEQ0NDXj77bdx/vz5gPev52kbQtDGYTKZ0NDQoOmM8IyMDJw5c0bxdmNjYwO2hqQ7hoaGNEuQuHv3bhw5ckSTvl3p6enByMiIR3W7u7s9ThW/bNky3LlzB6tXr8bSpUtx5coVP6z0DCXzoRHRGiL6noiaieidSfaHEdFpaX+duwXPXRGCpjNCQkKciywrzY4dO6btKutakpGRgYaGBo/qpqamevWrMjU1dUIsbaBRQtCIaAaAQwCyACwCUEBE49OzvArgv8ycAqAMwD65doWg6YyioiJVhg0Cga8oFPqUDqCZme8w8wiAagA54+rkAKiU/v8rgJUko5bEjpvymkJEvQAGAGiTdTGwPAVj+gUY1zej+vVLZn7anwaI6HM43h85wgG4rkJdwczORSmIKB/AGmb+g/S6EMByZt7sUuc7qU6H9LpFquP23Ogi9ImZnyaib5h5mda2KI1R/QKM65tR/VICZl6jtQ1TIYacAoFACzoBzHN5nSRtm7QOEYUAiAHQN1WjQtAEAoEWfA0glYjMRDQTwDoANePq1ABYL/2fD+AfLHOPTBdDTgmjLvpoVL8A4/pmVL90AzOPEtFmAH8DMAPAcWb+FxH9EY5JuTUAjgH4MxE1A3gAh+hNiS4eCggEAoESiCGnQCAwDELQBAKBYdBc0OTCH4INImojokYiukFE30jb4ojo70T0b+nvL7S2Uw4iOk5E96W5QGPbJvWDHPxJOoe3iEjXuajd+LaLiDql83aDiF5y2Vcq+fY9EQUuja/AbzQVNA/DH4KRXzNzmstcpncAXGbmVACXpdd65wSA8XOO3PmRBSBVKiUADqtko6+cwETfAKBMOm9pzHwRAKTrcR2AxdIx5dJ1K9AhWv9C8yT8wQi4hnBUAvithrZ4BDNfhePJkivu/MgBcFLKYnMNQCwRJahjqfe48c0dOQCqmXmYmVsBNMNx3Qp0iNaClgjgPy6vO6RtwQwDuERE9URUIm2by8xjEcf3AATrMtzu/DDKedwsDZmPu9wWMIpv0wKtBc2IrGDmJXAMwzYR0fOuO6WJgUE/V8YofrhwGMCvAKQB6AawX1tzBL6gtaB5Ev4QVDBzp/T3PgArHMOTnrEhmPT3vnYW+oU7P4L+PDJzDzM/ZmY7gKP4/7Ay6H2bTmgtaJ6EPwQNRDSbiKLG/gewGsB3eDKEYz2Ac9pY6Dfu/KgBUCQ97cwA0O8yNA0Kxt3zy4XjvAEO39ZJyQbNcDz4uK62fQLP0DT0yV34g5Y2+clcAFYpZVMIgL8w8+dE9DWAj4noVQDtAH6noY0eQUSnAGQCeIqIOgDsBLAXk/txEcBLcNwwHwRQrLrBXuDGt0wiSoNjGN0GYAMASOE4HwO4DWAUwCZmfqyF3QJ5ROiTQCAwDFoPOQUCgUAxhKAJBALDIARNIBAYBiFoAoHAMAhBEwgEhkEImkAgMAxC0AQCgWH4H4GtoyJHUOEvAAAAAElFTkSuQmCC\n"
                },
                "metadata": {
                  "needs_background": "light"
                }
              }
            ]
          }
        },
        "524d30035d2d4bf5962b607d4324da9a": {
          "model_module": "@jupyter-widgets/base",
          "model_name": "LayoutModel",
          "model_module_version": "1.2.0",
          "state": {
            "_model_module": "@jupyter-widgets/base",
            "_model_module_version": "1.2.0",
            "_model_name": "LayoutModel",
            "_view_count": null,
            "_view_module": "@jupyter-widgets/base",
            "_view_module_version": "1.2.0",
            "_view_name": "LayoutView",
            "align_content": null,
            "align_items": null,
            "align_self": null,
            "border": null,
            "bottom": null,
            "display": null,
            "flex": null,
            "flex_flow": null,
            "grid_area": null,
            "grid_auto_columns": null,
            "grid_auto_flow": null,
            "grid_auto_rows": null,
            "grid_column": null,
            "grid_gap": null,
            "grid_row": null,
            "grid_template_areas": null,
            "grid_template_columns": null,
            "grid_template_rows": null,
            "height": null,
            "justify_content": null,
            "justify_items": null,
            "left": null,
            "margin": null,
            "max_height": null,
            "max_width": null,
            "min_height": null,
            "min_width": null,
            "object_fit": null,
            "object_position": null,
            "order": null,
            "overflow": null,
            "overflow_x": null,
            "overflow_y": null,
            "padding": null,
            "right": null,
            "top": null,
            "visibility": null,
            "width": null
          }
        },
        "8869f4ca11a84a0188bcf06fbcea4bbb": {
          "model_module": "@jupyter-widgets/base",
          "model_name": "LayoutModel",
          "model_module_version": "1.2.0",
          "state": {
            "_model_module": "@jupyter-widgets/base",
            "_model_module_version": "1.2.0",
            "_model_name": "LayoutModel",
            "_view_count": null,
            "_view_module": "@jupyter-widgets/base",
            "_view_module_version": "1.2.0",
            "_view_name": "LayoutView",
            "align_content": null,
            "align_items": null,
            "align_self": null,
            "border": null,
            "bottom": null,
            "display": null,
            "flex": null,
            "flex_flow": null,
            "grid_area": null,
            "grid_auto_columns": null,
            "grid_auto_flow": null,
            "grid_auto_rows": null,
            "grid_column": null,
            "grid_gap": null,
            "grid_row": null,
            "grid_template_areas": null,
            "grid_template_columns": null,
            "grid_template_rows": null,
            "height": null,
            "justify_content": null,
            "justify_items": null,
            "left": null,
            "margin": null,
            "max_height": null,
            "max_width": null,
            "min_height": null,
            "min_width": null,
            "object_fit": null,
            "object_position": null,
            "order": null,
            "overflow": null,
            "overflow_x": null,
            "overflow_y": null,
            "padding": null,
            "right": null,
            "top": null,
            "visibility": null,
            "width": null
          }
        },
        "ce7168ffc70b4310afd80ee1565c711e": {
          "model_module": "@jupyter-widgets/controls",
          "model_name": "SliderStyleModel",
          "model_module_version": "1.5.0",
          "state": {
            "_model_module": "@jupyter-widgets/controls",
            "_model_module_version": "1.5.0",
            "_model_name": "SliderStyleModel",
            "_view_count": null,
            "_view_module": "@jupyter-widgets/base",
            "_view_module_version": "1.2.0",
            "_view_name": "StyleView",
            "description_width": "",
            "handle_color": null
          }
        },
        "c952696bb3e54e528dd5e652ca8e39ad": {
          "model_module": "@jupyter-widgets/base",
          "model_name": "LayoutModel",
          "model_module_version": "1.2.0",
          "state": {
            "_model_module": "@jupyter-widgets/base",
            "_model_module_version": "1.2.0",
            "_model_name": "LayoutModel",
            "_view_count": null,
            "_view_module": "@jupyter-widgets/base",
            "_view_module_version": "1.2.0",
            "_view_name": "LayoutView",
            "align_content": null,
            "align_items": null,
            "align_self": null,
            "border": null,
            "bottom": null,
            "display": null,
            "flex": null,
            "flex_flow": null,
            "grid_area": null,
            "grid_auto_columns": null,
            "grid_auto_flow": null,
            "grid_auto_rows": null,
            "grid_column": null,
            "grid_gap": null,
            "grid_row": null,
            "grid_template_areas": null,
            "grid_template_columns": null,
            "grid_template_rows": null,
            "height": null,
            "justify_content": null,
            "justify_items": null,
            "left": null,
            "margin": null,
            "max_height": null,
            "max_width": null,
            "min_height": null,
            "min_width": null,
            "object_fit": null,
            "object_position": null,
            "order": null,
            "overflow": null,
            "overflow_x": null,
            "overflow_y": null,
            "padding": null,
            "right": null,
            "top": null,
            "visibility": null,
            "width": null
          }
        },
        "8f93f2c95b9d49b08859b5d735849aba": {
          "model_module": "@jupyter-widgets/controls",
          "model_name": "ButtonStyleModel",
          "model_module_version": "1.5.0",
          "state": {
            "_model_module": "@jupyter-widgets/controls",
            "_model_module_version": "1.5.0",
            "_model_name": "ButtonStyleModel",
            "_view_count": null,
            "_view_module": "@jupyter-widgets/base",
            "_view_module_version": "1.2.0",
            "_view_name": "StyleView",
            "button_color": null,
            "font_weight": ""
          }
        },
        "5b0d74c1dd774d9f97c1968ba278aaa5": {
          "model_module": "@jupyter-widgets/base",
          "model_name": "LayoutModel",
          "model_module_version": "1.2.0",
          "state": {
            "_model_module": "@jupyter-widgets/base",
            "_model_module_version": "1.2.0",
            "_model_name": "LayoutModel",
            "_view_count": null,
            "_view_module": "@jupyter-widgets/base",
            "_view_module_version": "1.2.0",
            "_view_name": "LayoutView",
            "align_content": null,
            "align_items": null,
            "align_self": null,
            "border": null,
            "bottom": null,
            "display": null,
            "flex": null,
            "flex_flow": null,
            "grid_area": null,
            "grid_auto_columns": null,
            "grid_auto_flow": null,
            "grid_auto_rows": null,
            "grid_column": null,
            "grid_gap": null,
            "grid_row": null,
            "grid_template_areas": null,
            "grid_template_columns": null,
            "grid_template_rows": null,
            "height": null,
            "justify_content": null,
            "justify_items": null,
            "left": null,
            "margin": null,
            "max_height": null,
            "max_width": null,
            "min_height": null,
            "min_width": null,
            "object_fit": null,
            "object_position": null,
            "order": null,
            "overflow": null,
            "overflow_x": null,
            "overflow_y": null,
            "padding": null,
            "right": null,
            "top": null,
            "visibility": null,
            "width": null
          }
        }
      }
    },
    "accelerator": "GPU",
    "gpuClass": "standard"
  },
  "cells": [
    {
      "cell_type": "markdown",
      "metadata": {
        "id": "view-in-github",
        "colab_type": "text"
      },
      "source": [
        "<a href=\"https://colab.research.google.com/github/BC-Chang/LBM_Workshop/blob/master/D2Q9_LBM_main.ipynb\" target=\"_parent\"><img src=\"https://colab.research.google.com/assets/colab-badge.svg\" alt=\"Open In Colab\"/></a>"
      ]
    },
    {
      "cell_type": "markdown",
      "source": [
        "# Digital Porous Media Industrial Affiliates Program (DPM-IAP) Workshop\n",
        "### Dr. Masa Prodanovic and Bernard Chang\n",
        "\n",
        "\n",
        "In this first hands-on activity, we will demonstrate the general algorithm used to perform single phase lattice Boltzmann simulations. The ultimate goal of this exercise is to calculate the velocity field through a given medium. From there, we will demonstrate some visualizations of the velocity field and obtain a value for the permeability through this domain. This example is performed on a 2-dimensional lattice with 9 discrete velocities (D2Q9).\n",
        "\n",
        "Before we get started, let's import some packages\n"
      ],
      "metadata": {
        "id": "N-k4vBB36_sw",
        "pycharm": {
          "name": "#%% md\n"
        }
      }
    },
    {
      "cell_type": "code",
      "execution_count": 1,
      "metadata": {
        "id": "t7Wpd3A46qjp",
        "pycharm": {
          "name": "#%%\n"
        }
      },
      "outputs": [],
      "source": [
        "#@title Import Packages\n",
        "%%capture\n",
        "import numpy as np\n",
        "import matplotlib.pyplot as plt\n",
        "import scipy as sc\n",
        "import tifffile\n",
        "\n",
        "# Porespy for generating domains\n",
        "try:\n",
        "  import porespy as ps\n",
        "except:\n",
        "  !pip install -q porespy==1.0.0\n",
        "  import porespy as ps\n",
        "\n",
        "from skimage.measure import regionprops,label\n",
        "\n",
        "import sys\n",
        "import os\n",
        "from tqdm import tqdm\n",
        "\n",
        "try:\n",
        "  os.chdir(\"./LBM_Workshop\")\n",
        "  # sys.path.append(\"./LBM_Workshop/\")\n",
        "except:\n",
        "  !git clone https://github.com/BC-Chang/LBM_Workshop.git\n",
        "  os.chdir(\"./LBM_Workshop\")\n",
        "\n",
        "from plotting_utils import plot_profile, plot_quiver, plot_streamlines\n",
        "\n",
        "# Import a timer\n",
        "from time import perf_counter_ns, sleep\n",
        "\n",
        "# Import ipywidgets\n",
        "import ipywidgets as widgets\n",
        "from ipywidgets import interact, interact_manual, interactive\n",
        "from IPython.display import display, clear_output\n",
        "\n",
        "import torch\n"
      ]
    },
    {
      "cell_type": "markdown",
      "source": [
        "## A Step-by-Step Introduction to the Lattice Boltzmann Method\n",
        "\n",
        "### Background\n",
        "The fundamental variable in **kinetic theory**, on which LBM is based, is the particle distribution function $f(x, \\xi, t)$. It simultaneously represents mass density in physical space and in velocity space. In other words, $f$ represents the density of particles with particle velocity, $\\xi$, at position $x$ and time $t$\n",
        "\n",
        "The distribution function, $f$, is also related to macroscopic variables such as density, $\\rho$ and fluid velocity, $u$ through its **moments**. These moments are integrals of $f$, weighted with some function of $\\xi$. For example, the macroscopic mass density can be found as:\n",
        "$$\\rho(x, t) = \\int f(x,\\xi,t)d^3\\xi.$$\n",
        "\n",
        "Similarly, the momentum density is,\n",
        "$$\\rho(x, t)u(x,t) = \\int \\xi f(x, \\xi, t)d^3\\xi.$$\n",
        "\n",
        "\n",
        "In LBM, we deal with the *discrete-velocity distribution function, $f_i(x, t)$*. The mass density, $\\rho$, and the momentum density, $u$, are found through the weighted sums (moments) of $f_i$:\n",
        "$$\\rho = \\sum f_i(x, t),$$\n",
        "and\n",
        "$$\\rho u(x,t) = \\sum c_i f_i(x, t),$$\n",
        "\n",
        "where $c_i$ is a discrete set of velocities discussed below."
      ],
      "metadata": {
        "id": "AhhZnkWEmaef"
      }
    },
    {
      "cell_type": "markdown",
      "source": [
        "### Defining our Lattice\n",
        "\n",
        "For this exercise, we will use a 2-dimensional lattice with 9 discrete velocities (D2Q9). This means, that in every grid space, there are 9 possible connections — North, South, East, West, 4 diagonal connections and 1 connection from the node itself, representing zero velocity.\n",
        "\n",
        "Each lattice direction also has a weight, $w_i$ associated with it. For D2Q9 LBM, these will be:\n",
        "\n",
        "<img src='https://media.springernature.com/full/springer-static/image/art%3A10.1007%2Fs11831-019-09347-7/MediaObjects/11831_2019_9347_Fig2_HTML.png?as=webp' height=\"300\">\n",
        "\n",
        "\n",
        "In the following cell, we will initialize these velocity directions and their weights.\n"
      ],
      "metadata": {
        "id": "Jmz6WdbHvCxN"
      }
    },
    {
      "cell_type": "code",
      "source": [
        "def initialize_weights():\n",
        "\n",
        "  # Define lattice velocity vectors\n",
        "  ex = np.array([0, 1, 0, -1, 0, 1, -1, -1, 1], dtype=np.double)\n",
        "  ey = np.array([0, 0, 1, 0, -1, 1, 1, -1, -1], dtype=np.double)\n",
        "  # c = np.array([[0, 0], [1, 0], [0, 1], [-1, 0], [0, -1], [1, 1], [-1, 1], [-1, -1], [1, -1]])\n",
        "\n",
        "\n",
        "  # Define weights\n",
        "  w_i = np.array([4./9.,\n",
        "                  1./9.,\n",
        "                  1./9.,\n",
        "                  1./9.,\n",
        "                  1./9.,\n",
        "                  1./36.,\n",
        "                  1./36.,\n",
        "                  1./36.,\n",
        "                  1./36.], dtype=np.double)\n",
        "  \n",
        "  return ex, ey, w_i"
      ],
      "metadata": {
        "id": "Kkk4fy-dAVR4"
      },
      "execution_count": 2,
      "outputs": []
    },
    {
      "cell_type": "markdown",
      "source": [
        "<!-- The fundamental variable in **kinetic theory**, on which LBM is based, is the particle distribution function $f(x, \\xi, t)$. It simultaneously represents mass density in physical space and in velocity space. In other words, $f$ represents the density of particles with particle velocity, $\\xi$, at position $x$ and time $t$\n",
        "\n",
        "The distribution function, $f$, is also related to macroscopic variables such as density, $\\rho$ and fluid velocity, $u$ through its **moments**. These moments are integrals of $f$, weighted with some function of $\\xi$. For example, the macroscopic mass density can be found as:\n",
        "$$\\rho(x, t) = \\int f(x,\\xi,t)d^3\\xi.$$\n",
        "\n",
        "Similarly, the momentum density is,\n",
        "$$\\rho(x, t)u(x,t) = \\int \\xi f(x, \\xi, t)d^3\\xi.$$ -->\n",
        "\n",
        "### Obtaining Macroscopic Properties\n",
        "\n",
        "Recall  that macroscopic properties, such as mass and momentum density can be can be obtained from the weighted sum (moments) of the *discrete-velocity distribution function, $f_i(x, t)$*\n",
        "<!-- In LBM, we deal with the *discrete-velocity distribution function, $f_i(x, t)$*. The mass density, $\\rho$, and the momentum density, $u$, are found through the weighted sums (moments) of $f_i$: -->\n",
        "$$\\rho = \\sum f_i(x, t),$$\n",
        "and\n",
        "$$\\rho u(x,t) = \\sum c_i f_i(x, t),$$\n",
        "\n",
        "where $c_i$ is a discrete set of particle velocities. \n"
      ],
      "metadata": {
        "id": "yLwoKN28CEPv"
      }
    },
    {
      "cell_type": "code",
      "source": [
        "def macroscopic(f, fx, fy, ex, ey, nx, ny):\n",
        "  \"\"\"\n",
        "  :f: Discrete particle distribution function\n",
        "  :fx: Row indices of fluid nodes\n",
        "  :fy: Column indices of fluid nodes\n",
        "  :c: Velocity vectors\n",
        "  :nx: Domain size in x\n",
        "  :ny: Domain size in y\n",
        "  :returns: density, velocity components in x and y\n",
        "  \"\"\"\n",
        "  device = torch.device('cuda' if torch.cuda.is_available() else 'cpu')\n",
        "  # Initialize outputs to 0s\n",
        "  u_x = torch.zeros((nx, ny), dtype=torch.float64).to(device)\n",
        "  u_y = torch.zeros((nx, ny), dtype=torch.float64).to(device)\n",
        "  rho = torch.zeros((nx, ny), dtype=torch.float64).to(device)\n",
        "\n",
        "  # Calculate macroscopic properties from moments. Only calculate where there are fluid nodes\n",
        "  # Density\n",
        "  rho[fx, fy] += torch.sum(f[:, fx, fy], axis=0)\n",
        "\n",
        "  # Velocity\n",
        "  u_x[fx, fy] += torch.sum(ex[:, None] * f[:, fx, fy], axis=0)\n",
        "  u_y[fx, fy] += torch.sum(ey[:, None] * f[:, fx, fy], axis=0)\n",
        "  u_x[fx, fy] = u_x[fx, fy] / rho[fx, fy]\n",
        "  u_y[fx, fy] = u_y[fx, fy] / rho[fx, fy]\n",
        "\n",
        "  return rho, u_x, u_y\n"
      ],
      "metadata": {
        "id": "Ga7pdr-oehnh"
      },
      "execution_count": 3,
      "outputs": []
    },
    {
      "cell_type": "markdown",
      "source": [
        "### Equilibrium Calculation\n",
        "\n",
        "Recall the *lattice Boltzmann equation* from the discretization of the Boltzmann equation:\n",
        "$$f_i(x + c_i\\Delta t, t + \\Delta t) = f_i(x, t) + \\Omega_i(x, t)$$\n",
        "\n",
        "This shows that the particles $f_i(x,t)$ move with velocity $c_i$ to a neighboring node. At the same time, the movement of particles is affected by the collision operator, $\\Omega_i$.\n",
        "\n",
        "After particles collide, we may assume that $f_i$ will reach an equilibrium distribution, $f^{eq}$. This equilibrium is given by:\n",
        "\n",
        "$$ f_i^{eq}(x, t) = w_i \\rho \\left(1 + \\frac{u \\cdot c_i}{c_s^2} + \\frac{(u \\cdot c_i)^2}{2c_s^4} - \\frac{u \\cdot u}{2c_s^2} \\right).$$\n",
        "\n",
        "In the isothermal lattice Boltzmann equation, $c_s$ determines the relationship between pressure and density as $p = c_s^2 \\rho$. It can be shown that $c_s$ represents the model's *speed of sound*. In all velocity sets that we will deal with today, $$c_s^2 = (1/3)\\Delta x^2 / \\Delta t^2.$$\n",
        "\n",
        "We typically operate in lattice units, where $\\Delta x = \\Delta t = 1$. Therefore, the equilibrium distribution function can be simplified to\n",
        "\n",
        "$$ f_i^{eq}(x, t) = w_i \\rho \\left(1 + 3(u \\cdot c_i) + \\frac{9}{2}(u \\cdot c_i)^2 - \\frac{3}{2} (u \\cdot u) \\right).$$\n",
        "\n"
      ],
      "metadata": {
        "id": "rC4_zbUP4ibV"
      }
    },
    {
      "cell_type": "code",
      "source": [
        "def equilibrium(rho, ux, uy, ex, ey, w_i, nx, ny, fx, fy, tau, g):\n",
        "  device = torch.device('cuda' if torch.cuda.is_available() else 'cpu')\n",
        "\n",
        "  # Extract only fluid nodes and add forcing to velocity\n",
        "  ux = ux[fx, fy] + tau*g\n",
        "  uy = uy[fx, fy]\n",
        "\n",
        "  feq = torch.zeros((9, nx, ny), dtype=torch.float64).to(device)\n",
        "\n",
        "  for i in range(9):\n",
        "    # Compute 2nd term in parenthesis of feq equation above\n",
        "    uc = ex[i]*ux + ey[i]*uy\n",
        "    feq[i, fx, fy] = rho[fx, fy] * w_i[i] * (1 + 3*uc + (9./2.)*uc**2 - (3./2.)*(ux**2 + uy**2))\n",
        "\n",
        "  return feq"
      ],
      "metadata": {
        "id": "G2wlwj-ffyKS"
      },
      "execution_count": 4,
      "outputs": []
    },
    {
      "cell_type": "markdown",
      "source": [
        "### Collision Step\n",
        "\n",
        "Lattice Boltzmann Simulations can be boiled down to two main steps: **collision** and **streaming**. \n",
        "\n",
        "The simplest collision operator, and the one we will use for this exercise, is the Bhatnagar-Gross-Krook (BGK) operator:\n",
        "\n",
        "$$\\Omega_i(f) = -\\frac{f_i - f_i^{eq}}{\\tau} \\Delta t.$$\n",
        "\n",
        "This operator relaxes toward equilibrium at a rate determined by the relaxation time $\\tau$.\n",
        "\n",
        "#### Bounceback Boundary Condition\n",
        "\n",
        "In this exercise, we assume no slip boundary conditions at solid node boundaries. We implement this using the bounceback method. \n",
        "\n",
        "<img src='https://lh5.googleusercontent.com/zGWX3SZ4XPnPo1Y3ujyolWPc-e0UEWAP793DhU3wkjLYQzHTUQooNpzTBRpzz-e1rRhs_BSGl32tOqMYGYjAgXkJorzjR1Nc0iRbKRnbrfYH-cn5_t2tbQdqGOPfdbK9V0VSl_63SGjKlmyI0_kULidN3xAOG1FyyUsM=w1280'>"
      ],
      "metadata": {
        "id": "dypCm0NNumzO"
      }
    },
    {
      "cell_type": "code",
      "source": [
        "def collision(f, feq, tau, sx, sy, fx, fy):     \n",
        "    # Standard Bounceback for Solid Nodes\n",
        "    # Left-Right\n",
        "    f[1, sx, sy], f[3, sx, sy] = f[3, sx, sy], f[1, sx, sy]\n",
        "\n",
        "    # Up-Down\n",
        "    f[2, sx, sy], f[4, sx, sy] = f[4, sx, sy], f[2, sx, sy]\n",
        "\n",
        "    # Top Right - Bottom Left\n",
        "    f[5, sx, sy], f[7, sx, sy] = f[7, sx, sy], f[5, sx, sy]\n",
        "\n",
        "    # Top Left - Bottom Right\n",
        "    f[6, sx, sy], f[8, sx, sy]  = f[8, sx, sy], f[6, sx, sy]\n",
        "\n",
        "    # Regular collision in fluid nodes\n",
        "    f[:, fx, fy] -= (f[:, fx, fy] - feq[:, fx, fy]) / tau\n",
        "\n",
        "    return f"
      ],
      "metadata": {
        "id": "ejZYOzB11hGS"
      },
      "execution_count": 5,
      "outputs": []
    },
    {
      "cell_type": "markdown",
      "source": [
        "### Streaming Step\n",
        "\n",
        "The other main step in simulations is the streaming step. This simply means that particles will move to a neighboring node with velocity $c_i$.\n",
        "\n",
        "In practice, we just need to ensure that we implement the streaming step in such a way that we do not overwrite data that we will need later. In Python, we can use the function ```numpy.roll()```. \n",
        "\n",
        "In the following cell, we visualize how the ```numpy.roll()``` function operates:"
      ],
      "metadata": {
        "id": "QlSB01xhum7a"
      }
    },
    {
      "cell_type": "code",
      "source": [
        "def roll_visualization(roll_x_dir, roll_y_dir):\n",
        "\n",
        "  field_x = np.ones((100, 100))\n",
        "  linear = np.linspace(0, 99, 100)\n",
        "  field_x *= linear\n",
        "\n",
        "  field_y = field_x.copy().T\n",
        "\n",
        "  field = field_x + field_y\n",
        "  plt.imshow(field)\n",
        "  plt.gca().invert_yaxis()\n",
        "  plt.show()\n",
        "\n",
        "  for i in range(201):\n",
        "    field = np.roll(field, (roll_x_dir, roll_y_dir), axis=(1, 0))\n",
        "    if i % 5 == 0:\n",
        "      sleep(0.005)\n",
        "      clear_output(wait=True)\n",
        "      plt.imshow(field)\n",
        "      plt.gca().invert_yaxis()\n",
        "      plt.show()\n",
        "       \n",
        "  # display(roll_x, roll_y)\n",
        "\n",
        "roll_x = widgets.IntSlider(value=0, min=-1, max=1, description='x_direction', continuous_update=False)\n",
        "roll_y = widgets.IntSlider(value=0, min=-1, max=1, description='y_direction', continuous_update=False)\n",
        "\n",
        "interactive_plot = widgets.interactive(roll_visualization, {'manual': True},\n",
        "                                       roll_x_dir=widgets.IntSlider(min=-1, max=1), \n",
        "                                       roll_y_dir=widgets.IntSlider(min=-1, max=1))\n",
        "output = interactive_plot.children[-1]\n",
        "output.layout.height = '350px'\n",
        "interactive_plot"
      ],
      "metadata": {
        "id": "tuR-uCq64d3I",
        "outputId": "d2bfe59a-d426-4b73-cd7c-dd09ef2a3fdb",
        "colab": {
          "base_uri": "https://localhost:8080/",
          "height": 463,
          "referenced_widgets": [
            "f5c76cab63544e50ba37143adfe830a7",
            "3750c589b7d342308363ee95291c95f3",
            "2b69306df41f4a608fdb97e7a631bb31",
            "a7afa41b0bea4393806c395797ea3cdb",
            "1bd3a579104a41ce8d4df62302570a1e",
            "c64f327c527443529ac3eadafb5e3698",
            "8275785302f44f5197e996d09af6c998",
            "81fe9423ad44484b9e52f455eec22516",
            "8470c521be52435abfb5d6d576fe8f1b",
            "2ae7e46e3a8c4133b3bda6f8ebec2911",
            "eee187888252456fa57b7b03fffc0112",
            "773378c098064c15824da60fdd663f0a",
            "bb1db79f05a545829b49aa5372c98636"
          ]
        }
      },
      "execution_count": 6,
      "outputs": [
        {
          "output_type": "display_data",
          "data": {
            "text/plain": [
              "interactive(children=(IntSlider(value=0, description='roll_x_dir', max=1, min=-1), IntSlider(value=0, descript…"
            ],
            "application/vnd.jupyter.widget-view+json": {
              "version_major": 2,
              "version_minor": 0,
              "model_id": "f5c76cab63544e50ba37143adfe830a7"
            }
          },
          "metadata": {}
        }
      ]
    },
    {
      "cell_type": "markdown",
      "source": [
        "### Putting it all together\n",
        "\n",
        "Putting the above steps into a time loop will give us our first simulator! \n",
        "\n",
        "Our first example will be simulating the flow around a cylinder, known as the Karman vortex street — considered a \"Hello, World!\" of LBM simulations.\n",
        "\n",
        "The general steps are as follows:\n",
        "1. Initialize simulation parameters, including:\n",
        "  - Relaxation Time\n",
        "  - Force\n",
        "  - Average density\n",
        "  - Convergence metrics\n",
        "\n",
        "2. Initialize velocity vectors and weights\n",
        "3. Process domain to separate fluid and solid nodes\n",
        "4. Perform time loop\n",
        "\n",
        "The following is performed inside the time loop:\n",
        "\n",
        "1. Compute macroscopic parameters $\\rho$ and $u$\n",
        "2. Add forcing to the velocities. This is one example for how we can drive flow\n",
        "3. Calculate $f^{eq}$\n",
        "4. Collision\n",
        "  - Bounceback for solid nodes\n",
        "  - BGK Collision for fluid nodes\n",
        "5. Streaming"
      ],
      "metadata": {
        "id": "x0rO3TeyzzJd"
      }
    },
    {
      "cell_type": "code",
      "execution_count": 7,
      "outputs": [],
      "source": [
        "def run_lbm(data):\n",
        "\n",
        "    # Initialization\n",
        "    tau = 1.0  # Relaxation time\n",
        "    g = 0.00001  # Gravity or other force\n",
        "    density = 1.\n",
        "    tf = 10001  # Maximum number of iteration steps\n",
        "    precision = 1.E-5  # Convergence criterion\n",
        "    vold = 1000\n",
        "    eps = 1E-6\n",
        "\n",
        "    device = torch.device('cuda' if torch.cuda.is_available() else 'cpu')\n",
        "    data = torch.tensor(data).to(device)\n",
        "    check_convergence = 30  # Check convergence every [check_convergence] time steps\n",
        "\n",
        "    # Define lattice velocity vectors\n",
        "    ex, ey, w_i = initialize_weights()\n",
        "    ex = torch.tensor(ex).to(device)\n",
        "    ey = torch.tensor(ey).to(device)\n",
        "    w_i = torch.tensor(w_i).to(device)\n",
        "\n",
        "    # Indices of fluid nodes\n",
        "    fluid_id = torch.argwhere(data == 0).to(device)\n",
        "    fx = fluid_id[:, 0]\n",
        "    fy = fluid_id[:, 1]\n",
        "\n",
        "    # Indices of solid nodes\n",
        "    solid_id = torch.argwhere(data == 1).to(device)\n",
        "    sx = solid_id[:, 0]\n",
        "    sy = solid_id[:, 1]\n",
        "\n",
        "    # Solid nodes are labeled 1, fluid nodes are labeled 0\n",
        "    is_solid_node = data\n",
        "\n",
        "    nx, ny = data.shape\n",
        "\n",
        "    # Initialize distribution functions\n",
        "    f = w_i * density\n",
        "    # Broadcast to 3D array with each slice corresponding to a direction's weights\n",
        "    f = torch.tile(f[:, None, None], (nx, ny)).type(torch.float64).to(device)\n",
        "\n",
        "    # Allocate memory to equilibrium functions\n",
        "    feq = torch.empty_like(f, dtype=torch.float64).to(device)\n",
        "\n",
        "    # Each point has x-component ex, and y-component ey\n",
        "    u_x = torch.empty((nx, ny), dtype=torch.float64).to(device)\n",
        "    u_y = torch.empty((nx, ny), dtype=torch.float64).to(device)\n",
        "\n",
        "    # Node density\n",
        "    rho = torch.zeros((nx, ny), dtype=torch.float64)\n",
        "\n",
        "    # # Begin time loop\n",
        "    tic = perf_counter_ns()\n",
        "    for ts in tqdm(range(tf)):\n",
        "        # print(f\"{ts = }\")  # Print timestep\n",
        "\n",
        "        # Compute macroscopic density, rho and velocity.\n",
        "        rho, u_x, u_y = macroscopic(f, fx, fy, ex, ey, nx, ny)\n",
        "\n",
        "        # Add forcing to velocity and compute equilibrium function\n",
        "        feq = equilibrium(rho, u_x, u_y, ex, ey, w_i, nx, ny, fx, fy, tau, g)\n",
        "\n",
        "        # Collision Step\n",
        "        f = collision(f, feq, tau, sx, sy, fx, fy)\n",
        "\n",
        "        # Streaming Step\n",
        "        f[1] = torch.roll(f[1], 1, dims=1)\n",
        "        f[2] = torch.roll(f[2], 1, dims=0)\n",
        "        f[3] = torch.roll(f[3], -1, dims=1)\n",
        "        f[4] = torch.roll(f[4], -1, dims=0)\n",
        "\n",
        "        f[5] = torch.roll(f[5], (1, 1), dims=(0,1))\n",
        "        f[6] = torch.roll(f[6], (-1, 1), dims=(1,0))\n",
        "        f[7] = torch.roll(f[7], (-1, -1), dims=(0,1))\n",
        "        f[8] = torch.roll(f[8], (1, -1), dims=(1,0))\n",
        "\n",
        "        # Calculate velocity\n",
        "        u = torch.sqrt(u_x**2 + u_y**2)\n",
        "\n",
        "        # Check convergence every check_convergence time step\n",
        "        if ts % check_convergence == 0:\n",
        "\n",
        "            vnew = torch.mean(u)\n",
        "            error = torch.abs(vold - vnew) / (vold+eps)\n",
        "            vold = vnew\n",
        "\n",
        "            if error < precision:\n",
        "                print(f'Simulation has converged in {ts} time steps')\n",
        "                break\n",
        "\n",
        "        if ts == tf:\n",
        "            print('Reached maximum iterations')\n",
        "\n",
        "    toc = perf_counter_ns()\n",
        "    print(f\"Elapsed Time: {(toc - tic)*1E-9}s\")\n",
        "\n",
        "    u_x = u_x.to('cpu')\n",
        "    u_y = u_y.to('cpu')\n",
        "    u = u.to('cpu')\n",
        "\n",
        "    return u_x, u_y, u"
      ],
      "metadata": {
        "pycharm": {
          "name": "#%%\n"
        },
        "id": "aSzLl5X_E6XS"
      }
    },
    {
      "cell_type": "markdown",
      "source": [
        "###  Read in the geometry\n",
        "Before we get into the flow simulation, let's first read in our geometry. For this exercise, we assume a 2D binary image with:\n",
        "- 0 indicating fluid space\n",
        "- 1 indicating solid space\n",
        "\n",
        "For this workshop, we select an image from the data folder. You can also load in your own image or create one yourself if you'd like.\n"
      ],
      "metadata": {
        "id": "LMryrTiS9e43",
        "pycharm": {
          "name": "#%% md\n"
        }
      }
    },
    {
      "cell_type": "code",
      "source": [
        "Nx = 150\n",
        "Ny = 150\n",
        "X, Y = np.meshgrid(range(Nx), range(Ny))\n",
        "data = (X - Nx/4)**2 + (Y - Ny/2)**2 < (Ny/8)**2\n",
        "\n",
        "plt.imshow(data, cmap='binary')\n"
      ],
      "metadata": {
        "id": "j9Kpdu9TFdCz",
        "outputId": "7e215aed-bb93-4817-a719-4bfd73cc180e",
        "colab": {
          "base_uri": "https://localhost:8080/",
          "height": 286
        }
      },
      "execution_count": 21,
      "outputs": [
        {
          "output_type": "execute_result",
          "data": {
            "text/plain": [
              "<matplotlib.image.AxesImage at 0x7f9ddc380700>"
            ]
          },
          "metadata": {},
          "execution_count": 21
        },
        {
          "output_type": "display_data",
          "data": {
            "text/plain": [
              "<Figure size 432x288 with 1 Axes>"
            ],
            "image/png": "[encoded data removed]"
          },
          "metadata": {
            "needs_background": "light"
          }
        }
      ]
    },
    {
      "cell_type": "markdown",
      "source": [
        "Let's run our LBM simulation! This simulation does not fully converge in the default number of iterations, but it gets the point across. This should take about one minute to run. "
      ],
      "metadata": {
        "id": "jfvHC6vmVdvO"
      }
    },
    {
      "cell_type": "code",
      "source": [
        "u_x, u_y, u = run_lbm(data)"
      ],
      "metadata": {
        "id": "-gepay57g4gq",
        "outputId": "14a641f0-9189-431e-b079-79f49938ccd0",
        "colab": {
          "base_uri": "https://localhost:8080/"
        }
      },
      "execution_count": 9,
      "outputs": [
        {
          "output_type": "stream",
          "name": "stderr",
          "text": [
            "100%|██████████| 10001/10001 [00:51<00:00, 192.49it/s]"
          ]
        },
        {
          "output_type": "stream",
          "name": "stdout",
          "text": [
            "Elapsed Time: 51.969259129s\n"
          ]
        },
        {
          "output_type": "stream",
          "name": "stderr",
          "text": [
            "\n"
          ]
        }
      ]
    },
    {
      "cell_type": "code",
      "source": [
        "_ = plot_profile(u, cmap='jet')"
      ],
      "metadata": {
        "id": "ix0EcEw-s9AW",
        "outputId": "181510a1-1064-4194-d957-cb7ed7816bbe",
        "colab": {
          "base_uri": "https://localhost:8080/",
          "height": 766
        }
      },
      "execution_count": 10,
      "outputs": [
        {
          "output_type": "display_data",
          "data": {
            "text/plain": [
              "<Figure size 1500x900 with 2 Axes>"
            ],
            "image/png": "[encoded data removed]"
          },
          "metadata": {
            "needs_background": "light"
          }
        }
      ]
    },
    {
      "cell_type": "code",
      "execution_count": 29,
      "outputs": [
        {
          "output_type": "display_data",
          "data": {
            "text/plain": [
              "interactive(children=(Dropdown(description='dropdown', options=('beads.tif', 'bevo.tif'), value='beads.tif'), …"
            ],
            "application/vnd.jupyter.widget-view+json": {
              "version_major": 2,
              "version_minor": 0,
              "model_id": "76d15da107364a4db63de58cd918b041"
            }
          },
          "metadata": {}
        }
      ],
      "source": [
        "#@title Read in data\n",
        "geom_options = os.listdir(\"./data/\")\n",
        "\n",
        "# TODO create catalog of images, read in from drop down, and plot. \n",
        "data_dropdown = widgets.Dropdown(\n",
        "    concise=False,\n",
        "    options=geom_options,\n",
        "    value='beads.tif',\n",
        "    description='Select a file to read in'\n",
        ")\n",
        "\n",
        "# select_button = widgets.Button(description='I want this one!')\n",
        "# output = widgets.Output()\n",
        "def read_in_and_plot(dropdown):\n",
        "  display(dropdown)\n",
        "  data = tifffile.imread(os.path.join(\"./data/\", dropdown))\n",
        "  clear_output(wait=True)\n",
        "  display(dropdown)\n",
        "  plt.imshow(data, cmap='binary')\n",
        "  plt.colorbar()\n",
        "  plt.show()\n",
        "\n",
        "  return data\n",
        "\n",
        "widget = widgets.interactive(read_in_and_plot, dropdown=geom_options)\n",
        "display(widget)\n"
      ],
      "metadata": {
        "pycharm": {
          "name": "#%%\n"
        },
        "id": "vlaq-NNtE6XR",
        "outputId": "3d8c4ddb-e2fc-49a3-db86-9eaa7a179059",
        "colab": {
          "base_uri": "https://localhost:8080/",
          "height": 319,
          "referenced_widgets": [
            "76d15da107364a4db63de58cd918b041",
            "a7b624877a1541d5a0f4e4d62aeb17e4",
            "0d0ee0cd2ce7424e8eeed23e8f3d0d89",
            "6044efed7318499eba51ab157d75c9cd",
            "c4278ba206314ab59b87b7adb9aa56df",
            "d603bbfabb97445382f891f895a67614",
            "4c49f0f05306456983b3ee6b0798dfc3"
          ]
        }
      }
    },
    {
      "cell_type": "code",
      "execution_count": 28,
      "outputs": [
        {
          "output_type": "stream",
          "name": "stderr",
          "text": [
            " 91%|█████████ | 9060/10001 [00:28<00:02, 314.24it/s]"
          ]
        },
        {
          "output_type": "stream",
          "name": "stdout",
          "text": [
            "Simulation has converged in 9060 time steps\n",
            "Elapsed Time: 28.835511375000003s\n"
          ]
        },
        {
          "output_type": "stream",
          "name": "stderr",
          "text": [
            "\n"
          ]
        }
      ],
      "source": [
        "data = widget.result\n",
        "u_x, u_y, u = run_lbm(data)\n"
      ],
      "metadata": {
        "pycharm": {
          "name": "#%%\n"
        },
        "id": "0de-8FRwE6XT",
        "outputId": "2d3afd20-314b-4250-883b-e5d3f06b7675",
        "colab": {
          "base_uri": "https://localhost:8080/"
        }
      }
    },
    {
      "cell_type": "code",
      "execution_count": 31,
      "outputs": [
        {
          "output_type": "display_data",
          "data": {
            "text/plain": [
              "<Figure size 1500x900 with 2 Axes>"
            ],
            "image/png": "[encoded data removed]"
          },
          "metadata": {
            "needs_background": "light"
          }
        }
      ],
      "source": [
        "# from plotting_utils import plot_quiver\n",
        "profile_fig = plot_profile(u, cmap='jet')"
      ],
      "metadata": {
        "pycharm": {
          "name": "#%%\n"
        },
        "id": "hVhA_5wjE6XT",
        "outputId": "75d64383-b67d-492d-b246-204ffa7392f0",
        "colab": {
          "base_uri": "https://localhost:8080/",
          "height": 748
        }
      }
    },
    {
      "cell_type": "markdown",
      "source": [
        "## Calculate Permeability\n",
        "\n",
        "Once we have the full velocity field, we can easily calculate the absolute permeability.\n",
        "\n"
      ],
      "metadata": {
        "id": "r1Hf99NLeQjL"
      }
    },
    {
      "cell_type": "code",
      "source": [
        "# Calculate permeability"
      ],
      "metadata": {
        "id": "exx1IjAfeny2"
      },
      "execution_count": 14,
      "outputs": []
    },
    {
      "cell_type": "markdown",
      "source": [
        "Let's use the Porespy library to generate some blobs"
      ],
      "metadata": {
        "id": "98-avyuxeibA"
      }
    },
    {
      "cell_type": "code",
      "source": [
        "def generate_blobs(phi):\n",
        "  device = torch.device('cuda' if torch.cuda.is_available() else 'cpu')\n",
        "  obstacle = torch.tensor(~ps.generators.blobs(shape=[200, 200], porosity=phi)).to(device)\n",
        "  #obstacle = torch.tensor(fromfunction(obstacle_fun(cx,cy,r),(nx, ny)))\n",
        "  plt.imshow(obstacle.cpu(), cmap='binary')\n",
        "  plt.colorbar()\n",
        "  return obstacle\n",
        "\n",
        "phi_widget = widgets.FloatSlider(value=0.5, min=0.5, max=0.86, description='Porosity', \n",
        "                                 continuous_update=False, step=0.01)\n",
        "\n",
        "blobs = widgets.interactive(generate_blobs, {'manual': True},\n",
        "                                       phi=phi_widget)\n",
        "\n",
        "blobs\n"
      ],
      "metadata": {
        "id": "a0kx4YuDF-2f",
        "outputId": "1b284964-decc-48f3-ffb9-64e04ee14b46",
        "colab": {
          "base_uri": "https://localhost:8080/",
          "height": 333,
          "referenced_widgets": [
            "66449bc1ec00451a9ac55124ed5c9c82",
            "b707f69e9a16445a995f2ea93d0a2c0e",
            "883a6560389943cbbd6f677e460eeedb",
            "0deb57a67ce747d2a71d0318d480c7a6",
            "524d30035d2d4bf5962b607d4324da9a",
            "8869f4ca11a84a0188bcf06fbcea4bbb",
            "ce7168ffc70b4310afd80ee1565c711e",
            "c952696bb3e54e528dd5e652ca8e39ad",
            "8f93f2c95b9d49b08859b5d735849aba",
            "5b0d74c1dd774d9f97c1968ba278aaa5"
          ]
        }
      },
      "execution_count": 23,
      "outputs": [
        {
          "output_type": "display_data",
          "data": {
            "text/plain": [
              "interactive(children=(FloatSlider(value=0.5, continuous_update=False, description='Porosity', max=0.86, min=0.…"
            ],
            "application/vnd.jupyter.widget-view+json": {
              "version_major": 2,
              "version_minor": 0,
              "model_id": "66449bc1ec00451a9ac55124ed5c9c82"
            }
          },
          "metadata": {}
        }
      ]
    },
    {
      "cell_type": "code",
      "source": [
        "u_x, u_y, u = run_lbm(blobs.result)"
      ],
      "metadata": {
        "id": "PGbIDDT3e90B",
        "outputId": "985e0f62-9996-43e5-c106-db8e341454dc",
        "colab": {
          "base_uri": "https://localhost:8080/",
          "height": 287
        }
      },
      "execution_count": 16,
      "outputs": [
        {
          "output_type": "error",
          "ename": "RuntimeError",
          "evalue": "ignored",
          "traceback": [
            "\u001b[0;31m---------------------------------------------------------------------------\u001b[0m",
            "\u001b[0;31mRuntimeError\u001b[0m                              Traceback (most recent call last)",
            "\u001b[0;32m<ipython-input-16-e6eb5e0fd5b7>\u001b[0m in \u001b[0;36m<module>\u001b[0;34m\u001b[0m\n\u001b[0;32m----> 1\u001b[0;31m \u001b[0mu_x\u001b[0m\u001b[0;34m,\u001b[0m \u001b[0mu_y\u001b[0m\u001b[0;34m,\u001b[0m \u001b[0mu\u001b[0m \u001b[0;34m=\u001b[0m \u001b[0mrun_lbm\u001b[0m\u001b[0;34m(\u001b[0m\u001b[0mblobs\u001b[0m\u001b[0;34m.\u001b[0m\u001b[0mresult\u001b[0m\u001b[0;34m)\u001b[0m\u001b[0;34m\u001b[0m\u001b[0;34m\u001b[0m\u001b[0m\n\u001b[0m",
            "\u001b[0;32m<ipython-input-7-772177bc7268>\u001b[0m in \u001b[0;36mrun_lbm\u001b[0;34m(data)\u001b[0m\n\u001b[1;32m     11\u001b[0m \u001b[0;34m\u001b[0m\u001b[0m\n\u001b[1;32m     12\u001b[0m     \u001b[0mdevice\u001b[0m \u001b[0;34m=\u001b[0m \u001b[0mtorch\u001b[0m\u001b[0;34m.\u001b[0m\u001b[0mdevice\u001b[0m\u001b[0;34m(\u001b[0m\u001b[0;34m'cuda'\u001b[0m \u001b[0;32mif\u001b[0m \u001b[0mtorch\u001b[0m\u001b[0;34m.\u001b[0m\u001b[0mcuda\u001b[0m\u001b[0;34m.\u001b[0m\u001b[0mis_available\u001b[0m\u001b[0;34m(\u001b[0m\u001b[0;34m)\u001b[0m \u001b[0;32melse\u001b[0m \u001b[0;34m'cpu'\u001b[0m\u001b[0;34m)\u001b[0m\u001b[0;34m\u001b[0m\u001b[0;34m\u001b[0m\u001b[0m\n\u001b[0;32m---> 13\u001b[0;31m     \u001b[0mdata\u001b[0m \u001b[0;34m=\u001b[0m \u001b[0mtorch\u001b[0m\u001b[0;34m.\u001b[0m\u001b[0mtensor\u001b[0m\u001b[0;34m(\u001b[0m\u001b[0mdata\u001b[0m\u001b[0;34m)\u001b[0m\u001b[0;34m.\u001b[0m\u001b[0mto\u001b[0m\u001b[0;34m(\u001b[0m\u001b[0mdevice\u001b[0m\u001b[0;34m)\u001b[0m\u001b[0;34m\u001b[0m\u001b[0;34m\u001b[0m\u001b[0m\n\u001b[0m\u001b[1;32m     14\u001b[0m     \u001b[0mcheck_convergence\u001b[0m \u001b[0;34m=\u001b[0m \u001b[0;36m30\u001b[0m  \u001b[0;31m# Check convergence every [check_convergence] time steps\u001b[0m\u001b[0;34m\u001b[0m\u001b[0;34m\u001b[0m\u001b[0m\n\u001b[1;32m     15\u001b[0m \u001b[0;34m\u001b[0m\u001b[0m\n",
            "\u001b[0;31mRuntimeError\u001b[0m: Could not infer dtype of NoneType"
          ]
        }
      ]
    },
    {
      "cell_type": "code",
      "source": [
        "profile_fig = plot_profile(u, vmin=0, cmap='jet')\n",
        "obstacle_nan = torch.clone(obstacle.cpu())\n",
        "\n"
      ],
      "metadata": {
        "id": "vSxy2VF_f312"
      },
      "execution_count": null,
      "outputs": []
    },
    {
      "cell_type": "code",
      "source": [],
      "metadata": {
        "id": "yNPRusCYf_xN"
      },
      "execution_count": null,
      "outputs": []
    },
    {
      "cell_type": "markdown",
      "source": [
        "# Multiphase Lattice Boltzmann Method\n",
        "\n",
        "We use the Shan-Chen Model\n",
        "\n",
        "\n",
        "\n",
        "Other models include:\n",
        "* Color Model\n",
        "* Free Energy Based models\n",
        "\n",
        "\n",
        "Today, we will be working with our in-house code — Multiphase Lattice Boltzmann Method - UT (MPLBM-UT).\n",
        "\n",
        "MPLBM Workflow\n",
        "\n",
        "<img src='https://ars.els-cdn.com/content/image/1-s2.0-S2352711022000668-gr1.jpg'>"
      ],
      "metadata": {
        "id": "P2Ub8TXiYx3t"
      }
    },
    {
      "cell_type": "code",
      "source": [],
      "metadata": {
        "id": "OngwtuCtZ3uL"
      },
      "execution_count": null,
      "outputs": []
    }
  ]
}